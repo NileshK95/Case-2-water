{
  "cells": [
    {
      "cell_type": "code",
      "execution_count": null,
      "metadata": {
        "id": "6Tt658gVgT3C"
      },
      "outputs": [],
      "source": [
        "import torch\n",
        "import matplotlib.pyplot as plt\n",
        "from torch import nn,optim\n",
        "import pandas as pd\n",
        "from sklearn.utils import shuffle\n",
        "from sklearn.metrics import multilabel_confusion_matrix\n",
        "from sklearn.metrics import precision_score,recall_score,accuracy_score,f1_score\n",
        "from sklearn import preprocessing\n",
        "import matplotlib.pyplot as plt\n",
        "import numpy as np\n",
        "import random"
      ]
    },
    {
      "cell_type": "code",
      "execution_count": null,
      "metadata": {
        "id": "XTMPvtzjv7HU",
        "colab": {
          "base_uri": "https://localhost:8080/"
        },
        "outputId": "f598c340-8a79-4e12-fe66-4f461ca8ba90"
      },
      "outputs": [
        {
          "output_type": "stream",
          "name": "stdout",
          "text": [
            "Drive already mounted at /content/drive; to attempt to forcibly remount, call drive.mount(\"/content/drive\", force_remount=True).\n"
          ]
        }
      ],
      "source": [
        "from google.colab import drive\n",
        "drive.mount('/content/drive')"
      ]
    },
    {
      "cell_type": "code",
      "execution_count": null,
      "metadata": {
        "id": "GEtIKAsRlN-k"
      },
      "outputs": [],
      "source": [
        "# device set\n",
        "def device_setter():\n",
        "\tdevice = torch.device('cuda' if torch.cuda.is_available() else 'cpu')\n",
        "\tprint(device)\n",
        "\treturn device\n",
        "device = 'cpu'"
      ]
    },
    {
      "cell_type": "code",
      "source": [
        "!ls"
      ],
      "metadata": {
        "colab": {
          "base_uri": "https://localhost:8080/"
        },
        "id": "TBXaUNQ96ZGp",
        "outputId": "e071fcb1-2c6c-4012-dc5d-c00333560e4e"
      },
      "execution_count": null,
      "outputs": [
        {
          "output_type": "stream",
          "name": "stdout",
          "text": [
            "drive  sample_data\n"
          ]
        }
      ]
    },
    {
      "cell_type": "code",
      "execution_count": null,
      "metadata": {
        "colab": {
          "base_uri": "https://localhost:8080/"
        },
        "id": "fhgx93dJCKiD",
        "outputId": "4b6ca9fe-6942-41b2-ed9e-d5ad63655ece"
      },
      "outputs": [
        {
          "output_type": "stream",
          "name": "stdout",
          "text": [
            "Features dimensions \t:  (38, 401)\n",
            "Label dimensions \t:  (38, 1)\n",
            "neuron_size_list \t:  [401, 50, 10]\n"
          ]
        }
      ],
      "source": [
        "# step1 = input(\"Press \\n 1: Developer's code(All files present)\\n 2:Custom input\\n\")\n",
        "neuron_size_list = []\n",
        "# if step1 == '1':\n",
        "#   train_data  = np.random.uniform(low=5, high=20, size=(15000,90))\n",
        "#   train_label = np.random.uniform(low=2, high=5 , size=(15000,1 ))\n",
        "#   neuron_size_list = [90,50,10]\n",
        "#   np.savetxt(\"x.csv\", train_data, delimiter=\",\")\n",
        "#   np.savetxt(\"y.csv\", train_label, delimiter=\",\")\n",
        "# if step1 == '2':\n",
        "maxtrixX = '/content/drive/MyDrive/MTP_FINAL/Chilikaujainiukai_Inland_Water/x.csv'\n",
        "maxtrixY = '/content/drive/MyDrive/MTP_FINAL/Chilikaujainiukai_Inland_Water/y.csv'\n",
        "no_of_nerons = 3\n",
        "neuron_size_list = [401, 50, 10]\n",
        "train_data = pd.read_csv(maxtrixX, sep=',',header=None).to_numpy()\n",
        "train_label = pd.read_csv(maxtrixY,sep=',',header=None).to_numpy()\n",
        "print(\"Features dimensions \\t: \",train_data.shape)\n",
        "print(\"Label dimensions \\t: \",train_label.shape)\n",
        "print(\"neuron_size_list \\t: \",neuron_size_list)"
      ]
    },
    {
      "cell_type": "code",
      "execution_count": null,
      "metadata": {
        "id": "iK7rPD9i5GA3"
      },
      "outputs": [],
      "source": [
        "from sklearn.preprocessing import StandardScaler\n",
        "from sklearn.decomposition import PCA\n",
        "sc = StandardScaler()\n",
        " \n",
        "train_data = sc.fit_transform(train_data)\n",
        "\n",
        "\n",
        "pca = PCA(n_components = 2)\n",
        "train_data = pca.fit_transform(train_data)\n",
        " \n",
        "explained_variance = pca.explained_variance_ratio_\n"
      ]
    },
    {
      "cell_type": "code",
      "execution_count": null,
      "metadata": {
        "id": "NAqc_eVm5GA3"
      },
      "outputs": [],
      "source": [
        "\n",
        "from sklearn.model_selection import train_test_split\n",
        "X_train, X_test, y_train, y_test = train_test_split(train_data, train_label, test_size=0.1, random_state=60)"
      ]
    },
    {
      "cell_type": "code",
      "execution_count": null,
      "metadata": {
        "colab": {
          "base_uri": "https://localhost:8080/"
        },
        "id": "QId66fX65GA3",
        "outputId": "e9965d1a-b91f-4973-b8e7-7b10d25303db"
      },
      "outputs": [
        {
          "output_type": "execute_result",
          "data": {
            "text/plain": [
              "array([0.87730646, 0.10156459])"
            ]
          },
          "metadata": {},
          "execution_count": 18
        }
      ],
      "source": [
        "explained_variance"
      ]
    },
    {
      "cell_type": "code",
      "execution_count": null,
      "metadata": {
        "id": "lKuSt3Yrw41o"
      },
      "outputs": [],
      "source": [
        "class NeuralNet(nn.Module):\n",
        "    def __init__(self, features, labels):\n",
        "        super(NeuralNet,self).__init__()\n",
        "        self.features = torch.tensor(features, device=device)\n",
        "        self.labels = torch.tensor(labels, device = device)\n",
        "        self.input_size = int(self.features.shape[1])\n",
        "        self.output_size = 1\n",
        "        self.hidden_sizes = neuron_size_list\n",
        "        self.train_samples = features.shape[0]\n",
        "        self.output = None\n",
        "        self.criterion = None\n",
        "        self.optimizer = None\n",
        "        self.hidden_size = neuron_size_list\n",
        "        self.hidden = []\n",
        "        for i in range(len(neuron_size_list)):\n",
        "        \tself.hidden.append(None)\n",
        "        self.activation = None\n",
        "\n",
        "    def forward(self, features):\n",
        "        x = features.type(torch.float)\n",
        "        for j in range(len(neuron_size_list)):\n",
        "          x = self.activation(self.hidden[j](x))\n",
        "        x = self.output(x)\n",
        "        return x\n",
        "    \n",
        "\n",
        "    def build_nn(self):\n",
        "        for j in range(len(neuron_size_list)):\n",
        "          if j == 0:\n",
        "            self.hidden[j] = nn.Linear(self.input_size,self.hidden_size[j])  \n",
        "          else:\n",
        "        \t  self.hidden[j] = nn.Linear(self.hidden_size[j-1],self.hidden_size[j])\n",
        "        self.hidden = torch.nn.ModuleList(self.hidden)\n",
        "        self.output = nn.Linear(self.hidden_size[-1], self.output_size)\n",
        "        self.activation = nn.LeakyReLU(0.01)\n",
        "\n",
        "    def train_nn(self,test_features,y_test,norm = 1):\n",
        "        # write the training loop here; you can use either tensorflow or pytorch\n",
        "        # print validation accuracy\n",
        "        loss_list = []\n",
        "        batch_size = 256\n",
        "        #self.criterion = nn.CrossEntropyLoss()\n",
        "        self.criterion = nn.MSELoss()\n",
        "        self.optimizer = optim.Adam(self.parameters(), lr=0.0001) # 0.0001\n",
        "        for epoch in range(5000): \n",
        "          is_print = True\n",
        "          for row_num in range(0, self.train_samples, batch_size):\n",
        "            last_index = min(row_num + batch_size, self.train_samples)\n",
        "            x_train = self.features[row_num:last_index,:]\n",
        "            y_train = self.labels[row_num:last_index].squeeze()\n",
        "            y_pred = self.forward(x_train).squeeze()\n",
        "            self.optimizer.zero_grad()\n",
        "            train_loss = self.criterion(y_pred, y_train) \n",
        "            train_loss.backward()\n",
        "            nn.utils.clip_grad_norm_(self.parameters(), norm)\n",
        "            self.optimizer.step() \n",
        "          with torch.no_grad():\n",
        "            y_pred = self.forward(self.features).squeeze()\n",
        "            loss = self.criterion(y_pred, self.labels)\n",
        "            if epoch%10==0:\n",
        "              print(f\"epoch: {epoch} loss :{loss.item()}\")\n",
        "            loss_list.append(loss.item())\n",
        "        return loss_list\n",
        "        \n",
        "\n",
        "    def predict(self, test):\n",
        "        # return a list containing all the ratings predicted by the trained model\n",
        "        x = test.type(torch.float)\n",
        "        for j in range(len(neuron_size_list)):\n",
        "          x = self.activation(self.hidden[j](x))\n",
        "        x = self.output(x)\n",
        "        return x"
      ]
    },
    {
      "cell_type": "markdown",
      "metadata": {
        "id": "GeTGML130BuE"
      },
      "source": [
        "## **Using L1 norm**"
      ]
    },
    {
      "cell_type": "code",
      "execution_count": null,
      "metadata": {
        "colab": {
          "base_uri": "https://localhost:8080/"
        },
        "id": "-c0J1VsC0EAF",
        "outputId": "6296a1f4-6dab-4d1d-f73e-8e0cff94fb36"
      },
      "outputs": [
        {
          "output_type": "stream",
          "name": "stderr",
          "text": [
            "/usr/local/lib/python3.7/dist-packages/torch/nn/modules/loss.py:529: UserWarning: Using a target size (torch.Size([34, 1])) that is different to the input size (torch.Size([34])). This will likely lead to incorrect results due to broadcasting. Please ensure they have the same size.\n",
            "  return F.mse_loss(input, target, reduction=self.reduction)\n"
          ]
        },
        {
          "output_type": "stream",
          "name": "stdout",
          "text": [
            "epoch: 0 loss :390.7320861816406\n",
            "epoch: 10 loss :366.10931396484375\n",
            "epoch: 20 loss :339.7649841308594\n",
            "epoch: 30 loss :309.6396484375\n",
            "epoch: 40 loss :280.5888366699219\n",
            "epoch: 50 loss :253.6697998046875\n",
            "epoch: 60 loss :230.49859619140625\n",
            "epoch: 70 loss :211.31793212890625\n",
            "epoch: 80 loss :195.5307159423828\n",
            "epoch: 90 loss :182.30516052246094\n",
            "epoch: 100 loss :170.25445556640625\n",
            "epoch: 110 loss :156.76263427734375\n",
            "epoch: 120 loss :144.4686737060547\n",
            "epoch: 130 loss :134.63583374023438\n",
            "epoch: 140 loss :127.22830963134766\n",
            "epoch: 150 loss :122.13497161865234\n",
            "epoch: 160 loss :122.10916137695312\n",
            "epoch: 170 loss :128.63137817382812\n",
            "epoch: 180 loss :138.34828186035156\n",
            "epoch: 190 loss :133.99183654785156\n",
            "epoch: 200 loss :132.12545776367188\n",
            "epoch: 210 loss :130.79977416992188\n",
            "epoch: 220 loss :129.65647888183594\n",
            "epoch: 230 loss :128.69480895996094\n",
            "epoch: 240 loss :128.1407012939453\n",
            "epoch: 250 loss :127.30915069580078\n",
            "epoch: 260 loss :126.65889739990234\n",
            "epoch: 270 loss :126.09622192382812\n",
            "epoch: 280 loss :125.49018859863281\n",
            "epoch: 290 loss :125.0359115600586\n",
            "epoch: 300 loss :124.31621551513672\n",
            "epoch: 310 loss :123.91798400878906\n",
            "epoch: 320 loss :123.16675567626953\n",
            "epoch: 330 loss :122.6700210571289\n",
            "epoch: 340 loss :121.93485260009766\n",
            "epoch: 350 loss :121.41761779785156\n",
            "epoch: 360 loss :121.32955932617188\n",
            "epoch: 370 loss :120.50309753417969\n",
            "epoch: 380 loss :119.66621398925781\n",
            "epoch: 390 loss :119.09296417236328\n",
            "epoch: 400 loss :118.32015228271484\n",
            "epoch: 410 loss :117.57080078125\n",
            "epoch: 420 loss :116.81784057617188\n",
            "epoch: 430 loss :116.0042724609375\n",
            "epoch: 440 loss :115.15630340576172\n",
            "epoch: 450 loss :114.26039123535156\n",
            "epoch: 460 loss :113.38438415527344\n",
            "epoch: 470 loss :112.53314971923828\n",
            "epoch: 480 loss :111.70889282226562\n",
            "epoch: 490 loss :110.84640502929688\n",
            "epoch: 500 loss :110.13843536376953\n",
            "epoch: 510 loss :109.37251281738281\n",
            "epoch: 520 loss :108.4617919921875\n",
            "epoch: 530 loss :108.01983642578125\n",
            "epoch: 540 loss :107.2014389038086\n",
            "epoch: 550 loss :106.64777374267578\n",
            "epoch: 560 loss :106.51167297363281\n",
            "epoch: 570 loss :106.1522445678711\n",
            "epoch: 580 loss :106.12626647949219\n",
            "epoch: 590 loss :106.3642578125\n",
            "epoch: 600 loss :105.92460632324219\n",
            "epoch: 610 loss :106.0731201171875\n",
            "epoch: 620 loss :105.65247344970703\n",
            "epoch: 630 loss :105.55128479003906\n",
            "epoch: 640 loss :105.57931518554688\n",
            "epoch: 650 loss :105.58631134033203\n",
            "epoch: 660 loss :105.68726348876953\n",
            "epoch: 670 loss :104.64218139648438\n",
            "epoch: 680 loss :105.38080596923828\n",
            "epoch: 690 loss :105.48307800292969\n",
            "epoch: 700 loss :105.3528823852539\n",
            "epoch: 710 loss :105.33916473388672\n",
            "epoch: 720 loss :105.56977081298828\n",
            "epoch: 730 loss :105.54595947265625\n",
            "epoch: 740 loss :105.36715698242188\n",
            "epoch: 750 loss :105.30623626708984\n",
            "epoch: 760 loss :105.73085021972656\n",
            "epoch: 770 loss :105.51639556884766\n",
            "epoch: 780 loss :105.39034271240234\n",
            "epoch: 790 loss :106.02232360839844\n",
            "epoch: 800 loss :105.60726928710938\n",
            "epoch: 810 loss :105.49960327148438\n",
            "epoch: 820 loss :105.02716064453125\n",
            "epoch: 830 loss :105.388427734375\n",
            "epoch: 840 loss :105.19409942626953\n",
            "epoch: 850 loss :106.35250854492188\n",
            "epoch: 860 loss :105.92371368408203\n",
            "epoch: 870 loss :105.59697723388672\n",
            "epoch: 880 loss :105.6906967163086\n",
            "epoch: 890 loss :106.13666534423828\n",
            "epoch: 900 loss :105.81950378417969\n",
            "epoch: 910 loss :106.23047637939453\n",
            "epoch: 920 loss :106.14118957519531\n",
            "epoch: 930 loss :106.32952880859375\n",
            "epoch: 940 loss :106.42200469970703\n",
            "epoch: 950 loss :106.77157592773438\n",
            "epoch: 960 loss :106.5789566040039\n",
            "epoch: 970 loss :106.9228744506836\n",
            "epoch: 980 loss :106.45551300048828\n",
            "epoch: 990 loss :106.6327133178711\n",
            "epoch: 1000 loss :106.62115478515625\n",
            "epoch: 1010 loss :106.84622955322266\n",
            "epoch: 1020 loss :106.773193359375\n",
            "epoch: 1030 loss :106.6326675415039\n",
            "epoch: 1040 loss :106.90674591064453\n",
            "epoch: 1050 loss :107.00730895996094\n",
            "epoch: 1060 loss :106.9041519165039\n",
            "epoch: 1070 loss :107.45774841308594\n",
            "epoch: 1080 loss :107.0361328125\n",
            "epoch: 1090 loss :107.14610290527344\n",
            "epoch: 1100 loss :107.45853424072266\n",
            "epoch: 1110 loss :107.80597686767578\n",
            "epoch: 1120 loss :107.66625213623047\n",
            "epoch: 1130 loss :107.59085845947266\n",
            "epoch: 1140 loss :107.7367935180664\n",
            "epoch: 1150 loss :107.35877990722656\n",
            "epoch: 1160 loss :107.47110748291016\n",
            "epoch: 1170 loss :107.4379653930664\n",
            "epoch: 1180 loss :107.83290100097656\n",
            "epoch: 1190 loss :107.68672180175781\n",
            "epoch: 1200 loss :108.13414764404297\n",
            "epoch: 1210 loss :107.79377746582031\n",
            "epoch: 1220 loss :108.32474517822266\n",
            "epoch: 1230 loss :108.11456298828125\n",
            "epoch: 1240 loss :108.15237426757812\n",
            "epoch: 1250 loss :108.50416564941406\n",
            "epoch: 1260 loss :108.17910766601562\n",
            "epoch: 1270 loss :108.4779281616211\n",
            "epoch: 1280 loss :108.44435119628906\n",
            "epoch: 1290 loss :108.760986328125\n",
            "epoch: 1300 loss :108.68048095703125\n",
            "epoch: 1310 loss :108.65815734863281\n",
            "epoch: 1320 loss :108.6607437133789\n",
            "epoch: 1330 loss :108.87723541259766\n",
            "epoch: 1340 loss :108.7152099609375\n",
            "epoch: 1350 loss :108.98578643798828\n",
            "epoch: 1360 loss :108.90380096435547\n",
            "epoch: 1370 loss :109.02790832519531\n",
            "epoch: 1380 loss :108.98026275634766\n",
            "epoch: 1390 loss :109.53657531738281\n",
            "epoch: 1400 loss :109.35797119140625\n",
            "epoch: 1410 loss :109.5412826538086\n",
            "epoch: 1420 loss :109.44799041748047\n",
            "epoch: 1430 loss :109.22303771972656\n",
            "epoch: 1440 loss :109.3844985961914\n",
            "epoch: 1450 loss :109.62114715576172\n",
            "epoch: 1460 loss :109.55668640136719\n",
            "epoch: 1470 loss :109.99799346923828\n",
            "epoch: 1480 loss :109.7447280883789\n",
            "epoch: 1490 loss :110.15098571777344\n",
            "epoch: 1500 loss :109.93612670898438\n",
            "epoch: 1510 loss :109.87633514404297\n",
            "epoch: 1520 loss :110.31678771972656\n",
            "epoch: 1530 loss :110.04826354980469\n",
            "epoch: 1540 loss :110.27794647216797\n",
            "epoch: 1550 loss :110.24981689453125\n",
            "epoch: 1560 loss :110.36417388916016\n",
            "epoch: 1570 loss :110.30715942382812\n",
            "epoch: 1580 loss :110.50786590576172\n",
            "epoch: 1590 loss :110.52233123779297\n",
            "epoch: 1600 loss :110.70193481445312\n",
            "epoch: 1610 loss :110.72357940673828\n",
            "epoch: 1620 loss :110.83411407470703\n",
            "epoch: 1630 loss :110.73412322998047\n",
            "epoch: 1640 loss :110.94770050048828\n",
            "epoch: 1650 loss :110.94540405273438\n",
            "epoch: 1660 loss :111.24081420898438\n",
            "epoch: 1670 loss :111.27398681640625\n",
            "epoch: 1680 loss :111.43533325195312\n",
            "epoch: 1690 loss :111.9149169921875\n",
            "epoch: 1700 loss :111.61196899414062\n",
            "epoch: 1710 loss :111.21512603759766\n",
            "epoch: 1720 loss :111.7327651977539\n",
            "epoch: 1730 loss :111.48635864257812\n",
            "epoch: 1740 loss :112.01011657714844\n",
            "epoch: 1750 loss :111.63632202148438\n",
            "epoch: 1760 loss :111.81783294677734\n",
            "epoch: 1770 loss :111.779052734375\n",
            "epoch: 1780 loss :111.9307632446289\n",
            "epoch: 1790 loss :111.96527099609375\n",
            "epoch: 1800 loss :112.1632080078125\n",
            "epoch: 1810 loss :112.3756103515625\n",
            "epoch: 1820 loss :112.39238739013672\n",
            "epoch: 1830 loss :112.6576156616211\n",
            "epoch: 1840 loss :111.77693939208984\n",
            "epoch: 1850 loss :112.76891326904297\n",
            "epoch: 1860 loss :112.43701171875\n",
            "epoch: 1870 loss :112.50975036621094\n",
            "epoch: 1880 loss :112.60620880126953\n",
            "epoch: 1890 loss :112.61244201660156\n",
            "epoch: 1900 loss :112.77629852294922\n",
            "epoch: 1910 loss :112.56874084472656\n",
            "epoch: 1920 loss :112.59104919433594\n",
            "epoch: 1930 loss :113.08038330078125\n",
            "epoch: 1940 loss :112.34912872314453\n",
            "epoch: 1950 loss :113.30989837646484\n",
            "epoch: 1960 loss :113.0604019165039\n",
            "epoch: 1970 loss :112.65977478027344\n",
            "epoch: 1980 loss :113.28874969482422\n",
            "epoch: 1990 loss :112.70685577392578\n",
            "epoch: 2000 loss :113.10360717773438\n",
            "epoch: 2010 loss :112.71990966796875\n",
            "epoch: 2020 loss :113.73702239990234\n",
            "epoch: 2030 loss :112.90400695800781\n",
            "epoch: 2040 loss :113.74556732177734\n",
            "epoch: 2050 loss :113.2436294555664\n",
            "epoch: 2060 loss :113.63135528564453\n",
            "epoch: 2070 loss :113.34028625488281\n",
            "epoch: 2080 loss :113.5740966796875\n",
            "epoch: 2090 loss :112.98013305664062\n",
            "epoch: 2100 loss :113.8040542602539\n",
            "epoch: 2110 loss :113.195556640625\n",
            "epoch: 2120 loss :113.84558868408203\n",
            "epoch: 2130 loss :113.31405639648438\n",
            "epoch: 2140 loss :114.09761810302734\n",
            "epoch: 2150 loss :113.84513092041016\n",
            "epoch: 2160 loss :113.73602294921875\n",
            "epoch: 2170 loss :114.4160385131836\n",
            "epoch: 2180 loss :113.90509796142578\n",
            "epoch: 2190 loss :113.61045837402344\n",
            "epoch: 2200 loss :114.20314025878906\n",
            "epoch: 2210 loss :113.71170806884766\n",
            "epoch: 2220 loss :114.40660095214844\n",
            "epoch: 2230 loss :113.75650024414062\n",
            "epoch: 2240 loss :114.22673797607422\n",
            "epoch: 2250 loss :114.09825134277344\n",
            "epoch: 2260 loss :114.62810516357422\n",
            "epoch: 2270 loss :114.29265594482422\n",
            "epoch: 2280 loss :113.54779052734375\n",
            "epoch: 2290 loss :114.0837631225586\n",
            "epoch: 2300 loss :114.67048645019531\n",
            "epoch: 2310 loss :113.92574310302734\n",
            "epoch: 2320 loss :114.30435180664062\n",
            "epoch: 2330 loss :113.995849609375\n",
            "epoch: 2340 loss :114.78399658203125\n",
            "epoch: 2350 loss :113.9539794921875\n",
            "epoch: 2360 loss :114.37065887451172\n",
            "epoch: 2370 loss :114.74677276611328\n",
            "epoch: 2380 loss :114.38105773925781\n",
            "epoch: 2390 loss :114.68424224853516\n",
            "epoch: 2400 loss :115.50814819335938\n",
            "epoch: 2410 loss :115.14575958251953\n",
            "epoch: 2420 loss :114.57166290283203\n",
            "epoch: 2430 loss :114.17849731445312\n",
            "epoch: 2440 loss :115.25009155273438\n",
            "epoch: 2450 loss :114.40680694580078\n",
            "epoch: 2460 loss :114.76760864257812\n",
            "epoch: 2470 loss :115.34288787841797\n",
            "epoch: 2480 loss :114.72915649414062\n",
            "epoch: 2490 loss :114.80540466308594\n",
            "epoch: 2500 loss :114.83779907226562\n",
            "epoch: 2510 loss :114.64461517333984\n",
            "epoch: 2520 loss :114.95955657958984\n",
            "epoch: 2530 loss :114.7790756225586\n",
            "epoch: 2540 loss :115.47395324707031\n",
            "epoch: 2550 loss :114.48329162597656\n",
            "epoch: 2560 loss :114.25520324707031\n",
            "epoch: 2570 loss :114.82250213623047\n",
            "epoch: 2580 loss :115.05464935302734\n",
            "epoch: 2590 loss :114.9365234375\n",
            "epoch: 2600 loss :115.35816192626953\n",
            "epoch: 2610 loss :115.27603149414062\n",
            "epoch: 2620 loss :114.69650268554688\n",
            "epoch: 2630 loss :115.56148529052734\n",
            "epoch: 2640 loss :114.47076416015625\n",
            "epoch: 2650 loss :115.1500473022461\n",
            "epoch: 2660 loss :115.2508544921875\n",
            "epoch: 2670 loss :115.29064178466797\n",
            "epoch: 2680 loss :115.42459106445312\n",
            "epoch: 2690 loss :115.75700378417969\n",
            "epoch: 2700 loss :114.9970932006836\n",
            "epoch: 2710 loss :115.56304168701172\n",
            "epoch: 2720 loss :115.77403259277344\n",
            "epoch: 2730 loss :115.86610412597656\n",
            "epoch: 2740 loss :115.16796875\n",
            "epoch: 2750 loss :116.15723419189453\n",
            "epoch: 2760 loss :115.53314208984375\n",
            "epoch: 2770 loss :115.45599365234375\n",
            "epoch: 2780 loss :115.5181655883789\n",
            "epoch: 2790 loss :115.98761749267578\n",
            "epoch: 2800 loss :115.93667602539062\n",
            "epoch: 2810 loss :115.52347564697266\n",
            "epoch: 2820 loss :115.27449035644531\n",
            "epoch: 2830 loss :116.20780181884766\n",
            "epoch: 2840 loss :115.56099700927734\n",
            "epoch: 2850 loss :115.04335021972656\n",
            "epoch: 2860 loss :115.28382873535156\n",
            "epoch: 2870 loss :115.1308364868164\n",
            "epoch: 2880 loss :115.71454620361328\n",
            "epoch: 2890 loss :116.0262222290039\n",
            "epoch: 2900 loss :115.20899200439453\n",
            "epoch: 2910 loss :115.5968017578125\n",
            "epoch: 2920 loss :115.21601867675781\n",
            "epoch: 2930 loss :116.06451416015625\n",
            "epoch: 2940 loss :115.2439956665039\n",
            "epoch: 2950 loss :115.78692626953125\n",
            "epoch: 2960 loss :116.30347442626953\n",
            "epoch: 2970 loss :115.2081527709961\n",
            "epoch: 2980 loss :115.9716567993164\n",
            "epoch: 2990 loss :115.75052642822266\n",
            "epoch: 3000 loss :114.97230529785156\n",
            "epoch: 3010 loss :115.36021423339844\n",
            "epoch: 3020 loss :115.21773529052734\n",
            "epoch: 3030 loss :115.72115325927734\n",
            "epoch: 3040 loss :116.01140594482422\n",
            "epoch: 3050 loss :115.81409454345703\n",
            "epoch: 3060 loss :115.60403442382812\n",
            "epoch: 3070 loss :115.78629302978516\n",
            "epoch: 3080 loss :115.6544418334961\n",
            "epoch: 3090 loss :115.91156005859375\n",
            "epoch: 3100 loss :115.95771026611328\n",
            "epoch: 3110 loss :115.97232055664062\n",
            "epoch: 3120 loss :116.00943756103516\n",
            "epoch: 3130 loss :116.03086853027344\n",
            "epoch: 3140 loss :115.81639099121094\n",
            "epoch: 3150 loss :116.01078796386719\n",
            "epoch: 3160 loss :116.25753021240234\n",
            "epoch: 3170 loss :116.47348022460938\n",
            "epoch: 3180 loss :116.34599304199219\n",
            "epoch: 3190 loss :115.78717041015625\n",
            "epoch: 3200 loss :116.08685302734375\n",
            "epoch: 3210 loss :115.64315032958984\n",
            "epoch: 3220 loss :116.11375427246094\n",
            "epoch: 3230 loss :115.78099060058594\n",
            "epoch: 3240 loss :116.32560729980469\n",
            "epoch: 3250 loss :115.77277374267578\n",
            "epoch: 3260 loss :116.28534698486328\n",
            "epoch: 3270 loss :115.49205017089844\n",
            "epoch: 3280 loss :115.60301208496094\n",
            "epoch: 3290 loss :116.39179992675781\n",
            "epoch: 3300 loss :116.11925506591797\n",
            "epoch: 3310 loss :116.09730529785156\n",
            "epoch: 3320 loss :116.32877349853516\n",
            "epoch: 3330 loss :115.7792739868164\n",
            "epoch: 3340 loss :115.97901153564453\n",
            "epoch: 3350 loss :116.82572174072266\n",
            "epoch: 3360 loss :115.9041519165039\n",
            "epoch: 3370 loss :116.35829162597656\n",
            "epoch: 3380 loss :116.08546447753906\n",
            "epoch: 3390 loss :115.27457427978516\n",
            "epoch: 3400 loss :116.4921875\n",
            "epoch: 3410 loss :116.97645568847656\n",
            "epoch: 3420 loss :116.81938171386719\n",
            "epoch: 3430 loss :115.99740600585938\n",
            "epoch: 3440 loss :117.0293197631836\n",
            "epoch: 3450 loss :115.83715057373047\n",
            "epoch: 3460 loss :116.47295379638672\n",
            "epoch: 3470 loss :116.89935302734375\n",
            "epoch: 3480 loss :117.27967071533203\n",
            "epoch: 3490 loss :116.4654769897461\n",
            "epoch: 3500 loss :116.85721588134766\n",
            "epoch: 3510 loss :117.07714080810547\n",
            "epoch: 3520 loss :116.87112426757812\n",
            "epoch: 3530 loss :115.7918701171875\n",
            "epoch: 3540 loss :116.66700744628906\n",
            "epoch: 3550 loss :116.62943267822266\n",
            "epoch: 3560 loss :116.75908660888672\n",
            "epoch: 3570 loss :116.28446960449219\n",
            "epoch: 3580 loss :116.28044891357422\n",
            "epoch: 3590 loss :116.07185363769531\n",
            "epoch: 3600 loss :116.77677917480469\n",
            "epoch: 3610 loss :116.11778259277344\n",
            "epoch: 3620 loss :116.50921630859375\n",
            "epoch: 3630 loss :116.72222137451172\n",
            "epoch: 3640 loss :116.71316528320312\n",
            "epoch: 3650 loss :116.11573791503906\n",
            "epoch: 3660 loss :116.6968002319336\n",
            "epoch: 3670 loss :116.11402130126953\n",
            "epoch: 3680 loss :116.26113891601562\n",
            "epoch: 3690 loss :116.0194091796875\n",
            "epoch: 3700 loss :116.7679214477539\n",
            "epoch: 3710 loss :116.16397857666016\n",
            "epoch: 3720 loss :116.78086853027344\n",
            "epoch: 3730 loss :116.68256378173828\n",
            "epoch: 3740 loss :115.80850219726562\n",
            "epoch: 3750 loss :116.43891906738281\n",
            "epoch: 3760 loss :115.99819946289062\n",
            "epoch: 3770 loss :115.90910339355469\n",
            "epoch: 3780 loss :116.24172973632812\n",
            "epoch: 3790 loss :116.54981994628906\n",
            "epoch: 3800 loss :116.64797973632812\n",
            "epoch: 3810 loss :116.3252182006836\n",
            "epoch: 3820 loss :116.2653579711914\n",
            "epoch: 3830 loss :116.10401153564453\n",
            "epoch: 3840 loss :117.29379272460938\n",
            "epoch: 3850 loss :116.74897003173828\n",
            "epoch: 3860 loss :115.6396255493164\n",
            "epoch: 3870 loss :115.64611053466797\n",
            "epoch: 3880 loss :116.91891479492188\n",
            "epoch: 3890 loss :117.3473892211914\n",
            "epoch: 3900 loss :116.69496154785156\n",
            "epoch: 3910 loss :116.14559936523438\n",
            "epoch: 3920 loss :116.33354187011719\n",
            "epoch: 3930 loss :116.67979431152344\n",
            "epoch: 3940 loss :116.72164154052734\n",
            "epoch: 3950 loss :116.74227142333984\n",
            "epoch: 3960 loss :116.76171875\n",
            "epoch: 3970 loss :116.23421478271484\n",
            "epoch: 3980 loss :116.88603973388672\n",
            "epoch: 3990 loss :116.3727035522461\n",
            "epoch: 4000 loss :117.07512664794922\n",
            "epoch: 4010 loss :115.90018463134766\n",
            "epoch: 4020 loss :116.76415252685547\n",
            "epoch: 4030 loss :116.72360229492188\n",
            "epoch: 4040 loss :116.25602722167969\n",
            "epoch: 4050 loss :116.86299896240234\n",
            "epoch: 4060 loss :117.14723205566406\n",
            "epoch: 4070 loss :116.71009826660156\n",
            "epoch: 4080 loss :115.97132873535156\n",
            "epoch: 4090 loss :115.76911163330078\n",
            "epoch: 4100 loss :117.230712890625\n",
            "epoch: 4110 loss :115.92420196533203\n",
            "epoch: 4120 loss :116.9596939086914\n",
            "epoch: 4130 loss :116.70677185058594\n",
            "epoch: 4140 loss :116.66029357910156\n",
            "epoch: 4150 loss :116.54878234863281\n",
            "epoch: 4160 loss :116.63123321533203\n",
            "epoch: 4170 loss :116.6270980834961\n",
            "epoch: 4180 loss :116.7928237915039\n",
            "epoch: 4190 loss :116.22694396972656\n",
            "epoch: 4200 loss :115.8596420288086\n",
            "epoch: 4210 loss :116.6024398803711\n",
            "epoch: 4220 loss :116.7314453125\n",
            "epoch: 4230 loss :116.55738067626953\n",
            "epoch: 4240 loss :116.83711242675781\n",
            "epoch: 4250 loss :117.07572174072266\n",
            "epoch: 4260 loss :116.7872543334961\n",
            "epoch: 4270 loss :116.42053985595703\n",
            "epoch: 4280 loss :116.4262924194336\n",
            "epoch: 4290 loss :116.69725799560547\n",
            "epoch: 4300 loss :116.96792602539062\n",
            "epoch: 4310 loss :116.27487182617188\n",
            "epoch: 4320 loss :116.6426773071289\n",
            "epoch: 4330 loss :116.82647705078125\n",
            "epoch: 4340 loss :116.77767944335938\n",
            "epoch: 4350 loss :116.99735260009766\n",
            "epoch: 4360 loss :116.54939270019531\n",
            "epoch: 4370 loss :116.2425765991211\n",
            "epoch: 4380 loss :116.863037109375\n",
            "epoch: 4390 loss :116.54437255859375\n",
            "epoch: 4400 loss :115.56472778320312\n",
            "epoch: 4410 loss :115.67764282226562\n",
            "epoch: 4420 loss :115.71137237548828\n",
            "epoch: 4430 loss :118.45787048339844\n",
            "epoch: 4440 loss :116.89866638183594\n",
            "epoch: 4450 loss :116.44942474365234\n",
            "epoch: 4460 loss :116.75877380371094\n",
            "epoch: 4470 loss :116.47404479980469\n",
            "epoch: 4480 loss :117.4503173828125\n",
            "epoch: 4490 loss :116.23445892333984\n",
            "epoch: 4500 loss :116.86959075927734\n",
            "epoch: 4510 loss :116.8362045288086\n",
            "epoch: 4520 loss :116.6038589477539\n",
            "epoch: 4530 loss :116.99310302734375\n",
            "epoch: 4540 loss :117.433349609375\n",
            "epoch: 4550 loss :116.85111999511719\n",
            "epoch: 4560 loss :117.65350341796875\n",
            "epoch: 4570 loss :116.76688385009766\n",
            "epoch: 4580 loss :117.35431671142578\n",
            "epoch: 4590 loss :116.27669525146484\n",
            "epoch: 4600 loss :117.3928451538086\n",
            "epoch: 4610 loss :116.5013656616211\n",
            "epoch: 4620 loss :116.90895080566406\n",
            "epoch: 4630 loss :116.97630310058594\n",
            "epoch: 4640 loss :116.97572326660156\n",
            "epoch: 4650 loss :116.9791030883789\n",
            "epoch: 4660 loss :116.94300079345703\n",
            "epoch: 4670 loss :116.7356185913086\n",
            "epoch: 4680 loss :116.75096130371094\n",
            "epoch: 4690 loss :116.49329376220703\n",
            "epoch: 4700 loss :116.3729019165039\n",
            "epoch: 4710 loss :116.31775665283203\n",
            "epoch: 4720 loss :117.39624786376953\n",
            "epoch: 4730 loss :116.86289978027344\n",
            "epoch: 4740 loss :117.38846588134766\n",
            "epoch: 4750 loss :117.15796661376953\n",
            "epoch: 4760 loss :116.40956115722656\n",
            "epoch: 4770 loss :116.85836029052734\n",
            "epoch: 4780 loss :117.42594146728516\n",
            "epoch: 4790 loss :117.4629135131836\n",
            "epoch: 4800 loss :117.14273071289062\n",
            "epoch: 4810 loss :116.85413360595703\n",
            "epoch: 4820 loss :117.10748291015625\n",
            "epoch: 4830 loss :117.04181671142578\n",
            "epoch: 4840 loss :116.67236328125\n",
            "epoch: 4850 loss :116.82577514648438\n",
            "epoch: 4860 loss :117.2232666015625\n",
            "epoch: 4870 loss :117.32432556152344\n",
            "epoch: 4880 loss :116.83866882324219\n",
            "epoch: 4890 loss :115.66525268554688\n",
            "epoch: 4900 loss :117.9401626586914\n",
            "epoch: 4910 loss :117.70552062988281\n",
            "epoch: 4920 loss :115.31351470947266\n",
            "epoch: 4930 loss :117.5992660522461\n",
            "epoch: 4940 loss :117.79163360595703\n",
            "epoch: 4950 loss :117.59496307373047\n",
            "epoch: 4960 loss :116.53057098388672\n",
            "epoch: 4970 loss :116.65157318115234\n",
            "epoch: 4980 loss :117.30889129638672\n",
            "epoch: 4990 loss :116.78004455566406\n"
          ]
        }
      ],
      "source": [
        "model=NeuralNet(X_train,y_train.astype('float32'))\n",
        "model.build_nn()\n",
        "model.to(device)\n",
        "losses_l1 = model.train_nn(X_train,y_train,1)"
      ]
    },
    {
      "cell_type": "code",
      "execution_count": null,
      "metadata": {
        "colab": {
          "base_uri": "https://localhost:8080/",
          "height": 280
        },
        "id": "-hBqv-ZJ0-yX",
        "outputId": "3e16be43-5ce6-46e4-d383-d829e0db275b"
      },
      "outputs": [
        {
          "output_type": "display_data",
          "data": {
            "text/plain": [
              "<Figure size 432x288 with 1 Axes>"
            ],
            "image/png": "[encoded data removed]"
          },
          "metadata": {
            "needs_background": "light"
          }
        }
      ],
      "source": [
        "plt.plot(losses_l1,label='L1 Loss')\n",
        "plt.ylabel('L1 Loss')\n",
        "plt.xlabel('Epochs')\n",
        "plt.legend()\n",
        "plt.show()"
      ]
    },
    {
      "cell_type": "code",
      "execution_count": null,
      "metadata": {
        "id": "NBhY38tv5GA6"
      },
      "outputs": [],
      "source": [
        "predy = model.predict(torch.from_numpy(X_test))"
      ]
    },
    {
      "cell_type": "code",
      "execution_count": null,
      "metadata": {
        "colab": {
          "base_uri": "https://localhost:8080/"
        },
        "id": "1ulkpDlj5GA7",
        "outputId": "7e8e8d61-ac66-4863-9690-98761dc2b300"
      },
      "outputs": [
        {
          "output_type": "stream",
          "name": "stdout",
          "text": [
            "R square :0.7131305611363412\n"
          ]
        }
      ],
      "source": [
        "# type(predy), type(train_label)\n",
        "def r2_loss(output, target):\n",
        "    target_mean = torch.mean(target)\n",
        "    ss_tot = torch.sum((target - target_mean) ** 2)\n",
        "    ss_res = torch.sum((target - output) ** 2)\n",
        "    r2 = 1 - ss_res / ss_tot\n",
        "    return r2\n",
        "print(f\"R square :{r2_loss(predy, torch.from_numpy(y_test)).item()}\")"
      ]
    },
    {
      "cell_type": "code",
      "execution_count": null,
      "metadata": {
        "colab": {
          "base_uri": "https://localhost:8080/"
        },
        "id": "xuGzkiCF1Cqx",
        "outputId": "da229496-343b-4102-e1d2-ac87cf357f6e"
      },
      "outputs": [
        {
          "output_type": "stream",
          "name": "stdout",
          "text": [
            "Global Minima : 104.64218139648438\n"
          ]
        }
      ],
      "source": [
        "print(\"Global Minima :\",np.amin(losses_l1))"
      ]
    },
    {
      "cell_type": "markdown",
      "metadata": {
        "id": "lxTDp15zlv53"
      },
      "source": [
        "**Verification of GLobal Minima**"
      ]
    },
    {
      "cell_type": "code",
      "execution_count": null,
      "metadata": {
        "colab": {
          "base_uri": "https://localhost:8080/",
          "height": 288
        },
        "id": "7hxN2NY13xAc",
        "outputId": "a7cbe4b1-bc1e-4908-fa3f-c0c815b6b83b"
      },
      "outputs": [
        {
          "output_type": "stream",
          "name": "stdout",
          "text": [
            "104.64218139648438\n"
          ]
        },
        {
          "output_type": "display_data",
          "data": {
            "text/plain": [
              "<Figure size 432x288 with 1 Axes>"
            ],
            "image/png": "[encoded data removed]"
          },
          "metadata": {
            "needs_background": "light"
          }
        }
      ],
      "source": [
        "a = np.round(np.array(losses_l1),2)\n",
        "print(np.amin(losses_l1))\n",
        "plt.plot(a,label='L1 Loss ')\n",
        "minima_ind = losses_l1.index(np.amin(losses_l1))\n",
        "plt.plot(minima_ind ,a[minima_ind],'bo')\n",
        "plt.legend()\n",
        "plt.ion() # This should make the graph interactive\n",
        "plt.show()"
      ]
    },
    {
      "cell_type": "markdown",
      "metadata": {
        "id": "gEAfLtJ7HocF"
      },
      "source": [
        "$\\therefore$ every local minimum point of the loss function L(W) is a global minimum point"
      ]
    },
    {
      "cell_type": "markdown",
      "metadata": {
        "id": "-UQ69vgMxg97"
      },
      "source": [
        "**Saddle points**"
      ]
    },
    {
      "cell_type": "code",
      "execution_count": null,
      "metadata": {
        "colab": {
          "base_uri": "https://localhost:8080/"
        },
        "id": "IuvqB1pRx8xM",
        "outputId": "a13c2b5d-deba-4909-9ab7-9bf3a810db8b"
      },
      "outputs": [
        {
          "output_type": "stream",
          "name": "stdout",
          "text": [
            "Some saddle points [107.98, 112.34, 116.23]\n"
          ]
        }
      ],
      "source": [
        "prev = a[0] \n",
        "saddle_pts = []\n",
        "saddle_ind = []\n",
        "for pt in range(len(losses_l1)-1):\n",
        "  if prev >= a[pt] and a[pt] <= a[pt+1] and a[pt] != a[minima_ind]:\n",
        "    saddle_ind.append(pt)\n",
        "    saddle_pts.append(a[pt]) \n",
        "print(\"Some saddle points\",random.choices(saddle_pts,k=3))"
      ]
    },
    {
      "cell_type": "code",
      "execution_count": null,
      "metadata": {
        "colab": {
          "base_uri": "https://localhost:8080/",
          "height": 266
        },
        "id": "AGDU_Xv1rcgB",
        "outputId": "e68c8927-041d-4bd7-8ef6-a02b75f3ed6b"
      },
      "outputs": [
        {
          "output_type": "display_data",
          "data": {
            "text/plain": [
              "<Figure size 432x288 with 1 Axes>"
            ],
            "image/png": "[encoded data removed]"
          },
          "metadata": {
            "needs_background": "light"
          }
        }
      ],
      "source": [
        "plt.plot(saddle_ind ,saddle_pts,'ro')\n",
        "plt.plot(a,label='Loss & Saddle points in red')\n",
        "plt.plot(minima_ind ,a[minima_ind],'bo')\n",
        "plt.legend()\n",
        "plt.ion() \n",
        "plt.show()"
      ]
    },
    {
      "cell_type": "markdown",
      "metadata": {
        "id": "8lGKHdLAH427"
      },
      "source": [
        "$\\therefore$ every stationary point of the loss function L(W) which is not a global minimum point is a saddle\n",
        "point"
      ]
    },
    {
      "cell_type": "code",
      "execution_count": null,
      "metadata": {
        "colab": {
          "base_uri": "https://localhost:8080/",
          "height": 266
        },
        "id": "6i1zmYH2_xQw",
        "outputId": "37ab3041-5971-4458-90c2-6846ffd1ac3b"
      },
      "outputs": [
        {
          "output_type": "display_data",
          "data": {
            "text/plain": [
              "<Figure size 432x288 with 1 Axes>"
            ],
            "image/png": "[encoded data removed]"
          },
          "metadata": {
            "needs_background": "light"
          }
        }
      ],
      "source": [
        "plt.plot(a[10+minima_ind: minima_ind +20],label='Local Minima zoomed')\n",
        "plt.legend()\n",
        "plt.show()"
      ]
    },
    {
      "cell_type": "markdown",
      "metadata": {
        "id": "xyUgG8BgMfcl"
      },
      "source": [
        "## **Using Frobenius norm**"
      ]
    },
    {
      "cell_type": "code",
      "execution_count": null,
      "metadata": {
        "colab": {
          "base_uri": "https://localhost:8080/"
        },
        "id": "mXTBtpBith6l",
        "outputId": "ae9b88f4-d86f-4332-a1dd-5e1415c84e60"
      },
      "outputs": [
        {
          "output_type": "stream",
          "name": "stderr",
          "text": [
            "/usr/local/lib/python3.7/dist-packages/torch/nn/modules/loss.py:529: UserWarning: Using a target size (torch.Size([38, 1])) that is different to the input size (torch.Size([38])). This will likely lead to incorrect results due to broadcasting. Please ensure they have the same size.\n",
            "  return F.mse_loss(input, target, reduction=self.reduction)\n"
          ]
        },
        {
          "output_type": "stream",
          "name": "stdout",
          "text": [
            "epoch: 0 loss :390.101806640625\n",
            "epoch: 10 loss :373.9383239746094\n",
            "epoch: 20 loss :351.8277893066406\n",
            "epoch: 30 loss :323.88909912109375\n",
            "epoch: 40 loss :293.73114013671875\n",
            "epoch: 50 loss :264.93878173828125\n",
            "epoch: 60 loss :238.71383666992188\n",
            "epoch: 70 loss :214.6533966064453\n",
            "epoch: 80 loss :193.43983459472656\n",
            "epoch: 90 loss :175.39224243164062\n",
            "epoch: 100 loss :159.8218231201172\n",
            "epoch: 110 loss :147.09625244140625\n",
            "epoch: 120 loss :137.27587890625\n",
            "epoch: 130 loss :130.1778106689453\n",
            "epoch: 140 loss :125.82473754882812\n",
            "epoch: 150 loss :124.53773498535156\n",
            "epoch: 160 loss :126.61507415771484\n",
            "epoch: 170 loss :131.806884765625\n",
            "epoch: 180 loss :134.17108154296875\n",
            "epoch: 190 loss :130.0357208251953\n",
            "epoch: 200 loss :129.45407104492188\n",
            "epoch: 210 loss :129.1337890625\n",
            "epoch: 220 loss :127.5759506225586\n",
            "epoch: 230 loss :127.10044860839844\n",
            "epoch: 240 loss :126.16437530517578\n",
            "epoch: 250 loss :125.40839385986328\n",
            "epoch: 260 loss :124.95169830322266\n",
            "epoch: 270 loss :124.37396240234375\n",
            "epoch: 280 loss :123.96199798583984\n",
            "epoch: 290 loss :123.54063415527344\n",
            "epoch: 300 loss :122.98526000976562\n",
            "epoch: 310 loss :122.65696716308594\n",
            "epoch: 320 loss :122.40367126464844\n",
            "epoch: 330 loss :122.12761688232422\n",
            "epoch: 340 loss :121.71879577636719\n",
            "epoch: 350 loss :121.49642944335938\n",
            "epoch: 360 loss :121.22320556640625\n",
            "epoch: 370 loss :120.99205780029297\n",
            "epoch: 380 loss :120.79904174804688\n",
            "epoch: 390 loss :120.55499267578125\n",
            "epoch: 400 loss :120.37621307373047\n",
            "epoch: 410 loss :120.20834350585938\n",
            "epoch: 420 loss :120.09554290771484\n",
            "epoch: 430 loss :119.94419860839844\n",
            "epoch: 440 loss :119.71112060546875\n",
            "epoch: 450 loss :119.72142028808594\n",
            "epoch: 460 loss :119.4260482788086\n",
            "epoch: 470 loss :119.31385040283203\n",
            "epoch: 480 loss :119.11888885498047\n",
            "epoch: 490 loss :118.8306884765625\n",
            "epoch: 500 loss :118.35075378417969\n",
            "epoch: 510 loss :117.76252746582031\n",
            "epoch: 520 loss :117.25398254394531\n",
            "epoch: 530 loss :116.56900024414062\n",
            "epoch: 540 loss :115.73460388183594\n",
            "epoch: 550 loss :114.76394653320312\n",
            "epoch: 560 loss :113.7322769165039\n",
            "epoch: 570 loss :112.88735961914062\n",
            "epoch: 580 loss :112.15534210205078\n",
            "epoch: 590 loss :111.18791961669922\n",
            "epoch: 600 loss :110.58202362060547\n",
            "epoch: 610 loss :110.1610107421875\n",
            "epoch: 620 loss :109.9309310913086\n",
            "epoch: 630 loss :109.57398986816406\n",
            "epoch: 640 loss :109.38182067871094\n",
            "epoch: 650 loss :109.46438598632812\n",
            "epoch: 660 loss :109.32171630859375\n",
            "epoch: 670 loss :109.35054779052734\n",
            "epoch: 680 loss :109.33079528808594\n",
            "epoch: 690 loss :109.46996307373047\n",
            "epoch: 700 loss :109.42256927490234\n",
            "epoch: 710 loss :109.30378723144531\n",
            "epoch: 720 loss :109.45429229736328\n",
            "epoch: 730 loss :109.46998596191406\n",
            "epoch: 740 loss :109.58760070800781\n",
            "epoch: 750 loss :109.509033203125\n",
            "epoch: 760 loss :109.51533508300781\n",
            "epoch: 770 loss :109.52519226074219\n",
            "epoch: 780 loss :109.70721435546875\n",
            "epoch: 790 loss :109.67288208007812\n",
            "epoch: 800 loss :109.7287826538086\n",
            "epoch: 810 loss :109.78179168701172\n",
            "epoch: 820 loss :109.83104705810547\n",
            "epoch: 830 loss :109.83361053466797\n",
            "epoch: 840 loss :109.95419311523438\n",
            "epoch: 850 loss :109.97383880615234\n",
            "epoch: 860 loss :110.12156677246094\n",
            "epoch: 870 loss :110.09569549560547\n",
            "epoch: 880 loss :110.11028289794922\n",
            "epoch: 890 loss :110.27679443359375\n",
            "epoch: 900 loss :110.2513656616211\n",
            "epoch: 910 loss :110.39716339111328\n",
            "epoch: 920 loss :110.5802993774414\n",
            "epoch: 930 loss :110.5406723022461\n",
            "epoch: 940 loss :110.62635040283203\n",
            "epoch: 950 loss :110.7513656616211\n",
            "epoch: 960 loss :110.62785339355469\n",
            "epoch: 970 loss :110.66202545166016\n",
            "epoch: 980 loss :110.6791000366211\n",
            "epoch: 990 loss :110.890625\n",
            "epoch: 1000 loss :110.98735046386719\n",
            "epoch: 1010 loss :111.07656860351562\n",
            "epoch: 1020 loss :111.13749694824219\n",
            "epoch: 1030 loss :111.05851745605469\n",
            "epoch: 1040 loss :111.2494125366211\n",
            "epoch: 1050 loss :111.28277587890625\n",
            "epoch: 1060 loss :111.50150299072266\n",
            "epoch: 1070 loss :111.45870971679688\n",
            "epoch: 1080 loss :111.56190490722656\n",
            "epoch: 1090 loss :111.73799896240234\n",
            "epoch: 1100 loss :111.73841094970703\n",
            "epoch: 1110 loss :111.64314270019531\n",
            "epoch: 1120 loss :111.94303894042969\n",
            "epoch: 1130 loss :111.85981750488281\n",
            "epoch: 1140 loss :112.04617309570312\n",
            "epoch: 1150 loss :112.2121353149414\n",
            "epoch: 1160 loss :112.21906280517578\n",
            "epoch: 1170 loss :112.6376953125\n",
            "epoch: 1180 loss :112.56082153320312\n",
            "epoch: 1190 loss :112.73369598388672\n",
            "epoch: 1200 loss :112.58454895019531\n",
            "epoch: 1210 loss :113.01911163330078\n",
            "epoch: 1220 loss :112.70941925048828\n",
            "epoch: 1230 loss :113.27015686035156\n",
            "epoch: 1240 loss :113.24161529541016\n",
            "epoch: 1250 loss :113.77586364746094\n",
            "epoch: 1260 loss :112.62934112548828\n",
            "epoch: 1270 loss :113.167236328125\n",
            "epoch: 1280 loss :113.1562271118164\n",
            "epoch: 1290 loss :113.3775405883789\n",
            "epoch: 1300 loss :113.4764404296875\n",
            "epoch: 1310 loss :113.32550811767578\n",
            "epoch: 1320 loss :113.682373046875\n",
            "epoch: 1330 loss :113.47567749023438\n",
            "epoch: 1340 loss :113.7564468383789\n",
            "epoch: 1350 loss :113.40180206298828\n",
            "epoch: 1360 loss :114.3536148071289\n",
            "epoch: 1370 loss :113.63587188720703\n",
            "epoch: 1380 loss :113.89339447021484\n",
            "epoch: 1390 loss :113.96675872802734\n",
            "epoch: 1400 loss :113.84874725341797\n",
            "epoch: 1410 loss :114.19725799560547\n",
            "epoch: 1420 loss :113.65205383300781\n",
            "epoch: 1430 loss :114.71559143066406\n",
            "epoch: 1440 loss :113.04449462890625\n",
            "epoch: 1450 loss :113.11581420898438\n",
            "epoch: 1460 loss :114.13941192626953\n",
            "epoch: 1470 loss :113.91698455810547\n",
            "epoch: 1480 loss :114.4045639038086\n",
            "epoch: 1490 loss :114.60063934326172\n",
            "epoch: 1500 loss :114.85321807861328\n",
            "epoch: 1510 loss :114.78787231445312\n",
            "epoch: 1520 loss :114.6448974609375\n",
            "epoch: 1530 loss :114.76637268066406\n",
            "epoch: 1540 loss :114.79367065429688\n",
            "epoch: 1550 loss :115.26322174072266\n",
            "epoch: 1560 loss :114.42034912109375\n",
            "epoch: 1570 loss :114.07220458984375\n",
            "epoch: 1580 loss :114.6895751953125\n",
            "epoch: 1590 loss :114.71910858154297\n",
            "epoch: 1600 loss :114.57290649414062\n",
            "epoch: 1610 loss :114.70049285888672\n",
            "epoch: 1620 loss :114.9340591430664\n",
            "epoch: 1630 loss :114.89507293701172\n",
            "epoch: 1640 loss :114.87080383300781\n",
            "epoch: 1650 loss :114.94538116455078\n",
            "epoch: 1660 loss :114.90252685546875\n",
            "epoch: 1670 loss :114.89117431640625\n",
            "epoch: 1680 loss :115.18862915039062\n",
            "epoch: 1690 loss :115.4157943725586\n",
            "epoch: 1700 loss :114.88030242919922\n",
            "epoch: 1710 loss :115.3746566772461\n",
            "epoch: 1720 loss :115.31423950195312\n",
            "epoch: 1730 loss :115.27899169921875\n",
            "epoch: 1740 loss :115.35507202148438\n",
            "epoch: 1750 loss :115.13531494140625\n",
            "epoch: 1760 loss :115.43780517578125\n",
            "epoch: 1770 loss :115.63946533203125\n",
            "epoch: 1780 loss :115.29027557373047\n",
            "epoch: 1790 loss :115.63704681396484\n",
            "epoch: 1800 loss :115.38032531738281\n",
            "epoch: 1810 loss :115.32396697998047\n",
            "epoch: 1820 loss :114.80463409423828\n",
            "epoch: 1830 loss :115.93057250976562\n",
            "epoch: 1840 loss :116.20581817626953\n",
            "epoch: 1850 loss :114.7930908203125\n",
            "epoch: 1860 loss :116.02510070800781\n",
            "epoch: 1870 loss :116.27076721191406\n",
            "epoch: 1880 loss :114.74961853027344\n",
            "epoch: 1890 loss :116.27315521240234\n",
            "epoch: 1900 loss :116.7573013305664\n",
            "epoch: 1910 loss :115.00121307373047\n",
            "epoch: 1920 loss :116.10790252685547\n",
            "epoch: 1930 loss :116.21390533447266\n",
            "epoch: 1940 loss :114.83800506591797\n",
            "epoch: 1950 loss :116.58057403564453\n",
            "epoch: 1960 loss :116.67163848876953\n",
            "epoch: 1970 loss :115.03885650634766\n",
            "epoch: 1980 loss :117.03618621826172\n",
            "epoch: 1990 loss :115.45064544677734\n",
            "epoch: 2000 loss :115.32386016845703\n",
            "epoch: 2010 loss :115.59361267089844\n",
            "epoch: 2020 loss :115.88152313232422\n",
            "epoch: 2030 loss :116.23114013671875\n",
            "epoch: 2040 loss :116.09050750732422\n",
            "epoch: 2050 loss :116.17697143554688\n",
            "epoch: 2060 loss :115.73262023925781\n",
            "epoch: 2070 loss :116.13038635253906\n",
            "epoch: 2080 loss :116.78044128417969\n",
            "epoch: 2090 loss :116.09010314941406\n",
            "epoch: 2100 loss :116.61911010742188\n",
            "epoch: 2110 loss :116.08389282226562\n",
            "epoch: 2120 loss :116.868896484375\n",
            "epoch: 2130 loss :116.38860321044922\n",
            "epoch: 2140 loss :116.05518341064453\n",
            "epoch: 2150 loss :117.00041198730469\n",
            "epoch: 2160 loss :116.2780990600586\n",
            "epoch: 2170 loss :116.59119415283203\n",
            "epoch: 2180 loss :116.69126892089844\n",
            "epoch: 2190 loss :116.14732360839844\n",
            "epoch: 2200 loss :116.93291473388672\n",
            "epoch: 2210 loss :116.47020721435547\n",
            "epoch: 2220 loss :116.70764923095703\n",
            "epoch: 2230 loss :117.10494995117188\n",
            "epoch: 2240 loss :116.70345306396484\n",
            "epoch: 2250 loss :117.36540985107422\n",
            "epoch: 2260 loss :116.52372741699219\n",
            "epoch: 2270 loss :117.28609466552734\n",
            "epoch: 2280 loss :116.69596099853516\n",
            "epoch: 2290 loss :117.37122344970703\n",
            "epoch: 2300 loss :116.8658218383789\n",
            "epoch: 2310 loss :117.27128601074219\n",
            "epoch: 2320 loss :117.6341323852539\n",
            "epoch: 2330 loss :117.86878967285156\n",
            "epoch: 2340 loss :117.38868713378906\n",
            "epoch: 2350 loss :116.97280883789062\n",
            "epoch: 2360 loss :117.30888366699219\n",
            "epoch: 2370 loss :117.43033599853516\n",
            "epoch: 2380 loss :117.71803283691406\n",
            "epoch: 2390 loss :117.21836853027344\n",
            "epoch: 2400 loss :117.5443115234375\n",
            "epoch: 2410 loss :116.91777038574219\n",
            "epoch: 2420 loss :116.9825210571289\n",
            "epoch: 2430 loss :117.96621704101562\n",
            "epoch: 2440 loss :117.11296844482422\n",
            "epoch: 2450 loss :117.45288848876953\n",
            "epoch: 2460 loss :117.10227966308594\n",
            "epoch: 2470 loss :117.79198455810547\n",
            "epoch: 2480 loss :117.6480484008789\n",
            "epoch: 2490 loss :117.07952880859375\n",
            "epoch: 2500 loss :117.30204772949219\n",
            "epoch: 2510 loss :117.8619384765625\n",
            "epoch: 2520 loss :117.2791976928711\n",
            "epoch: 2530 loss :118.24198913574219\n",
            "epoch: 2540 loss :117.29601287841797\n",
            "epoch: 2550 loss :117.97490692138672\n",
            "epoch: 2560 loss :117.65840148925781\n",
            "epoch: 2570 loss :117.98546600341797\n",
            "epoch: 2580 loss :117.93514251708984\n",
            "epoch: 2590 loss :118.15880584716797\n",
            "epoch: 2600 loss :118.14625549316406\n",
            "epoch: 2610 loss :118.0570068359375\n",
            "epoch: 2620 loss :118.03903198242188\n",
            "epoch: 2630 loss :118.25413513183594\n",
            "epoch: 2640 loss :117.68599700927734\n",
            "epoch: 2650 loss :118.48007202148438\n",
            "epoch: 2660 loss :117.76444244384766\n",
            "epoch: 2670 loss :118.62287902832031\n",
            "epoch: 2680 loss :118.55044555664062\n",
            "epoch: 2690 loss :118.60887908935547\n",
            "epoch: 2700 loss :118.36771392822266\n",
            "epoch: 2710 loss :117.77938079833984\n",
            "epoch: 2720 loss :118.22004699707031\n",
            "epoch: 2730 loss :118.08309936523438\n",
            "epoch: 2740 loss :118.81483459472656\n",
            "epoch: 2750 loss :119.55986022949219\n",
            "epoch: 2760 loss :117.41222381591797\n",
            "epoch: 2770 loss :118.91685485839844\n",
            "epoch: 2780 loss :119.0370101928711\n",
            "epoch: 2790 loss :117.1594009399414\n",
            "epoch: 2800 loss :118.90449523925781\n",
            "epoch: 2810 loss :119.08480834960938\n",
            "epoch: 2820 loss :117.00310516357422\n",
            "epoch: 2830 loss :119.18508911132812\n",
            "epoch: 2840 loss :119.16326141357422\n",
            "epoch: 2850 loss :117.04938507080078\n",
            "epoch: 2860 loss :119.2912826538086\n",
            "epoch: 2870 loss :119.1231689453125\n",
            "epoch: 2880 loss :117.49283599853516\n",
            "epoch: 2890 loss :118.97032928466797\n",
            "epoch: 2900 loss :119.38581848144531\n",
            "epoch: 2910 loss :117.48773956298828\n",
            "epoch: 2920 loss :118.72645568847656\n",
            "epoch: 2930 loss :119.28484344482422\n",
            "epoch: 2940 loss :117.77397918701172\n",
            "epoch: 2950 loss :118.78093719482422\n",
            "epoch: 2960 loss :118.56440734863281\n",
            "epoch: 2970 loss :118.75007629394531\n",
            "epoch: 2980 loss :118.24053192138672\n",
            "epoch: 2990 loss :118.76851654052734\n",
            "epoch: 3000 loss :118.21554565429688\n",
            "epoch: 3010 loss :117.67569732666016\n",
            "epoch: 3020 loss :119.53291320800781\n",
            "epoch: 3030 loss :118.83572387695312\n",
            "epoch: 3040 loss :118.98743438720703\n",
            "epoch: 3050 loss :119.0693588256836\n",
            "epoch: 3060 loss :118.59902954101562\n",
            "epoch: 3070 loss :118.36626434326172\n",
            "epoch: 3080 loss :118.73641967773438\n",
            "epoch: 3090 loss :118.88169860839844\n",
            "epoch: 3100 loss :118.47128295898438\n",
            "epoch: 3110 loss :118.94947814941406\n",
            "epoch: 3120 loss :118.8016128540039\n",
            "epoch: 3130 loss :119.0568618774414\n",
            "epoch: 3140 loss :119.13470458984375\n",
            "epoch: 3150 loss :118.7213134765625\n",
            "epoch: 3160 loss :119.13784790039062\n",
            "epoch: 3170 loss :118.8410415649414\n",
            "epoch: 3180 loss :118.98675537109375\n",
            "epoch: 3190 loss :118.94847106933594\n",
            "epoch: 3200 loss :119.06218719482422\n",
            "epoch: 3210 loss :119.1520767211914\n",
            "epoch: 3220 loss :119.53063201904297\n",
            "epoch: 3230 loss :119.67837524414062\n",
            "epoch: 3240 loss :119.91535186767578\n",
            "epoch: 3250 loss :117.91576385498047\n",
            "epoch: 3260 loss :119.6943359375\n",
            "epoch: 3270 loss :119.58112335205078\n",
            "epoch: 3280 loss :119.22990417480469\n",
            "epoch: 3290 loss :118.9429931640625\n",
            "epoch: 3300 loss :119.27278900146484\n",
            "epoch: 3310 loss :119.07168579101562\n",
            "epoch: 3320 loss :119.43062591552734\n",
            "epoch: 3330 loss :119.62084197998047\n",
            "epoch: 3340 loss :118.87521362304688\n",
            "epoch: 3350 loss :119.53958129882812\n",
            "epoch: 3360 loss :118.4009017944336\n",
            "epoch: 3370 loss :120.23686218261719\n",
            "epoch: 3380 loss :119.19375610351562\n",
            "epoch: 3390 loss :119.29956817626953\n",
            "epoch: 3400 loss :119.42166137695312\n",
            "epoch: 3410 loss :119.20855712890625\n",
            "epoch: 3420 loss :118.82708740234375\n",
            "epoch: 3430 loss :119.53899383544922\n",
            "epoch: 3440 loss :119.41765594482422\n",
            "epoch: 3450 loss :118.75199890136719\n",
            "epoch: 3460 loss :119.74056243896484\n",
            "epoch: 3470 loss :118.55448913574219\n",
            "epoch: 3480 loss :118.81555938720703\n",
            "epoch: 3490 loss :119.4925765991211\n",
            "epoch: 3500 loss :118.69424438476562\n",
            "epoch: 3510 loss :119.53282928466797\n",
            "epoch: 3520 loss :119.56076049804688\n",
            "epoch: 3530 loss :119.05884552001953\n",
            "epoch: 3540 loss :119.0604019165039\n",
            "epoch: 3550 loss :119.76818084716797\n",
            "epoch: 3560 loss :119.52495574951172\n",
            "epoch: 3570 loss :118.87986755371094\n",
            "epoch: 3580 loss :119.14701080322266\n",
            "epoch: 3590 loss :118.89804077148438\n",
            "epoch: 3600 loss :119.92736053466797\n",
            "epoch: 3610 loss :118.72772979736328\n",
            "epoch: 3620 loss :120.02022552490234\n",
            "epoch: 3630 loss :119.68031311035156\n",
            "epoch: 3640 loss :119.54224395751953\n",
            "epoch: 3650 loss :119.13105773925781\n",
            "epoch: 3660 loss :119.65841674804688\n",
            "epoch: 3670 loss :118.76971435546875\n",
            "epoch: 3680 loss :119.93492126464844\n",
            "epoch: 3690 loss :119.36165618896484\n",
            "epoch: 3700 loss :119.37688446044922\n",
            "epoch: 3710 loss :119.31584167480469\n",
            "epoch: 3720 loss :119.55188751220703\n",
            "epoch: 3730 loss :119.33367919921875\n",
            "epoch: 3740 loss :118.97581481933594\n",
            "epoch: 3750 loss :119.30298614501953\n",
            "epoch: 3760 loss :119.36188507080078\n",
            "epoch: 3770 loss :119.79844665527344\n",
            "epoch: 3780 loss :119.42888641357422\n",
            "epoch: 3790 loss :119.15526580810547\n",
            "epoch: 3800 loss :119.18669891357422\n",
            "epoch: 3810 loss :119.78111267089844\n",
            "epoch: 3820 loss :118.5920639038086\n",
            "epoch: 3830 loss :118.39488983154297\n",
            "epoch: 3840 loss :120.6891098022461\n",
            "epoch: 3850 loss :118.83914947509766\n",
            "epoch: 3860 loss :118.8492660522461\n",
            "epoch: 3870 loss :121.00732421875\n",
            "epoch: 3880 loss :118.94174194335938\n",
            "epoch: 3890 loss :118.23320770263672\n",
            "epoch: 3900 loss :120.79208374023438\n",
            "epoch: 3910 loss :119.82837677001953\n",
            "epoch: 3920 loss :119.53003692626953\n",
            "epoch: 3930 loss :119.38426208496094\n",
            "epoch: 3940 loss :119.26679229736328\n",
            "epoch: 3950 loss :119.34149169921875\n",
            "epoch: 3960 loss :119.99021911621094\n",
            "epoch: 3970 loss :119.55406951904297\n",
            "epoch: 3980 loss :119.33196258544922\n",
            "epoch: 3990 loss :119.76007080078125\n",
            "epoch: 4000 loss :119.22917938232422\n",
            "epoch: 4010 loss :120.0989990234375\n",
            "epoch: 4020 loss :118.4312973022461\n",
            "epoch: 4030 loss :120.48397827148438\n",
            "epoch: 4040 loss :120.5213851928711\n",
            "epoch: 4050 loss :118.52958679199219\n",
            "epoch: 4060 loss :120.54686737060547\n",
            "epoch: 4070 loss :119.44489288330078\n",
            "epoch: 4080 loss :119.8319320678711\n",
            "epoch: 4090 loss :119.04491424560547\n",
            "epoch: 4100 loss :120.21070098876953\n",
            "epoch: 4110 loss :119.46477508544922\n",
            "epoch: 4120 loss :118.97045135498047\n",
            "epoch: 4130 loss :120.13436126708984\n",
            "epoch: 4140 loss :120.12399291992188\n",
            "epoch: 4150 loss :119.60160827636719\n",
            "epoch: 4160 loss :118.96947479248047\n",
            "epoch: 4170 loss :119.66529846191406\n",
            "epoch: 4180 loss :118.80908966064453\n",
            "epoch: 4190 loss :119.47550964355469\n",
            "epoch: 4200 loss :119.55108642578125\n",
            "epoch: 4210 loss :119.66031646728516\n",
            "epoch: 4220 loss :119.82323455810547\n",
            "epoch: 4230 loss :120.70136260986328\n",
            "epoch: 4240 loss :119.57968139648438\n",
            "epoch: 4250 loss :119.21882629394531\n",
            "epoch: 4260 loss :120.13157653808594\n",
            "epoch: 4270 loss :119.17671203613281\n",
            "epoch: 4280 loss :120.14302825927734\n",
            "epoch: 4290 loss :119.54883575439453\n",
            "epoch: 4300 loss :120.33042907714844\n",
            "epoch: 4310 loss :119.43489074707031\n",
            "epoch: 4320 loss :120.19821166992188\n",
            "epoch: 4330 loss :120.20433807373047\n",
            "epoch: 4340 loss :119.86322784423828\n",
            "epoch: 4350 loss :119.14002227783203\n",
            "epoch: 4360 loss :120.01404571533203\n",
            "epoch: 4370 loss :119.71626281738281\n",
            "epoch: 4380 loss :120.41398620605469\n",
            "epoch: 4390 loss :119.27529907226562\n",
            "epoch: 4400 loss :119.65045166015625\n",
            "epoch: 4410 loss :119.70367431640625\n",
            "epoch: 4420 loss :119.33723449707031\n",
            "epoch: 4430 loss :119.61798095703125\n",
            "epoch: 4440 loss :120.47026824951172\n",
            "epoch: 4450 loss :119.50843048095703\n",
            "epoch: 4460 loss :119.28968048095703\n",
            "epoch: 4470 loss :119.96073913574219\n",
            "epoch: 4480 loss :119.56373596191406\n",
            "epoch: 4490 loss :120.50300598144531\n",
            "epoch: 4500 loss :119.24752044677734\n",
            "epoch: 4510 loss :119.90061950683594\n",
            "epoch: 4520 loss :120.37611389160156\n",
            "epoch: 4530 loss :119.33303833007812\n",
            "epoch: 4540 loss :120.28800201416016\n",
            "epoch: 4550 loss :119.28777313232422\n",
            "epoch: 4560 loss :119.67314147949219\n",
            "epoch: 4570 loss :119.35255432128906\n",
            "epoch: 4580 loss :121.1674575805664\n",
            "epoch: 4590 loss :118.98931884765625\n",
            "epoch: 4600 loss :118.68708038330078\n",
            "epoch: 4610 loss :121.63597106933594\n",
            "epoch: 4620 loss :119.1856689453125\n",
            "epoch: 4630 loss :118.93302154541016\n",
            "epoch: 4640 loss :121.2366714477539\n",
            "epoch: 4650 loss :119.08332824707031\n",
            "epoch: 4660 loss :119.0693588256836\n",
            "epoch: 4670 loss :121.18333435058594\n",
            "epoch: 4680 loss :119.46142578125\n",
            "epoch: 4690 loss :120.57405853271484\n",
            "epoch: 4700 loss :120.96597290039062\n",
            "epoch: 4710 loss :118.82675170898438\n",
            "epoch: 4720 loss :120.8885498046875\n",
            "epoch: 4730 loss :120.48873901367188\n",
            "epoch: 4740 loss :118.6610107421875\n",
            "epoch: 4750 loss :121.15567779541016\n",
            "epoch: 4760 loss :119.8051528930664\n",
            "epoch: 4770 loss :120.4310302734375\n",
            "epoch: 4780 loss :119.29061889648438\n",
            "epoch: 4790 loss :119.80471801757812\n",
            "epoch: 4800 loss :120.587646484375\n",
            "epoch: 4810 loss :120.10603332519531\n",
            "epoch: 4820 loss :119.52839660644531\n",
            "epoch: 4830 loss :120.22637939453125\n",
            "epoch: 4840 loss :120.55311584472656\n",
            "epoch: 4850 loss :120.48938751220703\n",
            "epoch: 4860 loss :119.86434936523438\n",
            "epoch: 4870 loss :120.34674835205078\n",
            "epoch: 4880 loss :120.6393814086914\n",
            "epoch: 4890 loss :119.43997955322266\n",
            "epoch: 4900 loss :119.62383270263672\n",
            "epoch: 4910 loss :120.45343780517578\n",
            "epoch: 4920 loss :119.62825775146484\n",
            "epoch: 4930 loss :119.50365447998047\n",
            "epoch: 4940 loss :121.10798645019531\n",
            "epoch: 4950 loss :119.8861312866211\n",
            "epoch: 4960 loss :119.04669189453125\n",
            "epoch: 4970 loss :120.55461883544922\n",
            "epoch: 4980 loss :120.04425811767578\n",
            "epoch: 4990 loss :119.85989379882812\n"
          ]
        }
      ],
      "source": [
        "model=NeuralNet(train_data,train_label.astype('float32'))\n",
        "model.build_nn()\n",
        "model.to(device)\n",
        "losses_l2 = model.train_nn(train_data,train_label,2)"
      ]
    },
    {
      "cell_type": "code",
      "source": [
        "predy = model.predict(torch.from_numpy(X_test))"
      ],
      "metadata": {
        "id": "wKdR5lSn8SEI"
      },
      "execution_count": null,
      "outputs": []
    },
    {
      "cell_type": "markdown",
      "metadata": {
        "id": "c9VAcrvp0xCc"
      },
      "source": [
        "**Global Minima**"
      ]
    },
    {
      "cell_type": "code",
      "execution_count": null,
      "metadata": {
        "colab": {
          "base_uri": "https://localhost:8080/"
        },
        "id": "mPfHqSQCMH-v",
        "outputId": "ac88e381-8df4-41d9-8b45-1f3a6beb2192"
      },
      "outputs": [
        {
          "output_type": "stream",
          "name": "stdout",
          "text": [
            "Global Minima : 109.20787811279297\n"
          ]
        }
      ],
      "source": [
        "print(\"Global Minima :\",np.amin(losses_l2))"
      ]
    },
    {
      "cell_type": "markdown",
      "metadata": {
        "id": "JPcIdhti00aS"
      },
      "source": [
        "**Plot of Loss**"
      ]
    },
    {
      "cell_type": "code",
      "execution_count": null,
      "metadata": {
        "colab": {
          "base_uri": "https://localhost:8080/",
          "height": 288
        },
        "id": "b_gYUedGFA9w",
        "outputId": "7858a20f-3f75-42c1-b79d-68e5e7e9b11a"
      },
      "outputs": [
        {
          "output_type": "stream",
          "name": "stdout",
          "text": [
            "109.20787811279297\n"
          ]
        },
        {
          "output_type": "display_data",
          "data": {
            "text/plain": [
              "<Figure size 432x288 with 1 Axes>"
            ],
            "image/png": "[encoded data removed]"
          },
          "metadata": {
            "needs_background": "light"
          }
        }
      ],
      "source": [
        "a = np.round(np.array(losses_l2),2)\n",
        "print(np.amin(losses_l2))\n",
        "plt.plot(a,label='L2 Loss ')\n",
        "minima_ind = losses_l2.index(np.amin(losses_l2))\n",
        "plt.plot(minima_ind ,a[minima_ind],'bo')\n",
        "plt.legend()\n",
        "plt.ion() \n",
        "plt.show()"
      ]
    },
    {
      "cell_type": "markdown",
      "metadata": {
        "id": "05SPe513HzFd"
      },
      "source": [
        "$\\therefore$ every local minimum point of the loss function L(W) is a global minimum point"
      ]
    },
    {
      "cell_type": "code",
      "source": [
        "print(f\"R square :{r2_loss(predy, torch.from_numpy(y_test)).item()}\")"
      ],
      "metadata": {
        "colab": {
          "base_uri": "https://localhost:8080/"
        },
        "id": "5yOM4SqG8DoD",
        "outputId": "617668e9-ab96-46ad-dfc2-313634bd46ac"
      },
      "execution_count": null,
      "outputs": [
        {
          "output_type": "stream",
          "name": "stdout",
          "text": [
            "R square :0.8908723943838055\n"
          ]
        }
      ]
    },
    {
      "cell_type": "markdown",
      "metadata": {
        "id": "HzxdKczDHhu7"
      },
      "source": [
        "**Saddle points**"
      ]
    },
    {
      "cell_type": "code",
      "execution_count": null,
      "metadata": {
        "colab": {
          "base_uri": "https://localhost:8080/"
        },
        "id": "ZVcxpLonBOYM",
        "outputId": "58daab47-2aee-4f98-ff61-858592dfd494"
      },
      "outputs": [
        {
          "output_type": "stream",
          "name": "stdout",
          "text": [
            "Some saddle points [109.78, 119.17, 113.83]\n"
          ]
        }
      ],
      "source": [
        "prev = a[0] \n",
        "saddle_pts = []\n",
        "saddle_ind = []\n",
        "for pt in range(len(losses_l2)-1):\n",
        "  if prev >= a[pt] and a[pt] <= a[pt+1] and a[pt] != a[minima_ind]:\n",
        "    saddle_ind.append(pt)\n",
        "    saddle_pts.append(a[pt])\n",
        "print(\"Some saddle points\",random.choices(saddle_pts,k=3))"
      ]
    },
    {
      "cell_type": "code",
      "execution_count": null,
      "metadata": {
        "colab": {
          "base_uri": "https://localhost:8080/",
          "height": 266
        },
        "id": "uyHXrfAdBtVx",
        "outputId": "bb3297c2-38e2-4452-8cf7-625eccd3a053"
      },
      "outputs": [
        {
          "output_type": "display_data",
          "data": {
            "text/plain": [
              "<Figure size 432x288 with 1 Axes>"
            ],
            "image/png": "[encoded data removed]"
          },
          "metadata": {
            "needs_background": "light"
          }
        }
      ],
      "source": [
        "plt.plot(saddle_ind ,saddle_pts,'ro')\n",
        "plt.plot(a,label='Loss & Saddle points in red')\n",
        "plt.plot(minima_ind ,a[minima_ind],'bo')\n",
        "plt.legend()\n",
        "plt.ion()\n",
        "plt.show(block=True)"
      ]
    },
    {
      "cell_type": "markdown",
      "metadata": {
        "id": "dGL-dCFDH_WW"
      },
      "source": [
        "$\\therefore$ every stationary point of the loss function L(W) which is not a global minimum point is a saddle\n",
        "point"
      ]
    },
    {
      "cell_type": "markdown",
      "metadata": {
        "id": "uV_1BGk4L1Ok"
      },
      "source": [
        "**Part 3**"
      ]
    },
    {
      "cell_type": "code",
      "execution_count": null,
      "metadata": {
        "colab": {
          "base_uri": "https://localhost:8080/"
        },
        "id": "_0t6-azXLp1t",
        "outputId": "e82ec901-50fd-419e-d20d-3ee9048f53de"
      },
      "outputs": [
        {
          "output_type": "stream",
          "name": "stdout",
          "text": [
            "Rank for hidden0 matrix is 2\n",
            "Rank for hidden1 matrix is 2\n",
            "Rank for hidden2 matrix is 2\n",
            "p = 2\n"
          ]
        }
      ],
      "source": [
        "ranks = []\n",
        "for i in range(len(neuron_size_list)):\n",
        "  model.hidden[0].weight.shape\n",
        "  m = model.hidden[0].weight.cpu()\n",
        "  rank = np.linalg.matrix_rank(m.detach().numpy())\n",
        "  ranks.append(rank)\n",
        "  print(f\"Rank for hidden{i} matrix is {rank}\")\n",
        "r = ranks[0]\n",
        "if (ranks == ranks[0]).all() == True:\n",
        "  print(f\"p = {r}\")"
      ]
    },
    {
      "cell_type": "code",
      "execution_count": null,
      "metadata": {
        "id": "I63tMNQ1FEaY"
      },
      "outputs": [],
      "source": [
        "def hessian(x):\n",
        "    x_grad = np.gradient(x) \n",
        "    hessian = np.empty((x.ndim, x.ndim) + x.shape, dtype=x.dtype) \n",
        "    for k, grad_k in enumerate(x_grad):\n",
        "        tmp_grad = np.gradient(grad_k) \n",
        "        for l, grad_kl in enumerate(tmp_grad):\n",
        "            hessian[k, l, :, :] = grad_kl\n",
        "    return hessian"
      ]
    },
    {
      "cell_type": "code",
      "execution_count": null,
      "metadata": {
        "colab": {
          "base_uri": "https://localhost:8080/"
        },
        "id": "P6_hlXQHGiH2",
        "outputId": "94484cde-85df-45ab-92f3-eef6758595e3"
      },
      "outputs": [
        {
          "output_type": "execute_result",
          "data": {
            "text/plain": [
              "array([[[ 3.26158582e-316,  7.00000000e-002,  1.05000000e-001, ...,\n",
              "         -2.25000000e-001,  6.29570889e+078,  5.17961155e+184]]])"
            ]
          },
          "metadata": {},
          "execution_count": 28
        }
      ],
      "source": [
        "hessian(np.array(saddle_pts))"
      ]
    },
    {
      "cell_type": "markdown",
      "metadata": {
        "id": "j80-aCLepSXR"
      },
      "source": [
        "**Perturbed Gradient Descent**"
      ]
    },
    {
      "cell_type": "code",
      "execution_count": null,
      "metadata": {
        "id": "UPetxzmGpV8_"
      },
      "outputs": [],
      "source": [
        "def perturbed_GD_vanilla(x, eta, r, K): \n",
        "  kp = 0\n",
        "  for k in range(10):\n",
        "    if k - kp > K :\n",
        "      x = np.subtract(x,eta * float(2*r))\n",
        "    grad = np.array(np.gradient(x)) * eta\n",
        "    x = x - grad\n",
        "  return x\n",
        "x_new = perturbed_GD_vanilla(train_data, 1e-3, 0.25,0.5)\n",
        "x_new"
      ]
    },
    {
      "cell_type": "markdown",
      "metadata": {
        "id": "U_plzTWg-kyz"
      },
      "source": [
        "The above algorithm is crashing. So trying other variants"
      ]
    },
    {
      "cell_type": "code",
      "execution_count": null,
      "metadata": {
        "id": "ULkccIRsDL9J"
      },
      "outputs": [],
      "source": [
        "def perturbed_GD_m1(x, eta, r, K): # slight modification(m1)\n",
        "  kp = 0\n",
        "  for k in range(10):\n",
        "    if k - kp > K :\n",
        "      delta = list(map(lambda p : p + np.random.uniform(r), np.gradient(x)))\n",
        "      # np.abs(np.random.normal(r)) can also be used\n",
        "      delta_n = np.array(delta)\n",
        "      x = x - eta * delta_n\n",
        "  return x\n",
        "x_new = perturbed_GD_m1(train_data, 1e-1, 0.25, 0.5)\n",
        "x_new"
      ]
    },
    {
      "cell_type": "markdown",
      "metadata": {
        "id": "leLEkLwGIpCg"
      },
      "source": [
        "Session still crashed for m1"
      ]
    },
    {
      "cell_type": "code",
      "execution_count": null,
      "metadata": {
        "id": "54gYp_WI_dSd"
      },
      "outputs": [],
      "source": [
        "def compute_steplength(x, alpha , tol, r):\n",
        "  cur_grad = np.linalg.norm(x -  np.gradient(alpha * x))\n",
        "  prev_grad = cur_grad\n",
        "  counter = 0\n",
        "  while( cur_grad > tol and counter <= 3):\n",
        "    alpha = alpha / np.random.uniform(r) # np.random.uniform(r) - Pertubation\n",
        "    print(\"alpha :\",alpha)\n",
        "    cur_grad = np.linalg.norm(x -  np.gradient(alpha * x))\n",
        "    if prev_grad == cur_grad:\n",
        "      counter+=1\n",
        "    else:\n",
        "      prev_grad = cur_grad\n",
        "    print(\"- \",cur_grad)\n",
        "  return alpha\n",
        "\n",
        "def perturbed_GD_m2(x, eta, r, K): \n",
        "  kp = 0\n",
        "  k = 0\n",
        "  grad = np.gradient(train_data)\n",
        "  while(np.linalg.norm(grad) > eta):\n",
        "    if k - kp > K :\n",
        "      eta = compute_steplength(x, eta , 1e-1, r)\n",
        "    k += 1\n",
        "    grad = np.array(np.gradient(x))\n",
        "    x = x - grad * eta\n",
        "  return x\n",
        "x_new = perturbed_GD_m2(train_data, 1e-1, 5,0.5)\n",
        "x_new"
      ]
    },
    {
      "cell_type": "markdown",
      "metadata": {
        "id": "Zy83kBWKkgch"
      },
      "source": [
        "Even after making modifications to the perturbed Gradient Descent(m2) the application is still crashing"
      ]
    },
    {
      "cell_type": "markdown",
      "metadata": {
        "id": "ddougnXQ5GBD"
      },
      "source": [
        ""
      ]
    }
  ],
  "metadata": {
    "accelerator": "GPU",
    "colab": {
      "collapsed_sections": [],
      "name": "rsquare_IE_663_Challenge_Assignment.ipynb",
      "provenance": [],
      "machine_shape": "hm"
    },
    "interpreter": {
      "hash": "c53429cc6787939742e8668b5de20406398d264cdf08c853f4f4c74d2b1270d5"
    },
    "kernelspec": {
      "display_name": "Python 3.8.10 ('venv_tf': venv)",
      "language": "python",
      "name": "python3"
    },
    "language_info": {
      "codemirror_mode": {
        "name": "ipython",
        "version": 3
      },
      "file_extension": ".py",
      "mimetype": "text/x-python",
      "name": "python",
      "nbconvert_exporter": "python",
      "pygments_lexer": "ipython3",
      "version": "3.8.10"
    },
    "gpuClass": "standard"
  },
  "nbformat": 4,
  "nbformat_minor": 0
}