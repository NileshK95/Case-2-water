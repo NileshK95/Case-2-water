{
  "nbformat": 4,
  "nbformat_minor": 0,
  "metadata": {
    "colab": {
      "name": "PCA.ipynb",
      "provenance": [],
      "collapsed_sections": []
    },
    "kernelspec": {
      "name": "python3",
      "display_name": "Python 3"
    },
    "language_info": {
      "name": "python"
    }
  },
  "cells": [
    {
      "cell_type": "code",
      "execution_count": null,
      "metadata": {
        "id": "oAAJPH6NmJdY",
        "colab": {
          "base_uri": "https://localhost:8080/"
        },
        "outputId": "341103fc-9103-4e45-bd31-6039ed20eb94"
      },
      "outputs": [
        {
          "output_type": "stream",
          "name": "stdout",
          "text": [
            "Mounted at /content/drive\n"
          ]
        }
      ],
      "source": [
        "from google.colab import drive\n",
        "drive.mount('/content/drive')"
      ]
    },
    {
      "cell_type": "code",
      "source": [
        "#Imports\n",
        "import warnings\n",
        "warnings.filterwarnings(\"ignore\")\n",
        "import pandas as pd\n",
        "import numpy as np\n",
        "import matplotlib.pyplot as plt\n",
        "import seaborn as sns\n",
        "from sklearn import preprocessing\n",
        "from sklearn.linear_model import LinearRegression\n",
        "from sklearn.model_selection import train_test_split\n",
        "from sklearn.preprocessing import MinMaxScaler\n",
        "from sklearn.preprocessing import StandardScaler\n",
        "from math import sqrt\n",
        "from sklearn.metrics import mean_squared_error\n",
        "from sklearn.metrics import mean_absolute_error\n",
        "from sklearn.metrics import mean_absolute_percentage_error\n",
        "from sklearn.model_selection import GridSearchCV\n",
        "from sklearn.model_selection import KFold"
      ],
      "metadata": {
        "id": "lqklpfiSImbD"
      },
      "execution_count": null,
      "outputs": []
    },
    {
      "cell_type": "code",
      "source": [
        "#Read dataset to pandas dataframe\n",
        "dataset = pd.read_excel('/content/drive/MyDrive/MTP_FINAL/Chilikaujainiukai_Inland_Water/CHILIKAUJANI.xlsx')"
      ],
      "metadata": {
        "id": "KB9q9EQ3InVf"
      },
      "execution_count": null,
      "outputs": []
    },
    {
      "cell_type": "code",
      "source": [
        "dataset_y=dataset['Chlorophyll']\n",
        "dataset_x=dataset.drop(['Chlorophyll','Site'],axis=1)\n"
      ],
      "metadata": {
        "id": "hnI7E3stIsgf"
      },
      "execution_count": null,
      "outputs": []
    },
    {
      "cell_type": "code",
      "source": [
        "#Standardize the features\n",
        "#Create an object of StandardScaler which is present in sklearn.preprocessing\n",
        "scalar = StandardScaler()\n",
        "scaled_data = pd.DataFrame(scalar.fit_transform(dataset_x)) #scaling the data\n",
        "scaled_data\n",
        "scaled_data.columns.tolist()"
      ],
      "metadata": {
        "id": "ICfqGD8IIxHM",
        "colab": {
          "base_uri": "https://localhost:8080/"
        },
        "outputId": "ecd40cd3-5660-4bcd-86e2-93e4e5eb5195"
      },
      "execution_count": null,
      "outputs": [
        {
          "output_type": "execute_result",
          "data": {
            "text/plain": [
              "[0,\n",
              " 1,\n",
              " 2,\n",
              " 3,\n",
              " 4,\n",
              " 5,\n",
              " 6,\n",
              " 7,\n",
              " 8,\n",
              " 9,\n",
              " 10,\n",
              " 11,\n",
              " 12,\n",
              " 13,\n",
              " 14,\n",
              " 15,\n",
              " 16,\n",
              " 17,\n",
              " 18,\n",
              " 19,\n",
              " 20,\n",
              " 21,\n",
              " 22,\n",
              " 23,\n",
              " 24,\n",
              " 25,\n",
              " 26,\n",
              " 27,\n",
              " 28,\n",
              " 29,\n",
              " 30,\n",
              " 31,\n",
              " 32,\n",
              " 33,\n",
              " 34,\n",
              " 35,\n",
              " 36,\n",
              " 37,\n",
              " 38,\n",
              " 39,\n",
              " 40,\n",
              " 41,\n",
              " 42,\n",
              " 43,\n",
              " 44,\n",
              " 45,\n",
              " 46,\n",
              " 47,\n",
              " 48,\n",
              " 49,\n",
              " 50,\n",
              " 51,\n",
              " 52,\n",
              " 53,\n",
              " 54,\n",
              " 55,\n",
              " 56,\n",
              " 57,\n",
              " 58,\n",
              " 59,\n",
              " 60,\n",
              " 61,\n",
              " 62,\n",
              " 63,\n",
              " 64,\n",
              " 65,\n",
              " 66,\n",
              " 67,\n",
              " 68,\n",
              " 69,\n",
              " 70,\n",
              " 71,\n",
              " 72,\n",
              " 73,\n",
              " 74,\n",
              " 75,\n",
              " 76,\n",
              " 77,\n",
              " 78,\n",
              " 79,\n",
              " 80,\n",
              " 81,\n",
              " 82,\n",
              " 83,\n",
              " 84,\n",
              " 85,\n",
              " 86,\n",
              " 87,\n",
              " 88,\n",
              " 89,\n",
              " 90,\n",
              " 91,\n",
              " 92,\n",
              " 93,\n",
              " 94,\n",
              " 95,\n",
              " 96,\n",
              " 97,\n",
              " 98,\n",
              " 99,\n",
              " 100,\n",
              " 101,\n",
              " 102,\n",
              " 103,\n",
              " 104,\n",
              " 105,\n",
              " 106,\n",
              " 107,\n",
              " 108,\n",
              " 109,\n",
              " 110,\n",
              " 111,\n",
              " 112,\n",
              " 113,\n",
              " 114,\n",
              " 115,\n",
              " 116,\n",
              " 117,\n",
              " 118,\n",
              " 119,\n",
              " 120,\n",
              " 121,\n",
              " 122,\n",
              " 123,\n",
              " 124,\n",
              " 125,\n",
              " 126,\n",
              " 127,\n",
              " 128,\n",
              " 129,\n",
              " 130,\n",
              " 131,\n",
              " 132,\n",
              " 133,\n",
              " 134,\n",
              " 135,\n",
              " 136,\n",
              " 137,\n",
              " 138,\n",
              " 139,\n",
              " 140,\n",
              " 141,\n",
              " 142,\n",
              " 143,\n",
              " 144,\n",
              " 145,\n",
              " 146,\n",
              " 147,\n",
              " 148,\n",
              " 149,\n",
              " 150,\n",
              " 151,\n",
              " 152,\n",
              " 153,\n",
              " 154,\n",
              " 155,\n",
              " 156,\n",
              " 157,\n",
              " 158,\n",
              " 159,\n",
              " 160,\n",
              " 161,\n",
              " 162,\n",
              " 163,\n",
              " 164,\n",
              " 165,\n",
              " 166,\n",
              " 167,\n",
              " 168,\n",
              " 169,\n",
              " 170,\n",
              " 171,\n",
              " 172,\n",
              " 173,\n",
              " 174,\n",
              " 175,\n",
              " 176,\n",
              " 177,\n",
              " 178,\n",
              " 179,\n",
              " 180,\n",
              " 181,\n",
              " 182,\n",
              " 183,\n",
              " 184,\n",
              " 185,\n",
              " 186,\n",
              " 187,\n",
              " 188,\n",
              " 189,\n",
              " 190,\n",
              " 191,\n",
              " 192,\n",
              " 193,\n",
              " 194,\n",
              " 195,\n",
              " 196,\n",
              " 197,\n",
              " 198,\n",
              " 199,\n",
              " 200,\n",
              " 201,\n",
              " 202,\n",
              " 203,\n",
              " 204,\n",
              " 205,\n",
              " 206,\n",
              " 207,\n",
              " 208,\n",
              " 209,\n",
              " 210,\n",
              " 211,\n",
              " 212,\n",
              " 213,\n",
              " 214,\n",
              " 215,\n",
              " 216,\n",
              " 217,\n",
              " 218,\n",
              " 219,\n",
              " 220,\n",
              " 221,\n",
              " 222,\n",
              " 223,\n",
              " 224,\n",
              " 225,\n",
              " 226,\n",
              " 227,\n",
              " 228,\n",
              " 229,\n",
              " 230,\n",
              " 231,\n",
              " 232,\n",
              " 233,\n",
              " 234,\n",
              " 235,\n",
              " 236,\n",
              " 237,\n",
              " 238,\n",
              " 239,\n",
              " 240,\n",
              " 241,\n",
              " 242,\n",
              " 243,\n",
              " 244,\n",
              " 245,\n",
              " 246,\n",
              " 247,\n",
              " 248,\n",
              " 249,\n",
              " 250,\n",
              " 251,\n",
              " 252,\n",
              " 253,\n",
              " 254,\n",
              " 255,\n",
              " 256,\n",
              " 257,\n",
              " 258,\n",
              " 259,\n",
              " 260,\n",
              " 261,\n",
              " 262,\n",
              " 263,\n",
              " 264,\n",
              " 265,\n",
              " 266,\n",
              " 267,\n",
              " 268,\n",
              " 269,\n",
              " 270,\n",
              " 271,\n",
              " 272,\n",
              " 273,\n",
              " 274,\n",
              " 275,\n",
              " 276,\n",
              " 277,\n",
              " 278,\n",
              " 279,\n",
              " 280,\n",
              " 281,\n",
              " 282,\n",
              " 283,\n",
              " 284,\n",
              " 285,\n",
              " 286,\n",
              " 287,\n",
              " 288,\n",
              " 289,\n",
              " 290,\n",
              " 291,\n",
              " 292,\n",
              " 293,\n",
              " 294,\n",
              " 295,\n",
              " 296,\n",
              " 297,\n",
              " 298,\n",
              " 299,\n",
              " 300,\n",
              " 301,\n",
              " 302,\n",
              " 303,\n",
              " 304,\n",
              " 305,\n",
              " 306,\n",
              " 307,\n",
              " 308,\n",
              " 309,\n",
              " 310,\n",
              " 311,\n",
              " 312,\n",
              " 313,\n",
              " 314,\n",
              " 315,\n",
              " 316,\n",
              " 317,\n",
              " 318,\n",
              " 319,\n",
              " 320,\n",
              " 321,\n",
              " 322,\n",
              " 323,\n",
              " 324,\n",
              " 325,\n",
              " 326,\n",
              " 327,\n",
              " 328,\n",
              " 329,\n",
              " 330,\n",
              " 331,\n",
              " 332,\n",
              " 333,\n",
              " 334,\n",
              " 335,\n",
              " 336,\n",
              " 337,\n",
              " 338,\n",
              " 339,\n",
              " 340,\n",
              " 341,\n",
              " 342,\n",
              " 343,\n",
              " 344,\n",
              " 345,\n",
              " 346,\n",
              " 347,\n",
              " 348,\n",
              " 349,\n",
              " 350,\n",
              " 351,\n",
              " 352,\n",
              " 353,\n",
              " 354,\n",
              " 355,\n",
              " 356,\n",
              " 357,\n",
              " 358,\n",
              " 359,\n",
              " 360,\n",
              " 361,\n",
              " 362,\n",
              " 363,\n",
              " 364,\n",
              " 365,\n",
              " 366,\n",
              " 367,\n",
              " 368,\n",
              " 369,\n",
              " 370,\n",
              " 371,\n",
              " 372,\n",
              " 373,\n",
              " 374,\n",
              " 375,\n",
              " 376,\n",
              " 377,\n",
              " 378,\n",
              " 379,\n",
              " 380,\n",
              " 381,\n",
              " 382,\n",
              " 383,\n",
              " 384,\n",
              " 385,\n",
              " 386,\n",
              " 387,\n",
              " 388,\n",
              " 389,\n",
              " 390,\n",
              " 391,\n",
              " 392,\n",
              " 393,\n",
              " 394,\n",
              " 395,\n",
              " 396,\n",
              " 397,\n",
              " 398,\n",
              " 399,\n",
              " 400]"
            ]
          },
          "metadata": {},
          "execution_count": 5
        }
      ]
    },
    {
      "cell_type": "code",
      "source": [
        "from sklearn.decomposition import PCA\n",
        "#define PCA model to use\n",
        "pca = PCA(n_components=38)\n",
        "#fit PCA model to data\n",
        "pca_fit = pca.fit(scaled_data)"
      ],
      "metadata": {
        "id": "aFHatLfCI0d6"
      },
      "execution_count": null,
      "outputs": []
    },
    {
      "cell_type": "code",
      "source": [
        "#scree test\n",
        "PC_values = np.arange(pca.n_components_) + 1\n",
        "plt.plot(PC_values, pca.explained_variance_ratio_, 'o-', linewidth=2, color='blue')\n",
        "plt.title('Scree Plot')\n",
        "plt.xlabel('Principal Component')\n",
        "plt.ylabel('Variance Explained')\n",
        "plt.show()\n",
        "print(pca.explained_variance_ratio_)"
      ],
      "metadata": {
        "id": "o2YFWEIjI8aV",
        "colab": {
          "base_uri": "https://localhost:8080/",
          "height": 465
        },
        "outputId": "fc559787-eee0-4090-f5b9-a98b7f9b2710"
      },
      "execution_count": null,
      "outputs": [
        {
          "output_type": "display_data",
          "data": {
            "text/plain": [
              "<Figure size 432x288 with 1 Axes>"
            ],
            "image/png": "[encoded data removed]"
          },
          "metadata": {
            "needs_background": "light"
          }
        },
        {
          "output_type": "stream",
          "name": "stdout",
          "text": [
            "[8.77306462e-01 1.01564595e-01 1.30789374e-02 5.84876405e-03\n",
            " 1.78928151e-03 1.28150495e-04 1.14020582e-04 7.48746878e-05\n",
            " 3.68046122e-05 1.41109323e-05 8.37899140e-06 6.77716524e-06\n",
            " 5.97879650e-06 5.63100741e-06 4.16798002e-06 3.41712098e-06\n",
            " 2.44369104e-06 1.67878516e-06 1.32890799e-06 7.06955731e-07\n",
            " 6.29658667e-07 4.66500820e-07 3.85446628e-07 3.20273868e-07\n",
            " 2.91601429e-07 2.21806194e-07 1.91167841e-07 1.85544246e-07\n",
            " 1.54966745e-07 1.39745993e-07 1.08557142e-07 9.21851876e-08\n",
            " 9.17440385e-08 8.17868275e-08 6.69066833e-08 6.20642055e-08\n",
            " 4.16254350e-33 4.16254350e-33]\n"
          ]
        }
      ]
    },
    {
      "cell_type": "code",
      "source": [
        "#Applying PCA\n",
        "#Taking no. of Principal Components as 3\n",
        "pca = PCA(n_components = 3)\n",
        "pca.fit(scaled_data)\n",
        "data_pca = pca.transform(scaled_data)\n",
        "data_pca = pd.DataFrame(data_pca,columns=['PC1','PC2','PC3'])\n",
        "data_pca.head()"
      ],
      "metadata": {
        "id": "mWw52lm_J8qM",
        "colab": {
          "base_uri": "https://localhost:8080/",
          "height": 204
        },
        "outputId": "2aa8809d-1bc4-46f8-9e78-c1e676649d17"
      },
      "execution_count": null,
      "outputs": [
        {
          "output_type": "execute_result",
          "data": {
            "text/plain": [
              "         PC1        PC2       PC3\n",
              "0   9.497867   8.096516  7.944923\n",
              "1  16.486188  15.402595 -5.345959\n",
              "2  18.479606  14.665705 -2.405145\n",
              "3   6.222006  -0.246041 -2.397928\n",
              "4 -17.689487   1.938468 -2.445823"
            ],
            "text/html": [
              "\n",
              "  <div id=\"df-d4f58162-a216-4580-9a57-769d944f1170\">\n",
              "    <div class=\"colab-df-container\">\n",
              "      <div>\n",
              "<style scoped>\n",
              "    .dataframe tbody tr th:only-of-type {\n",
              "        vertical-align: middle;\n",
              "    }\n",
              "\n",
              "    .dataframe tbody tr th {\n",
              "        vertical-align: top;\n",
              "    }\n",
              "\n",
              "    .dataframe thead th {\n",
              "        text-align: right;\n",
              "    }\n",
              "</style>\n",
              "<table border=\"1\" class=\"dataframe\">\n",
              "  <thead>\n",
              "    <tr style=\"text-align: right;\">\n",
              "      <th></th>\n",
              "      <th>PC1</th>\n",
              "      <th>PC2</th>\n",
              "      <th>PC3</th>\n",
              "    </tr>\n",
              "  </thead>\n",
              "  <tbody>\n",
              "    <tr>\n",
              "      <th>0</th>\n",
              "      <td>9.497867</td>\n",
              "      <td>8.096516</td>\n",
              "      <td>7.944923</td>\n",
              "    </tr>\n",
              "    <tr>\n",
              "      <th>1</th>\n",
              "      <td>16.486188</td>\n",
              "      <td>15.402595</td>\n",
              "      <td>-5.345959</td>\n",
              "    </tr>\n",
              "    <tr>\n",
              "      <th>2</th>\n",
              "      <td>18.479606</td>\n",
              "      <td>14.665705</td>\n",
              "      <td>-2.405145</td>\n",
              "    </tr>\n",
              "    <tr>\n",
              "      <th>3</th>\n",
              "      <td>6.222006</td>\n",
              "      <td>-0.246041</td>\n",
              "      <td>-2.397928</td>\n",
              "    </tr>\n",
              "    <tr>\n",
              "      <th>4</th>\n",
              "      <td>-17.689487</td>\n",
              "      <td>1.938468</td>\n",
              "      <td>-2.445823</td>\n",
              "    </tr>\n",
              "  </tbody>\n",
              "</table>\n",
              "</div>\n",
              "      <button class=\"colab-df-convert\" onclick=\"convertToInteractive('df-d4f58162-a216-4580-9a57-769d944f1170')\"\n",
              "              title=\"Convert this dataframe to an interactive table.\"\n",
              "              style=\"display:none;\">\n",
              "        \n",
              "  <svg xmlns=\"http://www.w3.org/2000/svg\" height=\"24px\"viewBox=\"0 0 24 24\"\n",
              "       width=\"24px\">\n",
              "    <path d=\"M0 0h24v24H0V0z\" fill=\"none\"/>\n",
              "    <path d=\"M18.56 5.44l.94 2.06.94-2.06 2.06-.94-2.06-.94-.94-2.06-.94 2.06-2.06.94zm-11 1L8.5 8.5l.94-2.06 2.06-.94-2.06-.94L8.5 2.5l-.94 2.06-2.06.94zm10 10l.94 2.06.94-2.06 2.06-.94-2.06-.94-.94-2.06-.94 2.06-2.06.94z\"/><path d=\"M17.41 7.96l-1.37-1.37c-.4-.4-.92-.59-1.43-.59-.52 0-1.04.2-1.43.59L10.3 9.45l-7.72 7.72c-.78.78-.78 2.05 0 2.83L4 21.41c.39.39.9.59 1.41.59.51 0 1.02-.2 1.41-.59l7.78-7.78 2.81-2.81c.8-.78.8-2.07 0-2.86zM5.41 20L4 18.59l7.72-7.72 1.47 1.35L5.41 20z\"/>\n",
              "  </svg>\n",
              "      </button>\n",
              "      \n",
              "  <style>\n",
              "    .colab-df-container {\n",
              "      display:flex;\n",
              "      flex-wrap:wrap;\n",
              "      gap: 12px;\n",
              "    }\n",
              "\n",
              "    .colab-df-convert {\n",
              "      background-color: #E8F0FE;\n",
              "      border: none;\n",
              "      border-radius: 50%;\n",
              "      cursor: pointer;\n",
              "      display: none;\n",
              "      fill: #1967D2;\n",
              "      height: 32px;\n",
              "      padding: 0 0 0 0;\n",
              "      width: 32px;\n",
              "    }\n",
              "\n",
              "    .colab-df-convert:hover {\n",
              "      background-color: #E2EBFA;\n",
              "      box-shadow: 0px 1px 2px rgba(60, 64, 67, 0.3), 0px 1px 3px 1px rgba(60, 64, 67, 0.15);\n",
              "      fill: #174EA6;\n",
              "    }\n",
              "\n",
              "    [theme=dark] .colab-df-convert {\n",
              "      background-color: #3B4455;\n",
              "      fill: #D2E3FC;\n",
              "    }\n",
              "\n",
              "    [theme=dark] .colab-df-convert:hover {\n",
              "      background-color: #434B5C;\n",
              "      box-shadow: 0px 1px 3px 1px rgba(0, 0, 0, 0.15);\n",
              "      filter: drop-shadow(0px 1px 2px rgba(0, 0, 0, 0.3));\n",
              "      fill: #FFFFFF;\n",
              "    }\n",
              "  </style>\n",
              "\n",
              "      <script>\n",
              "        const buttonEl =\n",
              "          document.querySelector('#df-d4f58162-a216-4580-9a57-769d944f1170 button.colab-df-convert');\n",
              "        buttonEl.style.display =\n",
              "          google.colab.kernel.accessAllowed ? 'block' : 'none';\n",
              "\n",
              "        async function convertToInteractive(key) {\n",
              "          const element = document.querySelector('#df-d4f58162-a216-4580-9a57-769d944f1170');\n",
              "          const dataTable =\n",
              "            await google.colab.kernel.invokeFunction('convertToInteractive',\n",
              "                                                     [key], {});\n",
              "          if (!dataTable) return;\n",
              "\n",
              "          const docLinkHtml = 'Like what you see? Visit the ' +\n",
              "            '<a target=\"_blank\" href=https://colab.research.google.com/notebooks/data_table.ipynb>data table notebook</a>'\n",
              "            + ' to learn more about interactive tables.';\n",
              "          element.innerHTML = '';\n",
              "          dataTable['output_type'] = 'display_data';\n",
              "          await google.colab.output.renderOutput(dataTable, element);\n",
              "          const docLink = document.createElement('div');\n",
              "          docLink.innerHTML = docLinkHtml;\n",
              "          element.appendChild(docLink);\n",
              "        }\n",
              "      </script>\n",
              "    </div>\n",
              "  </div>\n",
              "  "
            ]
          },
          "metadata": {},
          "execution_count": 8
        }
      ]
    },
    {
      "cell_type": "code",
      "source": [
        "sns.heatmap(data_pca.corr())"
      ],
      "metadata": {
        "id": "e8TRvTEaKYSp",
        "colab": {
          "base_uri": "https://localhost:8080/",
          "height": 286
        },
        "outputId": "89293109-6a3c-4da7-9200-91cd7c3063e0"
      },
      "execution_count": null,
      "outputs": [
        {
          "output_type": "execute_result",
          "data": {
            "text/plain": [
              "<matplotlib.axes._subplots.AxesSubplot at 0x7f1c3f994710>"
            ]
          },
          "metadata": {},
          "execution_count": 9
        },
        {
          "output_type": "display_data",
          "data": {
            "text/plain": [
              "<Figure size 432x288 with 2 Axes>"
            ],
            "image/png": "[encoded data removed]"
          },
          "metadata": {
            "needs_background": "light"
          }
        }
      ]
    },
    {
      "cell_type": "code",
      "source": [
        "data_pca.shape"
      ],
      "metadata": {
        "id": "gLPjxWE3Kf0L",
        "colab": {
          "base_uri": "https://localhost:8080/"
        },
        "outputId": "a0dd2e05-4e47-46be-91f1-00e0c23e566d"
      },
      "execution_count": null,
      "outputs": [
        {
          "output_type": "execute_result",
          "data": {
            "text/plain": [
              "(38, 3)"
            ]
          },
          "metadata": {},
          "execution_count": 10
        }
      ]
    },
    {
      "cell_type": "code",
      "source": [
        "X_train, X_test, y_train, y_test = train_test_split(data_pca, dataset_y, test_size = 0.3, random_state = 0)"
      ],
      "metadata": {
        "id": "k8jqhNTEKkJv"
      },
      "execution_count": null,
      "outputs": []
    },
    {
      "cell_type": "code",
      "source": [
        "X_train"
      ],
      "metadata": {
        "id": "0Qa3bmzYKneU",
        "colab": {
          "base_uri": "https://localhost:8080/",
          "height": 855
        },
        "outputId": "37983d45-0960-457e-fbb4-66dc00d0bbfb"
      },
      "execution_count": null,
      "outputs": [
        {
          "output_type": "execute_result",
          "data": {
            "text/plain": [
              "          PC1        PC2       PC3\n",
              "32 -17.566977  -2.384116  0.302280\n",
              "37  42.918195 -10.308115  0.290768\n",
              "35 -18.072310  -2.122006  0.188550\n",
              "30 -18.160653  -3.182688  0.796569\n",
              "34 -19.363599  -1.572987  0.055204\n",
              "8  -17.924658  -2.016989  0.138629\n",
              "13 -18.127784  -1.981755  0.120608\n",
              "5  -18.300819   1.542799 -2.328883\n",
              "17  10.308638  -0.198311  1.113402\n",
              "14  11.826725  -0.745131  1.345872\n",
              "7  -17.735045  -2.186104  0.199882\n",
              "28 -18.110136   1.692133 -2.590027\n",
              "1   16.486188  15.402595 -5.345959\n",
              "12 -18.098003  -2.045142  0.207914\n",
              "27   7.376373 -12.011876  1.942146\n",
              "24   7.583776  -1.640221  2.870511\n",
              "6  -17.635352  -1.729841 -0.121030\n",
              "23   3.693855   3.075799 -0.535417\n",
              "4  -17.689487   1.938468 -2.445823\n",
              "18   6.463996   0.438121  1.674818\n",
              "21   5.060902   9.826711 -0.389300\n",
              "19  16.326547   2.317540  2.592386\n",
              "9  -20.729386  -1.118537  1.112853\n",
              "36  35.292291 -10.303453 -0.382417\n",
              "3    6.222006  -0.246041 -2.397928\n",
              "0    9.497867   8.096516  7.944923"
            ],
            "text/html": [
              "\n",
              "  <div id=\"df-5998d14e-7458-4b1e-9964-9320cbc5e8ca\">\n",
              "    <div class=\"colab-df-container\">\n",
              "      <div>\n",
              "<style scoped>\n",
              "    .dataframe tbody tr th:only-of-type {\n",
              "        vertical-align: middle;\n",
              "    }\n",
              "\n",
              "    .dataframe tbody tr th {\n",
              "        vertical-align: top;\n",
              "    }\n",
              "\n",
              "    .dataframe thead th {\n",
              "        text-align: right;\n",
              "    }\n",
              "</style>\n",
              "<table border=\"1\" class=\"dataframe\">\n",
              "  <thead>\n",
              "    <tr style=\"text-align: right;\">\n",
              "      <th></th>\n",
              "      <th>PC1</th>\n",
              "      <th>PC2</th>\n",
              "      <th>PC3</th>\n",
              "    </tr>\n",
              "  </thead>\n",
              "  <tbody>\n",
              "    <tr>\n",
              "      <th>32</th>\n",
              "      <td>-17.566977</td>\n",
              "      <td>-2.384116</td>\n",
              "      <td>0.302280</td>\n",
              "    </tr>\n",
              "    <tr>\n",
              "      <th>37</th>\n",
              "      <td>42.918195</td>\n",
              "      <td>-10.308115</td>\n",
              "      <td>0.290768</td>\n",
              "    </tr>\n",
              "    <tr>\n",
              "      <th>35</th>\n",
              "      <td>-18.072310</td>\n",
              "      <td>-2.122006</td>\n",
              "      <td>0.188550</td>\n",
              "    </tr>\n",
              "    <tr>\n",
              "      <th>30</th>\n",
              "      <td>-18.160653</td>\n",
              "      <td>-3.182688</td>\n",
              "      <td>0.796569</td>\n",
              "    </tr>\n",
              "    <tr>\n",
              "      <th>34</th>\n",
              "      <td>-19.363599</td>\n",
              "      <td>-1.572987</td>\n",
              "      <td>0.055204</td>\n",
              "    </tr>\n",
              "    <tr>\n",
              "      <th>8</th>\n",
              "      <td>-17.924658</td>\n",
              "      <td>-2.016989</td>\n",
              "      <td>0.138629</td>\n",
              "    </tr>\n",
              "    <tr>\n",
              "      <th>13</th>\n",
              "      <td>-18.127784</td>\n",
              "      <td>-1.981755</td>\n",
              "      <td>0.120608</td>\n",
              "    </tr>\n",
              "    <tr>\n",
              "      <th>5</th>\n",
              "      <td>-18.300819</td>\n",
              "      <td>1.542799</td>\n",
              "      <td>-2.328883</td>\n",
              "    </tr>\n",
              "    <tr>\n",
              "      <th>17</th>\n",
              "      <td>10.308638</td>\n",
              "      <td>-0.198311</td>\n",
              "      <td>1.113402</td>\n",
              "    </tr>\n",
              "    <tr>\n",
              "      <th>14</th>\n",
              "      <td>11.826725</td>\n",
              "      <td>-0.745131</td>\n",
              "      <td>1.345872</td>\n",
              "    </tr>\n",
              "    <tr>\n",
              "      <th>7</th>\n",
              "      <td>-17.735045</td>\n",
              "      <td>-2.186104</td>\n",
              "      <td>0.199882</td>\n",
              "    </tr>\n",
              "    <tr>\n",
              "      <th>28</th>\n",
              "      <td>-18.110136</td>\n",
              "      <td>1.692133</td>\n",
              "      <td>-2.590027</td>\n",
              "    </tr>\n",
              "    <tr>\n",
              "      <th>1</th>\n",
              "      <td>16.486188</td>\n",
              "      <td>15.402595</td>\n",
              "      <td>-5.345959</td>\n",
              "    </tr>\n",
              "    <tr>\n",
              "      <th>12</th>\n",
              "      <td>-18.098003</td>\n",
              "      <td>-2.045142</td>\n",
              "      <td>0.207914</td>\n",
              "    </tr>\n",
              "    <tr>\n",
              "      <th>27</th>\n",
              "      <td>7.376373</td>\n",
              "      <td>-12.011876</td>\n",
              "      <td>1.942146</td>\n",
              "    </tr>\n",
              "    <tr>\n",
              "      <th>24</th>\n",
              "      <td>7.583776</td>\n",
              "      <td>-1.640221</td>\n",
              "      <td>2.870511</td>\n",
              "    </tr>\n",
              "    <tr>\n",
              "      <th>6</th>\n",
              "      <td>-17.635352</td>\n",
              "      <td>-1.729841</td>\n",
              "      <td>-0.121030</td>\n",
              "    </tr>\n",
              "    <tr>\n",
              "      <th>23</th>\n",
              "      <td>3.693855</td>\n",
              "      <td>3.075799</td>\n",
              "      <td>-0.535417</td>\n",
              "    </tr>\n",
              "    <tr>\n",
              "      <th>4</th>\n",
              "      <td>-17.689487</td>\n",
              "      <td>1.938468</td>\n",
              "      <td>-2.445823</td>\n",
              "    </tr>\n",
              "    <tr>\n",
              "      <th>18</th>\n",
              "      <td>6.463996</td>\n",
              "      <td>0.438121</td>\n",
              "      <td>1.674818</td>\n",
              "    </tr>\n",
              "    <tr>\n",
              "      <th>21</th>\n",
              "      <td>5.060902</td>\n",
              "      <td>9.826711</td>\n",
              "      <td>-0.389300</td>\n",
              "    </tr>\n",
              "    <tr>\n",
              "      <th>19</th>\n",
              "      <td>16.326547</td>\n",
              "      <td>2.317540</td>\n",
              "      <td>2.592386</td>\n",
              "    </tr>\n",
              "    <tr>\n",
              "      <th>9</th>\n",
              "      <td>-20.729386</td>\n",
              "      <td>-1.118537</td>\n",
              "      <td>1.112853</td>\n",
              "    </tr>\n",
              "    <tr>\n",
              "      <th>36</th>\n",
              "      <td>35.292291</td>\n",
              "      <td>-10.303453</td>\n",
              "      <td>-0.382417</td>\n",
              "    </tr>\n",
              "    <tr>\n",
              "      <th>3</th>\n",
              "      <td>6.222006</td>\n",
              "      <td>-0.246041</td>\n",
              "      <td>-2.397928</td>\n",
              "    </tr>\n",
              "    <tr>\n",
              "      <th>0</th>\n",
              "      <td>9.497867</td>\n",
              "      <td>8.096516</td>\n",
              "      <td>7.944923</td>\n",
              "    </tr>\n",
              "  </tbody>\n",
              "</table>\n",
              "</div>\n",
              "      <button class=\"colab-df-convert\" onclick=\"convertToInteractive('df-5998d14e-7458-4b1e-9964-9320cbc5e8ca')\"\n",
              "              title=\"Convert this dataframe to an interactive table.\"\n",
              "              style=\"display:none;\">\n",
              "        \n",
              "  <svg xmlns=\"http://www.w3.org/2000/svg\" height=\"24px\"viewBox=\"0 0 24 24\"\n",
              "       width=\"24px\">\n",
              "    <path d=\"M0 0h24v24H0V0z\" fill=\"none\"/>\n",
              "    <path d=\"M18.56 5.44l.94 2.06.94-2.06 2.06-.94-2.06-.94-.94-2.06-.94 2.06-2.06.94zm-11 1L8.5 8.5l.94-2.06 2.06-.94-2.06-.94L8.5 2.5l-.94 2.06-2.06.94zm10 10l.94 2.06.94-2.06 2.06-.94-2.06-.94-.94-2.06-.94 2.06-2.06.94z\"/><path d=\"M17.41 7.96l-1.37-1.37c-.4-.4-.92-.59-1.43-.59-.52 0-1.04.2-1.43.59L10.3 9.45l-7.72 7.72c-.78.78-.78 2.05 0 2.83L4 21.41c.39.39.9.59 1.41.59.51 0 1.02-.2 1.41-.59l7.78-7.78 2.81-2.81c.8-.78.8-2.07 0-2.86zM5.41 20L4 18.59l7.72-7.72 1.47 1.35L5.41 20z\"/>\n",
              "  </svg>\n",
              "      </button>\n",
              "      \n",
              "  <style>\n",
              "    .colab-df-container {\n",
              "      display:flex;\n",
              "      flex-wrap:wrap;\n",
              "      gap: 12px;\n",
              "    }\n",
              "\n",
              "    .colab-df-convert {\n",
              "      background-color: #E8F0FE;\n",
              "      border: none;\n",
              "      border-radius: 50%;\n",
              "      cursor: pointer;\n",
              "      display: none;\n",
              "      fill: #1967D2;\n",
              "      height: 32px;\n",
              "      padding: 0 0 0 0;\n",
              "      width: 32px;\n",
              "    }\n",
              "\n",
              "    .colab-df-convert:hover {\n",
              "      background-color: #E2EBFA;\n",
              "      box-shadow: 0px 1px 2px rgba(60, 64, 67, 0.3), 0px 1px 3px 1px rgba(60, 64, 67, 0.15);\n",
              "      fill: #174EA6;\n",
              "    }\n",
              "\n",
              "    [theme=dark] .colab-df-convert {\n",
              "      background-color: #3B4455;\n",
              "      fill: #D2E3FC;\n",
              "    }\n",
              "\n",
              "    [theme=dark] .colab-df-convert:hover {\n",
              "      background-color: #434B5C;\n",
              "      box-shadow: 0px 1px 3px 1px rgba(0, 0, 0, 0.15);\n",
              "      filter: drop-shadow(0px 1px 2px rgba(0, 0, 0, 0.3));\n",
              "      fill: #FFFFFF;\n",
              "    }\n",
              "  </style>\n",
              "\n",
              "      <script>\n",
              "        const buttonEl =\n",
              "          document.querySelector('#df-5998d14e-7458-4b1e-9964-9320cbc5e8ca button.colab-df-convert');\n",
              "        buttonEl.style.display =\n",
              "          google.colab.kernel.accessAllowed ? 'block' : 'none';\n",
              "\n",
              "        async function convertToInteractive(key) {\n",
              "          const element = document.querySelector('#df-5998d14e-7458-4b1e-9964-9320cbc5e8ca');\n",
              "          const dataTable =\n",
              "            await google.colab.kernel.invokeFunction('convertToInteractive',\n",
              "                                                     [key], {});\n",
              "          if (!dataTable) return;\n",
              "\n",
              "          const docLinkHtml = 'Like what you see? Visit the ' +\n",
              "            '<a target=\"_blank\" href=https://colab.research.google.com/notebooks/data_table.ipynb>data table notebook</a>'\n",
              "            + ' to learn more about interactive tables.';\n",
              "          element.innerHTML = '';\n",
              "          dataTable['output_type'] = 'display_data';\n",
              "          await google.colab.output.renderOutput(dataTable, element);\n",
              "          const docLink = document.createElement('div');\n",
              "          docLink.innerHTML = docLinkHtml;\n",
              "          element.appendChild(docLink);\n",
              "        }\n",
              "      </script>\n",
              "    </div>\n",
              "  </div>\n",
              "  "
            ]
          },
          "metadata": {},
          "execution_count": 12
        }
      ]
    },
    {
      "cell_type": "markdown",
      "source": [
        "                  **Linear Regression**"
      ],
      "metadata": {
        "id": "zHkxXmlhKtva"
      }
    },
    {
      "cell_type": "code",
      "source": [
        "from sklearn.linear_model import LinearRegression\n",
        "model_lr = LinearRegression().fit(X_train, y_train)\n",
        "r_sq = model_lr.score(X_train, y_train)\n",
        "y_predicted_lr = model_lr.predict(X_test)"
      ],
      "metadata": {
        "id": "fqYDnh9gKrju"
      },
      "execution_count": null,
      "outputs": []
    },
    {
      "cell_type": "code",
      "source": [
        "rms = sqrt(mean_squared_error(y_test, y_predicted_lr))\n",
        "print(rms)\n",
        "r_square = model_lr.score(X_test,y_test)\n",
        "print(r_square)\n",
        "mae = mean_absolute_error(y_test,y_predicted_lr)\n",
        "print(mae)\n",
        "mape = mean_absolute_percentage_error(y_test, y_predicted_lr)\n",
        "print(mape)"
      ],
      "metadata": {
        "id": "yTiWyheAK3l4",
        "colab": {
          "base_uri": "https://localhost:8080/"
        },
        "outputId": "33dca129-a2a0-42db-c032-51aa4e6b388f"
      },
      "execution_count": null,
      "outputs": [
        {
          "output_type": "stream",
          "name": "stdout",
          "text": [
            "6.558129346423167\n",
            "0.22581231510873456\n",
            "5.62697530092023\n",
            "0.506063206282981\n"
          ]
        }
      ]
    },
    {
      "cell_type": "markdown",
      "source": [
        "                **Gradient Bossting Regression**"
      ],
      "metadata": {
        "id": "vu_L1OZqLGyG"
      }
    },
    {
      "cell_type": "code",
      "source": [
        "from sklearn.ensemble import GradientBoostingRegressor\n",
        "model_gb = GradientBoostingRegressor().fit(X_train, y_train)\n",
        "y_predicted_gb = model_gb.predict(X_test)"
      ],
      "metadata": {
        "id": "WZkcqxHYK665"
      },
      "execution_count": null,
      "outputs": []
    },
    {
      "cell_type": "code",
      "source": [
        "rms = sqrt(mean_squared_error(y_test, y_predicted_gb))\n",
        "print(rms)\n",
        "r_square = model_gb.score(X_test,y_test)\n",
        "print(r_square)\n",
        "mae = mean_absolute_error(y_test,y_predicted_gb)\n",
        "print(mae)\n",
        "mape = mean_absolute_percentage_error(y_test, y_predicted_gb)\n",
        "print(mape)"
      ],
      "metadata": {
        "id": "TKkp1HovMK5u",
        "colab": {
          "base_uri": "https://localhost:8080/"
        },
        "outputId": "c79da020-37e7-44c0-f65c-ba800ae93c9e"
      },
      "execution_count": null,
      "outputs": [
        {
          "output_type": "stream",
          "name": "stdout",
          "text": [
            "7.478369623338103\n",
            "-0.006700202245771614\n",
            "6.223335951158013\n",
            "0.3951909098541306\n"
          ]
        }
      ]
    },
    {
      "cell_type": "code",
      "source": [
        "#Hyperparameter tuning\n",
        "GBR=GradientBoostingRegressor()\n",
        "search_grid={'n_estimators':[500,1000,2000],'learning_rate':[.001,0.01,.1],'max_depth':[1,2,4],'subsample':[.5,.75,1],'random_state':[1]}\n",
        "search=GridSearchCV(estimator=GBR,param_grid=search_grid,scoring='neg_mean_squared_error',n_jobs=1,cv=5)\n",
        "search.fit(X_train,y_train)\n",
        "search.best_params_"
      ],
      "metadata": {
        "id": "lnqtsE5zMXck",
        "colab": {
          "base_uri": "https://localhost:8080/"
        },
        "outputId": "45b5a216-dcbe-4c3f-cad2-843dc4457122"
      },
      "execution_count": null,
      "outputs": [
        {
          "output_type": "execute_result",
          "data": {
            "text/plain": [
              "{'learning_rate': 0.001,\n",
              " 'max_depth': 4,\n",
              " 'n_estimators': 2000,\n",
              " 'random_state': 1,\n",
              " 'subsample': 0.5}"
            ]
          },
          "metadata": {},
          "execution_count": 17
        }
      ]
    },
    {
      "cell_type": "code",
      "source": [
        "GBR2 = GradientBoostingRegressor(n_estimators=2000,learning_rate=0.001,subsample=0.5,max_depth=4,random_state=1)\n",
        "model_gbhp = GBR2.fit(X_train, y_train)\n",
        "y_predicted_gbhp = model_gbhp.predict(X_test)"
      ],
      "metadata": {
        "id": "flKtue_OMYfC"
      },
      "execution_count": null,
      "outputs": []
    },
    {
      "cell_type": "code",
      "source": [
        "rms = sqrt(mean_squared_error(y_test, y_predicted_gbhp))\n",
        "print(rms)\n",
        "r_square = model_gbhp.score(X_test,y_test)\n",
        "print(r_square)\n",
        "mae = mean_absolute_error(y_test,y_predicted_gbhp)\n",
        "print(mae)\n",
        "mape = mean_absolute_percentage_error(y_test, y_predicted_gbhp)\n",
        "print(mape)"
      ],
      "metadata": {
        "id": "Xe8kSdBpMbyl",
        "colab": {
          "base_uri": "https://localhost:8080/"
        },
        "outputId": "0ddb5bd7-b381-49ac-d0c9-cd4c0cdf68e5"
      },
      "execution_count": null,
      "outputs": [
        {
          "output_type": "stream",
          "name": "stdout",
          "text": [
            "5.177876763364192\n",
            "0.5173973280406123\n",
            "4.227789416002267\n",
            "0.32484662155909455\n"
          ]
        }
      ]
    },
    {
      "cell_type": "markdown",
      "source": [
        "                **PLS Regression**"
      ],
      "metadata": {
        "id": "SMrsox2pdy_8"
      }
    },
    {
      "cell_type": "code",
      "source": [
        "from sklearn.cross_decomposition import PLSRegression\n",
        "model_plsr = PLSRegression(n_components=41, scale=True)\n",
        "model_plsr.fit(X_train, y_train)\n",
        "y_predicted_plsr = model_plsr.predict(X_test)"
      ],
      "metadata": {
        "id": "hOHcdZ4WMgnq"
      },
      "execution_count": null,
      "outputs": []
    },
    {
      "cell_type": "code",
      "source": [
        "rms = sqrt(mean_squared_error(y_test, y_predicted_plsr))\n",
        "print(rms)\n",
        "r_square = model_plsr.score(X_test,y_test)\n",
        "print(r_square)\n",
        "mae = mean_absolute_error(y_test,y_predicted_plsr)\n",
        "print(mae)\n",
        "mape = mean_absolute_percentage_error(y_test, y_predicted_plsr)\n",
        "print(mape)"
      ],
      "metadata": {
        "id": "jNyzqDewMj2p",
        "colab": {
          "base_uri": "https://localhost:8080/"
        },
        "outputId": "e0f7f040-fe10-4c0b-dd72-9b90419d60f2"
      },
      "execution_count": null,
      "outputs": [
        {
          "output_type": "stream",
          "name": "stdout",
          "text": [
            "6.558129346423168\n",
            "0.22581231510873423\n",
            "5.626975300920232\n",
            "0.5060632062829811\n"
          ]
        }
      ]
    },
    {
      "cell_type": "code",
      "source": [
        "#Hyperparameter Tuning\n",
        "r_square = []\n",
        "rms = [] #to store rmse values for different n_components\n",
        "mae = []\n",
        "mape = []\n",
        "for n_comp in range(1, 41):\n",
        "  model_plsrhp = PLSRegression(n_components=n_comp, scale=True)\n",
        "  model_plsrhp.fit(X_train, y_train)\n",
        "  y_predicted_plsrhp = model_plsrhp.predict(X_test)\n",
        "  rms_val = sqrt(mean_squared_error(y_test,y_predicted_plsrhp)) #calculate rmse\n",
        "  rms.append(rms_val) #store rmse values\n",
        "  r2 = model_plsrhp.score(X_test,y_test)\n",
        "  r_square.append(r2) #store r2 values\n",
        "  mae_1 = mean_absolute_error(y_test,y_predicted_plsrhp)\n",
        "  mae.append(mae_1)\n",
        "  mape_1 = mean_absolute_percentage_error(y_test, y_predicted_plsrhp)\n",
        "  mape.append(mape_1)"
      ],
      "metadata": {
        "id": "xDfxov9XMmK_"
      },
      "execution_count": null,
      "outputs": []
    },
    {
      "cell_type": "code",
      "source": [
        "print(min(rms))\n",
        "print(max(r_square))\n",
        "print(min(mae))\n",
        "print(min(mape))"
      ],
      "metadata": {
        "id": "zoK2vzV6Mq_z",
        "colab": {
          "base_uri": "https://localhost:8080/"
        },
        "outputId": "3ae1b955-687a-41d0-c2da-131075aeff4b"
      },
      "execution_count": null,
      "outputs": [
        {
          "output_type": "stream",
          "name": "stdout",
          "text": [
            "6.501943071463283\n",
            "0.23902107750035118\n",
            "5.563682104779143\n",
            "0.49718773542335354\n"
          ]
        }
      ]
    },
    {
      "cell_type": "markdown",
      "source": [
        "                        **Random Forest Regression**"
      ],
      "metadata": {
        "id": "SJq_VxvFd5QQ"
      }
    },
    {
      "cell_type": "code",
      "source": [
        "from sklearn.ensemble import RandomForestRegressor\n",
        "model_rfr = RandomForestRegressor(n_estimators = 500)\n",
        "model_rfr.fit(X_train,y_train)\n",
        "y_predicted_rfr = model_rfr.predict(X_test) "
      ],
      "metadata": {
        "id": "1byR3fuHNPzl"
      },
      "execution_count": null,
      "outputs": []
    },
    {
      "cell_type": "code",
      "source": [
        "rms = sqrt(mean_squared_error(y_test, y_predicted_rfr))\n",
        "print(rms)\n",
        "r_square = model_rfr.score(X_test,y_test)\n",
        "print(r_square)\n",
        "mae = mean_absolute_error(y_test,y_predicted_rfr)\n",
        "print(mae)\n",
        "mape = mean_absolute_percentage_error(y_test, y_predicted_rfr)\n",
        "print(mape)\n",
        "print(model_rfr.get_params())"
      ],
      "metadata": {
        "id": "xiMXXyVrNSKm",
        "colab": {
          "base_uri": "https://localhost:8080/"
        },
        "outputId": "73ce0c48-809c-4fb3-950c-567b6873e543"
      },
      "execution_count": null,
      "outputs": [
        {
          "output_type": "stream",
          "name": "stdout",
          "text": [
            "5.39909518655108\n",
            "0.4752792109514037\n",
            "4.540443883884968\n",
            "0.3363274987680244\n",
            "{'bootstrap': True, 'ccp_alpha': 0.0, 'criterion': 'squared_error', 'max_depth': None, 'max_features': 'auto', 'max_leaf_nodes': None, 'max_samples': None, 'min_impurity_decrease': 0.0, 'min_samples_leaf': 1, 'min_samples_split': 2, 'min_weight_fraction_leaf': 0.0, 'n_estimators': 500, 'n_jobs': None, 'oob_score': False, 'random_state': None, 'verbose': 0, 'warm_start': False}\n"
          ]
        }
      ]
    },
    {
      "cell_type": "code",
      "source": [
        "#Hyperparameter Tuning\n",
        "from sklearn.model_selection import GridSearchCV\n",
        "# Create the parameter grid based on the results of random search \n",
        "param_grid = {'bootstrap': [True],'max_depth': [100, 110],'max_features': [2, 3],'min_samples_leaf': [1,2,3],'min_samples_split': [1,2,3],'n_estimators': [100, 500, 1000]}\n",
        "# Create a based model\n",
        "rf = RandomForestRegressor()\n",
        "# Instantiate the grid search model\n",
        "grid_search = GridSearchCV(estimator = rf, param_grid = param_grid, cv = 3, n_jobs = -1, verbose = 2)"
      ],
      "metadata": {
        "id": "LU0DPdn_Nao1"
      },
      "execution_count": null,
      "outputs": []
    },
    {
      "cell_type": "code",
      "source": [
        "# Fit the grid search to the data\n",
        "grid_search.fit(X_train, y_train)\n",
        "print(grid_search.best_params_)\n",
        "model_rfrhp = grid_search.best_estimator_\n",
        "model_rfrhp.fit(X_train,y_train)\n",
        "y_predicted_rfrhp = model_rfrhp.predict(X_test)  "
      ],
      "metadata": {
        "colab": {
          "base_uri": "https://localhost:8080/"
        },
        "id": "WdRTl_7JNde9",
        "outputId": "cbd08bd6-dd4e-4acb-f822-d5e17b637788"
      },
      "execution_count": null,
      "outputs": [
        {
          "output_type": "stream",
          "name": "stdout",
          "text": [
            "Fitting 3 folds for each of 108 candidates, totalling 324 fits\n",
            "{'bootstrap': True, 'max_depth': 110, 'max_features': 3, 'min_samples_leaf': 2, 'min_samples_split': 3, 'n_estimators': 100}\n"
          ]
        }
      ]
    },
    {
      "cell_type": "code",
      "source": [
        "rms = sqrt(mean_squared_error(y_test, y_predicted_rfrhp))\n",
        "print(rms)\n",
        "r_square = model_rfrhp.score(X_test,y_test)\n",
        "print(r_square)\n",
        "mae = mean_absolute_error(y_test,y_predicted_rfrhp)\n",
        "print(mae)\n",
        "mape = mean_absolute_percentage_error(y_test, y_predicted_rfrhp)\n",
        "print(mape)"
      ],
      "metadata": {
        "id": "ByXOWBrqNmg4",
        "colab": {
          "base_uri": "https://localhost:8080/"
        },
        "outputId": "b08797de-d310-4af7-ae58-4aa6c6d962a2"
      },
      "execution_count": null,
      "outputs": [
        {
          "output_type": "stream",
          "name": "stdout",
          "text": [
            "5.193170968487285\n",
            "0.5145421325685209\n",
            "4.340941039220714\n",
            "0.31712158943516\n"
          ]
        }
      ]
    },
    {
      "cell_type": "markdown",
      "source": [
        "                       ** KNN**"
      ],
      "metadata": {
        "id": "fDnGRJs9eJY2"
      }
    },
    {
      "cell_type": "code",
      "source": [
        "from sklearn import neighbors\n",
        "r_square = []\n",
        "rms = []\n",
        "mae = []\n",
        "mape = []\n",
        " #to store rmse values for different k\n",
        "for K in range(20):\n",
        "    K = K+1\n",
        "    model_knn = neighbors.KNeighborsRegressor(n_neighbors = K)\n",
        "    model_knn.fit(X_train, y_train)  #fit the model\n",
        "    y_predicted_knn = model_knn.predict(X_test) #make prediction on test set\n",
        "    rms_val = sqrt(mean_squared_error(y_test,y_predicted_knn)) #calculate rmse\n",
        "    rms.append(rms_val) #store rmse values\n",
        "    r2 = model_knn.score(X_test,y_test)\n",
        "    r_square.append(r2) #store r2 values\n",
        "    mae_1 = mean_absolute_error(y_test,y_predicted_knn)\n",
        "    mae.append(mae_1)\n",
        "    mape_1 = mean_absolute_percentage_error(y_test, y_predicted_knn)\n",
        "    mape.append(mape_1)"
      ],
      "metadata": {
        "id": "8cjbBqgxUBs_"
      },
      "execution_count": null,
      "outputs": []
    },
    {
      "cell_type": "code",
      "source": [
        "print(min(rms))\n",
        "print(max(r_square))\n",
        "print(min(mae))\n",
        "print(min(mape))"
      ],
      "metadata": {
        "id": "13rNaYh1UFUU",
        "colab": {
          "base_uri": "https://localhost:8080/"
        },
        "outputId": "c2727974-2e52-430f-fc72-4acdb3965d34"
      },
      "execution_count": null,
      "outputs": [
        {
          "output_type": "stream",
          "name": "stdout",
          "text": [
            "5.442997117709829\n",
            "0.4667111405299881\n",
            "4.031319005530304\n",
            "0.389170147981273\n"
          ]
        }
      ]
    },
    {
      "cell_type": "code",
      "source": [
        "#plotting the rmse values against k values\n",
        "curve = pd.DataFrame(rms) #elbow curve \n",
        "curve.plot()"
      ],
      "metadata": {
        "id": "rhjHMwTYUHvh",
        "colab": {
          "base_uri": "https://localhost:8080/",
          "height": 282
        },
        "outputId": "9b560d0b-a787-4d43-dcf2-c8c6e07a077a"
      },
      "execution_count": null,
      "outputs": [
        {
          "output_type": "execute_result",
          "data": {
            "text/plain": [
              "<matplotlib.axes._subplots.AxesSubplot at 0x7f1c39db2350>"
            ]
          },
          "metadata": {},
          "execution_count": 31
        },
        {
          "output_type": "display_data",
          "data": {
            "text/plain": [
              "<Figure size 432x288 with 1 Axes>"
            ],
            "image/png": "[encoded data removed]"
          },
          "metadata": {
            "needs_background": "light"
          }
        }
      ]
    },
    {
      "cell_type": "markdown",
      "source": [
        "                          **SVR**"
      ],
      "metadata": {
        "id": "tAN_OaguePTO"
      }
    },
    {
      "cell_type": "code",
      "source": [
        "from sklearn.svm import SVR\n",
        "model_svr = SVR(kernel = 'rbf')\n",
        "model_svr.fit(X_train, y_train)\n",
        "y_predicted_svr = model_svr.predict(X_test)\n",
        "plt.figure(figsize = (10,10))\n",
        "plt.scatter(y_test,y_predicted_svr)"
      ],
      "metadata": {
        "colab": {
          "base_uri": "https://localhost:8080/",
          "height": 609
        },
        "id": "GnDrSR7beRhu",
        "outputId": "aae8c088-64c8-4ac3-9a54-18170270927c"
      },
      "execution_count": null,
      "outputs": [
        {
          "output_type": "execute_result",
          "data": {
            "text/plain": [
              "<matplotlib.collections.PathCollection at 0x7f1c39cb5250>"
            ]
          },
          "metadata": {},
          "execution_count": 32
        },
        {
          "output_type": "display_data",
          "data": {
            "text/plain": [
              "<Figure size 720x720 with 1 Axes>"
            ],
            "image/png": "[encoded data removed]"
          },
          "metadata": {
            "needs_background": "light"
          }
        }
      ]
    },
    {
      "cell_type": "code",
      "source": [
        "rms = sqrt(mean_squared_error(y_test, y_predicted_svr))\n",
        "print(rms)\n",
        "r_square = model_svr.score(X_test,y_test)\n",
        "print(r_square)\n",
        "mae = mean_absolute_error(y_test,y_predicted_svr)\n",
        "print(mae)\n",
        "mape = mean_absolute_percentage_error(y_test, y_predicted_svr)\n",
        "print(mape)"
      ],
      "metadata": {
        "colab": {
          "base_uri": "https://localhost:8080/"
        },
        "id": "BiT3A4R9eUbI",
        "outputId": "9ab08522-2c35-4554-9afd-70f94c461192"
      },
      "execution_count": null,
      "outputs": [
        {
          "output_type": "stream",
          "name": "stdout",
          "text": [
            "7.731784022019048\n",
            "-0.07608290140801577\n",
            "6.544617576978976\n",
            "0.6429224436453828\n"
          ]
        }
      ]
    },
    {
      "cell_type": "code",
      "source": [
        "#Hyperparameter Tuning\n",
        "c_range = np.logspace(-3, 3, 5)\n",
        "gamma_range = np.logspace(-3, 3, 5)\n",
        "parameters = {'kernel': ['rbf'], 'C': c_range,'gamma': gamma_range,'epsilon':[1,0.1,0.01,0.001,0.0001,0.00001,0.000001]}\n",
        "svr = SVR()\n",
        "grid_search = GridSearchCV(svr, parameters)\n",
        "grid_search.fit(X_train,y_train)\n",
        "print(grid_search.best_params_)"
      ],
      "metadata": {
        "colab": {
          "base_uri": "https://localhost:8080/"
        },
        "id": "rjFAxQ6ZeXAU",
        "outputId": "2d139540-2a57-445f-a56a-5bbfd3b6da90"
      },
      "execution_count": null,
      "outputs": [
        {
          "output_type": "stream",
          "name": "stdout",
          "text": [
            "{'C': 31.622776601683793, 'epsilon': 1, 'gamma': 0.03162277660168379, 'kernel': 'rbf'}\n"
          ]
        }
      ]
    },
    {
      "cell_type": "code",
      "source": [
        "model_svrhp = grid_search.best_estimator_\n",
        "model_svrhp.fit(X_train,y_train)\n",
        "y_predicted_svrhp = model_svrhp.predict(X_test)"
      ],
      "metadata": {
        "id": "Wx5gB5DseZ4r"
      },
      "execution_count": null,
      "outputs": []
    },
    {
      "cell_type": "code",
      "source": [
        "rms = sqrt(mean_squared_error(y_test, y_predicted_svrhp))\n",
        "print(rms)\n",
        "r_square = model_svrhp.score(X_test,y_test)\n",
        "print(r_square)\n",
        "mae = mean_absolute_error(y_test,y_predicted_svrhp)\n",
        "print(mae)\n",
        "mape = mean_absolute_percentage_error(y_test, y_predicted_svrhp)\n",
        "print(mape)"
      ],
      "metadata": {
        "colab": {
          "base_uri": "https://localhost:8080/"
        },
        "id": "lLJSi61weuiB",
        "outputId": "117369f2-1047-4275-f2af-cf591b2d37d8"
      },
      "execution_count": null,
      "outputs": [
        {
          "output_type": "stream",
          "name": "stdout",
          "text": [
            "5.212294838613747\n",
            "0.5109601487905618\n",
            "3.9396583002043237\n",
            "0.272423033209015\n"
          ]
        }
      ]
    },
    {
      "cell_type": "markdown",
      "source": [
        "                          **ADABoost Regressor**"
      ],
      "metadata": {
        "id": "e28hbchbexFD"
      }
    },
    {
      "cell_type": "code",
      "source": [
        "from sklearn.ensemble import AdaBoostRegressor\n",
        "adb = AdaBoostRegressor()\n",
        "model_abr = AdaBoostRegressor().fit(X_train, y_train)\n",
        "y_predicted_abr = model_abr.predict(X_test)"
      ],
      "metadata": {
        "id": "bmW4L0qge1ec"
      },
      "execution_count": null,
      "outputs": []
    },
    {
      "cell_type": "code",
      "source": [
        "rms = sqrt(mean_squared_error(y_test, y_predicted_abr))\n",
        "print(rms)\n",
        "r_square = model_abr.score(X_test,y_test)\n",
        "print(r_square)\n",
        "mae = mean_absolute_error(y_test,y_predicted_abr)\n",
        "print(mae)\n",
        "mape = mean_absolute_percentage_error(y_test, y_predicted_abr)\n",
        "print(mape)\n",
        "print(model_abr.get_params())"
      ],
      "metadata": {
        "colab": {
          "base_uri": "https://localhost:8080/"
        },
        "id": "OeA7Wk6-e56h",
        "outputId": "5bb0f16c-0440-4deb-f40c-fd2669c65af7"
      },
      "execution_count": null,
      "outputs": [
        {
          "output_type": "stream",
          "name": "stdout",
          "text": [
            "7.311245381663558\n",
            "0.03779186870175433\n",
            "6.4156036555892255\n",
            "0.4182861046920425\n",
            "{'base_estimator': None, 'learning_rate': 1.0, 'loss': 'linear', 'n_estimators': 50, 'random_state': None}\n"
          ]
        }
      ]
    },
    {
      "cell_type": "code",
      "source": [
        "#Hyperparametrer Tuning\n",
        "param_grid = {'n_estimators':list(range(0, 1000, 100)), 'learning_rate':[100,10,1,0.1, 0.01, 0.001,0.0001,0.00001]}\n",
        "grid_search = GridSearchCV(estimator=adb, param_grid=param_grid, scoring='neg_mean_squared_error', n_jobs=1, cv=5)"
      ],
      "metadata": {
        "id": "oOTMH4Pbe6bx"
      },
      "execution_count": null,
      "outputs": []
    },
    {
      "cell_type": "code",
      "source": [
        "#fit the data\n",
        "grid_search.fit(X_train, y_train)\n",
        "print(grid_search.best_params_)\n",
        "model_adbhp = grid_search.best_estimator_\n",
        "model_adbhp.fit(X_train,y_train)\n",
        "y_predicted_abrhp = model_adbhp.predict(X_test) "
      ],
      "metadata": {
        "colab": {
          "base_uri": "https://localhost:8080/"
        },
        "id": "OYNFekp2fAas",
        "outputId": "62f47912-c147-40c1-ec2e-7268718f1438"
      },
      "execution_count": null,
      "outputs": [
        {
          "output_type": "stream",
          "name": "stdout",
          "text": [
            "{'learning_rate': 1e-05, 'n_estimators': 500}\n"
          ]
        }
      ]
    },
    {
      "cell_type": "code",
      "source": [
        "rms = sqrt(mean_squared_error(y_test, y_predicted_abrhp))\n",
        "print(rms)\n",
        "r_square = model_adbhp.score(X_test,y_test)\n",
        "print(r_square)\n",
        "mae = mean_absolute_error(y_test,y_predicted_abrhp)\n",
        "print(mae)\n",
        "mape = mean_absolute_percentage_error(y_test, y_predicted_abrhp)\n",
        "print(mape)"
      ],
      "metadata": {
        "colab": {
          "base_uri": "https://localhost:8080/"
        },
        "id": "Fxo0L0eKuUg6",
        "outputId": "677d6d17-0641-4ae9-b61c-b6e6928da0a8"
      },
      "execution_count": null,
      "outputs": [
        {
          "output_type": "stream",
          "name": "stdout",
          "text": [
            "6.702645397748355\n",
            "0.19131611272253368\n",
            "5.518887691620371\n",
            "0.3429980179357473\n"
          ]
        }
      ]
    },
    {
      "cell_type": "markdown",
      "source": [
        "                              **Ridge**"
      ],
      "metadata": {
        "id": "tLCKZmXQfPpB"
      }
    },
    {
      "cell_type": "code",
      "source": [
        "#Ridge Regression, using Grid Search CV to find the best parameter for alpha\n",
        "from sklearn.model_selection import cross_val_score\n",
        "from sklearn.model_selection import GridSearchCV\n",
        "from sklearn.linear_model import Ridge\n",
        "ridge = Ridge()\n",
        "parameters = {\"alpha\":[1e-15, 1e-10, 1e-8, 1e-4, 1e-3, 1e-2, 1, 5, 10, 20]}\n",
        "ridge_regression = GridSearchCV(ridge, parameters, scoring='neg_mean_squared_error', cv=5)\n",
        "ridge_regression.fit(X_train, y_train)"
      ],
      "metadata": {
        "colab": {
          "base_uri": "https://localhost:8080/"
        },
        "id": "LL2QIYsmfT40",
        "outputId": "6d6fa993-9c1a-4e0a-82ea-026d223588fc"
      },
      "execution_count": null,
      "outputs": [
        {
          "output_type": "execute_result",
          "data": {
            "text/plain": [
              "GridSearchCV(cv=5, estimator=Ridge(),\n",
              "             param_grid={'alpha': [1e-15, 1e-10, 1e-08, 0.0001, 0.001, 0.01, 1,\n",
              "                                   5, 10, 20]},\n",
              "             scoring='neg_mean_squared_error')"
            ]
          },
          "metadata": {},
          "execution_count": 42
        }
      ]
    },
    {
      "cell_type": "code",
      "source": [
        "print(ridge_regression.best_params_)"
      ],
      "metadata": {
        "colab": {
          "base_uri": "https://localhost:8080/"
        },
        "id": "F9FjIKinfWbJ",
        "outputId": "c692c7f4-9b71-49cd-8197-66bdcd079e25"
      },
      "execution_count": null,
      "outputs": [
        {
          "output_type": "stream",
          "name": "stdout",
          "text": [
            "{'alpha': 20}\n"
          ]
        }
      ]
    },
    {
      "cell_type": "code",
      "source": [
        "model_rr = Ridge(alpha=20).fit(X_train,y_train)\n",
        "y_predicted_rr = model_rr.predict(X_test)"
      ],
      "metadata": {
        "id": "-OHIO-bAfYiy"
      },
      "execution_count": null,
      "outputs": []
    },
    {
      "cell_type": "code",
      "source": [
        "rms = sqrt(mean_squared_error(y_test, y_predicted_rr))\n",
        "print(rms)\n",
        "r_square = model_rr.score(X_test,y_test)\n",
        "print(r_square)\n",
        "mae = mean_absolute_error(y_test,y_predicted_rr)\n",
        "print(mae)\n",
        "mape = mean_absolute_percentage_error(y_test, y_predicted_rr)\n",
        "print(mape)"
      ],
      "metadata": {
        "colab": {
          "base_uri": "https://localhost:8080/"
        },
        "id": "rERIgTZUf8PV",
        "outputId": "be5812b4-91b8-4322-c2c5-17ab23b19e78"
      },
      "execution_count": null,
      "outputs": [
        {
          "output_type": "stream",
          "name": "stdout",
          "text": [
            "6.529514172346963\n",
            "0.23255362283146974\n",
            "5.5858958563698495\n",
            "0.5061315396534795\n"
          ]
        }
      ]
    },
    {
      "cell_type": "markdown",
      "source": [
        "                **Lasso**"
      ],
      "metadata": {
        "id": "LK-UyZ-PgAZk"
      }
    },
    {
      "cell_type": "code",
      "source": [
        "#Lasso Regression, using Grid Search CV to find the best parameter for alpha\n",
        "from sklearn.linear_model import Lasso\n",
        "lasso = Lasso()\n",
        "a = [0.000000000000000000000000001*(10)**i for i in range(100)]\n",
        "parameters = {\"alpha\":a}\n",
        "lasso_regression = GridSearchCV(lasso, parameters, scoring='neg_mean_squared_error', cv=5)\n",
        "lasso_regression.fit(X_train, y_train)"
      ],
      "metadata": {
        "colab": {
          "base_uri": "https://localhost:8080/"
        },
        "id": "QKTGVfOwgDCu",
        "outputId": "ec5e2192-c8a5-4875-d398-36f4ab658448"
      },
      "execution_count": null,
      "outputs": [
        {
          "output_type": "execute_result",
          "data": {
            "text/plain": [
              "GridSearchCV(cv=5, estimator=Lasso(),\n",
              "             param_grid={'alpha': [1e-27, 1e-26, 1e-25, 1.0000000000000001e-24,\n",
              "                                   1.0000000000000001e-23, 1e-22,\n",
              "                                   1.0000000000000001e-21,\n",
              "                                   1.0000000000000001e-20,\n",
              "                                   1.0000000000000001e-19, 1e-18, 1e-17, 1e-16,\n",
              "                                   1e-15, 1e-14, 1e-13, 1e-12,\n",
              "                                   1.0000000000000001e-11, 1e-10, 1e-09, 1e-08,\n",
              "                                   1.0000000000000001e-07, 1e-06, 1e-05,\n",
              "                                   9.999999999999999e-05, 0.001,\n",
              "                                   0.010000000000000002, 0.1, 1.0, 10.0, 100.0, ...]},\n",
              "             scoring='neg_mean_squared_error')"
            ]
          },
          "metadata": {},
          "execution_count": 46
        }
      ]
    },
    {
      "cell_type": "code",
      "source": [
        "print(lasso_regression.best_params_)"
      ],
      "metadata": {
        "colab": {
          "base_uri": "https://localhost:8080/"
        },
        "id": "mzNHnyQCgFq-",
        "outputId": "39570866-a75c-4e4b-f870-b8997f8f0092"
      },
      "execution_count": null,
      "outputs": [
        {
          "output_type": "stream",
          "name": "stdout",
          "text": [
            "{'alpha': 10.0}\n"
          ]
        }
      ]
    },
    {
      "cell_type": "code",
      "source": [
        "model_lr = Lasso(alpha=10).fit(X_train,y_train)\n",
        "y_predicted_lr = model_lr.predict(X_test)"
      ],
      "metadata": {
        "id": "jcI29_JJgHtb"
      },
      "execution_count": null,
      "outputs": []
    },
    {
      "cell_type": "code",
      "source": [
        "rms = sqrt(mean_squared_error(y_test, y_predicted_lr))\n",
        "print(rms)\n",
        "r_square = model_lr.score(X_test,y_test)\n",
        "print(r_square)\n",
        "mae = mean_absolute_error(y_test,y_predicted_lr)\n",
        "print(mae)\n",
        "mape = mean_absolute_percentage_error(y_test, y_predicted_lr)\n",
        "print(mape)"
      ],
      "metadata": {
        "colab": {
          "base_uri": "https://localhost:8080/"
        },
        "id": "m4aCS8J5gJqW",
        "outputId": "c632958c-4b7a-4665-cd55-789b986b03e3"
      },
      "execution_count": null,
      "outputs": [
        {
          "output_type": "stream",
          "name": "stdout",
          "text": [
            "6.366907966089902\n",
            "0.27030151106591394\n",
            "4.768875932948249\n",
            "0.4663923117544593\n"
          ]
        }
      ]
    },
    {
      "cell_type": "code",
      "source": [
        "import math\n",
        "import tensorflow as tf\n",
        "import matplotlib.pyplot as plt\n",
        "from tensorflow.keras import Model\n",
        "from tensorflow.keras import Sequential\n",
        "from tensorflow.keras.optimizers import Adam\n",
        "from sklearn.preprocessing import StandardScaler\n",
        "from tensorflow.keras.layers import Dense, Dropout\n",
        "from sklearn.model_selection import train_test_split\n",
        "from tensorflow.keras.losses import MeanSquaredLogarithmicError"
      ],
      "metadata": {
        "id": "MCNfO5M5utem"
      },
      "execution_count": null,
      "outputs": []
    },
    {
      "cell_type": "code",
      "source": [
        "input_unit = 41\n",
        "hidden_units2 = 10\n",
        "learning_rate = 0.01\n",
        "# Creating model using the Sequential in tensorflow\n",
        "def build_model_using_sequential():\n",
        "  model = Sequential([\n",
        "    Dense(input_unit, kernel_initializer='normal', activation='relu'),\n",
        "    Dropout(0.4),\n",
        "    # Dense(hidden_units2, kernel_initializer='normal', activation='relu'),\n",
        "    Dense(1, kernel_initializer='normal', activation='linear')\n",
        "  ])\n",
        "  return model\n",
        "# build the model\n",
        "model = build_model_using_sequential()"
      ],
      "metadata": {
        "id": "sJNvqbQZuuZ7"
      },
      "execution_count": null,
      "outputs": []
    },
    {
      "cell_type": "code",
      "source": [
        "msle = MeanSquaredLogarithmicError()\n",
        "model.compile(\n",
        "    loss=msle, \n",
        "    optimizer=Adam(learning_rate=learning_rate), \n",
        "    metrics=[msle]\n",
        ")\n",
        "# train the model\n",
        "history = model.fit(\n",
        "    X_train.values, \n",
        "    y_train.values, \n",
        "    epochs=500, \n",
        "    batch_size=32,\n",
        "    validation_split=0.2\n",
        ")"
      ],
      "metadata": {
        "colab": {
          "base_uri": "https://localhost:8080/"
        },
        "id": "xyqOcJdIuxbD",
        "outputId": "bc62ac6f-54c0-4e48-8aeb-a93863f7f231"
      },
      "execution_count": null,
      "outputs": [
        {
          "output_type": "stream",
          "name": "stdout",
          "text": [
            "Epoch 1/500\n",
            "1/1 [==============================] - 1s 1s/step - loss: 8.8196 - mean_squared_logarithmic_error: 8.8196 - val_loss: 7.7071 - val_mean_squared_logarithmic_error: 7.7071\n",
            "Epoch 2/500\n",
            "1/1 [==============================] - 0s 32ms/step - loss: 8.1960 - mean_squared_logarithmic_error: 8.1960 - val_loss: 7.4769 - val_mean_squared_logarithmic_error: 7.4769\n",
            "Epoch 3/500\n",
            "1/1 [==============================] - 0s 30ms/step - loss: 7.4040 - mean_squared_logarithmic_error: 7.4040 - val_loss: 7.2887 - val_mean_squared_logarithmic_error: 7.2887\n",
            "Epoch 4/500\n",
            "1/1 [==============================] - 0s 31ms/step - loss: 6.6525 - mean_squared_logarithmic_error: 6.6525 - val_loss: 7.1302 - val_mean_squared_logarithmic_error: 7.1302\n",
            "Epoch 5/500\n",
            "1/1 [==============================] - 0s 36ms/step - loss: 6.1173 - mean_squared_logarithmic_error: 6.1173 - val_loss: 6.7807 - val_mean_squared_logarithmic_error: 6.7807\n",
            "Epoch 6/500\n",
            "1/1 [==============================] - 0s 33ms/step - loss: 5.3670 - mean_squared_logarithmic_error: 5.3670 - val_loss: 6.1691 - val_mean_squared_logarithmic_error: 6.1691\n",
            "Epoch 7/500\n",
            "1/1 [==============================] - 0s 31ms/step - loss: 5.0101 - mean_squared_logarithmic_error: 5.0101 - val_loss: 5.6155 - val_mean_squared_logarithmic_error: 5.6155\n",
            "Epoch 8/500\n",
            "1/1 [==============================] - 0s 41ms/step - loss: 4.5238 - mean_squared_logarithmic_error: 4.5238 - val_loss: 5.0715 - val_mean_squared_logarithmic_error: 5.0715\n",
            "Epoch 9/500\n",
            "1/1 [==============================] - 0s 29ms/step - loss: 4.0309 - mean_squared_logarithmic_error: 4.0309 - val_loss: 4.5681 - val_mean_squared_logarithmic_error: 4.5681\n",
            "Epoch 10/500\n",
            "1/1 [==============================] - 0s 30ms/step - loss: 3.5135 - mean_squared_logarithmic_error: 3.5135 - val_loss: 4.1063 - val_mean_squared_logarithmic_error: 4.1063\n",
            "Epoch 11/500\n",
            "1/1 [==============================] - 0s 32ms/step - loss: 3.2496 - mean_squared_logarithmic_error: 3.2496 - val_loss: 3.6767 - val_mean_squared_logarithmic_error: 3.6767\n",
            "Epoch 12/500\n",
            "1/1 [==============================] - 0s 31ms/step - loss: 2.8598 - mean_squared_logarithmic_error: 2.8598 - val_loss: 3.2767 - val_mean_squared_logarithmic_error: 3.2767\n",
            "Epoch 13/500\n",
            "1/1 [==============================] - 0s 29ms/step - loss: 2.4311 - mean_squared_logarithmic_error: 2.4311 - val_loss: 2.9057 - val_mean_squared_logarithmic_error: 2.9057\n",
            "Epoch 14/500\n",
            "1/1 [==============================] - 0s 31ms/step - loss: 2.1715 - mean_squared_logarithmic_error: 2.1715 - val_loss: 2.5614 - val_mean_squared_logarithmic_error: 2.5614\n",
            "Epoch 15/500\n",
            "1/1 [==============================] - 0s 33ms/step - loss: 1.9131 - mean_squared_logarithmic_error: 1.9131 - val_loss: 2.2462 - val_mean_squared_logarithmic_error: 2.2462\n",
            "Epoch 16/500\n",
            "1/1 [==============================] - 0s 30ms/step - loss: 1.5693 - mean_squared_logarithmic_error: 1.5693 - val_loss: 1.9609 - val_mean_squared_logarithmic_error: 1.9609\n",
            "Epoch 17/500\n",
            "1/1 [==============================] - 0s 29ms/step - loss: 1.6558 - mean_squared_logarithmic_error: 1.6558 - val_loss: 1.7041 - val_mean_squared_logarithmic_error: 1.7041\n",
            "Epoch 18/500\n",
            "1/1 [==============================] - 0s 28ms/step - loss: 1.2894 - mean_squared_logarithmic_error: 1.2894 - val_loss: 1.4767 - val_mean_squared_logarithmic_error: 1.4767\n",
            "Epoch 19/500\n",
            "1/1 [==============================] - 0s 29ms/step - loss: 1.1432 - mean_squared_logarithmic_error: 1.1432 - val_loss: 1.2762 - val_mean_squared_logarithmic_error: 1.2762\n",
            "Epoch 20/500\n",
            "1/1 [==============================] - 0s 31ms/step - loss: 1.1432 - mean_squared_logarithmic_error: 1.1432 - val_loss: 1.0998 - val_mean_squared_logarithmic_error: 1.0998\n",
            "Epoch 21/500\n",
            "1/1 [==============================] - 0s 33ms/step - loss: 0.9514 - mean_squared_logarithmic_error: 0.9514 - val_loss: 0.9442 - val_mean_squared_logarithmic_error: 0.9442\n",
            "Epoch 22/500\n",
            "1/1 [==============================] - 0s 30ms/step - loss: 0.9512 - mean_squared_logarithmic_error: 0.9512 - val_loss: 0.8087 - val_mean_squared_logarithmic_error: 0.8087\n",
            "Epoch 23/500\n",
            "1/1 [==============================] - 0s 34ms/step - loss: 0.7764 - mean_squared_logarithmic_error: 0.7764 - val_loss: 0.6911 - val_mean_squared_logarithmic_error: 0.6911\n",
            "Epoch 24/500\n",
            "1/1 [==============================] - 0s 37ms/step - loss: 0.8401 - mean_squared_logarithmic_error: 0.8401 - val_loss: 0.5893 - val_mean_squared_logarithmic_error: 0.5893\n",
            "Epoch 25/500\n",
            "1/1 [==============================] - 0s 33ms/step - loss: 0.6244 - mean_squared_logarithmic_error: 0.6244 - val_loss: 0.5020 - val_mean_squared_logarithmic_error: 0.5020\n",
            "Epoch 26/500\n",
            "1/1 [==============================] - 0s 38ms/step - loss: 0.4477 - mean_squared_logarithmic_error: 0.4477 - val_loss: 0.4280 - val_mean_squared_logarithmic_error: 0.4280\n",
            "Epoch 27/500\n",
            "1/1 [==============================] - 0s 34ms/step - loss: 0.5027 - mean_squared_logarithmic_error: 0.5027 - val_loss: 0.3652 - val_mean_squared_logarithmic_error: 0.3652\n",
            "Epoch 28/500\n",
            "1/1 [==============================] - 0s 36ms/step - loss: 0.4610 - mean_squared_logarithmic_error: 0.4610 - val_loss: 0.3117 - val_mean_squared_logarithmic_error: 0.3117\n",
            "Epoch 29/500\n",
            "1/1 [==============================] - 0s 33ms/step - loss: 0.4412 - mean_squared_logarithmic_error: 0.4412 - val_loss: 0.2667 - val_mean_squared_logarithmic_error: 0.2667\n",
            "Epoch 30/500\n",
            "1/1 [==============================] - 0s 29ms/step - loss: 0.4148 - mean_squared_logarithmic_error: 0.4148 - val_loss: 0.2288 - val_mean_squared_logarithmic_error: 0.2288\n",
            "Epoch 31/500\n",
            "1/1 [==============================] - 0s 31ms/step - loss: 0.3344 - mean_squared_logarithmic_error: 0.3344 - val_loss: 0.1980 - val_mean_squared_logarithmic_error: 0.1980\n",
            "Epoch 32/500\n",
            "1/1 [==============================] - 0s 29ms/step - loss: 0.3903 - mean_squared_logarithmic_error: 0.3903 - val_loss: 0.1729 - val_mean_squared_logarithmic_error: 0.1729\n",
            "Epoch 33/500\n",
            "1/1 [==============================] - 0s 31ms/step - loss: 0.3349 - mean_squared_logarithmic_error: 0.3349 - val_loss: 0.1526 - val_mean_squared_logarithmic_error: 0.1526\n",
            "Epoch 34/500\n",
            "1/1 [==============================] - 0s 32ms/step - loss: 0.2187 - mean_squared_logarithmic_error: 0.2187 - val_loss: 0.1368 - val_mean_squared_logarithmic_error: 0.1368\n",
            "Epoch 35/500\n",
            "1/1 [==============================] - 0s 32ms/step - loss: 0.2618 - mean_squared_logarithmic_error: 0.2618 - val_loss: 0.1247 - val_mean_squared_logarithmic_error: 0.1247\n",
            "Epoch 36/500\n",
            "1/1 [==============================] - 0s 35ms/step - loss: 0.2480 - mean_squared_logarithmic_error: 0.2480 - val_loss: 0.1156 - val_mean_squared_logarithmic_error: 0.1156\n",
            "Epoch 37/500\n",
            "1/1 [==============================] - 0s 29ms/step - loss: 0.1820 - mean_squared_logarithmic_error: 0.1820 - val_loss: 0.1092 - val_mean_squared_logarithmic_error: 0.1092\n",
            "Epoch 38/500\n",
            "1/1 [==============================] - 0s 36ms/step - loss: 0.2165 - mean_squared_logarithmic_error: 0.2165 - val_loss: 0.1050 - val_mean_squared_logarithmic_error: 0.1050\n",
            "Epoch 39/500\n",
            "1/1 [==============================] - 0s 30ms/step - loss: 0.2299 - mean_squared_logarithmic_error: 0.2299 - val_loss: 0.1027 - val_mean_squared_logarithmic_error: 0.1027\n",
            "Epoch 40/500\n",
            "1/1 [==============================] - 0s 32ms/step - loss: 0.1575 - mean_squared_logarithmic_error: 0.1575 - val_loss: 0.1018 - val_mean_squared_logarithmic_error: 0.1018\n",
            "Epoch 41/500\n",
            "1/1 [==============================] - 0s 33ms/step - loss: 0.2899 - mean_squared_logarithmic_error: 0.2899 - val_loss: 0.1021 - val_mean_squared_logarithmic_error: 0.1021\n",
            "Epoch 42/500\n",
            "1/1 [==============================] - 0s 31ms/step - loss: 0.2080 - mean_squared_logarithmic_error: 0.2080 - val_loss: 0.1033 - val_mean_squared_logarithmic_error: 0.1033\n",
            "Epoch 43/500\n",
            "1/1 [==============================] - 0s 30ms/step - loss: 0.2412 - mean_squared_logarithmic_error: 0.2412 - val_loss: 0.1051 - val_mean_squared_logarithmic_error: 0.1051\n",
            "Epoch 44/500\n",
            "1/1 [==============================] - 0s 49ms/step - loss: 0.2514 - mean_squared_logarithmic_error: 0.2514 - val_loss: 0.1073 - val_mean_squared_logarithmic_error: 0.1073\n",
            "Epoch 45/500\n",
            "1/1 [==============================] - 0s 32ms/step - loss: 0.1900 - mean_squared_logarithmic_error: 0.1900 - val_loss: 0.1097 - val_mean_squared_logarithmic_error: 0.1097\n",
            "Epoch 46/500\n",
            "1/1 [==============================] - 0s 30ms/step - loss: 0.1438 - mean_squared_logarithmic_error: 0.1438 - val_loss: 0.1123 - val_mean_squared_logarithmic_error: 0.1123\n",
            "Epoch 47/500\n",
            "1/1 [==============================] - 0s 30ms/step - loss: 0.2105 - mean_squared_logarithmic_error: 0.2105 - val_loss: 0.1150 - val_mean_squared_logarithmic_error: 0.1150\n",
            "Epoch 48/500\n",
            "1/1 [==============================] - 0s 35ms/step - loss: 0.2116 - mean_squared_logarithmic_error: 0.2116 - val_loss: 0.1176 - val_mean_squared_logarithmic_error: 0.1176\n",
            "Epoch 49/500\n",
            "1/1 [==============================] - 0s 35ms/step - loss: 0.1710 - mean_squared_logarithmic_error: 0.1710 - val_loss: 0.1201 - val_mean_squared_logarithmic_error: 0.1201\n",
            "Epoch 50/500\n",
            "1/1 [==============================] - 0s 31ms/step - loss: 0.2308 - mean_squared_logarithmic_error: 0.2308 - val_loss: 0.1226 - val_mean_squared_logarithmic_error: 0.1226\n",
            "Epoch 51/500\n",
            "1/1 [==============================] - 0s 35ms/step - loss: 0.1829 - mean_squared_logarithmic_error: 0.1829 - val_loss: 0.1250 - val_mean_squared_logarithmic_error: 0.1250\n",
            "Epoch 52/500\n",
            "1/1 [==============================] - 0s 36ms/step - loss: 0.1981 - mean_squared_logarithmic_error: 0.1981 - val_loss: 0.1272 - val_mean_squared_logarithmic_error: 0.1272\n",
            "Epoch 53/500\n",
            "1/1 [==============================] - 0s 34ms/step - loss: 0.2348 - mean_squared_logarithmic_error: 0.2348 - val_loss: 0.1292 - val_mean_squared_logarithmic_error: 0.1292\n",
            "Epoch 54/500\n",
            "1/1 [==============================] - 0s 29ms/step - loss: 0.1412 - mean_squared_logarithmic_error: 0.1412 - val_loss: 0.1310 - val_mean_squared_logarithmic_error: 0.1310\n",
            "Epoch 55/500\n",
            "1/1 [==============================] - 0s 33ms/step - loss: 0.1820 - mean_squared_logarithmic_error: 0.1820 - val_loss: 0.1326 - val_mean_squared_logarithmic_error: 0.1326\n",
            "Epoch 56/500\n",
            "1/1 [==============================] - 0s 40ms/step - loss: 0.1907 - mean_squared_logarithmic_error: 0.1907 - val_loss: 0.1340 - val_mean_squared_logarithmic_error: 0.1340\n",
            "Epoch 57/500\n",
            "1/1 [==============================] - 0s 30ms/step - loss: 0.2246 - mean_squared_logarithmic_error: 0.2246 - val_loss: 0.1353 - val_mean_squared_logarithmic_error: 0.1353\n",
            "Epoch 58/500\n",
            "1/1 [==============================] - 0s 37ms/step - loss: 0.1917 - mean_squared_logarithmic_error: 0.1917 - val_loss: 0.1367 - val_mean_squared_logarithmic_error: 0.1367\n",
            "Epoch 59/500\n",
            "1/1 [==============================] - 0s 32ms/step - loss: 0.2128 - mean_squared_logarithmic_error: 0.2128 - val_loss: 0.1382 - val_mean_squared_logarithmic_error: 0.1382\n",
            "Epoch 60/500\n",
            "1/1 [==============================] - 0s 33ms/step - loss: 0.1786 - mean_squared_logarithmic_error: 0.1786 - val_loss: 0.1395 - val_mean_squared_logarithmic_error: 0.1395\n",
            "Epoch 61/500\n",
            "1/1 [==============================] - 0s 33ms/step - loss: 0.2158 - mean_squared_logarithmic_error: 0.2158 - val_loss: 0.1406 - val_mean_squared_logarithmic_error: 0.1406\n",
            "Epoch 62/500\n",
            "1/1 [==============================] - 0s 30ms/step - loss: 0.1593 - mean_squared_logarithmic_error: 0.1593 - val_loss: 0.1417 - val_mean_squared_logarithmic_error: 0.1417\n",
            "Epoch 63/500\n",
            "1/1 [==============================] - 0s 35ms/step - loss: 0.2864 - mean_squared_logarithmic_error: 0.2864 - val_loss: 0.1430 - val_mean_squared_logarithmic_error: 0.1430\n",
            "Epoch 64/500\n",
            "1/1 [==============================] - 0s 31ms/step - loss: 0.1808 - mean_squared_logarithmic_error: 0.1808 - val_loss: 0.1441 - val_mean_squared_logarithmic_error: 0.1441\n",
            "Epoch 65/500\n",
            "1/1 [==============================] - 0s 34ms/step - loss: 0.1959 - mean_squared_logarithmic_error: 0.1959 - val_loss: 0.1452 - val_mean_squared_logarithmic_error: 0.1452\n",
            "Epoch 66/500\n",
            "1/1 [==============================] - 0s 37ms/step - loss: 0.2121 - mean_squared_logarithmic_error: 0.2121 - val_loss: 0.1461 - val_mean_squared_logarithmic_error: 0.1461\n",
            "Epoch 67/500\n",
            "1/1 [==============================] - 0s 33ms/step - loss: 0.1673 - mean_squared_logarithmic_error: 0.1673 - val_loss: 0.1470 - val_mean_squared_logarithmic_error: 0.1470\n",
            "Epoch 68/500\n",
            "1/1 [==============================] - 0s 30ms/step - loss: 0.2127 - mean_squared_logarithmic_error: 0.2127 - val_loss: 0.1478 - val_mean_squared_logarithmic_error: 0.1478\n",
            "Epoch 69/500\n",
            "1/1 [==============================] - 0s 30ms/step - loss: 0.1866 - mean_squared_logarithmic_error: 0.1866 - val_loss: 0.1487 - val_mean_squared_logarithmic_error: 0.1487\n",
            "Epoch 70/500\n",
            "1/1 [==============================] - 0s 34ms/step - loss: 0.2029 - mean_squared_logarithmic_error: 0.2029 - val_loss: 0.1496 - val_mean_squared_logarithmic_error: 0.1496\n",
            "Epoch 71/500\n",
            "1/1 [==============================] - 0s 30ms/step - loss: 0.1431 - mean_squared_logarithmic_error: 0.1431 - val_loss: 0.1506 - val_mean_squared_logarithmic_error: 0.1506\n",
            "Epoch 72/500\n",
            "1/1 [==============================] - 0s 36ms/step - loss: 0.1611 - mean_squared_logarithmic_error: 0.1611 - val_loss: 0.1516 - val_mean_squared_logarithmic_error: 0.1516\n",
            "Epoch 73/500\n",
            "1/1 [==============================] - 0s 30ms/step - loss: 0.1692 - mean_squared_logarithmic_error: 0.1692 - val_loss: 0.1527 - val_mean_squared_logarithmic_error: 0.1527\n",
            "Epoch 74/500\n",
            "1/1 [==============================] - 0s 29ms/step - loss: 0.2268 - mean_squared_logarithmic_error: 0.2268 - val_loss: 0.1537 - val_mean_squared_logarithmic_error: 0.1537\n",
            "Epoch 75/500\n",
            "1/1 [==============================] - 0s 34ms/step - loss: 0.2826 - mean_squared_logarithmic_error: 0.2826 - val_loss: 0.1547 - val_mean_squared_logarithmic_error: 0.1547\n",
            "Epoch 76/500\n",
            "1/1 [==============================] - 0s 34ms/step - loss: 0.1469 - mean_squared_logarithmic_error: 0.1469 - val_loss: 0.1555 - val_mean_squared_logarithmic_error: 0.1555\n",
            "Epoch 77/500\n",
            "1/1 [==============================] - 0s 32ms/step - loss: 0.2632 - mean_squared_logarithmic_error: 0.2632 - val_loss: 0.1567 - val_mean_squared_logarithmic_error: 0.1567\n",
            "Epoch 78/500\n",
            "1/1 [==============================] - 0s 33ms/step - loss: 0.1857 - mean_squared_logarithmic_error: 0.1857 - val_loss: 0.1581 - val_mean_squared_logarithmic_error: 0.1581\n",
            "Epoch 79/500\n",
            "1/1 [==============================] - 0s 37ms/step - loss: 0.1691 - mean_squared_logarithmic_error: 0.1691 - val_loss: 0.1594 - val_mean_squared_logarithmic_error: 0.1594\n",
            "Epoch 80/500\n",
            "1/1 [==============================] - 0s 32ms/step - loss: 0.2053 - mean_squared_logarithmic_error: 0.2053 - val_loss: 0.1608 - val_mean_squared_logarithmic_error: 0.1608\n",
            "Epoch 81/500\n",
            "1/1 [==============================] - 0s 37ms/step - loss: 0.0921 - mean_squared_logarithmic_error: 0.0921 - val_loss: 0.1622 - val_mean_squared_logarithmic_error: 0.1622\n",
            "Epoch 82/500\n",
            "1/1 [==============================] - 0s 41ms/step - loss: 0.1335 - mean_squared_logarithmic_error: 0.1335 - val_loss: 0.1635 - val_mean_squared_logarithmic_error: 0.1635\n",
            "Epoch 83/500\n",
            "1/1 [==============================] - 0s 37ms/step - loss: 0.1925 - mean_squared_logarithmic_error: 0.1925 - val_loss: 0.1649 - val_mean_squared_logarithmic_error: 0.1649\n",
            "Epoch 84/500\n",
            "1/1 [==============================] - 0s 39ms/step - loss: 0.1611 - mean_squared_logarithmic_error: 0.1611 - val_loss: 0.1662 - val_mean_squared_logarithmic_error: 0.1662\n",
            "Epoch 85/500\n",
            "1/1 [==============================] - 0s 34ms/step - loss: 0.1610 - mean_squared_logarithmic_error: 0.1610 - val_loss: 0.1677 - val_mean_squared_logarithmic_error: 0.1677\n",
            "Epoch 86/500\n",
            "1/1 [==============================] - 0s 31ms/step - loss: 0.1269 - mean_squared_logarithmic_error: 0.1269 - val_loss: 0.1693 - val_mean_squared_logarithmic_error: 0.1693\n",
            "Epoch 87/500\n",
            "1/1 [==============================] - 0s 32ms/step - loss: 0.1671 - mean_squared_logarithmic_error: 0.1671 - val_loss: 0.1708 - val_mean_squared_logarithmic_error: 0.1708\n",
            "Epoch 88/500\n",
            "1/1 [==============================] - 0s 34ms/step - loss: 0.1596 - mean_squared_logarithmic_error: 0.1596 - val_loss: 0.1723 - val_mean_squared_logarithmic_error: 0.1723\n",
            "Epoch 89/500\n",
            "1/1 [==============================] - 0s 37ms/step - loss: 0.1367 - mean_squared_logarithmic_error: 0.1367 - val_loss: 0.1738 - val_mean_squared_logarithmic_error: 0.1738\n",
            "Epoch 90/500\n",
            "1/1 [==============================] - 0s 36ms/step - loss: 0.1560 - mean_squared_logarithmic_error: 0.1560 - val_loss: 0.1756 - val_mean_squared_logarithmic_error: 0.1756\n",
            "Epoch 91/500\n",
            "1/1 [==============================] - 0s 38ms/step - loss: 0.1497 - mean_squared_logarithmic_error: 0.1497 - val_loss: 0.1774 - val_mean_squared_logarithmic_error: 0.1774\n",
            "Epoch 92/500\n",
            "1/1 [==============================] - 0s 33ms/step - loss: 0.1244 - mean_squared_logarithmic_error: 0.1244 - val_loss: 0.1791 - val_mean_squared_logarithmic_error: 0.1791\n",
            "Epoch 93/500\n",
            "1/1 [==============================] - 0s 30ms/step - loss: 0.1877 - mean_squared_logarithmic_error: 0.1877 - val_loss: 0.1810 - val_mean_squared_logarithmic_error: 0.1810\n",
            "Epoch 94/500\n",
            "1/1 [==============================] - 0s 30ms/step - loss: 0.1523 - mean_squared_logarithmic_error: 0.1523 - val_loss: 0.1828 - val_mean_squared_logarithmic_error: 0.1828\n",
            "Epoch 95/500\n",
            "1/1 [==============================] - 0s 37ms/step - loss: 0.2606 - mean_squared_logarithmic_error: 0.2606 - val_loss: 0.1848 - val_mean_squared_logarithmic_error: 0.1848\n",
            "Epoch 96/500\n",
            "1/1 [==============================] - 0s 37ms/step - loss: 0.2191 - mean_squared_logarithmic_error: 0.2191 - val_loss: 0.1870 - val_mean_squared_logarithmic_error: 0.1870\n",
            "Epoch 97/500\n",
            "1/1 [==============================] - 0s 30ms/step - loss: 0.1413 - mean_squared_logarithmic_error: 0.1413 - val_loss: 0.1891 - val_mean_squared_logarithmic_error: 0.1891\n",
            "Epoch 98/500\n",
            "1/1 [==============================] - 0s 29ms/step - loss: 0.1318 - mean_squared_logarithmic_error: 0.1318 - val_loss: 0.1911 - val_mean_squared_logarithmic_error: 0.1911\n",
            "Epoch 99/500\n",
            "1/1 [==============================] - 0s 34ms/step - loss: 0.1970 - mean_squared_logarithmic_error: 0.1970 - val_loss: 0.1933 - val_mean_squared_logarithmic_error: 0.1933\n",
            "Epoch 100/500\n",
            "1/1 [==============================] - 0s 31ms/step - loss: 0.1287 - mean_squared_logarithmic_error: 0.1287 - val_loss: 0.1955 - val_mean_squared_logarithmic_error: 0.1955\n",
            "Epoch 101/500\n",
            "1/1 [==============================] - 0s 35ms/step - loss: 0.2476 - mean_squared_logarithmic_error: 0.2476 - val_loss: 0.1977 - val_mean_squared_logarithmic_error: 0.1977\n",
            "Epoch 102/500\n",
            "1/1 [==============================] - 0s 34ms/step - loss: 0.1412 - mean_squared_logarithmic_error: 0.1412 - val_loss: 0.1999 - val_mean_squared_logarithmic_error: 0.1999\n",
            "Epoch 103/500\n",
            "1/1 [==============================] - 0s 32ms/step - loss: 0.1709 - mean_squared_logarithmic_error: 0.1709 - val_loss: 0.2022 - val_mean_squared_logarithmic_error: 0.2022\n",
            "Epoch 104/500\n",
            "1/1 [==============================] - 0s 38ms/step - loss: 0.1946 - mean_squared_logarithmic_error: 0.1946 - val_loss: 0.2046 - val_mean_squared_logarithmic_error: 0.2046\n",
            "Epoch 105/500\n",
            "1/1 [==============================] - 0s 39ms/step - loss: 0.1591 - mean_squared_logarithmic_error: 0.1591 - val_loss: 0.2070 - val_mean_squared_logarithmic_error: 0.2070\n",
            "Epoch 106/500\n",
            "1/1 [==============================] - 0s 33ms/step - loss: 0.1338 - mean_squared_logarithmic_error: 0.1338 - val_loss: 0.2095 - val_mean_squared_logarithmic_error: 0.2095\n",
            "Epoch 107/500\n",
            "1/1 [==============================] - 0s 36ms/step - loss: 0.1647 - mean_squared_logarithmic_error: 0.1647 - val_loss: 0.2119 - val_mean_squared_logarithmic_error: 0.2119\n",
            "Epoch 108/500\n",
            "1/1 [==============================] - 0s 31ms/step - loss: 0.1452 - mean_squared_logarithmic_error: 0.1452 - val_loss: 0.2142 - val_mean_squared_logarithmic_error: 0.2142\n",
            "Epoch 109/500\n",
            "1/1 [==============================] - 0s 44ms/step - loss: 0.1527 - mean_squared_logarithmic_error: 0.1527 - val_loss: 0.2165 - val_mean_squared_logarithmic_error: 0.2165\n",
            "Epoch 110/500\n",
            "1/1 [==============================] - 0s 34ms/step - loss: 0.1675 - mean_squared_logarithmic_error: 0.1675 - val_loss: 0.2190 - val_mean_squared_logarithmic_error: 0.2190\n",
            "Epoch 111/500\n",
            "1/1 [==============================] - 0s 42ms/step - loss: 0.1470 - mean_squared_logarithmic_error: 0.1470 - val_loss: 0.2216 - val_mean_squared_logarithmic_error: 0.2216\n",
            "Epoch 112/500\n",
            "1/1 [==============================] - 0s 35ms/step - loss: 0.1543 - mean_squared_logarithmic_error: 0.1543 - val_loss: 0.2243 - val_mean_squared_logarithmic_error: 0.2243\n",
            "Epoch 113/500\n",
            "1/1 [==============================] - 0s 35ms/step - loss: 0.1380 - mean_squared_logarithmic_error: 0.1380 - val_loss: 0.2270 - val_mean_squared_logarithmic_error: 0.2270\n",
            "Epoch 114/500\n",
            "1/1 [==============================] - 0s 31ms/step - loss: 0.1438 - mean_squared_logarithmic_error: 0.1438 - val_loss: 0.2297 - val_mean_squared_logarithmic_error: 0.2297\n",
            "Epoch 115/500\n",
            "1/1 [==============================] - 0s 33ms/step - loss: 0.2050 - mean_squared_logarithmic_error: 0.2050 - val_loss: 0.2323 - val_mean_squared_logarithmic_error: 0.2323\n",
            "Epoch 116/500\n",
            "1/1 [==============================] - 0s 33ms/step - loss: 0.1032 - mean_squared_logarithmic_error: 0.1032 - val_loss: 0.2348 - val_mean_squared_logarithmic_error: 0.2348\n",
            "Epoch 117/500\n",
            "1/1 [==============================] - 0s 33ms/step - loss: 0.1356 - mean_squared_logarithmic_error: 0.1356 - val_loss: 0.2374 - val_mean_squared_logarithmic_error: 0.2374\n",
            "Epoch 118/500\n",
            "1/1 [==============================] - 0s 35ms/step - loss: 0.1163 - mean_squared_logarithmic_error: 0.1163 - val_loss: 0.2401 - val_mean_squared_logarithmic_error: 0.2401\n",
            "Epoch 119/500\n",
            "1/1 [==============================] - 0s 31ms/step - loss: 0.1096 - mean_squared_logarithmic_error: 0.1096 - val_loss: 0.2429 - val_mean_squared_logarithmic_error: 0.2429\n",
            "Epoch 120/500\n",
            "1/1 [==============================] - 0s 33ms/step - loss: 0.1101 - mean_squared_logarithmic_error: 0.1101 - val_loss: 0.2458 - val_mean_squared_logarithmic_error: 0.2458\n",
            "Epoch 121/500\n",
            "1/1 [==============================] - 0s 35ms/step - loss: 0.1570 - mean_squared_logarithmic_error: 0.1570 - val_loss: 0.2488 - val_mean_squared_logarithmic_error: 0.2488\n",
            "Epoch 122/500\n",
            "1/1 [==============================] - 0s 39ms/step - loss: 0.1129 - mean_squared_logarithmic_error: 0.1129 - val_loss: 0.2519 - val_mean_squared_logarithmic_error: 0.2519\n",
            "Epoch 123/500\n",
            "1/1 [==============================] - 0s 36ms/step - loss: 0.1315 - mean_squared_logarithmic_error: 0.1315 - val_loss: 0.2550 - val_mean_squared_logarithmic_error: 0.2550\n",
            "Epoch 124/500\n",
            "1/1 [==============================] - 0s 34ms/step - loss: 0.1473 - mean_squared_logarithmic_error: 0.1473 - val_loss: 0.2582 - val_mean_squared_logarithmic_error: 0.2582\n",
            "Epoch 125/500\n",
            "1/1 [==============================] - 0s 33ms/step - loss: 0.1571 - mean_squared_logarithmic_error: 0.1571 - val_loss: 0.2616 - val_mean_squared_logarithmic_error: 0.2616\n",
            "Epoch 126/500\n",
            "1/1 [==============================] - 0s 36ms/step - loss: 0.1227 - mean_squared_logarithmic_error: 0.1227 - val_loss: 0.2649 - val_mean_squared_logarithmic_error: 0.2649\n",
            "Epoch 127/500\n",
            "1/1 [==============================] - 0s 36ms/step - loss: 0.1100 - mean_squared_logarithmic_error: 0.1100 - val_loss: 0.2684 - val_mean_squared_logarithmic_error: 0.2684\n",
            "Epoch 128/500\n",
            "1/1 [==============================] - 0s 31ms/step - loss: 0.1627 - mean_squared_logarithmic_error: 0.1627 - val_loss: 0.2719 - val_mean_squared_logarithmic_error: 0.2719\n",
            "Epoch 129/500\n",
            "1/1 [==============================] - 0s 34ms/step - loss: 0.1215 - mean_squared_logarithmic_error: 0.1215 - val_loss: 0.2756 - val_mean_squared_logarithmic_error: 0.2756\n",
            "Epoch 130/500\n",
            "1/1 [==============================] - 0s 33ms/step - loss: 0.1381 - mean_squared_logarithmic_error: 0.1381 - val_loss: 0.2794 - val_mean_squared_logarithmic_error: 0.2794\n",
            "Epoch 131/500\n",
            "1/1 [==============================] - 0s 35ms/step - loss: 0.1893 - mean_squared_logarithmic_error: 0.1893 - val_loss: 0.2833 - val_mean_squared_logarithmic_error: 0.2833\n",
            "Epoch 132/500\n",
            "1/1 [==============================] - 0s 32ms/step - loss: 0.1186 - mean_squared_logarithmic_error: 0.1186 - val_loss: 0.2871 - val_mean_squared_logarithmic_error: 0.2871\n",
            "Epoch 133/500\n",
            "1/1 [==============================] - 0s 31ms/step - loss: 0.0931 - mean_squared_logarithmic_error: 0.0931 - val_loss: 0.2910 - val_mean_squared_logarithmic_error: 0.2910\n",
            "Epoch 134/500\n",
            "1/1 [==============================] - 0s 44ms/step - loss: 0.1564 - mean_squared_logarithmic_error: 0.1564 - val_loss: 0.2948 - val_mean_squared_logarithmic_error: 0.2948\n",
            "Epoch 135/500\n",
            "1/1 [==============================] - 0s 43ms/step - loss: 0.1252 - mean_squared_logarithmic_error: 0.1252 - val_loss: 0.2986 - val_mean_squared_logarithmic_error: 0.2986\n",
            "Epoch 136/500\n",
            "1/1 [==============================] - 0s 35ms/step - loss: 0.1526 - mean_squared_logarithmic_error: 0.1526 - val_loss: 0.3023 - val_mean_squared_logarithmic_error: 0.3023\n",
            "Epoch 137/500\n",
            "1/1 [==============================] - 0s 33ms/step - loss: 0.1512 - mean_squared_logarithmic_error: 0.1512 - val_loss: 0.3059 - val_mean_squared_logarithmic_error: 0.3059\n",
            "Epoch 138/500\n",
            "1/1 [==============================] - 0s 29ms/step - loss: 0.1466 - mean_squared_logarithmic_error: 0.1466 - val_loss: 0.3096 - val_mean_squared_logarithmic_error: 0.3096\n",
            "Epoch 139/500\n",
            "1/1 [==============================] - 0s 36ms/step - loss: 0.1261 - mean_squared_logarithmic_error: 0.1261 - val_loss: 0.3130 - val_mean_squared_logarithmic_error: 0.3130\n",
            "Epoch 140/500\n",
            "1/1 [==============================] - 0s 39ms/step - loss: 0.1193 - mean_squared_logarithmic_error: 0.1193 - val_loss: 0.3167 - val_mean_squared_logarithmic_error: 0.3167\n",
            "Epoch 141/500\n",
            "1/1 [==============================] - 0s 32ms/step - loss: 0.1349 - mean_squared_logarithmic_error: 0.1349 - val_loss: 0.3204 - val_mean_squared_logarithmic_error: 0.3204\n",
            "Epoch 142/500\n",
            "1/1 [==============================] - 0s 35ms/step - loss: 0.1136 - mean_squared_logarithmic_error: 0.1136 - val_loss: 0.3244 - val_mean_squared_logarithmic_error: 0.3244\n",
            "Epoch 143/500\n",
            "1/1 [==============================] - 0s 31ms/step - loss: 0.1201 - mean_squared_logarithmic_error: 0.1201 - val_loss: 0.3284 - val_mean_squared_logarithmic_error: 0.3284\n",
            "Epoch 144/500\n",
            "1/1 [==============================] - 0s 34ms/step - loss: 0.1134 - mean_squared_logarithmic_error: 0.1134 - val_loss: 0.3326 - val_mean_squared_logarithmic_error: 0.3326\n",
            "Epoch 145/500\n",
            "1/1 [==============================] - 0s 35ms/step - loss: 0.0824 - mean_squared_logarithmic_error: 0.0824 - val_loss: 0.3368 - val_mean_squared_logarithmic_error: 0.3368\n",
            "Epoch 146/500\n",
            "1/1 [==============================] - 0s 32ms/step - loss: 0.1314 - mean_squared_logarithmic_error: 0.1314 - val_loss: 0.3410 - val_mean_squared_logarithmic_error: 0.3410\n",
            "Epoch 147/500\n",
            "1/1 [==============================] - 0s 38ms/step - loss: 0.1506 - mean_squared_logarithmic_error: 0.1506 - val_loss: 0.3450 - val_mean_squared_logarithmic_error: 0.3450\n",
            "Epoch 148/500\n",
            "1/1 [==============================] - 0s 38ms/step - loss: 0.1235 - mean_squared_logarithmic_error: 0.1235 - val_loss: 0.3489 - val_mean_squared_logarithmic_error: 0.3489\n",
            "Epoch 149/500\n",
            "1/1 [==============================] - 0s 34ms/step - loss: 0.1917 - mean_squared_logarithmic_error: 0.1917 - val_loss: 0.3532 - val_mean_squared_logarithmic_error: 0.3532\n",
            "Epoch 150/500\n",
            "1/1 [==============================] - 0s 33ms/step - loss: 0.1285 - mean_squared_logarithmic_error: 0.1285 - val_loss: 0.3573 - val_mean_squared_logarithmic_error: 0.3573\n",
            "Epoch 151/500\n",
            "1/1 [==============================] - 0s 32ms/step - loss: 0.1094 - mean_squared_logarithmic_error: 0.1094 - val_loss: 0.3610 - val_mean_squared_logarithmic_error: 0.3610\n",
            "Epoch 152/500\n",
            "1/1 [==============================] - 0s 33ms/step - loss: 0.1963 - mean_squared_logarithmic_error: 0.1963 - val_loss: 0.3650 - val_mean_squared_logarithmic_error: 0.3650\n",
            "Epoch 153/500\n",
            "1/1 [==============================] - 0s 31ms/step - loss: 0.1713 - mean_squared_logarithmic_error: 0.1713 - val_loss: 0.3692 - val_mean_squared_logarithmic_error: 0.3692\n",
            "Epoch 154/500\n",
            "1/1 [==============================] - 0s 33ms/step - loss: 0.1673 - mean_squared_logarithmic_error: 0.1673 - val_loss: 0.3734 - val_mean_squared_logarithmic_error: 0.3734\n",
            "Epoch 155/500\n",
            "1/1 [==============================] - 0s 32ms/step - loss: 0.1268 - mean_squared_logarithmic_error: 0.1268 - val_loss: 0.3777 - val_mean_squared_logarithmic_error: 0.3777\n",
            "Epoch 156/500\n",
            "1/1 [==============================] - 0s 32ms/step - loss: 0.1515 - mean_squared_logarithmic_error: 0.1515 - val_loss: 0.3820 - val_mean_squared_logarithmic_error: 0.3820\n",
            "Epoch 157/500\n",
            "1/1 [==============================] - 0s 30ms/step - loss: 0.1467 - mean_squared_logarithmic_error: 0.1467 - val_loss: 0.3860 - val_mean_squared_logarithmic_error: 0.3860\n",
            "Epoch 158/500\n",
            "1/1 [==============================] - 0s 33ms/step - loss: 0.0921 - mean_squared_logarithmic_error: 0.0921 - val_loss: 0.3898 - val_mean_squared_logarithmic_error: 0.3898\n",
            "Epoch 159/500\n",
            "1/1 [==============================] - 0s 33ms/step - loss: 0.0795 - mean_squared_logarithmic_error: 0.0795 - val_loss: 0.3930 - val_mean_squared_logarithmic_error: 0.3930\n",
            "Epoch 160/500\n",
            "1/1 [==============================] - 0s 32ms/step - loss: 0.1386 - mean_squared_logarithmic_error: 0.1386 - val_loss: 0.3964 - val_mean_squared_logarithmic_error: 0.3964\n",
            "Epoch 161/500\n",
            "1/1 [==============================] - 0s 32ms/step - loss: 0.1495 - mean_squared_logarithmic_error: 0.1495 - val_loss: 0.3999 - val_mean_squared_logarithmic_error: 0.3999\n",
            "Epoch 162/500\n",
            "1/1 [==============================] - 0s 46ms/step - loss: 0.1255 - mean_squared_logarithmic_error: 0.1255 - val_loss: 0.4037 - val_mean_squared_logarithmic_error: 0.4037\n",
            "Epoch 163/500\n",
            "1/1 [==============================] - 0s 38ms/step - loss: 0.1371 - mean_squared_logarithmic_error: 0.1371 - val_loss: 0.4075 - val_mean_squared_logarithmic_error: 0.4075\n",
            "Epoch 164/500\n",
            "1/1 [==============================] - 0s 34ms/step - loss: 0.0965 - mean_squared_logarithmic_error: 0.0965 - val_loss: 0.4117 - val_mean_squared_logarithmic_error: 0.4117\n",
            "Epoch 165/500\n",
            "1/1 [==============================] - 0s 33ms/step - loss: 0.1165 - mean_squared_logarithmic_error: 0.1165 - val_loss: 0.4157 - val_mean_squared_logarithmic_error: 0.4157\n",
            "Epoch 166/500\n",
            "1/1 [==============================] - 0s 32ms/step - loss: 0.1180 - mean_squared_logarithmic_error: 0.1180 - val_loss: 0.4195 - val_mean_squared_logarithmic_error: 0.4195\n",
            "Epoch 167/500\n",
            "1/1 [==============================] - 0s 36ms/step - loss: 0.1011 - mean_squared_logarithmic_error: 0.1011 - val_loss: 0.4235 - val_mean_squared_logarithmic_error: 0.4235\n",
            "Epoch 168/500\n",
            "1/1 [==============================] - 0s 31ms/step - loss: 0.1059 - mean_squared_logarithmic_error: 0.1059 - val_loss: 0.4278 - val_mean_squared_logarithmic_error: 0.4278\n",
            "Epoch 169/500\n",
            "1/1 [==============================] - 0s 35ms/step - loss: 0.1178 - mean_squared_logarithmic_error: 0.1178 - val_loss: 0.4323 - val_mean_squared_logarithmic_error: 0.4323\n",
            "Epoch 170/500\n",
            "1/1 [==============================] - 0s 33ms/step - loss: 0.1482 - mean_squared_logarithmic_error: 0.1482 - val_loss: 0.4369 - val_mean_squared_logarithmic_error: 0.4369\n",
            "Epoch 171/500\n",
            "1/1 [==============================] - 0s 36ms/step - loss: 0.0968 - mean_squared_logarithmic_error: 0.0968 - val_loss: 0.4414 - val_mean_squared_logarithmic_error: 0.4414\n",
            "Epoch 172/500\n",
            "1/1 [==============================] - 0s 33ms/step - loss: 0.0923 - mean_squared_logarithmic_error: 0.0923 - val_loss: 0.4460 - val_mean_squared_logarithmic_error: 0.4460\n",
            "Epoch 173/500\n",
            "1/1 [==============================] - 0s 33ms/step - loss: 0.1174 - mean_squared_logarithmic_error: 0.1174 - val_loss: 0.4505 - val_mean_squared_logarithmic_error: 0.4505\n",
            "Epoch 174/500\n",
            "1/1 [==============================] - 0s 35ms/step - loss: 0.0785 - mean_squared_logarithmic_error: 0.0785 - val_loss: 0.4549 - val_mean_squared_logarithmic_error: 0.4549\n",
            "Epoch 175/500\n",
            "1/1 [==============================] - 0s 35ms/step - loss: 0.0980 - mean_squared_logarithmic_error: 0.0980 - val_loss: 0.4591 - val_mean_squared_logarithmic_error: 0.4591\n",
            "Epoch 176/500\n",
            "1/1 [==============================] - 0s 32ms/step - loss: 0.0990 - mean_squared_logarithmic_error: 0.0990 - val_loss: 0.4633 - val_mean_squared_logarithmic_error: 0.4633\n",
            "Epoch 177/500\n",
            "1/1 [==============================] - 0s 33ms/step - loss: 0.1061 - mean_squared_logarithmic_error: 0.1061 - val_loss: 0.4675 - val_mean_squared_logarithmic_error: 0.4675\n",
            "Epoch 178/500\n",
            "1/1 [==============================] - 0s 40ms/step - loss: 0.1182 - mean_squared_logarithmic_error: 0.1182 - val_loss: 0.4717 - val_mean_squared_logarithmic_error: 0.4717\n",
            "Epoch 179/500\n",
            "1/1 [==============================] - 0s 36ms/step - loss: 0.1064 - mean_squared_logarithmic_error: 0.1064 - val_loss: 0.4759 - val_mean_squared_logarithmic_error: 0.4759\n",
            "Epoch 180/500\n",
            "1/1 [==============================] - 0s 38ms/step - loss: 0.0886 - mean_squared_logarithmic_error: 0.0886 - val_loss: 0.4799 - val_mean_squared_logarithmic_error: 0.4799\n",
            "Epoch 181/500\n",
            "1/1 [==============================] - 0s 34ms/step - loss: 0.0927 - mean_squared_logarithmic_error: 0.0927 - val_loss: 0.4839 - val_mean_squared_logarithmic_error: 0.4839\n",
            "Epoch 182/500\n",
            "1/1 [==============================] - 0s 31ms/step - loss: 0.1224 - mean_squared_logarithmic_error: 0.1224 - val_loss: 0.4880 - val_mean_squared_logarithmic_error: 0.4880\n",
            "Epoch 183/500\n",
            "1/1 [==============================] - 0s 31ms/step - loss: 0.0673 - mean_squared_logarithmic_error: 0.0673 - val_loss: 0.4924 - val_mean_squared_logarithmic_error: 0.4924\n",
            "Epoch 184/500\n",
            "1/1 [==============================] - 0s 52ms/step - loss: 0.1517 - mean_squared_logarithmic_error: 0.1517 - val_loss: 0.4968 - val_mean_squared_logarithmic_error: 0.4968\n",
            "Epoch 185/500\n",
            "1/1 [==============================] - 0s 32ms/step - loss: 0.1294 - mean_squared_logarithmic_error: 0.1294 - val_loss: 0.5015 - val_mean_squared_logarithmic_error: 0.5015\n",
            "Epoch 186/500\n",
            "1/1 [==============================] - 0s 39ms/step - loss: 0.0604 - mean_squared_logarithmic_error: 0.0604 - val_loss: 0.5061 - val_mean_squared_logarithmic_error: 0.5061\n",
            "Epoch 187/500\n",
            "1/1 [==============================] - 0s 35ms/step - loss: 0.0958 - mean_squared_logarithmic_error: 0.0958 - val_loss: 0.5114 - val_mean_squared_logarithmic_error: 0.5114\n",
            "Epoch 188/500\n",
            "1/1 [==============================] - 0s 38ms/step - loss: 0.0961 - mean_squared_logarithmic_error: 0.0961 - val_loss: 0.5166 - val_mean_squared_logarithmic_error: 0.5166\n",
            "Epoch 189/500\n",
            "1/1 [==============================] - 0s 38ms/step - loss: 0.0814 - mean_squared_logarithmic_error: 0.0814 - val_loss: 0.5221 - val_mean_squared_logarithmic_error: 0.5221\n",
            "Epoch 190/500\n",
            "1/1 [==============================] - 0s 34ms/step - loss: 0.1178 - mean_squared_logarithmic_error: 0.1178 - val_loss: 0.5283 - val_mean_squared_logarithmic_error: 0.5283\n",
            "Epoch 191/500\n",
            "1/1 [==============================] - 0s 35ms/step - loss: 0.1057 - mean_squared_logarithmic_error: 0.1057 - val_loss: 0.5345 - val_mean_squared_logarithmic_error: 0.5345\n",
            "Epoch 192/500\n",
            "1/1 [==============================] - 0s 31ms/step - loss: 0.0851 - mean_squared_logarithmic_error: 0.0851 - val_loss: 0.5402 - val_mean_squared_logarithmic_error: 0.5402\n",
            "Epoch 193/500\n",
            "1/1 [==============================] - 0s 36ms/step - loss: 0.0980 - mean_squared_logarithmic_error: 0.0980 - val_loss: 0.5460 - val_mean_squared_logarithmic_error: 0.5460\n",
            "Epoch 194/500\n",
            "1/1 [==============================] - 0s 39ms/step - loss: 0.0913 - mean_squared_logarithmic_error: 0.0913 - val_loss: 0.5516 - val_mean_squared_logarithmic_error: 0.5516\n",
            "Epoch 195/500\n",
            "1/1 [==============================] - 0s 35ms/step - loss: 0.0608 - mean_squared_logarithmic_error: 0.0608 - val_loss: 0.5567 - val_mean_squared_logarithmic_error: 0.5567\n",
            "Epoch 196/500\n",
            "1/1 [==============================] - 0s 34ms/step - loss: 0.1475 - mean_squared_logarithmic_error: 0.1475 - val_loss: 0.5618 - val_mean_squared_logarithmic_error: 0.5618\n",
            "Epoch 197/500\n",
            "1/1 [==============================] - 0s 36ms/step - loss: 0.1368 - mean_squared_logarithmic_error: 0.1368 - val_loss: 0.5672 - val_mean_squared_logarithmic_error: 0.5672\n",
            "Epoch 198/500\n",
            "1/1 [==============================] - 0s 37ms/step - loss: 0.1181 - mean_squared_logarithmic_error: 0.1181 - val_loss: 0.5726 - val_mean_squared_logarithmic_error: 0.5726\n",
            "Epoch 199/500\n",
            "1/1 [==============================] - 0s 31ms/step - loss: 0.0978 - mean_squared_logarithmic_error: 0.0978 - val_loss: 0.5783 - val_mean_squared_logarithmic_error: 0.5783\n",
            "Epoch 200/500\n",
            "1/1 [==============================] - 0s 51ms/step - loss: 0.1343 - mean_squared_logarithmic_error: 0.1343 - val_loss: 0.5839 - val_mean_squared_logarithmic_error: 0.5839\n",
            "Epoch 201/500\n",
            "1/1 [==============================] - 0s 35ms/step - loss: 0.1031 - mean_squared_logarithmic_error: 0.1031 - val_loss: 0.5896 - val_mean_squared_logarithmic_error: 0.5896\n",
            "Epoch 202/500\n",
            "1/1 [==============================] - 0s 38ms/step - loss: 0.1163 - mean_squared_logarithmic_error: 0.1163 - val_loss: 0.5955 - val_mean_squared_logarithmic_error: 0.5955\n",
            "Epoch 203/500\n",
            "1/1 [==============================] - 0s 33ms/step - loss: 0.1002 - mean_squared_logarithmic_error: 0.1002 - val_loss: 0.6011 - val_mean_squared_logarithmic_error: 0.6011\n",
            "Epoch 204/500\n",
            "1/1 [==============================] - 0s 39ms/step - loss: 0.1155 - mean_squared_logarithmic_error: 0.1155 - val_loss: 0.6069 - val_mean_squared_logarithmic_error: 0.6069\n",
            "Epoch 205/500\n",
            "1/1 [==============================] - 0s 38ms/step - loss: 0.1080 - mean_squared_logarithmic_error: 0.1080 - val_loss: 0.6124 - val_mean_squared_logarithmic_error: 0.6124\n",
            "Epoch 206/500\n",
            "1/1 [==============================] - 0s 40ms/step - loss: 0.0481 - mean_squared_logarithmic_error: 0.0481 - val_loss: 0.6176 - val_mean_squared_logarithmic_error: 0.6176\n",
            "Epoch 207/500\n",
            "1/1 [==============================] - 0s 40ms/step - loss: 0.1195 - mean_squared_logarithmic_error: 0.1195 - val_loss: 0.6225 - val_mean_squared_logarithmic_error: 0.6225\n",
            "Epoch 208/500\n",
            "1/1 [==============================] - 0s 51ms/step - loss: 0.0970 - mean_squared_logarithmic_error: 0.0970 - val_loss: 0.6269 - val_mean_squared_logarithmic_error: 0.6269\n",
            "Epoch 209/500\n",
            "1/1 [==============================] - 0s 36ms/step - loss: 0.0713 - mean_squared_logarithmic_error: 0.0713 - val_loss: 0.6310 - val_mean_squared_logarithmic_error: 0.6310\n",
            "Epoch 210/500\n",
            "1/1 [==============================] - 0s 55ms/step - loss: 0.1157 - mean_squared_logarithmic_error: 0.1157 - val_loss: 0.6348 - val_mean_squared_logarithmic_error: 0.6348\n",
            "Epoch 211/500\n",
            "1/1 [==============================] - 0s 45ms/step - loss: 0.0872 - mean_squared_logarithmic_error: 0.0872 - val_loss: 0.6382 - val_mean_squared_logarithmic_error: 0.6382\n",
            "Epoch 212/500\n",
            "1/1 [==============================] - 0s 40ms/step - loss: 0.1038 - mean_squared_logarithmic_error: 0.1038 - val_loss: 0.6413 - val_mean_squared_logarithmic_error: 0.6413\n",
            "Epoch 213/500\n",
            "1/1 [==============================] - 0s 39ms/step - loss: 0.1156 - mean_squared_logarithmic_error: 0.1156 - val_loss: 0.6443 - val_mean_squared_logarithmic_error: 0.6443\n",
            "Epoch 214/500\n",
            "1/1 [==============================] - 0s 41ms/step - loss: 0.0832 - mean_squared_logarithmic_error: 0.0832 - val_loss: 0.6477 - val_mean_squared_logarithmic_error: 0.6477\n",
            "Epoch 215/500\n",
            "1/1 [==============================] - 0s 40ms/step - loss: 0.1263 - mean_squared_logarithmic_error: 0.1263 - val_loss: 0.6513 - val_mean_squared_logarithmic_error: 0.6513\n",
            "Epoch 216/500\n",
            "1/1 [==============================] - 0s 42ms/step - loss: 0.0694 - mean_squared_logarithmic_error: 0.0694 - val_loss: 0.6551 - val_mean_squared_logarithmic_error: 0.6551\n",
            "Epoch 217/500\n",
            "1/1 [==============================] - 0s 56ms/step - loss: 0.0658 - mean_squared_logarithmic_error: 0.0658 - val_loss: 0.6590 - val_mean_squared_logarithmic_error: 0.6590\n",
            "Epoch 218/500\n",
            "1/1 [==============================] - 0s 33ms/step - loss: 0.0719 - mean_squared_logarithmic_error: 0.0719 - val_loss: 0.6631 - val_mean_squared_logarithmic_error: 0.6631\n",
            "Epoch 219/500\n",
            "1/1 [==============================] - 0s 34ms/step - loss: 0.0999 - mean_squared_logarithmic_error: 0.0999 - val_loss: 0.6673 - val_mean_squared_logarithmic_error: 0.6673\n",
            "Epoch 220/500\n",
            "1/1 [==============================] - 0s 35ms/step - loss: 0.0684 - mean_squared_logarithmic_error: 0.0684 - val_loss: 0.6715 - val_mean_squared_logarithmic_error: 0.6715\n",
            "Epoch 221/500\n",
            "1/1 [==============================] - 0s 35ms/step - loss: 0.1610 - mean_squared_logarithmic_error: 0.1610 - val_loss: 0.6762 - val_mean_squared_logarithmic_error: 0.6762\n",
            "Epoch 222/500\n",
            "1/1 [==============================] - 0s 44ms/step - loss: 0.0586 - mean_squared_logarithmic_error: 0.0586 - val_loss: 0.6817 - val_mean_squared_logarithmic_error: 0.6817\n",
            "Epoch 223/500\n",
            "1/1 [==============================] - 0s 35ms/step - loss: 0.1037 - mean_squared_logarithmic_error: 0.1037 - val_loss: 0.6867 - val_mean_squared_logarithmic_error: 0.6867\n",
            "Epoch 224/500\n",
            "1/1 [==============================] - 0s 39ms/step - loss: 0.1061 - mean_squared_logarithmic_error: 0.1061 - val_loss: 0.6921 - val_mean_squared_logarithmic_error: 0.6921\n",
            "Epoch 225/500\n",
            "1/1 [==============================] - 0s 34ms/step - loss: 0.1692 - mean_squared_logarithmic_error: 0.1692 - val_loss: 0.6973 - val_mean_squared_logarithmic_error: 0.6973\n",
            "Epoch 226/500\n",
            "1/1 [==============================] - 0s 33ms/step - loss: 0.0654 - mean_squared_logarithmic_error: 0.0654 - val_loss: 0.7024 - val_mean_squared_logarithmic_error: 0.7024\n",
            "Epoch 227/500\n",
            "1/1 [==============================] - 0s 40ms/step - loss: 0.1190 - mean_squared_logarithmic_error: 0.1190 - val_loss: 0.7076 - val_mean_squared_logarithmic_error: 0.7076\n",
            "Epoch 228/500\n",
            "1/1 [==============================] - 0s 33ms/step - loss: 0.1129 - mean_squared_logarithmic_error: 0.1129 - val_loss: 0.7129 - val_mean_squared_logarithmic_error: 0.7129\n",
            "Epoch 229/500\n",
            "1/1 [==============================] - 0s 38ms/step - loss: 0.0838 - mean_squared_logarithmic_error: 0.0838 - val_loss: 0.7177 - val_mean_squared_logarithmic_error: 0.7177\n",
            "Epoch 230/500\n",
            "1/1 [==============================] - 0s 47ms/step - loss: 0.0713 - mean_squared_logarithmic_error: 0.0713 - val_loss: 0.7232 - val_mean_squared_logarithmic_error: 0.7232\n",
            "Epoch 231/500\n",
            "1/1 [==============================] - 0s 34ms/step - loss: 0.0880 - mean_squared_logarithmic_error: 0.0880 - val_loss: 0.7283 - val_mean_squared_logarithmic_error: 0.7283\n",
            "Epoch 232/500\n",
            "1/1 [==============================] - 0s 33ms/step - loss: 0.0639 - mean_squared_logarithmic_error: 0.0639 - val_loss: 0.7328 - val_mean_squared_logarithmic_error: 0.7328\n",
            "Epoch 233/500\n",
            "1/1 [==============================] - 0s 34ms/step - loss: 0.0976 - mean_squared_logarithmic_error: 0.0976 - val_loss: 0.7370 - val_mean_squared_logarithmic_error: 0.7370\n",
            "Epoch 234/500\n",
            "1/1 [==============================] - 0s 33ms/step - loss: 0.0840 - mean_squared_logarithmic_error: 0.0840 - val_loss: 0.7412 - val_mean_squared_logarithmic_error: 0.7412\n",
            "Epoch 235/500\n",
            "1/1 [==============================] - 0s 41ms/step - loss: 0.0776 - mean_squared_logarithmic_error: 0.0776 - val_loss: 0.7454 - val_mean_squared_logarithmic_error: 0.7454\n",
            "Epoch 236/500\n",
            "1/1 [==============================] - 0s 35ms/step - loss: 0.0847 - mean_squared_logarithmic_error: 0.0847 - val_loss: 0.7493 - val_mean_squared_logarithmic_error: 0.7493\n",
            "Epoch 237/500\n",
            "1/1 [==============================] - 0s 35ms/step - loss: 0.1256 - mean_squared_logarithmic_error: 0.1256 - val_loss: 0.7535 - val_mean_squared_logarithmic_error: 0.7535\n",
            "Epoch 238/500\n",
            "1/1 [==============================] - 0s 37ms/step - loss: 0.1027 - mean_squared_logarithmic_error: 0.1027 - val_loss: 0.7582 - val_mean_squared_logarithmic_error: 0.7582\n",
            "Epoch 239/500\n",
            "1/1 [==============================] - 0s 41ms/step - loss: 0.0698 - mean_squared_logarithmic_error: 0.0698 - val_loss: 0.7631 - val_mean_squared_logarithmic_error: 0.7631\n",
            "Epoch 240/500\n",
            "1/1 [==============================] - 0s 44ms/step - loss: 0.0787 - mean_squared_logarithmic_error: 0.0787 - val_loss: 0.7684 - val_mean_squared_logarithmic_error: 0.7684\n",
            "Epoch 241/500\n",
            "1/1 [==============================] - 0s 41ms/step - loss: 0.1023 - mean_squared_logarithmic_error: 0.1023 - val_loss: 0.7743 - val_mean_squared_logarithmic_error: 0.7743\n",
            "Epoch 242/500\n",
            "1/1 [==============================] - 0s 43ms/step - loss: 0.0729 - mean_squared_logarithmic_error: 0.0729 - val_loss: 0.7799 - val_mean_squared_logarithmic_error: 0.7799\n",
            "Epoch 243/500\n",
            "1/1 [==============================] - 0s 32ms/step - loss: 0.0880 - mean_squared_logarithmic_error: 0.0880 - val_loss: 0.7854 - val_mean_squared_logarithmic_error: 0.7854\n",
            "Epoch 244/500\n",
            "1/1 [==============================] - 0s 38ms/step - loss: 0.1026 - mean_squared_logarithmic_error: 0.1026 - val_loss: 0.7911 - val_mean_squared_logarithmic_error: 0.7911\n",
            "Epoch 245/500\n",
            "1/1 [==============================] - 0s 52ms/step - loss: 0.0691 - mean_squared_logarithmic_error: 0.0691 - val_loss: 0.7970 - val_mean_squared_logarithmic_error: 0.7970\n",
            "Epoch 246/500\n",
            "1/1 [==============================] - 0s 35ms/step - loss: 0.1058 - mean_squared_logarithmic_error: 0.1058 - val_loss: 0.8035 - val_mean_squared_logarithmic_error: 0.8035\n",
            "Epoch 247/500\n",
            "1/1 [==============================] - 0s 34ms/step - loss: 0.0888 - mean_squared_logarithmic_error: 0.0888 - val_loss: 0.8097 - val_mean_squared_logarithmic_error: 0.8097\n",
            "Epoch 248/500\n",
            "1/1 [==============================] - 0s 35ms/step - loss: 0.0857 - mean_squared_logarithmic_error: 0.0857 - val_loss: 0.8144 - val_mean_squared_logarithmic_error: 0.8144\n",
            "Epoch 249/500\n",
            "1/1 [==============================] - 0s 34ms/step - loss: 0.1007 - mean_squared_logarithmic_error: 0.1007 - val_loss: 0.8191 - val_mean_squared_logarithmic_error: 0.8191\n",
            "Epoch 250/500\n",
            "1/1 [==============================] - 0s 33ms/step - loss: 0.0558 - mean_squared_logarithmic_error: 0.0558 - val_loss: 0.8227 - val_mean_squared_logarithmic_error: 0.8227\n",
            "Epoch 251/500\n",
            "1/1 [==============================] - 0s 40ms/step - loss: 0.1179 - mean_squared_logarithmic_error: 0.1179 - val_loss: 0.8264 - val_mean_squared_logarithmic_error: 0.8264\n",
            "Epoch 252/500\n",
            "1/1 [==============================] - 0s 38ms/step - loss: 0.0619 - mean_squared_logarithmic_error: 0.0619 - val_loss: 0.8299 - val_mean_squared_logarithmic_error: 0.8299\n",
            "Epoch 253/500\n",
            "1/1 [==============================] - 0s 34ms/step - loss: 0.0824 - mean_squared_logarithmic_error: 0.0824 - val_loss: 0.8331 - val_mean_squared_logarithmic_error: 0.8331\n",
            "Epoch 254/500\n",
            "1/1 [==============================] - 0s 35ms/step - loss: 0.0987 - mean_squared_logarithmic_error: 0.0987 - val_loss: 0.8363 - val_mean_squared_logarithmic_error: 0.8363\n",
            "Epoch 255/500\n",
            "1/1 [==============================] - 0s 39ms/step - loss: 0.0611 - mean_squared_logarithmic_error: 0.0611 - val_loss: 0.8393 - val_mean_squared_logarithmic_error: 0.8393\n",
            "Epoch 256/500\n",
            "1/1 [==============================] - 0s 36ms/step - loss: 0.0833 - mean_squared_logarithmic_error: 0.0833 - val_loss: 0.8414 - val_mean_squared_logarithmic_error: 0.8414\n",
            "Epoch 257/500\n",
            "1/1 [==============================] - 0s 38ms/step - loss: 0.0768 - mean_squared_logarithmic_error: 0.0768 - val_loss: 0.8433 - val_mean_squared_logarithmic_error: 0.8433\n",
            "Epoch 258/500\n",
            "1/1 [==============================] - 0s 34ms/step - loss: 0.1617 - mean_squared_logarithmic_error: 0.1617 - val_loss: 0.8453 - val_mean_squared_logarithmic_error: 0.8453\n",
            "Epoch 259/500\n",
            "1/1 [==============================] - 0s 47ms/step - loss: 0.0826 - mean_squared_logarithmic_error: 0.0826 - val_loss: 0.8473 - val_mean_squared_logarithmic_error: 0.8473\n",
            "Epoch 260/500\n",
            "1/1 [==============================] - 0s 37ms/step - loss: 0.0686 - mean_squared_logarithmic_error: 0.0686 - val_loss: 0.8496 - val_mean_squared_logarithmic_error: 0.8496\n",
            "Epoch 261/500\n",
            "1/1 [==============================] - 0s 33ms/step - loss: 0.0744 - mean_squared_logarithmic_error: 0.0744 - val_loss: 0.8516 - val_mean_squared_logarithmic_error: 0.8516\n",
            "Epoch 262/500\n",
            "1/1 [==============================] - 0s 34ms/step - loss: 0.1272 - mean_squared_logarithmic_error: 0.1272 - val_loss: 0.8536 - val_mean_squared_logarithmic_error: 0.8536\n",
            "Epoch 263/500\n",
            "1/1 [==============================] - 0s 36ms/step - loss: 0.0708 - mean_squared_logarithmic_error: 0.0708 - val_loss: 0.8559 - val_mean_squared_logarithmic_error: 0.8559\n",
            "Epoch 264/500\n",
            "1/1 [==============================] - 0s 37ms/step - loss: 0.0710 - mean_squared_logarithmic_error: 0.0710 - val_loss: 0.8578 - val_mean_squared_logarithmic_error: 0.8578\n",
            "Epoch 265/500\n",
            "1/1 [==============================] - 0s 38ms/step - loss: 0.0909 - mean_squared_logarithmic_error: 0.0909 - val_loss: 0.8595 - val_mean_squared_logarithmic_error: 0.8595\n",
            "Epoch 266/500\n",
            "1/1 [==============================] - 0s 39ms/step - loss: 0.0726 - mean_squared_logarithmic_error: 0.0726 - val_loss: 0.8618 - val_mean_squared_logarithmic_error: 0.8618\n",
            "Epoch 267/500\n",
            "1/1 [==============================] - 0s 36ms/step - loss: 0.0703 - mean_squared_logarithmic_error: 0.0703 - val_loss: 0.8639 - val_mean_squared_logarithmic_error: 0.8639\n",
            "Epoch 268/500\n",
            "1/1 [==============================] - 0s 35ms/step - loss: 0.0599 - mean_squared_logarithmic_error: 0.0599 - val_loss: 0.8665 - val_mean_squared_logarithmic_error: 0.8665\n",
            "Epoch 269/500\n",
            "1/1 [==============================] - 0s 36ms/step - loss: 0.0646 - mean_squared_logarithmic_error: 0.0646 - val_loss: 0.8688 - val_mean_squared_logarithmic_error: 0.8688\n",
            "Epoch 270/500\n",
            "1/1 [==============================] - 0s 33ms/step - loss: 0.1060 - mean_squared_logarithmic_error: 0.1060 - val_loss: 0.8709 - val_mean_squared_logarithmic_error: 0.8709\n",
            "Epoch 271/500\n",
            "1/1 [==============================] - 0s 36ms/step - loss: 0.0831 - mean_squared_logarithmic_error: 0.0831 - val_loss: 0.8726 - val_mean_squared_logarithmic_error: 0.8726\n",
            "Epoch 272/500\n",
            "1/1 [==============================] - 0s 35ms/step - loss: 0.0966 - mean_squared_logarithmic_error: 0.0966 - val_loss: 0.8744 - val_mean_squared_logarithmic_error: 0.8744\n",
            "Epoch 273/500\n",
            "1/1 [==============================] - 0s 36ms/step - loss: 0.0607 - mean_squared_logarithmic_error: 0.0607 - val_loss: 0.8762 - val_mean_squared_logarithmic_error: 0.8762\n",
            "Epoch 274/500\n",
            "1/1 [==============================] - 0s 34ms/step - loss: 0.0505 - mean_squared_logarithmic_error: 0.0505 - val_loss: 0.8778 - val_mean_squared_logarithmic_error: 0.8778\n",
            "Epoch 275/500\n",
            "1/1 [==============================] - 0s 37ms/step - loss: 0.0738 - mean_squared_logarithmic_error: 0.0738 - val_loss: 0.8789 - val_mean_squared_logarithmic_error: 0.8789\n",
            "Epoch 276/500\n",
            "1/1 [==============================] - 0s 36ms/step - loss: 0.0639 - mean_squared_logarithmic_error: 0.0639 - val_loss: 0.8797 - val_mean_squared_logarithmic_error: 0.8797\n",
            "Epoch 277/500\n",
            "1/1 [==============================] - 0s 40ms/step - loss: 0.0335 - mean_squared_logarithmic_error: 0.0335 - val_loss: 0.8803 - val_mean_squared_logarithmic_error: 0.8803\n",
            "Epoch 278/500\n",
            "1/1 [==============================] - 0s 38ms/step - loss: 0.0717 - mean_squared_logarithmic_error: 0.0717 - val_loss: 0.8808 - val_mean_squared_logarithmic_error: 0.8808\n",
            "Epoch 279/500\n",
            "1/1 [==============================] - 0s 38ms/step - loss: 0.0478 - mean_squared_logarithmic_error: 0.0478 - val_loss: 0.8819 - val_mean_squared_logarithmic_error: 0.8819\n",
            "Epoch 280/500\n",
            "1/1 [==============================] - 0s 42ms/step - loss: 0.0379 - mean_squared_logarithmic_error: 0.0379 - val_loss: 0.8832 - val_mean_squared_logarithmic_error: 0.8832\n",
            "Epoch 281/500\n",
            "1/1 [==============================] - 0s 36ms/step - loss: 0.1159 - mean_squared_logarithmic_error: 0.1159 - val_loss: 0.8847 - val_mean_squared_logarithmic_error: 0.8847\n",
            "Epoch 282/500\n",
            "1/1 [==============================] - 0s 37ms/step - loss: 0.0942 - mean_squared_logarithmic_error: 0.0942 - val_loss: 0.8863 - val_mean_squared_logarithmic_error: 0.8863\n",
            "Epoch 283/500\n",
            "1/1 [==============================] - 0s 42ms/step - loss: 0.0949 - mean_squared_logarithmic_error: 0.0949 - val_loss: 0.8877 - val_mean_squared_logarithmic_error: 0.8877\n",
            "Epoch 284/500\n",
            "1/1 [==============================] - 0s 43ms/step - loss: 0.0826 - mean_squared_logarithmic_error: 0.0826 - val_loss: 0.8898 - val_mean_squared_logarithmic_error: 0.8898\n",
            "Epoch 285/500\n",
            "1/1 [==============================] - 0s 36ms/step - loss: 0.0872 - mean_squared_logarithmic_error: 0.0872 - val_loss: 0.8918 - val_mean_squared_logarithmic_error: 0.8918\n",
            "Epoch 286/500\n",
            "1/1 [==============================] - 0s 36ms/step - loss: 0.0562 - mean_squared_logarithmic_error: 0.0562 - val_loss: 0.8942 - val_mean_squared_logarithmic_error: 0.8942\n",
            "Epoch 287/500\n",
            "1/1 [==============================] - 0s 57ms/step - loss: 0.0782 - mean_squared_logarithmic_error: 0.0782 - val_loss: 0.8963 - val_mean_squared_logarithmic_error: 0.8963\n",
            "Epoch 288/500\n",
            "1/1 [==============================] - 0s 55ms/step - loss: 0.0535 - mean_squared_logarithmic_error: 0.0535 - val_loss: 0.8985 - val_mean_squared_logarithmic_error: 0.8985\n",
            "Epoch 289/500\n",
            "1/1 [==============================] - 0s 42ms/step - loss: 0.0576 - mean_squared_logarithmic_error: 0.0576 - val_loss: 0.9011 - val_mean_squared_logarithmic_error: 0.9011\n",
            "Epoch 290/500\n",
            "1/1 [==============================] - 0s 37ms/step - loss: 0.1185 - mean_squared_logarithmic_error: 0.1185 - val_loss: 0.9031 - val_mean_squared_logarithmic_error: 0.9031\n",
            "Epoch 291/500\n",
            "1/1 [==============================] - 0s 34ms/step - loss: 0.0835 - mean_squared_logarithmic_error: 0.0835 - val_loss: 0.9041 - val_mean_squared_logarithmic_error: 0.9041\n",
            "Epoch 292/500\n",
            "1/1 [==============================] - 0s 34ms/step - loss: 0.1113 - mean_squared_logarithmic_error: 0.1113 - val_loss: 0.9042 - val_mean_squared_logarithmic_error: 0.9042\n",
            "Epoch 293/500\n",
            "1/1 [==============================] - 0s 34ms/step - loss: 0.0749 - mean_squared_logarithmic_error: 0.0749 - val_loss: 0.9035 - val_mean_squared_logarithmic_error: 0.9035\n",
            "Epoch 294/500\n",
            "1/1 [==============================] - 0s 35ms/step - loss: 0.1061 - mean_squared_logarithmic_error: 0.1061 - val_loss: 0.9027 - val_mean_squared_logarithmic_error: 0.9027\n",
            "Epoch 295/500\n",
            "1/1 [==============================] - 0s 37ms/step - loss: 0.1030 - mean_squared_logarithmic_error: 0.1030 - val_loss: 0.9026 - val_mean_squared_logarithmic_error: 0.9026\n",
            "Epoch 296/500\n",
            "1/1 [==============================] - 0s 36ms/step - loss: 0.0806 - mean_squared_logarithmic_error: 0.0806 - val_loss: 0.9031 - val_mean_squared_logarithmic_error: 0.9031\n",
            "Epoch 297/500\n",
            "1/1 [==============================] - 0s 37ms/step - loss: 0.0622 - mean_squared_logarithmic_error: 0.0622 - val_loss: 0.9046 - val_mean_squared_logarithmic_error: 0.9046\n",
            "Epoch 298/500\n",
            "1/1 [==============================] - 0s 35ms/step - loss: 0.1191 - mean_squared_logarithmic_error: 0.1191 - val_loss: 0.9075 - val_mean_squared_logarithmic_error: 0.9075\n",
            "Epoch 299/500\n",
            "1/1 [==============================] - 0s 39ms/step - loss: 0.0795 - mean_squared_logarithmic_error: 0.0795 - val_loss: 0.9108 - val_mean_squared_logarithmic_error: 0.9108\n",
            "Epoch 300/500\n",
            "1/1 [==============================] - 0s 40ms/step - loss: 0.0523 - mean_squared_logarithmic_error: 0.0523 - val_loss: 0.9149 - val_mean_squared_logarithmic_error: 0.9149\n",
            "Epoch 301/500\n",
            "1/1 [==============================] - 0s 45ms/step - loss: 0.0737 - mean_squared_logarithmic_error: 0.0737 - val_loss: 0.9192 - val_mean_squared_logarithmic_error: 0.9192\n",
            "Epoch 302/500\n",
            "1/1 [==============================] - 0s 40ms/step - loss: 0.0875 - mean_squared_logarithmic_error: 0.0875 - val_loss: 0.9241 - val_mean_squared_logarithmic_error: 0.9241\n",
            "Epoch 303/500\n",
            "1/1 [==============================] - 0s 42ms/step - loss: 0.0797 - mean_squared_logarithmic_error: 0.0797 - val_loss: 0.9287 - val_mean_squared_logarithmic_error: 0.9287\n",
            "Epoch 304/500\n",
            "1/1 [==============================] - 0s 40ms/step - loss: 0.0922 - mean_squared_logarithmic_error: 0.0922 - val_loss: 0.9333 - val_mean_squared_logarithmic_error: 0.9333\n",
            "Epoch 305/500\n",
            "1/1 [==============================] - 0s 40ms/step - loss: 0.0975 - mean_squared_logarithmic_error: 0.0975 - val_loss: 0.9374 - val_mean_squared_logarithmic_error: 0.9374\n",
            "Epoch 306/500\n",
            "1/1 [==============================] - 0s 37ms/step - loss: 0.0723 - mean_squared_logarithmic_error: 0.0723 - val_loss: 0.9415 - val_mean_squared_logarithmic_error: 0.9415\n",
            "Epoch 307/500\n",
            "1/1 [==============================] - 0s 55ms/step - loss: 0.0436 - mean_squared_logarithmic_error: 0.0436 - val_loss: 0.9455 - val_mean_squared_logarithmic_error: 0.9455\n",
            "Epoch 308/500\n",
            "1/1 [==============================] - 0s 36ms/step - loss: 0.0958 - mean_squared_logarithmic_error: 0.0958 - val_loss: 0.9493 - val_mean_squared_logarithmic_error: 0.9493\n",
            "Epoch 309/500\n",
            "1/1 [==============================] - 0s 39ms/step - loss: 0.1269 - mean_squared_logarithmic_error: 0.1269 - val_loss: 0.9522 - val_mean_squared_logarithmic_error: 0.9522\n",
            "Epoch 310/500\n",
            "1/1 [==============================] - 0s 39ms/step - loss: 0.0859 - mean_squared_logarithmic_error: 0.0859 - val_loss: 0.9549 - val_mean_squared_logarithmic_error: 0.9549\n",
            "Epoch 311/500\n",
            "1/1 [==============================] - 0s 36ms/step - loss: 0.0750 - mean_squared_logarithmic_error: 0.0750 - val_loss: 0.9577 - val_mean_squared_logarithmic_error: 0.9577\n",
            "Epoch 312/500\n",
            "1/1 [==============================] - 0s 37ms/step - loss: 0.0758 - mean_squared_logarithmic_error: 0.0758 - val_loss: 0.9601 - val_mean_squared_logarithmic_error: 0.9601\n",
            "Epoch 313/500\n",
            "1/1 [==============================] - 0s 35ms/step - loss: 0.0879 - mean_squared_logarithmic_error: 0.0879 - val_loss: 0.9619 - val_mean_squared_logarithmic_error: 0.9619\n",
            "Epoch 314/500\n",
            "1/1 [==============================] - 0s 36ms/step - loss: 0.0869 - mean_squared_logarithmic_error: 0.0869 - val_loss: 0.9638 - val_mean_squared_logarithmic_error: 0.9638\n",
            "Epoch 315/500\n",
            "1/1 [==============================] - 0s 61ms/step - loss: 0.0778 - mean_squared_logarithmic_error: 0.0778 - val_loss: 0.9653 - val_mean_squared_logarithmic_error: 0.9653\n",
            "Epoch 316/500\n",
            "1/1 [==============================] - 0s 42ms/step - loss: 0.0618 - mean_squared_logarithmic_error: 0.0618 - val_loss: 0.9655 - val_mean_squared_logarithmic_error: 0.9655\n",
            "Epoch 317/500\n",
            "1/1 [==============================] - 0s 32ms/step - loss: 0.0629 - mean_squared_logarithmic_error: 0.0629 - val_loss: 0.9652 - val_mean_squared_logarithmic_error: 0.9652\n",
            "Epoch 318/500\n",
            "1/1 [==============================] - 0s 39ms/step - loss: 0.0946 - mean_squared_logarithmic_error: 0.0946 - val_loss: 0.9656 - val_mean_squared_logarithmic_error: 0.9656\n",
            "Epoch 319/500\n",
            "1/1 [==============================] - 0s 35ms/step - loss: 0.0723 - mean_squared_logarithmic_error: 0.0723 - val_loss: 0.9655 - val_mean_squared_logarithmic_error: 0.9655\n",
            "Epoch 320/500\n",
            "1/1 [==============================] - 0s 39ms/step - loss: 0.0920 - mean_squared_logarithmic_error: 0.0920 - val_loss: 0.9663 - val_mean_squared_logarithmic_error: 0.9663\n",
            "Epoch 321/500\n",
            "1/1 [==============================] - 0s 38ms/step - loss: 0.0905 - mean_squared_logarithmic_error: 0.0905 - val_loss: 0.9671 - val_mean_squared_logarithmic_error: 0.9671\n",
            "Epoch 322/500\n",
            "1/1 [==============================] - 0s 35ms/step - loss: 0.0579 - mean_squared_logarithmic_error: 0.0579 - val_loss: 0.9683 - val_mean_squared_logarithmic_error: 0.9683\n",
            "Epoch 323/500\n",
            "1/1 [==============================] - 0s 36ms/step - loss: 0.0822 - mean_squared_logarithmic_error: 0.0822 - val_loss: 0.9694 - val_mean_squared_logarithmic_error: 0.9694\n",
            "Epoch 324/500\n",
            "1/1 [==============================] - 0s 45ms/step - loss: 0.1013 - mean_squared_logarithmic_error: 0.1013 - val_loss: 0.9704 - val_mean_squared_logarithmic_error: 0.9704\n",
            "Epoch 325/500\n",
            "1/1 [==============================] - 0s 37ms/step - loss: 0.0525 - mean_squared_logarithmic_error: 0.0525 - val_loss: 0.9717 - val_mean_squared_logarithmic_error: 0.9717\n",
            "Epoch 326/500\n",
            "1/1 [==============================] - 0s 40ms/step - loss: 0.0726 - mean_squared_logarithmic_error: 0.0726 - val_loss: 0.9728 - val_mean_squared_logarithmic_error: 0.9728\n",
            "Epoch 327/500\n",
            "1/1 [==============================] - 0s 39ms/step - loss: 0.0773 - mean_squared_logarithmic_error: 0.0773 - val_loss: 0.9741 - val_mean_squared_logarithmic_error: 0.9741\n",
            "Epoch 328/500\n",
            "1/1 [==============================] - 0s 42ms/step - loss: 0.0892 - mean_squared_logarithmic_error: 0.0892 - val_loss: 0.9760 - val_mean_squared_logarithmic_error: 0.9760\n",
            "Epoch 329/500\n",
            "1/1 [==============================] - 0s 38ms/step - loss: 0.0600 - mean_squared_logarithmic_error: 0.0600 - val_loss: 0.9773 - val_mean_squared_logarithmic_error: 0.9773\n",
            "Epoch 330/500\n",
            "1/1 [==============================] - 0s 47ms/step - loss: 0.0430 - mean_squared_logarithmic_error: 0.0430 - val_loss: 0.9787 - val_mean_squared_logarithmic_error: 0.9787\n",
            "Epoch 331/500\n",
            "1/1 [==============================] - 0s 39ms/step - loss: 0.0817 - mean_squared_logarithmic_error: 0.0817 - val_loss: 0.9812 - val_mean_squared_logarithmic_error: 0.9812\n",
            "Epoch 332/500\n",
            "1/1 [==============================] - 0s 41ms/step - loss: 0.0963 - mean_squared_logarithmic_error: 0.0963 - val_loss: 0.9847 - val_mean_squared_logarithmic_error: 0.9847\n",
            "Epoch 333/500\n",
            "1/1 [==============================] - 0s 37ms/step - loss: 0.0689 - mean_squared_logarithmic_error: 0.0689 - val_loss: 0.9886 - val_mean_squared_logarithmic_error: 0.9886\n",
            "Epoch 334/500\n",
            "1/1 [==============================] - 0s 36ms/step - loss: 0.1415 - mean_squared_logarithmic_error: 0.1415 - val_loss: 0.9918 - val_mean_squared_logarithmic_error: 0.9918\n",
            "Epoch 335/500\n",
            "1/1 [==============================] - 0s 37ms/step - loss: 0.0805 - mean_squared_logarithmic_error: 0.0805 - val_loss: 0.9938 - val_mean_squared_logarithmic_error: 0.9938\n",
            "Epoch 336/500\n",
            "1/1 [==============================] - 0s 34ms/step - loss: 0.0432 - mean_squared_logarithmic_error: 0.0432 - val_loss: 0.9949 - val_mean_squared_logarithmic_error: 0.9949\n",
            "Epoch 337/500\n",
            "1/1 [==============================] - 0s 35ms/step - loss: 0.0591 - mean_squared_logarithmic_error: 0.0591 - val_loss: 0.9962 - val_mean_squared_logarithmic_error: 0.9962\n",
            "Epoch 338/500\n",
            "1/1 [==============================] - 0s 41ms/step - loss: 0.0380 - mean_squared_logarithmic_error: 0.0380 - val_loss: 0.9974 - val_mean_squared_logarithmic_error: 0.9974\n",
            "Epoch 339/500\n",
            "1/1 [==============================] - 0s 37ms/step - loss: 0.0574 - mean_squared_logarithmic_error: 0.0574 - val_loss: 0.9985 - val_mean_squared_logarithmic_error: 0.9985\n",
            "Epoch 340/500\n",
            "1/1 [==============================] - 0s 39ms/step - loss: 0.0588 - mean_squared_logarithmic_error: 0.0588 - val_loss: 0.9994 - val_mean_squared_logarithmic_error: 0.9994\n",
            "Epoch 341/500\n",
            "1/1 [==============================] - 0s 45ms/step - loss: 0.0668 - mean_squared_logarithmic_error: 0.0668 - val_loss: 1.0005 - val_mean_squared_logarithmic_error: 1.0005\n",
            "Epoch 342/500\n",
            "1/1 [==============================] - 0s 38ms/step - loss: 0.0778 - mean_squared_logarithmic_error: 0.0778 - val_loss: 1.0013 - val_mean_squared_logarithmic_error: 1.0013\n",
            "Epoch 343/500\n",
            "1/1 [==============================] - 0s 36ms/step - loss: 0.0636 - mean_squared_logarithmic_error: 0.0636 - val_loss: 1.0019 - val_mean_squared_logarithmic_error: 1.0019\n",
            "Epoch 344/500\n",
            "1/1 [==============================] - 0s 44ms/step - loss: 0.0622 - mean_squared_logarithmic_error: 0.0622 - val_loss: 1.0024 - val_mean_squared_logarithmic_error: 1.0024\n",
            "Epoch 345/500\n",
            "1/1 [==============================] - 0s 38ms/step - loss: 0.1013 - mean_squared_logarithmic_error: 0.1013 - val_loss: 1.0019 - val_mean_squared_logarithmic_error: 1.0019\n",
            "Epoch 346/500\n",
            "1/1 [==============================] - 0s 39ms/step - loss: 0.0585 - mean_squared_logarithmic_error: 0.0585 - val_loss: 1.0014 - val_mean_squared_logarithmic_error: 1.0014\n",
            "Epoch 347/500\n",
            "1/1 [==============================] - 0s 38ms/step - loss: 0.0418 - mean_squared_logarithmic_error: 0.0418 - val_loss: 1.0007 - val_mean_squared_logarithmic_error: 1.0007\n",
            "Epoch 348/500\n",
            "1/1 [==============================] - 0s 36ms/step - loss: 0.1247 - mean_squared_logarithmic_error: 0.1247 - val_loss: 0.9976 - val_mean_squared_logarithmic_error: 0.9976\n",
            "Epoch 349/500\n",
            "1/1 [==============================] - 0s 40ms/step - loss: 0.0447 - mean_squared_logarithmic_error: 0.0447 - val_loss: 0.9952 - val_mean_squared_logarithmic_error: 0.9952\n",
            "Epoch 350/500\n",
            "1/1 [==============================] - 0s 37ms/step - loss: 0.1167 - mean_squared_logarithmic_error: 0.1167 - val_loss: 0.9929 - val_mean_squared_logarithmic_error: 0.9929\n",
            "Epoch 351/500\n",
            "1/1 [==============================] - 0s 39ms/step - loss: 0.0905 - mean_squared_logarithmic_error: 0.0905 - val_loss: 0.9909 - val_mean_squared_logarithmic_error: 0.9909\n",
            "Epoch 352/500\n",
            "1/1 [==============================] - 0s 39ms/step - loss: 0.0766 - mean_squared_logarithmic_error: 0.0766 - val_loss: 0.9891 - val_mean_squared_logarithmic_error: 0.9891\n",
            "Epoch 353/500\n",
            "1/1 [==============================] - 0s 40ms/step - loss: 0.0939 - mean_squared_logarithmic_error: 0.0939 - val_loss: 0.9872 - val_mean_squared_logarithmic_error: 0.9872\n",
            "Epoch 354/500\n",
            "1/1 [==============================] - 0s 46ms/step - loss: 0.0922 - mean_squared_logarithmic_error: 0.0922 - val_loss: 0.9862 - val_mean_squared_logarithmic_error: 0.9862\n",
            "Epoch 355/500\n",
            "1/1 [==============================] - 0s 38ms/step - loss: 0.0708 - mean_squared_logarithmic_error: 0.0708 - val_loss: 0.9862 - val_mean_squared_logarithmic_error: 0.9862\n",
            "Epoch 356/500\n",
            "1/1 [==============================] - 0s 35ms/step - loss: 0.0577 - mean_squared_logarithmic_error: 0.0577 - val_loss: 0.9863 - val_mean_squared_logarithmic_error: 0.9863\n",
            "Epoch 357/500\n",
            "1/1 [==============================] - 0s 37ms/step - loss: 0.1067 - mean_squared_logarithmic_error: 0.1067 - val_loss: 0.9866 - val_mean_squared_logarithmic_error: 0.9866\n",
            "Epoch 358/500\n",
            "1/1 [==============================] - 0s 41ms/step - loss: 0.0884 - mean_squared_logarithmic_error: 0.0884 - val_loss: 0.9871 - val_mean_squared_logarithmic_error: 0.9871\n",
            "Epoch 359/500\n",
            "1/1 [==============================] - 0s 40ms/step - loss: 0.0734 - mean_squared_logarithmic_error: 0.0734 - val_loss: 0.9875 - val_mean_squared_logarithmic_error: 0.9875\n",
            "Epoch 360/500\n",
            "1/1 [==============================] - 0s 45ms/step - loss: 0.1106 - mean_squared_logarithmic_error: 0.1106 - val_loss: 0.9883 - val_mean_squared_logarithmic_error: 0.9883\n",
            "Epoch 361/500\n",
            "1/1 [==============================] - 0s 40ms/step - loss: 0.0513 - mean_squared_logarithmic_error: 0.0513 - val_loss: 0.9890 - val_mean_squared_logarithmic_error: 0.9890\n",
            "Epoch 362/500\n",
            "1/1 [==============================] - 0s 36ms/step - loss: 0.0872 - mean_squared_logarithmic_error: 0.0872 - val_loss: 0.9900 - val_mean_squared_logarithmic_error: 0.9900\n",
            "Epoch 363/500\n",
            "1/1 [==============================] - 0s 35ms/step - loss: 0.0664 - mean_squared_logarithmic_error: 0.0664 - val_loss: 0.9914 - val_mean_squared_logarithmic_error: 0.9914\n",
            "Epoch 364/500\n",
            "1/1 [==============================] - 0s 38ms/step - loss: 0.1026 - mean_squared_logarithmic_error: 0.1026 - val_loss: 0.9929 - val_mean_squared_logarithmic_error: 0.9929\n",
            "Epoch 365/500\n",
            "1/1 [==============================] - 0s 44ms/step - loss: 0.0781 - mean_squared_logarithmic_error: 0.0781 - val_loss: 0.9940 - val_mean_squared_logarithmic_error: 0.9940\n",
            "Epoch 366/500\n",
            "1/1 [==============================] - 0s 40ms/step - loss: 0.0968 - mean_squared_logarithmic_error: 0.0968 - val_loss: 0.9942 - val_mean_squared_logarithmic_error: 0.9942\n",
            "Epoch 367/500\n",
            "1/1 [==============================] - 0s 37ms/step - loss: 0.0441 - mean_squared_logarithmic_error: 0.0441 - val_loss: 0.9945 - val_mean_squared_logarithmic_error: 0.9945\n",
            "Epoch 368/500\n",
            "1/1 [==============================] - 0s 38ms/step - loss: 0.0817 - mean_squared_logarithmic_error: 0.0817 - val_loss: 0.9950 - val_mean_squared_logarithmic_error: 0.9950\n",
            "Epoch 369/500\n",
            "1/1 [==============================] - 0s 38ms/step - loss: 0.1104 - mean_squared_logarithmic_error: 0.1104 - val_loss: 0.9965 - val_mean_squared_logarithmic_error: 0.9965\n",
            "Epoch 370/500\n",
            "1/1 [==============================] - 0s 35ms/step - loss: 0.0699 - mean_squared_logarithmic_error: 0.0699 - val_loss: 0.9985 - val_mean_squared_logarithmic_error: 0.9985\n",
            "Epoch 371/500\n",
            "1/1 [==============================] - 0s 35ms/step - loss: 0.0752 - mean_squared_logarithmic_error: 0.0752 - val_loss: 1.0007 - val_mean_squared_logarithmic_error: 1.0007\n",
            "Epoch 372/500\n",
            "1/1 [==============================] - 0s 43ms/step - loss: 0.0573 - mean_squared_logarithmic_error: 0.0573 - val_loss: 1.0022 - val_mean_squared_logarithmic_error: 1.0022\n",
            "Epoch 373/500\n",
            "1/1 [==============================] - 0s 34ms/step - loss: 0.0799 - mean_squared_logarithmic_error: 0.0799 - val_loss: 1.0041 - val_mean_squared_logarithmic_error: 1.0041\n",
            "Epoch 374/500\n",
            "1/1 [==============================] - 0s 37ms/step - loss: 0.0407 - mean_squared_logarithmic_error: 0.0407 - val_loss: 1.0066 - val_mean_squared_logarithmic_error: 1.0066\n",
            "Epoch 375/500\n",
            "1/1 [==============================] - 0s 34ms/step - loss: 0.0679 - mean_squared_logarithmic_error: 0.0679 - val_loss: 1.0088 - val_mean_squared_logarithmic_error: 1.0088\n",
            "Epoch 376/500\n",
            "1/1 [==============================] - 0s 37ms/step - loss: 0.0840 - mean_squared_logarithmic_error: 0.0840 - val_loss: 1.0093 - val_mean_squared_logarithmic_error: 1.0093\n",
            "Epoch 377/500\n",
            "1/1 [==============================] - 0s 38ms/step - loss: 0.0436 - mean_squared_logarithmic_error: 0.0436 - val_loss: 1.0098 - val_mean_squared_logarithmic_error: 1.0098\n",
            "Epoch 378/500\n",
            "1/1 [==============================] - 0s 34ms/step - loss: 0.0533 - mean_squared_logarithmic_error: 0.0533 - val_loss: 1.0105 - val_mean_squared_logarithmic_error: 1.0105\n",
            "Epoch 379/500\n",
            "1/1 [==============================] - 0s 52ms/step - loss: 0.0750 - mean_squared_logarithmic_error: 0.0750 - val_loss: 1.0118 - val_mean_squared_logarithmic_error: 1.0118\n",
            "Epoch 380/500\n",
            "1/1 [==============================] - 0s 38ms/step - loss: 0.1002 - mean_squared_logarithmic_error: 0.1002 - val_loss: 1.0138 - val_mean_squared_logarithmic_error: 1.0138\n",
            "Epoch 381/500\n",
            "1/1 [==============================] - 0s 40ms/step - loss: 0.0617 - mean_squared_logarithmic_error: 0.0617 - val_loss: 1.0151 - val_mean_squared_logarithmic_error: 1.0151\n",
            "Epoch 382/500\n",
            "1/1 [==============================] - 0s 35ms/step - loss: 0.0905 - mean_squared_logarithmic_error: 0.0905 - val_loss: 1.0163 - val_mean_squared_logarithmic_error: 1.0163\n",
            "Epoch 383/500\n",
            "1/1 [==============================] - 0s 40ms/step - loss: 0.0789 - mean_squared_logarithmic_error: 0.0789 - val_loss: 1.0180 - val_mean_squared_logarithmic_error: 1.0180\n",
            "Epoch 384/500\n",
            "1/1 [==============================] - 0s 38ms/step - loss: 0.0768 - mean_squared_logarithmic_error: 0.0768 - val_loss: 1.0194 - val_mean_squared_logarithmic_error: 1.0194\n",
            "Epoch 385/500\n",
            "1/1 [==============================] - 0s 35ms/step - loss: 0.0886 - mean_squared_logarithmic_error: 0.0886 - val_loss: 1.0216 - val_mean_squared_logarithmic_error: 1.0216\n",
            "Epoch 386/500\n",
            "1/1 [==============================] - 0s 41ms/step - loss: 0.0812 - mean_squared_logarithmic_error: 0.0812 - val_loss: 1.0232 - val_mean_squared_logarithmic_error: 1.0232\n",
            "Epoch 387/500\n",
            "1/1 [==============================] - 0s 47ms/step - loss: 0.1054 - mean_squared_logarithmic_error: 0.1054 - val_loss: 1.0249 - val_mean_squared_logarithmic_error: 1.0249\n",
            "Epoch 388/500\n",
            "1/1 [==============================] - 0s 40ms/step - loss: 0.0934 - mean_squared_logarithmic_error: 0.0934 - val_loss: 1.0277 - val_mean_squared_logarithmic_error: 1.0277\n",
            "Epoch 389/500\n",
            "1/1 [==============================] - 0s 35ms/step - loss: 0.1034 - mean_squared_logarithmic_error: 0.1034 - val_loss: 1.0315 - val_mean_squared_logarithmic_error: 1.0315\n",
            "Epoch 390/500\n",
            "1/1 [==============================] - 0s 39ms/step - loss: 0.0900 - mean_squared_logarithmic_error: 0.0900 - val_loss: 1.0351 - val_mean_squared_logarithmic_error: 1.0351\n",
            "Epoch 391/500\n",
            "1/1 [==============================] - 0s 46ms/step - loss: 0.0543 - mean_squared_logarithmic_error: 0.0543 - val_loss: 1.0383 - val_mean_squared_logarithmic_error: 1.0383\n",
            "Epoch 392/500\n",
            "1/1 [==============================] - 0s 40ms/step - loss: 0.0913 - mean_squared_logarithmic_error: 0.0913 - val_loss: 1.0415 - val_mean_squared_logarithmic_error: 1.0415\n",
            "Epoch 393/500\n",
            "1/1 [==============================] - 0s 37ms/step - loss: 0.0942 - mean_squared_logarithmic_error: 0.0942 - val_loss: 1.0445 - val_mean_squared_logarithmic_error: 1.0445\n",
            "Epoch 394/500\n",
            "1/1 [==============================] - 0s 41ms/step - loss: 0.0489 - mean_squared_logarithmic_error: 0.0489 - val_loss: 1.0467 - val_mean_squared_logarithmic_error: 1.0467\n",
            "Epoch 395/500\n",
            "1/1 [==============================] - 0s 38ms/step - loss: 0.0648 - mean_squared_logarithmic_error: 0.0648 - val_loss: 1.0479 - val_mean_squared_logarithmic_error: 1.0479\n",
            "Epoch 396/500\n",
            "1/1 [==============================] - 0s 40ms/step - loss: 0.0977 - mean_squared_logarithmic_error: 0.0977 - val_loss: 1.0486 - val_mean_squared_logarithmic_error: 1.0486\n",
            "Epoch 397/500\n",
            "1/1 [==============================] - 0s 41ms/step - loss: 0.0863 - mean_squared_logarithmic_error: 0.0863 - val_loss: 1.0490 - val_mean_squared_logarithmic_error: 1.0490\n",
            "Epoch 398/500\n",
            "1/1 [==============================] - 0s 40ms/step - loss: 0.1068 - mean_squared_logarithmic_error: 0.1068 - val_loss: 1.0503 - val_mean_squared_logarithmic_error: 1.0503\n",
            "Epoch 399/500\n",
            "1/1 [==============================] - 0s 44ms/step - loss: 0.0665 - mean_squared_logarithmic_error: 0.0665 - val_loss: 1.0508 - val_mean_squared_logarithmic_error: 1.0508\n",
            "Epoch 400/500\n",
            "1/1 [==============================] - 0s 45ms/step - loss: 0.0791 - mean_squared_logarithmic_error: 0.0791 - val_loss: 1.0516 - val_mean_squared_logarithmic_error: 1.0516\n",
            "Epoch 401/500\n",
            "1/1 [==============================] - 0s 39ms/step - loss: 0.0996 - mean_squared_logarithmic_error: 0.0996 - val_loss: 1.0530 - val_mean_squared_logarithmic_error: 1.0530\n",
            "Epoch 402/500\n",
            "1/1 [==============================] - 0s 48ms/step - loss: 0.0644 - mean_squared_logarithmic_error: 0.0644 - val_loss: 1.0535 - val_mean_squared_logarithmic_error: 1.0535\n",
            "Epoch 403/500\n",
            "1/1 [==============================] - 0s 41ms/step - loss: 0.0826 - mean_squared_logarithmic_error: 0.0826 - val_loss: 1.0542 - val_mean_squared_logarithmic_error: 1.0542\n",
            "Epoch 404/500\n",
            "1/1 [==============================] - 0s 38ms/step - loss: 0.0764 - mean_squared_logarithmic_error: 0.0764 - val_loss: 1.0543 - val_mean_squared_logarithmic_error: 1.0543\n",
            "Epoch 405/500\n",
            "1/1 [==============================] - 0s 38ms/step - loss: 0.0616 - mean_squared_logarithmic_error: 0.0616 - val_loss: 1.0535 - val_mean_squared_logarithmic_error: 1.0535\n",
            "Epoch 406/500\n",
            "1/1 [==============================] - 0s 40ms/step - loss: 0.0715 - mean_squared_logarithmic_error: 0.0715 - val_loss: 1.0533 - val_mean_squared_logarithmic_error: 1.0533\n",
            "Epoch 407/500\n",
            "1/1 [==============================] - 0s 39ms/step - loss: 0.1078 - mean_squared_logarithmic_error: 0.1078 - val_loss: 1.0531 - val_mean_squared_logarithmic_error: 1.0531\n",
            "Epoch 408/500\n",
            "1/1 [==============================] - 0s 40ms/step - loss: 0.0740 - mean_squared_logarithmic_error: 0.0740 - val_loss: 1.0525 - val_mean_squared_logarithmic_error: 1.0525\n",
            "Epoch 409/500\n",
            "1/1 [==============================] - 0s 37ms/step - loss: 0.0858 - mean_squared_logarithmic_error: 0.0858 - val_loss: 1.0512 - val_mean_squared_logarithmic_error: 1.0512\n",
            "Epoch 410/500\n",
            "1/1 [==============================] - 0s 44ms/step - loss: 0.0529 - mean_squared_logarithmic_error: 0.0529 - val_loss: 1.0500 - val_mean_squared_logarithmic_error: 1.0500\n",
            "Epoch 411/500\n",
            "1/1 [==============================] - 0s 41ms/step - loss: 0.0864 - mean_squared_logarithmic_error: 0.0864 - val_loss: 1.0477 - val_mean_squared_logarithmic_error: 1.0477\n",
            "Epoch 412/500\n",
            "1/1 [==============================] - 0s 34ms/step - loss: 0.0917 - mean_squared_logarithmic_error: 0.0917 - val_loss: 1.0451 - val_mean_squared_logarithmic_error: 1.0451\n",
            "Epoch 413/500\n",
            "1/1 [==============================] - 0s 36ms/step - loss: 0.0659 - mean_squared_logarithmic_error: 0.0659 - val_loss: 1.0430 - val_mean_squared_logarithmic_error: 1.0430\n",
            "Epoch 414/500\n",
            "1/1 [==============================] - 0s 36ms/step - loss: 0.0858 - mean_squared_logarithmic_error: 0.0858 - val_loss: 1.0419 - val_mean_squared_logarithmic_error: 1.0419\n",
            "Epoch 415/500\n",
            "1/1 [==============================] - 0s 39ms/step - loss: 0.1477 - mean_squared_logarithmic_error: 0.1477 - val_loss: 1.0400 - val_mean_squared_logarithmic_error: 1.0400\n",
            "Epoch 416/500\n",
            "1/1 [==============================] - 0s 39ms/step - loss: 0.0824 - mean_squared_logarithmic_error: 0.0824 - val_loss: 1.0381 - val_mean_squared_logarithmic_error: 1.0381\n",
            "Epoch 417/500\n",
            "1/1 [==============================] - 0s 38ms/step - loss: 0.0886 - mean_squared_logarithmic_error: 0.0886 - val_loss: 1.0365 - val_mean_squared_logarithmic_error: 1.0365\n",
            "Epoch 418/500\n",
            "1/1 [==============================] - 0s 46ms/step - loss: 0.0629 - mean_squared_logarithmic_error: 0.0629 - val_loss: 1.0364 - val_mean_squared_logarithmic_error: 1.0364\n",
            "Epoch 419/500\n",
            "1/1 [==============================] - 0s 38ms/step - loss: 0.0690 - mean_squared_logarithmic_error: 0.0690 - val_loss: 1.0361 - val_mean_squared_logarithmic_error: 1.0361\n",
            "Epoch 420/500\n",
            "1/1 [==============================] - 0s 40ms/step - loss: 0.0689 - mean_squared_logarithmic_error: 0.0689 - val_loss: 1.0359 - val_mean_squared_logarithmic_error: 1.0359\n",
            "Epoch 421/500\n",
            "1/1 [==============================] - 0s 37ms/step - loss: 0.0548 - mean_squared_logarithmic_error: 0.0548 - val_loss: 1.0356 - val_mean_squared_logarithmic_error: 1.0356\n",
            "Epoch 422/500\n",
            "1/1 [==============================] - 0s 37ms/step - loss: 0.0900 - mean_squared_logarithmic_error: 0.0900 - val_loss: 1.0364 - val_mean_squared_logarithmic_error: 1.0364\n",
            "Epoch 423/500\n",
            "1/1 [==============================] - 0s 46ms/step - loss: 0.0633 - mean_squared_logarithmic_error: 0.0633 - val_loss: 1.0380 - val_mean_squared_logarithmic_error: 1.0380\n",
            "Epoch 424/500\n",
            "1/1 [==============================] - 0s 42ms/step - loss: 0.0776 - mean_squared_logarithmic_error: 0.0776 - val_loss: 1.0399 - val_mean_squared_logarithmic_error: 1.0399\n",
            "Epoch 425/500\n",
            "1/1 [==============================] - 0s 46ms/step - loss: 0.0712 - mean_squared_logarithmic_error: 0.0712 - val_loss: 1.0426 - val_mean_squared_logarithmic_error: 1.0426\n",
            "Epoch 426/500\n",
            "1/1 [==============================] - 0s 37ms/step - loss: 0.0623 - mean_squared_logarithmic_error: 0.0623 - val_loss: 1.0464 - val_mean_squared_logarithmic_error: 1.0464\n",
            "Epoch 427/500\n",
            "1/1 [==============================] - 0s 37ms/step - loss: 0.0615 - mean_squared_logarithmic_error: 0.0615 - val_loss: 1.0492 - val_mean_squared_logarithmic_error: 1.0492\n",
            "Epoch 428/500\n",
            "1/1 [==============================] - 0s 49ms/step - loss: 0.0563 - mean_squared_logarithmic_error: 0.0563 - val_loss: 1.0513 - val_mean_squared_logarithmic_error: 1.0513\n",
            "Epoch 429/500\n",
            "1/1 [==============================] - 0s 35ms/step - loss: 0.0926 - mean_squared_logarithmic_error: 0.0926 - val_loss: 1.0520 - val_mean_squared_logarithmic_error: 1.0520\n",
            "Epoch 430/500\n",
            "1/1 [==============================] - 0s 36ms/step - loss: 0.1141 - mean_squared_logarithmic_error: 0.1141 - val_loss: 1.0526 - val_mean_squared_logarithmic_error: 1.0526\n",
            "Epoch 431/500\n",
            "1/1 [==============================] - 0s 38ms/step - loss: 0.0733 - mean_squared_logarithmic_error: 0.0733 - val_loss: 1.0524 - val_mean_squared_logarithmic_error: 1.0524\n",
            "Epoch 432/500\n",
            "1/1 [==============================] - 0s 40ms/step - loss: 0.0671 - mean_squared_logarithmic_error: 0.0671 - val_loss: 1.0519 - val_mean_squared_logarithmic_error: 1.0519\n",
            "Epoch 433/500\n",
            "1/1 [==============================] - 0s 44ms/step - loss: 0.0830 - mean_squared_logarithmic_error: 0.0830 - val_loss: 1.0516 - val_mean_squared_logarithmic_error: 1.0516\n",
            "Epoch 434/500\n",
            "1/1 [==============================] - 0s 46ms/step - loss: 0.0767 - mean_squared_logarithmic_error: 0.0767 - val_loss: 1.0514 - val_mean_squared_logarithmic_error: 1.0514\n",
            "Epoch 435/500\n",
            "1/1 [==============================] - 0s 39ms/step - loss: 0.0802 - mean_squared_logarithmic_error: 0.0802 - val_loss: 1.0511 - val_mean_squared_logarithmic_error: 1.0511\n",
            "Epoch 436/500\n",
            "1/1 [==============================] - 0s 34ms/step - loss: 0.0428 - mean_squared_logarithmic_error: 0.0428 - val_loss: 1.0508 - val_mean_squared_logarithmic_error: 1.0508\n",
            "Epoch 437/500\n",
            "1/1 [==============================] - 0s 34ms/step - loss: 0.0703 - mean_squared_logarithmic_error: 0.0703 - val_loss: 1.0500 - val_mean_squared_logarithmic_error: 1.0500\n",
            "Epoch 438/500\n",
            "1/1 [==============================] - 0s 32ms/step - loss: 0.1058 - mean_squared_logarithmic_error: 0.1058 - val_loss: 1.0483 - val_mean_squared_logarithmic_error: 1.0483\n",
            "Epoch 439/500\n",
            "1/1 [==============================] - 0s 41ms/step - loss: 0.0636 - mean_squared_logarithmic_error: 0.0636 - val_loss: 1.0465 - val_mean_squared_logarithmic_error: 1.0465\n",
            "Epoch 440/500\n",
            "1/1 [==============================] - 0s 42ms/step - loss: 0.0665 - mean_squared_logarithmic_error: 0.0665 - val_loss: 1.0456 - val_mean_squared_logarithmic_error: 1.0456\n",
            "Epoch 441/500\n",
            "1/1 [==============================] - 0s 40ms/step - loss: 0.0856 - mean_squared_logarithmic_error: 0.0856 - val_loss: 1.0442 - val_mean_squared_logarithmic_error: 1.0442\n",
            "Epoch 442/500\n",
            "1/1 [==============================] - 0s 41ms/step - loss: 0.0540 - mean_squared_logarithmic_error: 0.0540 - val_loss: 1.0433 - val_mean_squared_logarithmic_error: 1.0433\n",
            "Epoch 443/500\n",
            "1/1 [==============================] - 0s 39ms/step - loss: 0.0734 - mean_squared_logarithmic_error: 0.0734 - val_loss: 1.0408 - val_mean_squared_logarithmic_error: 1.0408\n",
            "Epoch 444/500\n",
            "1/1 [==============================] - 0s 41ms/step - loss: 0.0963 - mean_squared_logarithmic_error: 0.0963 - val_loss: 1.0392 - val_mean_squared_logarithmic_error: 1.0392\n",
            "Epoch 445/500\n",
            "1/1 [==============================] - 0s 39ms/step - loss: 0.0731 - mean_squared_logarithmic_error: 0.0731 - val_loss: 1.0383 - val_mean_squared_logarithmic_error: 1.0383\n",
            "Epoch 446/500\n",
            "1/1 [==============================] - 0s 52ms/step - loss: 0.0685 - mean_squared_logarithmic_error: 0.0685 - val_loss: 1.0370 - val_mean_squared_logarithmic_error: 1.0370\n",
            "Epoch 447/500\n",
            "1/1 [==============================] - 0s 39ms/step - loss: 0.0667 - mean_squared_logarithmic_error: 0.0667 - val_loss: 1.0357 - val_mean_squared_logarithmic_error: 1.0357\n",
            "Epoch 448/500\n",
            "1/1 [==============================] - 0s 51ms/step - loss: 0.0487 - mean_squared_logarithmic_error: 0.0487 - val_loss: 1.0341 - val_mean_squared_logarithmic_error: 1.0341\n",
            "Epoch 449/500\n",
            "1/1 [==============================] - 0s 37ms/step - loss: 0.0878 - mean_squared_logarithmic_error: 0.0878 - val_loss: 1.0319 - val_mean_squared_logarithmic_error: 1.0319\n",
            "Epoch 450/500\n",
            "1/1 [==============================] - 0s 36ms/step - loss: 0.0474 - mean_squared_logarithmic_error: 0.0474 - val_loss: 1.0300 - val_mean_squared_logarithmic_error: 1.0300\n",
            "Epoch 451/500\n",
            "1/1 [==============================] - 0s 34ms/step - loss: 0.0660 - mean_squared_logarithmic_error: 0.0660 - val_loss: 1.0290 - val_mean_squared_logarithmic_error: 1.0290\n",
            "Epoch 452/500\n",
            "1/1 [==============================] - 0s 35ms/step - loss: 0.0571 - mean_squared_logarithmic_error: 0.0571 - val_loss: 1.0286 - val_mean_squared_logarithmic_error: 1.0286\n",
            "Epoch 453/500\n",
            "1/1 [==============================] - 0s 35ms/step - loss: 0.0785 - mean_squared_logarithmic_error: 0.0785 - val_loss: 1.0297 - val_mean_squared_logarithmic_error: 1.0297\n",
            "Epoch 454/500\n",
            "1/1 [==============================] - 0s 48ms/step - loss: 0.0604 - mean_squared_logarithmic_error: 0.0604 - val_loss: 1.0315 - val_mean_squared_logarithmic_error: 1.0315\n",
            "Epoch 455/500\n",
            "1/1 [==============================] - 0s 42ms/step - loss: 0.0689 - mean_squared_logarithmic_error: 0.0689 - val_loss: 1.0339 - val_mean_squared_logarithmic_error: 1.0339\n",
            "Epoch 456/500\n",
            "1/1 [==============================] - 0s 36ms/step - loss: 0.0842 - mean_squared_logarithmic_error: 0.0842 - val_loss: 1.0374 - val_mean_squared_logarithmic_error: 1.0374\n",
            "Epoch 457/500\n",
            "1/1 [==============================] - 0s 34ms/step - loss: 0.0677 - mean_squared_logarithmic_error: 0.0677 - val_loss: 1.0415 - val_mean_squared_logarithmic_error: 1.0415\n",
            "Epoch 458/500\n",
            "1/1 [==============================] - 0s 37ms/step - loss: 0.1238 - mean_squared_logarithmic_error: 0.1238 - val_loss: 1.0441 - val_mean_squared_logarithmic_error: 1.0441\n",
            "Epoch 459/500\n",
            "1/1 [==============================] - 0s 39ms/step - loss: 0.0831 - mean_squared_logarithmic_error: 0.0831 - val_loss: 1.0464 - val_mean_squared_logarithmic_error: 1.0464\n",
            "Epoch 460/500\n",
            "1/1 [==============================] - 0s 34ms/step - loss: 0.0804 - mean_squared_logarithmic_error: 0.0804 - val_loss: 1.0481 - val_mean_squared_logarithmic_error: 1.0481\n",
            "Epoch 461/500\n",
            "1/1 [==============================] - 0s 37ms/step - loss: 0.0600 - mean_squared_logarithmic_error: 0.0600 - val_loss: 1.0498 - val_mean_squared_logarithmic_error: 1.0498\n",
            "Epoch 462/500\n",
            "1/1 [==============================] - 0s 37ms/step - loss: 0.0766 - mean_squared_logarithmic_error: 0.0766 - val_loss: 1.0510 - val_mean_squared_logarithmic_error: 1.0510\n",
            "Epoch 463/500\n",
            "1/1 [==============================] - 0s 41ms/step - loss: 0.0476 - mean_squared_logarithmic_error: 0.0476 - val_loss: 1.0504 - val_mean_squared_logarithmic_error: 1.0504\n",
            "Epoch 464/500\n",
            "1/1 [==============================] - 0s 36ms/step - loss: 0.0542 - mean_squared_logarithmic_error: 0.0542 - val_loss: 1.0503 - val_mean_squared_logarithmic_error: 1.0503\n",
            "Epoch 465/500\n",
            "1/1 [==============================] - 0s 36ms/step - loss: 0.1032 - mean_squared_logarithmic_error: 0.1032 - val_loss: 1.0496 - val_mean_squared_logarithmic_error: 1.0496\n",
            "Epoch 466/500\n",
            "1/1 [==============================] - 0s 48ms/step - loss: 0.0771 - mean_squared_logarithmic_error: 0.0771 - val_loss: 1.0478 - val_mean_squared_logarithmic_error: 1.0478\n",
            "Epoch 467/500\n",
            "1/1 [==============================] - 0s 44ms/step - loss: 0.0447 - mean_squared_logarithmic_error: 0.0447 - val_loss: 1.0465 - val_mean_squared_logarithmic_error: 1.0465\n",
            "Epoch 468/500\n",
            "1/1 [==============================] - 0s 38ms/step - loss: 0.0705 - mean_squared_logarithmic_error: 0.0705 - val_loss: 1.0422 - val_mean_squared_logarithmic_error: 1.0422\n",
            "Epoch 469/500\n",
            "1/1 [==============================] - 0s 44ms/step - loss: 0.0571 - mean_squared_logarithmic_error: 0.0571 - val_loss: 1.0383 - val_mean_squared_logarithmic_error: 1.0383\n",
            "Epoch 470/500\n",
            "1/1 [==============================] - 0s 42ms/step - loss: 0.0815 - mean_squared_logarithmic_error: 0.0815 - val_loss: 1.0352 - val_mean_squared_logarithmic_error: 1.0352\n",
            "Epoch 471/500\n",
            "1/1 [==============================] - 0s 35ms/step - loss: 0.0727 - mean_squared_logarithmic_error: 0.0727 - val_loss: 1.0320 - val_mean_squared_logarithmic_error: 1.0320\n",
            "Epoch 472/500\n",
            "1/1 [==============================] - 0s 47ms/step - loss: 0.0607 - mean_squared_logarithmic_error: 0.0607 - val_loss: 1.0303 - val_mean_squared_logarithmic_error: 1.0303\n",
            "Epoch 473/500\n",
            "1/1 [==============================] - 0s 50ms/step - loss: 0.0435 - mean_squared_logarithmic_error: 0.0435 - val_loss: 1.0293 - val_mean_squared_logarithmic_error: 1.0293\n",
            "Epoch 474/500\n",
            "1/1 [==============================] - 0s 43ms/step - loss: 0.0818 - mean_squared_logarithmic_error: 0.0818 - val_loss: 1.0289 - val_mean_squared_logarithmic_error: 1.0289\n",
            "Epoch 475/500\n",
            "1/1 [==============================] - 0s 39ms/step - loss: 0.0911 - mean_squared_logarithmic_error: 0.0911 - val_loss: 1.0284 - val_mean_squared_logarithmic_error: 1.0284\n",
            "Epoch 476/500\n",
            "1/1 [==============================] - 0s 39ms/step - loss: 0.0644 - mean_squared_logarithmic_error: 0.0644 - val_loss: 1.0284 - val_mean_squared_logarithmic_error: 1.0284\n",
            "Epoch 477/500\n",
            "1/1 [==============================] - 0s 46ms/step - loss: 0.0670 - mean_squared_logarithmic_error: 0.0670 - val_loss: 1.0289 - val_mean_squared_logarithmic_error: 1.0289\n",
            "Epoch 478/500\n",
            "1/1 [==============================] - 0s 38ms/step - loss: 0.0911 - mean_squared_logarithmic_error: 0.0911 - val_loss: 1.0285 - val_mean_squared_logarithmic_error: 1.0285\n",
            "Epoch 479/500\n",
            "1/1 [==============================] - 0s 35ms/step - loss: 0.0437 - mean_squared_logarithmic_error: 0.0437 - val_loss: 1.0279 - val_mean_squared_logarithmic_error: 1.0279\n",
            "Epoch 480/500\n",
            "1/1 [==============================] - 0s 39ms/step - loss: 0.0646 - mean_squared_logarithmic_error: 0.0646 - val_loss: 1.0275 - val_mean_squared_logarithmic_error: 1.0275\n",
            "Epoch 481/500\n",
            "1/1 [==============================] - 0s 40ms/step - loss: 0.0847 - mean_squared_logarithmic_error: 0.0847 - val_loss: 1.0272 - val_mean_squared_logarithmic_error: 1.0272\n",
            "Epoch 482/500\n",
            "1/1 [==============================] - 0s 42ms/step - loss: 0.0859 - mean_squared_logarithmic_error: 0.0859 - val_loss: 1.0268 - val_mean_squared_logarithmic_error: 1.0268\n",
            "Epoch 483/500\n",
            "1/1 [==============================] - 0s 38ms/step - loss: 0.0442 - mean_squared_logarithmic_error: 0.0442 - val_loss: 1.0261 - val_mean_squared_logarithmic_error: 1.0261\n",
            "Epoch 484/500\n",
            "1/1 [==============================] - 0s 35ms/step - loss: 0.0857 - mean_squared_logarithmic_error: 0.0857 - val_loss: 1.0251 - val_mean_squared_logarithmic_error: 1.0251\n",
            "Epoch 485/500\n",
            "1/1 [==============================] - 0s 39ms/step - loss: 0.0647 - mean_squared_logarithmic_error: 0.0647 - val_loss: 1.0242 - val_mean_squared_logarithmic_error: 1.0242\n",
            "Epoch 486/500\n",
            "1/1 [==============================] - 0s 45ms/step - loss: 0.0318 - mean_squared_logarithmic_error: 0.0318 - val_loss: 1.0239 - val_mean_squared_logarithmic_error: 1.0239\n",
            "Epoch 487/500\n",
            "1/1 [==============================] - 0s 43ms/step - loss: 0.0720 - mean_squared_logarithmic_error: 0.0720 - val_loss: 1.0226 - val_mean_squared_logarithmic_error: 1.0226\n",
            "Epoch 488/500\n",
            "1/1 [==============================] - 0s 39ms/step - loss: 0.0790 - mean_squared_logarithmic_error: 0.0790 - val_loss: 1.0209 - val_mean_squared_logarithmic_error: 1.0209\n",
            "Epoch 489/500\n",
            "1/1 [==============================] - 0s 40ms/step - loss: 0.0740 - mean_squared_logarithmic_error: 0.0740 - val_loss: 1.0205 - val_mean_squared_logarithmic_error: 1.0205\n",
            "Epoch 490/500\n",
            "1/1 [==============================] - 0s 42ms/step - loss: 0.0648 - mean_squared_logarithmic_error: 0.0648 - val_loss: 1.0194 - val_mean_squared_logarithmic_error: 1.0194\n",
            "Epoch 491/500\n",
            "1/1 [==============================] - 0s 42ms/step - loss: 0.0877 - mean_squared_logarithmic_error: 0.0877 - val_loss: 1.0173 - val_mean_squared_logarithmic_error: 1.0173\n",
            "Epoch 492/500\n",
            "1/1 [==============================] - 0s 43ms/step - loss: 0.0812 - mean_squared_logarithmic_error: 0.0812 - val_loss: 1.0151 - val_mean_squared_logarithmic_error: 1.0151\n",
            "Epoch 493/500\n",
            "1/1 [==============================] - 0s 42ms/step - loss: 0.0633 - mean_squared_logarithmic_error: 0.0633 - val_loss: 1.0119 - val_mean_squared_logarithmic_error: 1.0119\n",
            "Epoch 494/500\n",
            "1/1 [==============================] - 0s 49ms/step - loss: 0.0427 - mean_squared_logarithmic_error: 0.0427 - val_loss: 1.0093 - val_mean_squared_logarithmic_error: 1.0093\n",
            "Epoch 495/500\n",
            "1/1 [==============================] - 0s 35ms/step - loss: 0.0600 - mean_squared_logarithmic_error: 0.0600 - val_loss: 1.0075 - val_mean_squared_logarithmic_error: 1.0075\n",
            "Epoch 496/500\n",
            "1/1 [==============================] - 0s 35ms/step - loss: 0.0872 - mean_squared_logarithmic_error: 0.0872 - val_loss: 1.0059 - val_mean_squared_logarithmic_error: 1.0059\n",
            "Epoch 497/500\n",
            "1/1 [==============================] - 0s 35ms/step - loss: 0.0904 - mean_squared_logarithmic_error: 0.0904 - val_loss: 1.0051 - val_mean_squared_logarithmic_error: 1.0051\n",
            "Epoch 498/500\n",
            "1/1 [==============================] - 0s 34ms/step - loss: 0.0740 - mean_squared_logarithmic_error: 0.0740 - val_loss: 1.0034 - val_mean_squared_logarithmic_error: 1.0034\n",
            "Epoch 499/500\n",
            "1/1 [==============================] - 0s 34ms/step - loss: 0.0618 - mean_squared_logarithmic_error: 0.0618 - val_loss: 1.0017 - val_mean_squared_logarithmic_error: 1.0017\n",
            "Epoch 500/500\n",
            "1/1 [==============================] - 0s 34ms/step - loss: 0.0793 - mean_squared_logarithmic_error: 0.0793 - val_loss: 0.9996 - val_mean_squared_logarithmic_error: 0.9996\n"
          ]
        }
      ]
    },
    {
      "cell_type": "code",
      "source": [
        "def plot_history(history, key):\n",
        "  plt.plot(history.history[key])\n",
        "  plt.plot(history.history['val_'+key])\n",
        "  plt.xlabel(\"Epochs\")\n",
        "  plt.ylabel(key)\n",
        "  plt.legend([key, 'val_'+key])\n",
        "  plt.show()\n",
        "# Plot the history\n",
        "plot_history(history, 'mean_squared_logarithmic_error')"
      ],
      "metadata": {
        "colab": {
          "base_uri": "https://localhost:8080/",
          "height": 279
        },
        "id": "M2b9mf7mu0fn",
        "outputId": "852204df-959e-4af0-e3d1-399cf79d847d"
      },
      "execution_count": null,
      "outputs": [
        {
          "output_type": "display_data",
          "data": {
            "text/plain": [
              "<Figure size 432x288 with 1 Axes>"
            ],
            "image/png": "[encoded data removed]"
          },
          "metadata": {
            "needs_background": "light"
          }
        }
      ]
    },
    {
      "cell_type": "code",
      "source": [
        "Y_pred = model.predict(X_test)\n",
        "from sklearn.metrics import mean_squared_error\n",
        "mse = mean_squared_error(y_test, Y_pred)\n",
        "rmse = math.sqrt(mse)\n",
        "print(rmse)\n",
        "from sklearn.metrics import r2_score\n",
        "r2 = r2_score(y_test, Y_pred)\n",
        "print(r2)\n",
        "mae = mean_absolute_error(y_test,Y_pred)\n",
        "print(mae)\n",
        "mape = mean_absolute_percentage_error(y_test, Y_pred)\n",
        "print(mape)"
      ],
      "metadata": {
        "colab": {
          "base_uri": "https://localhost:8080/"
        },
        "id": "K9SKFMgru3Zb",
        "outputId": "1c973042-60b3-45ec-ca91-94b12bad6369"
      },
      "execution_count": null,
      "outputs": [
        {
          "output_type": "stream",
          "name": "stdout",
          "text": [
            "12.669548970331856\n",
            "-1.8894062746143674\n",
            "8.891806324577955\n",
            "0.6282166892820155\n"
          ]
        }
      ]
    }
  ]
}