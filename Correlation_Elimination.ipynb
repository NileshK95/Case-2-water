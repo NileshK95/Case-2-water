{
  "nbformat": 4,
  "nbformat_minor": 0,
  "metadata": {
    "colab": {
      "name": "Correlationipynb",
      "provenance": [],
      "collapsed_sections": []
    },
    "kernelspec": {
      "name": "python3",
      "display_name": "Python 3"
    },
    "language_info": {
      "name": "python"
    }
  },
  "cells": [
    {
      "cell_type": "code",
      "execution_count": null,
      "metadata": {
        "colab": {
          "base_uri": "https://localhost:8080/"
        },
        "id": "i_ISKAmuKMoA",
        "outputId": "94107852-6b36-48ca-b85c-25d39d709b5e"
      },
      "outputs": [
        {
          "output_type": "stream",
          "name": "stdout",
          "text": [
            "Mounted at /content/drive\n"
          ]
        }
      ],
      "source": [
        "from google.colab import drive\n",
        "drive.mount('/content/drive')"
      ]
    },
    {
      "cell_type": "code",
      "source": [
        "import warnings\n",
        "warnings.filterwarnings(\"ignore\")\n",
        "import pandas as pd\n",
        "import numpy as np\n",
        "import matplotlib.pyplot as plt\n",
        "import seaborn as sns\n",
        "from sklearn import preprocessing\n",
        "from sklearn.model_selection import train_test_split\n",
        "from sklearn.preprocessing import MinMaxScaler\n",
        "from sklearn.preprocessing import StandardScaler\n",
        "from math import sqrt\n",
        "from sklearn.metrics import mean_squared_error\n",
        "from sklearn.metrics import mean_absolute_error\n",
        "from sklearn.metrics import mean_absolute_percentage_error\n",
        "from sklearn.model_selection import GridSearchCV\n",
        "from sklearn.model_selection import KFold\n",
        "from sklearn.metrics import mean_squared_error\n",
        "from sklearn import datasets"
      ],
      "metadata": {
        "id": "kW2B5fqIK_D6"
      },
      "execution_count": null,
      "outputs": []
    },
    {
      "cell_type": "code",
      "source": [
        "#Read dataset to pandas dataframe\n",
        "dataset = pd.read_excel('/content/drive/MyDrive/MTP_FINAL/Chilikaujainiukai_Inland_Water/CHILIKAUJANI.xlsx')"
      ],
      "metadata": {
        "id": "NUg9FYqgLExJ"
      },
      "execution_count": null,
      "outputs": []
    },
    {
      "cell_type": "code",
      "source": [
        "dataset_y=dataset['Chlorophyll']\n",
        "dataset_x=dataset.drop(['Chlorophyll','Site'],axis=1)\n"
      ],
      "metadata": {
        "id": "2KcD6jjITv6w"
      },
      "execution_count": null,
      "outputs": []
    },
    {
      "cell_type": "code",
      "source": [
        "cor_matrix = dataset_x.corr().abs()\n",
        "print(cor_matrix)"
      ],
      "metadata": {
        "colab": {
          "base_uri": "https://localhost:8080/"
        },
        "id": "lAi9dCD-Uw92",
        "outputId": "9fbc8cd1-6775-42c6-c2c8-7029a218502e"
      },
      "execution_count": null,
      "outputs": [
        {
          "output_type": "stream",
          "name": "stdout",
          "text": [
            "          400       401       402       403       404       405       406  \\\n",
            "400  1.000000  0.999937  0.999872  0.999764  0.999679  0.999512  0.999275   \n",
            "401  0.999937  1.000000  0.999909  0.999761  0.999712  0.999661  0.999462   \n",
            "402  0.999872  0.999909  1.000000  0.999940  0.999861  0.999751  0.999664   \n",
            "403  0.999764  0.999761  0.999940  1.000000  0.999955  0.999802  0.999751   \n",
            "404  0.999679  0.999712  0.999861  0.999955  1.000000  0.999921  0.999835   \n",
            "..        ...       ...       ...       ...       ...       ...       ...   \n",
            "796  0.933514  0.934105  0.934880  0.934694  0.934568  0.934920  0.935864   \n",
            "797  0.931768  0.932449  0.933232  0.933006  0.932893  0.933327  0.934320   \n",
            "798  0.931721  0.932414  0.933228  0.933058  0.932995  0.933455  0.934449   \n",
            "799  0.931417  0.932053  0.932972  0.932901  0.932859  0.933282  0.934292   \n",
            "800  0.930044  0.930722  0.931660  0.931601  0.931583  0.932047  0.933075   \n",
            "\n",
            "          407       408       409  ...       791       792       793  \\\n",
            "400  0.998933  0.998573  0.998075  ...  0.935566  0.934359  0.932846   \n",
            "401  0.999152  0.998798  0.998296  ...  0.936003  0.934916  0.933522   \n",
            "402  0.999435  0.999141  0.998746  ...  0.936511  0.935449  0.934084   \n",
            "403  0.999588  0.999363  0.999034  ...  0.936241  0.935143  0.933748   \n",
            "404  0.999687  0.999500  0.999173  ...  0.936099  0.934992  0.933610   \n",
            "..        ...       ...       ...  ...       ...       ...       ...   \n",
            "796  0.936081  0.936134  0.936320  ...  0.999234  0.999478  0.999549   \n",
            "797  0.934561  0.934614  0.934783  ...  0.998946  0.999337  0.999495   \n",
            "798  0.934686  0.934728  0.934884  ...  0.998931  0.999293  0.999381   \n",
            "799  0.934586  0.934726  0.935000  ...  0.998650  0.998942  0.999079   \n",
            "800  0.933410  0.933581  0.933845  ...  0.998467  0.998785  0.998927   \n",
            "\n",
            "          794       795       796       797       798       799       800  \n",
            "400  0.933113  0.934267  0.933514  0.931768  0.931721  0.931417  0.930044  \n",
            "401  0.933780  0.934800  0.934105  0.932449  0.932414  0.932053  0.930722  \n",
            "402  0.934383  0.935530  0.934880  0.933232  0.933228  0.932972  0.931660  \n",
            "403  0.934086  0.935364  0.934694  0.933006  0.933058  0.932901  0.931601  \n",
            "404  0.933990  0.935268  0.934568  0.932893  0.932995  0.932859  0.931583  \n",
            "..        ...       ...       ...       ...       ...       ...       ...  \n",
            "796  0.999698  0.999836  1.000000  0.999894  0.999770  0.999781  0.999659  \n",
            "797  0.999592  0.999581  0.999894  1.000000  0.999877  0.999777  0.999747  \n",
            "798  0.999493  0.999611  0.999770  0.999877  1.000000  0.999848  0.999825  \n",
            "799  0.999354  0.999601  0.999781  0.999777  0.999848  1.000000  0.999952  \n",
            "800  0.999166  0.999384  0.999659  0.999747  0.999825  0.999952  1.000000  \n",
            "\n",
            "[401 rows x 401 columns]\n"
          ]
        }
      ]
    },
    {
      "cell_type": "code",
      "source": [
        "upper_tri = cor_matrix.where(np.triu(np.ones(cor_matrix.shape),k=1).astype(np.bool))\n",
        "print(upper_tri)"
      ],
      "metadata": {
        "colab": {
          "base_uri": "https://localhost:8080/"
        },
        "id": "GrkJRUS7VGi5",
        "outputId": "0106f94b-4855-4a37-ef2b-a8c2ce172faf"
      },
      "execution_count": null,
      "outputs": [
        {
          "output_type": "stream",
          "name": "stdout",
          "text": [
            "     400       401       402       403       404       405       406  \\\n",
            "400  NaN  0.999937  0.999872  0.999764  0.999679  0.999512  0.999275   \n",
            "401  NaN       NaN  0.999909  0.999761  0.999712  0.999661  0.999462   \n",
            "402  NaN       NaN       NaN  0.999940  0.999861  0.999751  0.999664   \n",
            "403  NaN       NaN       NaN       NaN  0.999955  0.999802  0.999751   \n",
            "404  NaN       NaN       NaN       NaN       NaN  0.999921  0.999835   \n",
            "..   ...       ...       ...       ...       ...       ...       ...   \n",
            "796  NaN       NaN       NaN       NaN       NaN       NaN       NaN   \n",
            "797  NaN       NaN       NaN       NaN       NaN       NaN       NaN   \n",
            "798  NaN       NaN       NaN       NaN       NaN       NaN       NaN   \n",
            "799  NaN       NaN       NaN       NaN       NaN       NaN       NaN   \n",
            "800  NaN       NaN       NaN       NaN       NaN       NaN       NaN   \n",
            "\n",
            "          407       408       409  ...       791       792       793  \\\n",
            "400  0.998933  0.998573  0.998075  ...  0.935566  0.934359  0.932846   \n",
            "401  0.999152  0.998798  0.998296  ...  0.936003  0.934916  0.933522   \n",
            "402  0.999435  0.999141  0.998746  ...  0.936511  0.935449  0.934084   \n",
            "403  0.999588  0.999363  0.999034  ...  0.936241  0.935143  0.933748   \n",
            "404  0.999687  0.999500  0.999173  ...  0.936099  0.934992  0.933610   \n",
            "..        ...       ...       ...  ...       ...       ...       ...   \n",
            "796       NaN       NaN       NaN  ...       NaN       NaN       NaN   \n",
            "797       NaN       NaN       NaN  ...       NaN       NaN       NaN   \n",
            "798       NaN       NaN       NaN  ...       NaN       NaN       NaN   \n",
            "799       NaN       NaN       NaN  ...       NaN       NaN       NaN   \n",
            "800       NaN       NaN       NaN  ...       NaN       NaN       NaN   \n",
            "\n",
            "          794       795       796       797       798       799       800  \n",
            "400  0.933113  0.934267  0.933514  0.931768  0.931721  0.931417  0.930044  \n",
            "401  0.933780  0.934800  0.934105  0.932449  0.932414  0.932053  0.930722  \n",
            "402  0.934383  0.935530  0.934880  0.933232  0.933228  0.932972  0.931660  \n",
            "403  0.934086  0.935364  0.934694  0.933006  0.933058  0.932901  0.931601  \n",
            "404  0.933990  0.935268  0.934568  0.932893  0.932995  0.932859  0.931583  \n",
            "..        ...       ...       ...       ...       ...       ...       ...  \n",
            "796       NaN       NaN       NaN  0.999894  0.999770  0.999781  0.999659  \n",
            "797       NaN       NaN       NaN       NaN  0.999877  0.999777  0.999747  \n",
            "798       NaN       NaN       NaN       NaN       NaN  0.999848  0.999825  \n",
            "799       NaN       NaN       NaN       NaN       NaN       NaN  0.999952  \n",
            "800       NaN       NaN       NaN       NaN       NaN       NaN       NaN  \n",
            "\n",
            "[401 rows x 401 columns]\n"
          ]
        }
      ]
    },
    {
      "cell_type": "code",
      "source": [
        "to_drop = [column%400 for column in upper_tri.columns if any(upper_tri[column] > 0.999)]\n",
        "print(to_drop)\n",
        "len(to_drop)"
      ],
      "metadata": {
        "colab": {
          "base_uri": "https://localhost:8080/"
        },
        "id": "_z68BgWJVfln",
        "outputId": "d285cf17-bd82-453a-b3fc-aece6a0bdde8"
      },
      "execution_count": null,
      "outputs": [
        {
          "output_type": "stream",
          "name": "stdout",
          "text": [
            "[1, 2, 3, 4, 5, 6, 7, 8, 9, 10, 11, 12, 13, 14, 15, 16, 17, 18, 19, 20, 21, 22, 23, 24, 25, 26, 27, 28, 29, 30, 31, 32, 33, 34, 35, 36, 37, 38, 39, 40, 41, 42, 43, 44, 45, 46, 47, 48, 49, 50, 51, 52, 53, 54, 55, 56, 57, 58, 59, 60, 61, 62, 63, 64, 65, 66, 67, 68, 69, 70, 71, 72, 73, 74, 75, 76, 77, 78, 79, 80, 81, 82, 83, 84, 85, 86, 87, 88, 89, 90, 91, 92, 93, 94, 95, 96, 97, 98, 99, 100, 101, 102, 103, 104, 105, 106, 107, 108, 109, 110, 111, 112, 113, 114, 115, 116, 117, 118, 119, 120, 121, 122, 123, 124, 125, 126, 127, 128, 129, 130, 131, 132, 133, 134, 135, 136, 137, 138, 139, 140, 141, 142, 143, 144, 145, 146, 147, 148, 149, 150, 151, 152, 153, 154, 155, 156, 157, 158, 159, 160, 161, 162, 163, 164, 165, 166, 167, 168, 169, 170, 171, 172, 173, 174, 175, 176, 177, 178, 179, 180, 181, 182, 183, 184, 185, 186, 187, 188, 189, 190, 191, 192, 193, 194, 195, 196, 197, 198, 199, 200, 201, 202, 203, 204, 205, 206, 207, 208, 209, 210, 211, 212, 213, 214, 215, 216, 217, 218, 219, 220, 221, 222, 223, 224, 225, 226, 227, 228, 229, 230, 231, 232, 233, 234, 235, 236, 237, 238, 239, 240, 241, 242, 243, 244, 245, 246, 247, 248, 249, 250, 251, 252, 253, 254, 255, 256, 257, 258, 259, 260, 261, 262, 263, 264, 265, 266, 267, 268, 269, 270, 271, 272, 273, 274, 275, 276, 277, 278, 279, 280, 281, 282, 283, 284, 285, 286, 287, 288, 289, 290, 291, 292, 293, 294, 295, 296, 297, 298, 299, 300, 301, 302, 303, 304, 305, 306, 307, 308, 309, 310, 311, 312, 313, 314, 315, 316, 317, 318, 319, 320, 321, 322, 323, 324, 325, 326, 327, 328, 329, 330, 331, 332, 333, 334, 335, 336, 337, 338, 339, 340, 341, 342, 343, 344, 345, 346, 347, 348, 349, 350, 351, 352, 353, 354, 355, 356, 357, 358, 359, 362, 363, 364, 365, 366, 367, 368, 369, 370, 371, 372, 373, 374, 375, 376, 377, 378, 379, 380, 381, 382, 383, 384, 385, 386, 387, 388, 389, 390, 391, 392, 393, 394, 395, 396, 397, 398, 399, 0]\n"
          ]
        },
        {
          "output_type": "execute_result",
          "data": {
            "text/plain": [
              "398"
            ]
          },
          "metadata": {},
          "execution_count": 10
        }
      ]
    },
    {
      "cell_type": "code",
      "source": [
        "#dataset_x_1 = dataset_x.drop(dataset_x.columns[to_drop], axis=1)\n",
        "dataset_x_1 = dataset_x.drop(dataset_x.columns[to_drop], axis=1)\n",
        "print(dataset_x_1)\n",
        "dataset_x_1 = StandardScaler().fit_transform(dataset_x_1)"
      ],
      "metadata": {
        "id": "90RVixLRVs19",
        "colab": {
          "base_uri": "https://localhost:8080/"
        },
        "outputId": "4d1ec733-4189-4e38-fc57-bf941f8c138c"
      },
      "execution_count": null,
      "outputs": [
        {
          "output_type": "stream",
          "name": "stdout",
          "text": [
            "         760       761       800\n",
            "0   0.002484  0.002494  0.003813\n",
            "1   0.001267  0.001276  0.001845\n",
            "2   0.001728  0.001740  0.002480\n",
            "3   0.004440  0.004561  0.003960\n",
            "4   0.000677  0.000658  0.000703\n",
            "5   0.000701  0.000715  0.000746\n",
            "6   0.001794  0.001807  0.001542\n",
            "7   0.001995  0.002012  0.001707\n",
            "8   0.001939  0.001950  0.001641\n",
            "9   0.001553  0.001558  0.001351\n",
            "10  0.001569  0.001576  0.001376\n",
            "11  0.002194  0.002225  0.001779\n",
            "12  0.001987  0.002016  0.001612\n",
            "13  0.001904  0.001913  0.001579\n",
            "14  0.004431  0.004844  0.004678\n",
            "15  0.006964  0.006705  0.007275\n",
            "16  0.008867  0.008945  0.008811\n",
            "17  0.004229  0.004247  0.004420\n",
            "18  0.003632  0.003592  0.003938\n",
            "19  0.003505  0.003026  0.004674\n",
            "20  0.001648  0.001659  0.002498\n",
            "21  0.001376  0.001378  0.002142\n",
            "22  0.002391  0.002404  0.003571\n",
            "23  0.002549  0.002525  0.003047\n",
            "24  0.004592  0.004585  0.004854\n",
            "25  0.003735  0.003724  0.004284\n",
            "26  0.002429  0.002370  0.002807\n",
            "27  0.007094  0.007073  0.007289\n",
            "28  0.000656  0.000642  0.000707\n",
            "29  0.002290  0.002286  0.002287\n",
            "30  0.002610  0.002627  0.001919\n",
            "31  0.004191  0.004163  0.003790\n",
            "32  0.002051  0.002053  0.001785\n",
            "33  0.001670  0.001683  0.001457\n",
            "34  0.001569  0.001576  0.001376\n",
            "35  0.001983  0.001998  0.001629\n",
            "36  0.008779  0.008732  0.008766\n",
            "37  0.009200  0.008867  0.009676\n"
          ]
        }
      ]
    },
    {
      "cell_type": "code",
      "source": [
        "X_train, X_test, y_train, y_test = train_test_split(dataset_x_1, dataset_y, test_size=0.3, random_state=42)"
      ],
      "metadata": {
        "id": "kJAlrrKhYTX1"
      },
      "execution_count": null,
      "outputs": []
    },
    {
      "cell_type": "markdown",
      "source": [
        "          **Linear regression**"
      ],
      "metadata": {
        "id": "JiSVFqMgczRe"
      }
    },
    {
      "cell_type": "code",
      "source": [
        "from sklearn.linear_model import LinearRegression\n",
        "model_lr = LinearRegression().fit(X_train, y_train)\n",
        "y_predicted_lr = model_lr.predict(X_test)"
      ],
      "metadata": {
        "id": "1VGPNVuUYrbJ"
      },
      "execution_count": null,
      "outputs": []
    },
    {
      "cell_type": "code",
      "source": [
        "rms = sqrt(mean_squared_error(y_test, y_predicted_lr))\n",
        "print(rms)\n",
        "r_square = model_lr.score(X_test,y_test)\n",
        "print(r_square)\n",
        "mae = mean_absolute_error(y_test,y_predicted_lr)\n",
        "print(mae)\n",
        "mape = mean_absolute_percentage_error(y_test, y_predicted_lr)\n",
        "print(mape)"
      ],
      "metadata": {
        "colab": {
          "base_uri": "https://localhost:8080/"
        },
        "id": "J_ZGT9DNY2E-",
        "outputId": "cb4f3d77-62ca-4d70-b963-f4771cb609bd"
      },
      "execution_count": null,
      "outputs": [
        {
          "output_type": "stream",
          "name": "stdout",
          "text": [
            "7.034465988634874\n",
            "0.2437988029956195\n",
            "6.0220160136230225\n",
            "0.4547850124035415\n"
          ]
        }
      ]
    },
    {
      "cell_type": "markdown",
      "source": [
        "          **Gradient Boost Regressor**"
      ],
      "metadata": {
        "id": "p_xujxR2c2_3"
      }
    },
    {
      "cell_type": "code",
      "source": [
        "from sklearn.ensemble import GradientBoostingRegressor\n",
        "model_gb = GradientBoostingRegressor().fit(X_train, y_train)\n",
        "y_predicted_gb = model_gb.predict(X_test)"
      ],
      "metadata": {
        "id": "AVxIB3G6ZkKE"
      },
      "execution_count": null,
      "outputs": []
    },
    {
      "cell_type": "code",
      "source": [
        "rms = sqrt(mean_squared_error(y_test, y_predicted_gb))\n",
        "print(rms)\n",
        "r_square = model_gb.score(X_test,y_test)\n",
        "print(r_square)\n",
        "mae = mean_absolute_error(y_test,y_predicted_gb)\n",
        "print(mae)\n",
        "mape = mean_absolute_percentage_error(y_test, y_predicted_gb)\n",
        "print(mape)"
      ],
      "metadata": {
        "colab": {
          "base_uri": "https://localhost:8080/"
        },
        "id": "VLSdco0FZqjK",
        "outputId": "70f62fb4-9f9f-4cbd-fba2-0951910c1df6"
      },
      "execution_count": null,
      "outputs": [
        {
          "output_type": "stream",
          "name": "stdout",
          "text": [
            "6.452629965793107\n",
            "0.36371950036377654\n",
            "5.308876551639937\n",
            "0.32034001446200183\n"
          ]
        }
      ]
    },
    {
      "cell_type": "code",
      "source": [
        "#Hyperparameter tuning\n",
        "GBR=GradientBoostingRegressor()\n",
        "search_grid={'n_estimators':[500,1000,2000],'learning_rate':[.001,0.01,.1],'max_depth':[1,2,4],'subsample':[.5,.75,1],'random_state':[1]}\n",
        "search=GridSearchCV(estimator=GBR,param_grid=search_grid,scoring='neg_mean_squared_error',n_jobs=1,cv=5)\n",
        "search.fit(X_train,y_train)\n",
        "search.best_params_"
      ],
      "metadata": {
        "colab": {
          "base_uri": "https://localhost:8080/"
        },
        "id": "4UO0FkghZ0Z5",
        "outputId": "59813b25-e418-4b8e-855b-a39188d0b4a8"
      },
      "execution_count": null,
      "outputs": [
        {
          "output_type": "execute_result",
          "data": {
            "text/plain": [
              "{'learning_rate': 0.1,\n",
              " 'max_depth': 4,\n",
              " 'n_estimators': 1000,\n",
              " 'random_state': 1,\n",
              " 'subsample': 0.5}"
            ]
          },
          "metadata": {},
          "execution_count": 115
        }
      ]
    },
    {
      "cell_type": "code",
      "source": [
        "GBR2 = GradientBoostingRegressor(n_estimators=1000,learning_rate=0.1,subsample=0.5,max_depth=4,random_state=1)\n",
        "model_gbhp = GBR2.fit(X_train, y_train)\n",
        "y_predicted_gbhp = model_gbhp.predict(X_test)"
      ],
      "metadata": {
        "id": "rRcT16HbZ3UL"
      },
      "execution_count": null,
      "outputs": []
    },
    {
      "cell_type": "code",
      "source": [
        "rms = sqrt(mean_squared_error(y_test, y_predicted_gbhp))\n",
        "print(rms)\n",
        "r_square = model_gbhp.score(X_test,y_test)\n",
        "print(r_square)\n",
        "mae = mean_absolute_error(y_test,y_predicted_gbhp)\n",
        "print(mae)\n",
        "mape = mean_absolute_percentage_error(y_test, y_predicted_gbhp)\n",
        "print(mape)"
      ],
      "metadata": {
        "colab": {
          "base_uri": "https://localhost:8080/"
        },
        "id": "wzzE7-jKZ596",
        "outputId": "90c3bf34-fb28-4cb3-b645-d2313cb38429"
      },
      "execution_count": null,
      "outputs": [
        {
          "output_type": "stream",
          "name": "stdout",
          "text": [
            "7.376924533465011\n",
            "0.16837837615083895\n",
            "5.570935932219485\n",
            "0.34952765967525123\n"
          ]
        }
      ]
    },
    {
      "cell_type": "markdown",
      "source": [
        "          **PLS Regression**"
      ],
      "metadata": {
        "id": "4TLqrZI9c-L2"
      }
    },
    {
      "cell_type": "code",
      "source": [
        "from sklearn.cross_decomposition import PLSRegression\n",
        "model_plsr = PLSRegression(n_components=41, scale=True)\n",
        "model_plsr.fit(X_train, y_train)\n",
        "y_predicted_plsr = model_plsr.predict(X_test)"
      ],
      "metadata": {
        "id": "h-jXFpVNaWdf"
      },
      "execution_count": null,
      "outputs": []
    },
    {
      "cell_type": "code",
      "source": [
        "rms = sqrt(mean_squared_error(y_test, y_predicted_plsr))\n",
        "print(rms)\n",
        "r_square = model_plsr.score(X_test,y_test)\n",
        "print(r_square)\n",
        "mae = mean_absolute_error(y_test,y_predicted_plsr)\n",
        "print(mae)\n",
        "mape = mean_absolute_percentage_error(y_test, y_predicted_plsr)\n",
        "print(mape)"
      ],
      "metadata": {
        "colab": {
          "base_uri": "https://localhost:8080/"
        },
        "id": "CaasI9Wxaqzq",
        "outputId": "be3185fa-7864-4a48-f272-54237796d12e"
      },
      "execution_count": null,
      "outputs": [
        {
          "output_type": "stream",
          "name": "stdout",
          "text": [
            "7.0344659886349605\n",
            "0.24379880299560108\n",
            "6.0220160136231415\n",
            "0.454785012403548\n"
          ]
        }
      ]
    },
    {
      "cell_type": "code",
      "source": [
        "#Hyperparameter Tuning\n",
        "r_square = []\n",
        "rms = []\n",
        "mae = []\n",
        "mape = [] #to store rmse values for different n_components\n",
        "for n_comp in range(1, 41):\n",
        "  model_plsrhp = PLSRegression(n_components=n_comp, scale=True)\n",
        "  model_plsrhp.fit(X_train, y_train)\n",
        "  y_predicted_plsrhp = model_plsrhp.predict(X_test)\n",
        "  rms_val = sqrt(mean_squared_error(y_test,y_predicted_plsrhp)) #calculate rmse\n",
        "  rms.append(rms_val) #store rmse values\n",
        "  r2 = model_plsrhp.score(X_test,y_test)\n",
        "  r_square.append(r2) #store r2 values\n",
        "  mae_1 = mean_absolute_error(y_test,y_predicted_plsrhp)\n",
        "  mae.append(mae_1)\n",
        "  mape_1 = mean_absolute_percentage_error(y_test, y_predicted_plsrhp)\n",
        "  mape.append(mape_1)"
      ],
      "metadata": {
        "id": "NDYVIAC-a41j"
      },
      "execution_count": null,
      "outputs": []
    },
    {
      "cell_type": "code",
      "source": [
        "print(min(rms))\n",
        "print(max(r_square))\n",
        "print(min(mae))\n",
        "print(min(mape))"
      ],
      "metadata": {
        "colab": {
          "base_uri": "https://localhost:8080/"
        },
        "id": "4I-SSSZ4bLJE",
        "outputId": "e3fd41b5-e0c6-4091-d151-c1aedd1cd9ac"
      },
      "execution_count": null,
      "outputs": [
        {
          "output_type": "stream",
          "name": "stdout",
          "text": [
            "7.0344659886349605\n",
            "0.24379880299560108\n",
            "6.0220160136231415\n",
            "0.4403032296615002\n"
          ]
        }
      ]
    },
    {
      "cell_type": "markdown",
      "source": [
        "           ** Random Forest Regression**"
      ],
      "metadata": {
        "id": "MqtZHoS-dB3k"
      }
    },
    {
      "cell_type": "code",
      "source": [
        "from sklearn.ensemble import RandomForestRegressor\n",
        "model_rfr = RandomForestRegressor(n_estimators = 500)\n",
        "model_rfr.fit(X_train,y_train)\n",
        "y_predicted_rfr = model_rfr.predict(X_test)  "
      ],
      "metadata": {
        "id": "knYytHcYbYmg"
      },
      "execution_count": null,
      "outputs": []
    },
    {
      "cell_type": "code",
      "source": [
        "rms = sqrt(mean_squared_error(y_test, y_predicted_rfr))\n",
        "print(rms)\n",
        "r_square = model_gb.score(X_test,y_test)\n",
        "print(r_square)\n",
        "mae = mean_absolute_error(y_test,y_predicted_rfr)\n",
        "print(mae)\n",
        "mape = mean_absolute_percentage_error(y_test, y_predicted_rfr)\n",
        "print(mape)"
      ],
      "metadata": {
        "colab": {
          "base_uri": "https://localhost:8080/"
        },
        "id": "NZvLSZRHbbSb",
        "outputId": "f7badb1e-ed71-49e0-aa0a-20207f93369f"
      },
      "execution_count": null,
      "outputs": [
        {
          "output_type": "stream",
          "name": "stdout",
          "text": [
            "6.282033203052142\n",
            "0.36371950036377654\n",
            "5.017847333173344\n",
            "0.3379343268841157\n"
          ]
        }
      ]
    },
    {
      "cell_type": "code",
      "source": [
        "#Hyperparameter Tuning\n",
        "from sklearn.model_selection import GridSearchCV\n",
        "# Create the parameter grid based on the results of random search \n",
        "param_grid = {'bootstrap': [True],'max_depth': [80, 90, 100, 110],'max_features': [2, 3],'min_samples_leaf': [3, 4, 5],'min_samples_split': [8, 10, 12],'n_estimators': [100, 200, 300, 1000]}\n",
        "# Create a based model\n",
        "rf = RandomForestRegressor()\n",
        "# Instantiate the grid search model\n",
        "grid_search = GridSearchCV(estimator = rf, param_grid = param_grid, cv = 3, n_jobs = -1, verbose = 2)"
      ],
      "metadata": {
        "id": "6rKmh7mNbfZx"
      },
      "execution_count": null,
      "outputs": []
    },
    {
      "cell_type": "code",
      "source": [
        "# Fit the grid search to the data\n",
        "grid_search.fit(X_train, y_train)\n",
        "print(grid_search.best_params_)\n",
        "model_rfrhp = grid_search.best_estimator_\n",
        "model_rfrhp.fit(X_train,y_train)\n",
        "y_predicted_rfrhp = model_rfrhp.predict(X_test) "
      ],
      "metadata": {
        "colab": {
          "base_uri": "https://localhost:8080/"
        },
        "id": "PehEHmlkbiGj",
        "outputId": "dd29d224-298c-40ae-fef8-3f247406577a"
      },
      "execution_count": null,
      "outputs": [
        {
          "output_type": "stream",
          "name": "stdout",
          "text": [
            "Fitting 3 folds for each of 288 candidates, totalling 864 fits\n",
            "{'bootstrap': True, 'max_depth': 90, 'max_features': 2, 'min_samples_leaf': 3, 'min_samples_split': 8, 'n_estimators': 100}\n"
          ]
        }
      ]
    },
    {
      "cell_type": "code",
      "source": [
        "rms = sqrt(mean_squared_error(y_test, y_predicted_rfrhp))\n",
        "print(rms)\n",
        "r_square = model_rfrhp.score(X_test,y_test)\n",
        "print(r_square)\n",
        "mae = mean_absolute_error(y_test,y_predicted_rfrhp)\n",
        "print(mae)\n",
        "mape = mean_absolute_percentage_error(y_test, y_predicted_rfrhp)\n",
        "print(mape)"
      ],
      "metadata": {
        "colab": {
          "base_uri": "https://localhost:8080/"
        },
        "id": "Tciv-HD6bisL",
        "outputId": "7bcd2647-72af-4e42-d6ea-bbcc50b19239"
      },
      "execution_count": null,
      "outputs": [
        {
          "output_type": "stream",
          "name": "stdout",
          "text": [
            "6.315683355197881\n",
            "0.3904409436327805\n",
            "4.9061163293086665\n",
            "0.3436110424059813\n"
          ]
        }
      ]
    },
    {
      "cell_type": "markdown",
      "source": [
        "          **KNN**"
      ],
      "metadata": {
        "id": "UxNsyrlodIeh"
      }
    },
    {
      "cell_type": "code",
      "source": [
        "from sklearn import neighbors\n",
        "r_square = []\n",
        "rms = []\n",
        "mae = []\n",
        "mape = [] #to store rmse values for different k\n",
        "for K in range(20):\n",
        "    K = K+1\n",
        "    model_knn = neighbors.KNeighborsRegressor(n_neighbors = K)\n",
        "    model_knn.fit(X_train, y_train)  #fit the model\n",
        "    y_predicted_knn = model_knn.predict(X_test) #make prediction on test set\n",
        "    rms_val = sqrt(mean_squared_error(y_test,y_predicted_knn)) #calculate rmse\n",
        "    rms.append(rms_val) #store rmse values\n",
        "    r2 = model_knn.score(X_test,y_test)\n",
        "    r_square.append(r2) #store r2 values\n",
        "    mae_1 = mean_absolute_error(y_test,y_predicted_knn)\n",
        "    mae.append(mae_1)\n",
        "    mape_1 = mean_absolute_percentage_error(y_test, y_predicted_knn)\n",
        "    mape.append(mape_1)"
      ],
      "metadata": {
        "id": "AVFBsr4mdWaP"
      },
      "execution_count": null,
      "outputs": []
    },
    {
      "cell_type": "code",
      "source": [
        "print(min(rms))\n",
        "print(max(r_square))\n",
        "print(min(mae))\n",
        "print(min(mape))"
      ],
      "metadata": {
        "colab": {
          "base_uri": "https://localhost:8080/"
        },
        "id": "nK-4U5g9davk",
        "outputId": "074a9aff-5e2a-4e91-99f1-e578f3db99c8"
      },
      "execution_count": null,
      "outputs": [
        {
          "output_type": "stream",
          "name": "stdout",
          "text": [
            "4.6920349425579415\n",
            "0.6635677906617903\n",
            "3.618299844833333\n",
            "0.26521946001681357\n"
          ]
        }
      ]
    },
    {
      "cell_type": "code",
      "source": [
        "#plotting the rmse values against k values\n",
        "curve = pd.DataFrame(rms) #elbow curve \n",
        "curve.plot()"
      ],
      "metadata": {
        "colab": {
          "base_uri": "https://localhost:8080/",
          "height": 282
        },
        "id": "Qt0NHGZCdlRz",
        "outputId": "ff4cde54-a5e4-4b5c-ae00-69da1aa79a7d"
      },
      "execution_count": null,
      "outputs": [
        {
          "output_type": "execute_result",
          "data": {
            "text/plain": [
              "<matplotlib.axes._subplots.AxesSubplot at 0x7f49b8482750>"
            ]
          },
          "metadata": {},
          "execution_count": 129
        },
        {
          "output_type": "display_data",
          "data": {
            "text/plain": [
              "<Figure size 432x288 with 1 Axes>"
            ],
            "image/png": "[encoded data removed]"
          },
          "metadata": {
            "needs_background": "light"
          }
        }
      ]
    },
    {
      "cell_type": "markdown",
      "source": [
        "                    **SVR**"
      ],
      "metadata": {
        "id": "7jRE4RJydN7F"
      }
    },
    {
      "cell_type": "code",
      "source": [
        "from sklearn.svm import SVR\n",
        "model_svr = SVR(kernel = 'rbf')\n",
        "model_svr.fit(X_train, y_train)\n",
        "y_predicted_svr = model_svr.predict(X_test)\n",
        "plt.figure(figsize = (10,10))\n",
        "plt.scatter(y_test,y_predicted_svr)"
      ],
      "metadata": {
        "colab": {
          "base_uri": "https://localhost:8080/",
          "height": 609
        },
        "id": "2rFUKGfcdnWD",
        "outputId": "180e4c4a-9cdb-4b69-8e28-ffee56a73c59"
      },
      "execution_count": null,
      "outputs": [
        {
          "output_type": "execute_result",
          "data": {
            "text/plain": [
              "<matplotlib.collections.PathCollection at 0x7fe2815886d0>"
            ]
          },
          "metadata": {},
          "execution_count": 20
        },
        {
          "output_type": "display_data",
          "data": {
            "text/plain": [
              "<Figure size 720x720 with 1 Axes>"
            ],
            "image/png": "[encoded data removed]"
          },
          "metadata": {
            "needs_background": "light"
          }
        }
      ]
    },
    {
      "cell_type": "code",
      "source": [
        "rms = sqrt(mean_squared_error(y_test, y_predicted_svr))\n",
        "print(rms)\n",
        "r_square = model_svr.score(X_test,y_test)\n",
        "print(r_square)\n",
        "mae = mean_absolute_error(y_test,y_predicted_svr)\n",
        "print(mae)\n",
        "mape = mean_absolute_percentage_error(y_test, y_predicted_svr)\n",
        "print(mape)"
      ],
      "metadata": {
        "colab": {
          "base_uri": "https://localhost:8080/"
        },
        "id": "FP8ZpyJWdrWG",
        "outputId": "51e1bb84-77e9-478e-dadb-4e3031247436"
      },
      "execution_count": null,
      "outputs": [
        {
          "output_type": "stream",
          "name": "stdout",
          "text": [
            "8.052008528668637\n",
            "0.009205597073209781\n",
            "7.063127896147573\n",
            "0.517227031374133\n"
          ]
        }
      ]
    },
    {
      "cell_type": "code",
      "source": [
        "#Hyperparameter Tuning\n",
        "c_range = np.logspace(-2, 2, 5)\n",
        "gamma_range = np.logspace(-2, 2, 5)\n",
        "parameters = {'kernel': ['rbf'], 'C': c_range,'gamma': gamma_range,'epsilon':[1,0.1,0.01,00.001]}\n",
        "svr = SVR()\n",
        "grid_search = GridSearchCV(svr, parameters)\n",
        "grid_search.fit(X_train,y_train)\n",
        "print(grid_search.best_params_)"
      ],
      "metadata": {
        "colab": {
          "base_uri": "https://localhost:8080/"
        },
        "id": "7d2KmRYSd5_I",
        "outputId": "ef48c61e-d59e-4785-c236-657cacbf62d5"
      },
      "execution_count": null,
      "outputs": [
        {
          "output_type": "stream",
          "name": "stdout",
          "text": [
            "{'C': 100.0, 'epsilon': 1, 'gamma': 100.0, 'kernel': 'rbf'}\n"
          ]
        }
      ]
    },
    {
      "cell_type": "code",
      "source": [
        "model_svrhp = grid_search.best_estimator_\n",
        "model_svrhp.fit(X_train,y_train)\n",
        "y_predicted_svrhp = model_svrhp.predict(X_test)"
      ],
      "metadata": {
        "id": "u_mxgvgQeBK1"
      },
      "execution_count": null,
      "outputs": []
    },
    {
      "cell_type": "code",
      "source": [
        "rms = sqrt(mean_squared_error(y_test, y_predicted_svrhp))\n",
        "print(rms)\n",
        "r_square = model_svrhp.score(X_test,y_test)\n",
        "print(r_square)\n",
        "mae = mean_absolute_error(y_test,y_predicted_svrhp)\n",
        "print(mae)\n",
        "mape = mean_absolute_percentage_error(y_test, y_predicted_svrhp)\n",
        "print(mape)"
      ],
      "metadata": {
        "colab": {
          "base_uri": "https://localhost:8080/"
        },
        "id": "-LoQHsQdeDvi",
        "outputId": "32467c25-9439-4ca4-974e-63ef67219c60"
      },
      "execution_count": null,
      "outputs": [
        {
          "output_type": "stream",
          "name": "stdout",
          "text": [
            "8.440688903083613\n",
            "-0.0887567983574693\n",
            "7.240164373488331\n",
            "0.4437238535046541\n"
          ]
        }
      ]
    },
    {
      "cell_type": "markdown",
      "source": [
        "                   **ADABoost Regressor**"
      ],
      "metadata": {
        "id": "mB0D06LbdVP5"
      }
    },
    {
      "cell_type": "code",
      "source": [
        "from sklearn.ensemble import AdaBoostRegressor\n",
        "adb = AdaBoostRegressor()\n",
        "model_abr = AdaBoostRegressor().fit(X_train, y_train)\n",
        "y_predicted_abr = model_abr.predict(X_test)"
      ],
      "metadata": {
        "id": "IJ3Cdfy5japt"
      },
      "execution_count": null,
      "outputs": []
    },
    {
      "cell_type": "code",
      "source": [
        "rms = sqrt(mean_squared_error(y_test, y_predicted_abr))\n",
        "print(rms)\n",
        "r_square = model_abr.score(X_test,y_test)\n",
        "print(r_square)\n",
        "mae = mean_absolute_error(y_test,y_predicted_abr)\n",
        "print(mae)\n",
        "mape = mean_absolute_percentage_error(y_test, y_predicted_abr)\n",
        "print(mape)"
      ],
      "metadata": {
        "colab": {
          "base_uri": "https://localhost:8080/"
        },
        "id": "z4KKMzNjjeeD",
        "outputId": "f62a18a4-0fd6-4bdb-d653-e4980b5addf9"
      },
      "execution_count": null,
      "outputs": [
        {
          "output_type": "stream",
          "name": "stdout",
          "text": [
            "7.61557095762577\n",
            "0.1137014677358037\n",
            "5.906489728210317\n",
            "0.3844479618913828\n"
          ]
        }
      ]
    },
    {
      "cell_type": "code",
      "source": [
        "#Hyperparametrer Tuning\n",
        "param_grid = {'n_estimators':list(range(0, 1000, 100)), 'learning_rate':[100,10,1,0.1, 0.01, 0.001]}\n",
        "grid_search = GridSearchCV(estimator=adb, param_grid=param_grid, scoring='neg_mean_squared_error', n_jobs=1, cv=5)"
      ],
      "metadata": {
        "id": "W1D4va97jiqQ"
      },
      "execution_count": null,
      "outputs": []
    },
    {
      "cell_type": "code",
      "source": [
        "#fit the data\n",
        "grid_search.fit(X_train, y_train)\n",
        "print(grid_search.best_params_)\n",
        "model_adbhp = grid_search.best_estimator_\n",
        "model_adbhp.fit(X_train,y_train)\n",
        "y_predicted_abrhp = model_adbhp.predict(X_test) "
      ],
      "metadata": {
        "colab": {
          "base_uri": "https://localhost:8080/"
        },
        "id": "B0reQqnTjmYs",
        "outputId": "ca58a413-ad89-4da3-ec1f-498d3e45f2f6"
      },
      "execution_count": null,
      "outputs": [
        {
          "output_type": "stream",
          "name": "stdout",
          "text": [
            "{'learning_rate': 1, 'n_estimators': 300}\n"
          ]
        }
      ]
    },
    {
      "cell_type": "code",
      "source": [
        "rms = sqrt(mean_squared_error(y_test, y_predicted_abrhp))\n",
        "print(rms)\n",
        "r_square = model_adbhp.score(X_test,y_test)\n",
        "print(r_square)\n",
        "mae = mean_absolute_error(y_test,y_predicted_abrhp)\n",
        "print(mae)\n",
        "mape = mean_absolute_percentage_error(y_test, y_predicted_abrhp)\n",
        "print(mape)"
      ],
      "metadata": {
        "colab": {
          "base_uri": "https://localhost:8080/"
        },
        "id": "lLJzFzVMjpKj",
        "outputId": "46254304-efee-4208-8d01-3c5077b3b9ec"
      },
      "execution_count": null,
      "outputs": [
        {
          "output_type": "stream",
          "name": "stdout",
          "text": [
            "8.117067834944642\n",
            "-0.0068700969837394155\n",
            "5.9386145725946955\n",
            "0.3828955102486901\n"
          ]
        }
      ]
    },
    {
      "cell_type": "markdown",
      "source": [
        "                          **Ridge**"
      ],
      "metadata": {
        "id": "vfYIpMr3db1j"
      }
    },
    {
      "cell_type": "code",
      "source": [
        "#Ridge Regression, using Grid Search CV to find the best parameter for alpha\n",
        "from sklearn.model_selection import cross_val_score\n",
        "from sklearn.model_selection import GridSearchCV\n",
        "from sklearn.linear_model import Ridge\n",
        "ridge = Ridge()\n",
        "parameters = {\"alpha\":[1e-15, 1e-10, 1e-8, 1e-4, 1e-3, 1e-2, 1, 5, 10, 20]}\n",
        "ridge_regression = GridSearchCV(ridge, parameters, scoring='neg_mean_squared_error', cv=5)\n",
        "ridge_regression.fit(X_train, y_train)"
      ],
      "metadata": {
        "colab": {
          "base_uri": "https://localhost:8080/"
        },
        "id": "0bs35-hjkUkg",
        "outputId": "c09314e8-bd31-43e8-abd1-46e3fc1e363f"
      },
      "execution_count": null,
      "outputs": [
        {
          "output_type": "execute_result",
          "data": {
            "text/plain": [
              "GridSearchCV(cv=5, estimator=Ridge(),\n",
              "             param_grid={'alpha': [1e-15, 1e-10, 1e-08, 0.0001, 0.001, 0.01, 1,\n",
              "                                   5, 10, 20]},\n",
              "             scoring='neg_mean_squared_error')"
            ]
          },
          "metadata": {},
          "execution_count": 22
        }
      ]
    },
    {
      "cell_type": "code",
      "source": [
        "print(ridge_regression.best_params_)"
      ],
      "metadata": {
        "colab": {
          "base_uri": "https://localhost:8080/"
        },
        "id": "Cguxn2QHkbxH",
        "outputId": "1628e4dd-97f3-49a7-82fb-b7e1e7964b97"
      },
      "execution_count": null,
      "outputs": [
        {
          "output_type": "stream",
          "name": "stdout",
          "text": [
            "{'alpha': 1}\n"
          ]
        }
      ]
    },
    {
      "cell_type": "code",
      "source": [
        "model_rr = Ridge(alpha=1).fit(X_train,y_train)\n",
        "y_predicted_rr = model_rr.predict(X_test)"
      ],
      "metadata": {
        "id": "oDwkHOdJke7C"
      },
      "execution_count": null,
      "outputs": []
    },
    {
      "cell_type": "code",
      "source": [
        "rms = sqrt(mean_squared_error(y_test, y_predicted_rr))\n",
        "print(rms)\n",
        "r_square = model_rr.score(X_test,y_test)\n",
        "print(r_square)\n",
        "mae = mean_absolute_error(y_test,y_predicted_rr)\n",
        "print(mae)\n",
        "mape = mean_absolute_percentage_error(y_test, y_predicted_rr)\n",
        "print(mape)"
      ],
      "metadata": {
        "colab": {
          "base_uri": "https://localhost:8080/"
        },
        "id": "-xokhyPnkkI7",
        "outputId": "ab39fbdd-6750-4d77-fcc0-4a95d9b213ff"
      },
      "execution_count": null,
      "outputs": [
        {
          "output_type": "stream",
          "name": "stdout",
          "text": [
            "8.01998269309356\n",
            "0.017071439611008654\n",
            "6.729509115020594\n",
            "0.46840473701374274\n"
          ]
        }
      ]
    },
    {
      "cell_type": "markdown",
      "source": [
        "                         **Lasso**"
      ],
      "metadata": {
        "id": "Z_GYHKxjdgfj"
      }
    },
    {
      "cell_type": "code",
      "source": [
        "#Lasso Regression, using Grid Search CV to find the best parameter for alpha\n",
        "from sklearn.linear_model import Lasso\n",
        "lasso = Lasso()\n",
        "a = [0.000000000000000000000000001*(10)**i for i in range(100)]\n",
        "parameters = {\"alpha\":a}\n",
        "lasso_regression = GridSearchCV(lasso, parameters, scoring='neg_mean_squared_error', cv=5)\n",
        "lasso_regression.fit(X_train, y_train)"
      ],
      "metadata": {
        "colab": {
          "base_uri": "https://localhost:8080/"
        },
        "id": "lQQe_3ZjkoPg",
        "outputId": "8313b56d-35af-4284-f989-ba7c7f04d8e9"
      },
      "execution_count": null,
      "outputs": [
        {
          "output_type": "execute_result",
          "data": {
            "text/plain": [
              "GridSearchCV(cv=5, estimator=Lasso(),\n",
              "             param_grid={'alpha': [1e-27, 1e-26, 1e-25, 1.0000000000000001e-24,\n",
              "                                   1.0000000000000001e-23, 1e-22,\n",
              "                                   1.0000000000000001e-21,\n",
              "                                   1.0000000000000001e-20,\n",
              "                                   1.0000000000000001e-19, 1e-18, 1e-17, 1e-16,\n",
              "                                   1e-15, 1e-14, 1e-13, 1e-12,\n",
              "                                   1.0000000000000001e-11, 1e-10, 1e-09, 1e-08,\n",
              "                                   1.0000000000000001e-07, 1e-06, 1e-05,\n",
              "                                   9.999999999999999e-05, 0.001,\n",
              "                                   0.010000000000000002, 0.1, 1.0, 10.0, 100.0, ...]},\n",
              "             scoring='neg_mean_squared_error')"
            ]
          },
          "metadata": {},
          "execution_count": 156
        }
      ]
    },
    {
      "cell_type": "code",
      "source": [
        "print(lasso_regression.best_params_)"
      ],
      "metadata": {
        "colab": {
          "base_uri": "https://localhost:8080/"
        },
        "id": "9EbIxblDks4e",
        "outputId": "31be906e-37d3-45ae-a16a-d42efe904d1e"
      },
      "execution_count": null,
      "outputs": [
        {
          "output_type": "stream",
          "name": "stdout",
          "text": [
            "{'alpha': 0.1}\n"
          ]
        }
      ]
    },
    {
      "cell_type": "code",
      "source": [
        "model_lr = Lasso(alpha=0.1).fit(X_train,y_train)\n",
        "y_predicted_lr = model_lr.predict(X_test)"
      ],
      "metadata": {
        "id": "V8NahEjokyd7"
      },
      "execution_count": null,
      "outputs": []
    },
    {
      "cell_type": "code",
      "source": [
        "rms = sqrt(mean_squared_error(y_test, y_predicted_lr))\n",
        "print(rms)\n",
        "r_square = model_lr.score(X_test,y_test)\n",
        "print(r_square)\n",
        "mae = mean_absolute_error(y_test,y_predicted_lr)\n",
        "print(mae)\n",
        "mape = mean_absolute_percentage_error(y_test, y_predicted_lr)\n",
        "print(mape)"
      ],
      "metadata": {
        "colab": {
          "base_uri": "https://localhost:8080/"
        },
        "id": "0uRXXp2rk45r",
        "outputId": "f6847d92-95c2-4104-c587-71a4b44018a6"
      },
      "execution_count": null,
      "outputs": [
        {
          "output_type": "stream",
          "name": "stdout",
          "text": [
            "7.482977143298233\n",
            "0.14429527618159943\n",
            "6.305769581729328\n",
            "0.45181696782667763\n"
          ]
        }
      ]
    },
    {
      "cell_type": "markdown",
      "source": [
        "                        **ANN**"
      ],
      "metadata": {
        "id": "1UoKXqo9gWZ_"
      }
    },
    {
      "cell_type": "code",
      "source": [
        "import math\n",
        "import tensorflow as tf\n",
        "import matplotlib.pyplot as plt\n",
        "from tensorflow.keras import Model\n",
        "from tensorflow.keras import Sequential\n",
        "from tensorflow.keras.optimizers import Adam\n",
        "from sklearn.preprocessing import StandardScaler\n",
        "from tensorflow.keras.layers import Dense, Dropout\n",
        "from sklearn.model_selection import train_test_split\n",
        "from tensorflow.keras.losses import MeanSquaredLogarithmicError"
      ],
      "metadata": {
        "id": "XgLRTeJYgU6a"
      },
      "execution_count": null,
      "outputs": []
    },
    {
      "cell_type": "code",
      "source": [
        "input_unit = 41\n",
        "hidden_units2 = 10\n",
        "learning_rate = 0.001\n",
        "# Creating model using the Sequential in tensorflow\n",
        "def build_model_using_sequential():\n",
        "  model = Sequential([\n",
        "    Dense(input_unit, kernel_initializer='normal', activation='relu'),\n",
        "    Dropout(0.4),\n",
        "    # Dense(hidden_units2, kernel_initializer='normal', activation='relu'),\n",
        "    Dense(1, kernel_initializer='normal', activation='linear')\n",
        "  ])\n",
        "  return model\n",
        "# build the model\n",
        "model = build_model_using_sequential()"
      ],
      "metadata": {
        "id": "kZP2Y-ZUgZPH"
      },
      "execution_count": null,
      "outputs": []
    },
    {
      "cell_type": "code",
      "source": [
        "msle = MeanSquaredLogarithmicError()\n",
        "model.compile(\n",
        "    loss=msle, \n",
        "    optimizer=Adam(learning_rate=learning_rate), \n",
        "    metrics=[msle]\n",
        ")\n",
        "# train the model\n",
        "history = model.fit(\n",
        "    X_train, \n",
        "    y_train, \n",
        "    epochs=150, \n",
        "    batch_size=32,\n",
        "    validation_split=0.3\n",
        ")"
      ],
      "metadata": {
        "colab": {
          "base_uri": "https://localhost:8080/"
        },
        "id": "RWVI4UZIgcAn",
        "outputId": "4a164c70-5598-4447-fc32-65de7ccf8442"
      },
      "execution_count": null,
      "outputs": [
        {
          "output_type": "stream",
          "name": "stdout",
          "text": [
            "Epoch 1/150\n",
            "1/1 [==============================] - 1s 705ms/step - loss: 7.9393 - mean_squared_logarithmic_error: 7.9393 - val_loss: 8.8849 - val_mean_squared_logarithmic_error: 8.8849\n",
            "Epoch 2/150\n",
            "1/1 [==============================] - 0s 34ms/step - loss: 7.9065 - mean_squared_logarithmic_error: 7.9065 - val_loss: 8.8661 - val_mean_squared_logarithmic_error: 8.8661\n",
            "Epoch 3/150\n",
            "1/1 [==============================] - 0s 33ms/step - loss: 7.8730 - mean_squared_logarithmic_error: 7.8730 - val_loss: 8.8474 - val_mean_squared_logarithmic_error: 8.8474\n",
            "Epoch 4/150\n",
            "1/1 [==============================] - 0s 54ms/step - loss: 7.8637 - mean_squared_logarithmic_error: 7.8637 - val_loss: 8.8275 - val_mean_squared_logarithmic_error: 8.8275\n",
            "Epoch 5/150\n",
            "1/1 [==============================] - 0s 35ms/step - loss: 7.8133 - mean_squared_logarithmic_error: 7.8133 - val_loss: 8.8075 - val_mean_squared_logarithmic_error: 8.8075\n",
            "Epoch 6/150\n",
            "1/1 [==============================] - 0s 36ms/step - loss: 7.8322 - mean_squared_logarithmic_error: 7.8322 - val_loss: 8.7876 - val_mean_squared_logarithmic_error: 8.7876\n",
            "Epoch 7/150\n",
            "1/1 [==============================] - 0s 50ms/step - loss: 7.8045 - mean_squared_logarithmic_error: 7.8045 - val_loss: 8.7678 - val_mean_squared_logarithmic_error: 8.7678\n",
            "Epoch 8/150\n",
            "1/1 [==============================] - 0s 33ms/step - loss: 7.7678 - mean_squared_logarithmic_error: 7.7678 - val_loss: 8.7476 - val_mean_squared_logarithmic_error: 8.7476\n",
            "Epoch 9/150\n",
            "1/1 [==============================] - 0s 34ms/step - loss: 7.7434 - mean_squared_logarithmic_error: 7.7434 - val_loss: 8.7244 - val_mean_squared_logarithmic_error: 8.7244\n",
            "Epoch 10/150\n",
            "1/1 [==============================] - 0s 34ms/step - loss: 7.7400 - mean_squared_logarithmic_error: 7.7400 - val_loss: 8.7008 - val_mean_squared_logarithmic_error: 8.7008\n",
            "Epoch 11/150\n",
            "1/1 [==============================] - 0s 32ms/step - loss: 7.6831 - mean_squared_logarithmic_error: 7.6831 - val_loss: 8.6776 - val_mean_squared_logarithmic_error: 8.6776\n",
            "Epoch 12/150\n",
            "1/1 [==============================] - 0s 29ms/step - loss: 7.6595 - mean_squared_logarithmic_error: 7.6595 - val_loss: 8.6543 - val_mean_squared_logarithmic_error: 8.6543\n",
            "Epoch 13/150\n",
            "1/1 [==============================] - 0s 28ms/step - loss: 7.6634 - mean_squared_logarithmic_error: 7.6634 - val_loss: 8.6309 - val_mean_squared_logarithmic_error: 8.6309\n",
            "Epoch 14/150\n",
            "1/1 [==============================] - 0s 37ms/step - loss: 7.6056 - mean_squared_logarithmic_error: 7.6056 - val_loss: 8.6076 - val_mean_squared_logarithmic_error: 8.6076\n",
            "Epoch 15/150\n",
            "1/1 [==============================] - 0s 33ms/step - loss: 7.5724 - mean_squared_logarithmic_error: 7.5724 - val_loss: 8.5839 - val_mean_squared_logarithmic_error: 8.5839\n",
            "Epoch 16/150\n",
            "1/1 [==============================] - 0s 29ms/step - loss: 7.5981 - mean_squared_logarithmic_error: 7.5981 - val_loss: 8.5600 - val_mean_squared_logarithmic_error: 8.5600\n",
            "Epoch 17/150\n",
            "1/1 [==============================] - 0s 30ms/step - loss: 7.5140 - mean_squared_logarithmic_error: 7.5140 - val_loss: 8.5360 - val_mean_squared_logarithmic_error: 8.5360\n",
            "Epoch 18/150\n",
            "1/1 [==============================] - 0s 35ms/step - loss: 7.5635 - mean_squared_logarithmic_error: 7.5635 - val_loss: 8.5120 - val_mean_squared_logarithmic_error: 8.5120\n",
            "Epoch 19/150\n",
            "1/1 [==============================] - 0s 33ms/step - loss: 7.5089 - mean_squared_logarithmic_error: 7.5089 - val_loss: 8.4877 - val_mean_squared_logarithmic_error: 8.4877\n",
            "Epoch 20/150\n",
            "1/1 [==============================] - 0s 35ms/step - loss: 7.4888 - mean_squared_logarithmic_error: 7.4888 - val_loss: 8.4631 - val_mean_squared_logarithmic_error: 8.4631\n",
            "Epoch 21/150\n",
            "1/1 [==============================] - 0s 30ms/step - loss: 7.4499 - mean_squared_logarithmic_error: 7.4499 - val_loss: 8.4384 - val_mean_squared_logarithmic_error: 8.4384\n",
            "Epoch 22/150\n",
            "1/1 [==============================] - 0s 29ms/step - loss: 7.4431 - mean_squared_logarithmic_error: 7.4431 - val_loss: 8.4134 - val_mean_squared_logarithmic_error: 8.4134\n",
            "Epoch 23/150\n",
            "1/1 [==============================] - 0s 33ms/step - loss: 7.4161 - mean_squared_logarithmic_error: 7.4161 - val_loss: 8.3881 - val_mean_squared_logarithmic_error: 8.3881\n",
            "Epoch 24/150\n",
            "1/1 [==============================] - 0s 28ms/step - loss: 7.3587 - mean_squared_logarithmic_error: 7.3587 - val_loss: 8.3627 - val_mean_squared_logarithmic_error: 8.3627\n",
            "Epoch 25/150\n",
            "1/1 [==============================] - 0s 32ms/step - loss: 7.3466 - mean_squared_logarithmic_error: 7.3466 - val_loss: 8.3373 - val_mean_squared_logarithmic_error: 8.3373\n",
            "Epoch 26/150\n",
            "1/1 [==============================] - 0s 35ms/step - loss: 7.3407 - mean_squared_logarithmic_error: 7.3407 - val_loss: 8.3117 - val_mean_squared_logarithmic_error: 8.3117\n",
            "Epoch 27/150\n",
            "1/1 [==============================] - 0s 33ms/step - loss: 7.3176 - mean_squared_logarithmic_error: 7.3176 - val_loss: 8.2860 - val_mean_squared_logarithmic_error: 8.2860\n",
            "Epoch 28/150\n",
            "1/1 [==============================] - 0s 42ms/step - loss: 7.2758 - mean_squared_logarithmic_error: 7.2758 - val_loss: 8.2599 - val_mean_squared_logarithmic_error: 8.2599\n",
            "Epoch 29/150\n",
            "1/1 [==============================] - 0s 33ms/step - loss: 7.2289 - mean_squared_logarithmic_error: 7.2289 - val_loss: 8.2336 - val_mean_squared_logarithmic_error: 8.2336\n",
            "Epoch 30/150\n",
            "1/1 [==============================] - 0s 39ms/step - loss: 7.1121 - mean_squared_logarithmic_error: 7.1121 - val_loss: 8.2069 - val_mean_squared_logarithmic_error: 8.2069\n",
            "Epoch 31/150\n",
            "1/1 [==============================] - 0s 33ms/step - loss: 7.2214 - mean_squared_logarithmic_error: 7.2214 - val_loss: 8.1799 - val_mean_squared_logarithmic_error: 8.1799\n",
            "Epoch 32/150\n",
            "1/1 [==============================] - 0s 37ms/step - loss: 7.1705 - mean_squared_logarithmic_error: 7.1705 - val_loss: 8.1527 - val_mean_squared_logarithmic_error: 8.1527\n",
            "Epoch 33/150\n",
            "1/1 [==============================] - 0s 47ms/step - loss: 7.0990 - mean_squared_logarithmic_error: 7.0990 - val_loss: 8.1252 - val_mean_squared_logarithmic_error: 8.1252\n",
            "Epoch 34/150\n",
            "1/1 [==============================] - 0s 41ms/step - loss: 7.1621 - mean_squared_logarithmic_error: 7.1621 - val_loss: 8.0976 - val_mean_squared_logarithmic_error: 8.0976\n",
            "Epoch 35/150\n",
            "1/1 [==============================] - 0s 31ms/step - loss: 7.0374 - mean_squared_logarithmic_error: 7.0374 - val_loss: 8.0698 - val_mean_squared_logarithmic_error: 8.0698\n",
            "Epoch 36/150\n",
            "1/1 [==============================] - 0s 37ms/step - loss: 7.0666 - mean_squared_logarithmic_error: 7.0666 - val_loss: 8.0419 - val_mean_squared_logarithmic_error: 8.0419\n",
            "Epoch 37/150\n",
            "1/1 [==============================] - 0s 36ms/step - loss: 7.0130 - mean_squared_logarithmic_error: 7.0130 - val_loss: 8.0138 - val_mean_squared_logarithmic_error: 8.0138\n",
            "Epoch 38/150\n",
            "1/1 [==============================] - 0s 37ms/step - loss: 7.0222 - mean_squared_logarithmic_error: 7.0222 - val_loss: 7.9854 - val_mean_squared_logarithmic_error: 7.9854\n",
            "Epoch 39/150\n",
            "1/1 [==============================] - 0s 37ms/step - loss: 6.8916 - mean_squared_logarithmic_error: 6.8916 - val_loss: 7.9568 - val_mean_squared_logarithmic_error: 7.9568\n",
            "Epoch 40/150\n",
            "1/1 [==============================] - 0s 38ms/step - loss: 6.9016 - mean_squared_logarithmic_error: 6.9016 - val_loss: 7.9280 - val_mean_squared_logarithmic_error: 7.9280\n",
            "Epoch 41/150\n",
            "1/1 [==============================] - 0s 35ms/step - loss: 6.8602 - mean_squared_logarithmic_error: 6.8602 - val_loss: 7.8989 - val_mean_squared_logarithmic_error: 7.8989\n",
            "Epoch 42/150\n",
            "1/1 [==============================] - 0s 38ms/step - loss: 6.9032 - mean_squared_logarithmic_error: 6.9032 - val_loss: 7.8697 - val_mean_squared_logarithmic_error: 7.8697\n",
            "Epoch 43/150\n",
            "1/1 [==============================] - 0s 37ms/step - loss: 6.7537 - mean_squared_logarithmic_error: 6.7537 - val_loss: 7.8402 - val_mean_squared_logarithmic_error: 7.8402\n",
            "Epoch 44/150\n",
            "1/1 [==============================] - 0s 36ms/step - loss: 6.8633 - mean_squared_logarithmic_error: 6.8633 - val_loss: 7.8105 - val_mean_squared_logarithmic_error: 7.8105\n",
            "Epoch 45/150\n",
            "1/1 [==============================] - 0s 34ms/step - loss: 6.6760 - mean_squared_logarithmic_error: 6.6760 - val_loss: 7.7805 - val_mean_squared_logarithmic_error: 7.7805\n",
            "Epoch 46/150\n",
            "1/1 [==============================] - 0s 34ms/step - loss: 6.6108 - mean_squared_logarithmic_error: 6.6108 - val_loss: 7.7502 - val_mean_squared_logarithmic_error: 7.7502\n",
            "Epoch 47/150\n",
            "1/1 [==============================] - 0s 30ms/step - loss: 6.6111 - mean_squared_logarithmic_error: 6.6111 - val_loss: 7.7195 - val_mean_squared_logarithmic_error: 7.7195\n",
            "Epoch 48/150\n",
            "1/1 [==============================] - 0s 34ms/step - loss: 6.6584 - mean_squared_logarithmic_error: 6.6584 - val_loss: 7.6888 - val_mean_squared_logarithmic_error: 7.6888\n",
            "Epoch 49/150\n",
            "1/1 [==============================] - 0s 38ms/step - loss: 6.5366 - mean_squared_logarithmic_error: 6.5366 - val_loss: 7.6578 - val_mean_squared_logarithmic_error: 7.6578\n",
            "Epoch 50/150\n",
            "1/1 [==============================] - 0s 31ms/step - loss: 6.6634 - mean_squared_logarithmic_error: 6.6634 - val_loss: 7.6269 - val_mean_squared_logarithmic_error: 7.6269\n",
            "Epoch 51/150\n",
            "1/1 [==============================] - 0s 35ms/step - loss: 6.5224 - mean_squared_logarithmic_error: 6.5224 - val_loss: 7.5958 - val_mean_squared_logarithmic_error: 7.5958\n",
            "Epoch 52/150\n",
            "1/1 [==============================] - 0s 33ms/step - loss: 6.4259 - mean_squared_logarithmic_error: 6.4259 - val_loss: 7.5644 - val_mean_squared_logarithmic_error: 7.5644\n",
            "Epoch 53/150\n",
            "1/1 [==============================] - 0s 31ms/step - loss: 6.4987 - mean_squared_logarithmic_error: 6.4987 - val_loss: 7.5330 - val_mean_squared_logarithmic_error: 7.5330\n",
            "Epoch 54/150\n",
            "1/1 [==============================] - 0s 36ms/step - loss: 6.4628 - mean_squared_logarithmic_error: 6.4628 - val_loss: 7.5014 - val_mean_squared_logarithmic_error: 7.5014\n",
            "Epoch 55/150\n",
            "1/1 [==============================] - 0s 30ms/step - loss: 6.4016 - mean_squared_logarithmic_error: 6.4016 - val_loss: 7.4696 - val_mean_squared_logarithmic_error: 7.4696\n",
            "Epoch 56/150\n",
            "1/1 [==============================] - 0s 32ms/step - loss: 6.4061 - mean_squared_logarithmic_error: 6.4061 - val_loss: 7.4378 - val_mean_squared_logarithmic_error: 7.4378\n",
            "Epoch 57/150\n",
            "1/1 [==============================] - 0s 33ms/step - loss: 6.2979 - mean_squared_logarithmic_error: 6.2979 - val_loss: 7.4059 - val_mean_squared_logarithmic_error: 7.4059\n",
            "Epoch 58/150\n",
            "1/1 [==============================] - 0s 42ms/step - loss: 6.3545 - mean_squared_logarithmic_error: 6.3545 - val_loss: 7.3739 - val_mean_squared_logarithmic_error: 7.3739\n",
            "Epoch 59/150\n",
            "1/1 [==============================] - 0s 46ms/step - loss: 6.2749 - mean_squared_logarithmic_error: 6.2749 - val_loss: 7.3418 - val_mean_squared_logarithmic_error: 7.3418\n",
            "Epoch 60/150\n",
            "1/1 [==============================] - 0s 37ms/step - loss: 6.1713 - mean_squared_logarithmic_error: 6.1713 - val_loss: 7.3094 - val_mean_squared_logarithmic_error: 7.3094\n",
            "Epoch 61/150\n",
            "1/1 [==============================] - 0s 32ms/step - loss: 6.2256 - mean_squared_logarithmic_error: 6.2256 - val_loss: 7.2770 - val_mean_squared_logarithmic_error: 7.2770\n",
            "Epoch 62/150\n",
            "1/1 [==============================] - 0s 34ms/step - loss: 6.2332 - mean_squared_logarithmic_error: 6.2332 - val_loss: 7.2446 - val_mean_squared_logarithmic_error: 7.2446\n",
            "Epoch 63/150\n",
            "1/1 [==============================] - 0s 34ms/step - loss: 6.1163 - mean_squared_logarithmic_error: 6.1163 - val_loss: 7.2122 - val_mean_squared_logarithmic_error: 7.2122\n",
            "Epoch 64/150\n",
            "1/1 [==============================] - 0s 33ms/step - loss: 6.0694 - mean_squared_logarithmic_error: 6.0694 - val_loss: 7.1796 - val_mean_squared_logarithmic_error: 7.1796\n",
            "Epoch 65/150\n",
            "1/1 [==============================] - 0s 31ms/step - loss: 6.2135 - mean_squared_logarithmic_error: 6.2135 - val_loss: 7.1471 - val_mean_squared_logarithmic_error: 7.1471\n",
            "Epoch 66/150\n",
            "1/1 [==============================] - 0s 33ms/step - loss: 6.0289 - mean_squared_logarithmic_error: 6.0289 - val_loss: 7.1145 - val_mean_squared_logarithmic_error: 7.1145\n",
            "Epoch 67/150\n",
            "1/1 [==============================] - 0s 36ms/step - loss: 5.9719 - mean_squared_logarithmic_error: 5.9719 - val_loss: 7.0818 - val_mean_squared_logarithmic_error: 7.0818\n",
            "Epoch 68/150\n",
            "1/1 [==============================] - 0s 33ms/step - loss: 5.9186 - mean_squared_logarithmic_error: 5.9186 - val_loss: 7.0490 - val_mean_squared_logarithmic_error: 7.0490\n",
            "Epoch 69/150\n",
            "1/1 [==============================] - 0s 30ms/step - loss: 5.8283 - mean_squared_logarithmic_error: 5.8283 - val_loss: 7.0161 - val_mean_squared_logarithmic_error: 7.0161\n",
            "Epoch 70/150\n",
            "1/1 [==============================] - 0s 31ms/step - loss: 5.9067 - mean_squared_logarithmic_error: 5.9067 - val_loss: 6.9832 - val_mean_squared_logarithmic_error: 6.9832\n",
            "Epoch 71/150\n",
            "1/1 [==============================] - 0s 37ms/step - loss: 5.9330 - mean_squared_logarithmic_error: 5.9330 - val_loss: 6.9504 - val_mean_squared_logarithmic_error: 6.9504\n",
            "Epoch 72/150\n",
            "1/1 [==============================] - 0s 33ms/step - loss: 5.7346 - mean_squared_logarithmic_error: 5.7346 - val_loss: 6.9176 - val_mean_squared_logarithmic_error: 6.9176\n",
            "Epoch 73/150\n",
            "1/1 [==============================] - 0s 34ms/step - loss: 5.8724 - mean_squared_logarithmic_error: 5.8724 - val_loss: 6.8847 - val_mean_squared_logarithmic_error: 6.8847\n",
            "Epoch 74/150\n",
            "1/1 [==============================] - 0s 33ms/step - loss: 5.7482 - mean_squared_logarithmic_error: 5.7482 - val_loss: 6.8519 - val_mean_squared_logarithmic_error: 6.8519\n",
            "Epoch 75/150\n",
            "1/1 [==============================] - 0s 36ms/step - loss: 5.7765 - mean_squared_logarithmic_error: 5.7765 - val_loss: 6.8192 - val_mean_squared_logarithmic_error: 6.8192\n",
            "Epoch 76/150\n",
            "1/1 [==============================] - 0s 43ms/step - loss: 5.5836 - mean_squared_logarithmic_error: 5.5836 - val_loss: 6.7864 - val_mean_squared_logarithmic_error: 6.7864\n",
            "Epoch 77/150\n",
            "1/1 [==============================] - 0s 34ms/step - loss: 5.7051 - mean_squared_logarithmic_error: 5.7051 - val_loss: 6.7538 - val_mean_squared_logarithmic_error: 6.7538\n",
            "Epoch 78/150\n",
            "1/1 [==============================] - 0s 38ms/step - loss: 5.6217 - mean_squared_logarithmic_error: 5.6217 - val_loss: 6.7211 - val_mean_squared_logarithmic_error: 6.7211\n",
            "Epoch 79/150\n",
            "1/1 [==============================] - 0s 32ms/step - loss: 5.5061 - mean_squared_logarithmic_error: 5.5061 - val_loss: 6.6883 - val_mean_squared_logarithmic_error: 6.6883\n",
            "Epoch 80/150\n",
            "1/1 [==============================] - 0s 32ms/step - loss: 5.5192 - mean_squared_logarithmic_error: 5.5192 - val_loss: 6.6556 - val_mean_squared_logarithmic_error: 6.6556\n",
            "Epoch 81/150\n",
            "1/1 [==============================] - 0s 36ms/step - loss: 5.4586 - mean_squared_logarithmic_error: 5.4586 - val_loss: 6.6229 - val_mean_squared_logarithmic_error: 6.6229\n",
            "Epoch 82/150\n",
            "1/1 [==============================] - 0s 33ms/step - loss: 5.4501 - mean_squared_logarithmic_error: 5.4501 - val_loss: 6.5903 - val_mean_squared_logarithmic_error: 6.5903\n",
            "Epoch 83/150\n",
            "1/1 [==============================] - 0s 33ms/step - loss: 5.4905 - mean_squared_logarithmic_error: 5.4905 - val_loss: 6.5577 - val_mean_squared_logarithmic_error: 6.5577\n",
            "Epoch 84/150\n",
            "1/1 [==============================] - 0s 44ms/step - loss: 5.4505 - mean_squared_logarithmic_error: 5.4505 - val_loss: 6.5253 - val_mean_squared_logarithmic_error: 6.5253\n",
            "Epoch 85/150\n",
            "1/1 [==============================] - 0s 50ms/step - loss: 5.5418 - mean_squared_logarithmic_error: 5.5418 - val_loss: 6.4929 - val_mean_squared_logarithmic_error: 6.4929\n",
            "Epoch 86/150\n",
            "1/1 [==============================] - 0s 39ms/step - loss: 5.2920 - mean_squared_logarithmic_error: 5.2920 - val_loss: 6.4607 - val_mean_squared_logarithmic_error: 6.4607\n",
            "Epoch 87/150\n",
            "1/1 [==============================] - 0s 39ms/step - loss: 5.2586 - mean_squared_logarithmic_error: 5.2586 - val_loss: 6.4284 - val_mean_squared_logarithmic_error: 6.4284\n",
            "Epoch 88/150\n",
            "1/1 [==============================] - 0s 43ms/step - loss: 5.5522 - mean_squared_logarithmic_error: 5.5522 - val_loss: 6.3964 - val_mean_squared_logarithmic_error: 6.3964\n",
            "Epoch 89/150\n",
            "1/1 [==============================] - 0s 42ms/step - loss: 5.0788 - mean_squared_logarithmic_error: 5.0788 - val_loss: 6.3644 - val_mean_squared_logarithmic_error: 6.3644\n",
            "Epoch 90/150\n",
            "1/1 [==============================] - 0s 37ms/step - loss: 5.2901 - mean_squared_logarithmic_error: 5.2901 - val_loss: 6.3324 - val_mean_squared_logarithmic_error: 6.3324\n",
            "Epoch 91/150\n",
            "1/1 [==============================] - 0s 55ms/step - loss: 5.0652 - mean_squared_logarithmic_error: 5.0652 - val_loss: 6.3004 - val_mean_squared_logarithmic_error: 6.3004\n",
            "Epoch 92/150\n",
            "1/1 [==============================] - 0s 31ms/step - loss: 5.0954 - mean_squared_logarithmic_error: 5.0954 - val_loss: 6.2686 - val_mean_squared_logarithmic_error: 6.2686\n",
            "Epoch 93/150\n",
            "1/1 [==============================] - 0s 32ms/step - loss: 5.0546 - mean_squared_logarithmic_error: 5.0546 - val_loss: 6.2367 - val_mean_squared_logarithmic_error: 6.2367\n",
            "Epoch 94/150\n",
            "1/1 [==============================] - 0s 35ms/step - loss: 5.2728 - mean_squared_logarithmic_error: 5.2728 - val_loss: 6.2051 - val_mean_squared_logarithmic_error: 6.2051\n",
            "Epoch 95/150\n",
            "1/1 [==============================] - 0s 37ms/step - loss: 4.9459 - mean_squared_logarithmic_error: 4.9459 - val_loss: 6.1735 - val_mean_squared_logarithmic_error: 6.1735\n",
            "Epoch 96/150\n",
            "1/1 [==============================] - 0s 37ms/step - loss: 4.9543 - mean_squared_logarithmic_error: 4.9543 - val_loss: 6.1420 - val_mean_squared_logarithmic_error: 6.1420\n",
            "Epoch 97/150\n",
            "1/1 [==============================] - 0s 31ms/step - loss: 4.9570 - mean_squared_logarithmic_error: 4.9570 - val_loss: 6.1106 - val_mean_squared_logarithmic_error: 6.1106\n",
            "Epoch 98/150\n",
            "1/1 [==============================] - 0s 37ms/step - loss: 4.9365 - mean_squared_logarithmic_error: 4.9365 - val_loss: 6.0794 - val_mean_squared_logarithmic_error: 6.0794\n",
            "Epoch 99/150\n",
            "1/1 [==============================] - 0s 40ms/step - loss: 4.9231 - mean_squared_logarithmic_error: 4.9231 - val_loss: 6.0482 - val_mean_squared_logarithmic_error: 6.0482\n",
            "Epoch 100/150\n",
            "1/1 [==============================] - 0s 36ms/step - loss: 4.8593 - mean_squared_logarithmic_error: 4.8593 - val_loss: 6.0172 - val_mean_squared_logarithmic_error: 6.0172\n",
            "Epoch 101/150\n",
            "1/1 [==============================] - 0s 35ms/step - loss: 4.7518 - mean_squared_logarithmic_error: 4.7518 - val_loss: 5.9863 - val_mean_squared_logarithmic_error: 5.9863\n",
            "Epoch 102/150\n",
            "1/1 [==============================] - 0s 41ms/step - loss: 5.1019 - mean_squared_logarithmic_error: 5.1019 - val_loss: 5.9556 - val_mean_squared_logarithmic_error: 5.9556\n",
            "Epoch 103/150\n",
            "1/1 [==============================] - 0s 33ms/step - loss: 4.9050 - mean_squared_logarithmic_error: 4.9050 - val_loss: 5.9250 - val_mean_squared_logarithmic_error: 5.9250\n",
            "Epoch 104/150\n",
            "1/1 [==============================] - 0s 38ms/step - loss: 4.8055 - mean_squared_logarithmic_error: 4.8055 - val_loss: 5.8945 - val_mean_squared_logarithmic_error: 5.8945\n",
            "Epoch 105/150\n",
            "1/1 [==============================] - 0s 37ms/step - loss: 4.7900 - mean_squared_logarithmic_error: 4.7900 - val_loss: 5.8641 - val_mean_squared_logarithmic_error: 5.8641\n",
            "Epoch 106/150\n",
            "1/1 [==============================] - 0s 33ms/step - loss: 4.6655 - mean_squared_logarithmic_error: 4.6655 - val_loss: 5.8339 - val_mean_squared_logarithmic_error: 5.8339\n",
            "Epoch 107/150\n",
            "1/1 [==============================] - 0s 34ms/step - loss: 4.6326 - mean_squared_logarithmic_error: 4.6326 - val_loss: 5.8038 - val_mean_squared_logarithmic_error: 5.8038\n",
            "Epoch 108/150\n",
            "1/1 [==============================] - 0s 39ms/step - loss: 4.8211 - mean_squared_logarithmic_error: 4.8211 - val_loss: 5.7740 - val_mean_squared_logarithmic_error: 5.7740\n",
            "Epoch 109/150\n",
            "1/1 [==============================] - 0s 48ms/step - loss: 4.5334 - mean_squared_logarithmic_error: 4.5334 - val_loss: 5.7443 - val_mean_squared_logarithmic_error: 5.7443\n",
            "Epoch 110/150\n",
            "1/1 [==============================] - 0s 40ms/step - loss: 4.5050 - mean_squared_logarithmic_error: 4.5050 - val_loss: 5.7147 - val_mean_squared_logarithmic_error: 5.7147\n",
            "Epoch 111/150\n",
            "1/1 [==============================] - 0s 32ms/step - loss: 4.5111 - mean_squared_logarithmic_error: 4.5111 - val_loss: 5.6852 - val_mean_squared_logarithmic_error: 5.6852\n",
            "Epoch 112/150\n",
            "1/1 [==============================] - 0s 32ms/step - loss: 4.4465 - mean_squared_logarithmic_error: 4.4465 - val_loss: 5.6559 - val_mean_squared_logarithmic_error: 5.6559\n",
            "Epoch 113/150\n",
            "1/1 [==============================] - 0s 35ms/step - loss: 4.5171 - mean_squared_logarithmic_error: 4.5171 - val_loss: 5.6267 - val_mean_squared_logarithmic_error: 5.6267\n",
            "Epoch 114/150\n",
            "1/1 [==============================] - 0s 31ms/step - loss: 4.5388 - mean_squared_logarithmic_error: 4.5388 - val_loss: 5.5977 - val_mean_squared_logarithmic_error: 5.5977\n",
            "Epoch 115/150\n",
            "1/1 [==============================] - 0s 31ms/step - loss: 4.5872 - mean_squared_logarithmic_error: 4.5872 - val_loss: 5.5689 - val_mean_squared_logarithmic_error: 5.5689\n",
            "Epoch 116/150\n",
            "1/1 [==============================] - 0s 40ms/step - loss: 4.3374 - mean_squared_logarithmic_error: 4.3374 - val_loss: 5.5401 - val_mean_squared_logarithmic_error: 5.5401\n",
            "Epoch 117/150\n",
            "1/1 [==============================] - 0s 35ms/step - loss: 4.4546 - mean_squared_logarithmic_error: 4.4546 - val_loss: 5.5116 - val_mean_squared_logarithmic_error: 5.5116\n",
            "Epoch 118/150\n",
            "1/1 [==============================] - 0s 45ms/step - loss: 4.3231 - mean_squared_logarithmic_error: 4.3231 - val_loss: 5.4832 - val_mean_squared_logarithmic_error: 5.4832\n",
            "Epoch 119/150\n",
            "1/1 [==============================] - 0s 37ms/step - loss: 4.3756 - mean_squared_logarithmic_error: 4.3756 - val_loss: 5.4551 - val_mean_squared_logarithmic_error: 5.4551\n",
            "Epoch 120/150\n",
            "1/1 [==============================] - 0s 40ms/step - loss: 4.2118 - mean_squared_logarithmic_error: 4.2118 - val_loss: 5.4271 - val_mean_squared_logarithmic_error: 5.4271\n",
            "Epoch 121/150\n",
            "1/1 [==============================] - 0s 38ms/step - loss: 4.2320 - mean_squared_logarithmic_error: 4.2320 - val_loss: 5.3993 - val_mean_squared_logarithmic_error: 5.3993\n",
            "Epoch 122/150\n",
            "1/1 [==============================] - 0s 35ms/step - loss: 4.3518 - mean_squared_logarithmic_error: 4.3518 - val_loss: 5.3717 - val_mean_squared_logarithmic_error: 5.3717\n",
            "Epoch 123/150\n",
            "1/1 [==============================] - 0s 40ms/step - loss: 4.4609 - mean_squared_logarithmic_error: 4.4609 - val_loss: 5.3444 - val_mean_squared_logarithmic_error: 5.3444\n",
            "Epoch 124/150\n",
            "1/1 [==============================] - 0s 38ms/step - loss: 4.1949 - mean_squared_logarithmic_error: 4.1949 - val_loss: 5.3172 - val_mean_squared_logarithmic_error: 5.3172\n",
            "Epoch 125/150\n",
            "1/1 [==============================] - 0s 37ms/step - loss: 4.3098 - mean_squared_logarithmic_error: 4.3098 - val_loss: 5.2903 - val_mean_squared_logarithmic_error: 5.2903\n",
            "Epoch 126/150\n",
            "1/1 [==============================] - 0s 35ms/step - loss: 4.1889 - mean_squared_logarithmic_error: 4.1889 - val_loss: 5.2635 - val_mean_squared_logarithmic_error: 5.2635\n",
            "Epoch 127/150\n",
            "1/1 [==============================] - 0s 37ms/step - loss: 4.2605 - mean_squared_logarithmic_error: 4.2605 - val_loss: 5.2370 - val_mean_squared_logarithmic_error: 5.2370\n",
            "Epoch 128/150\n",
            "1/1 [==============================] - 0s 40ms/step - loss: 4.1978 - mean_squared_logarithmic_error: 4.1978 - val_loss: 5.2107 - val_mean_squared_logarithmic_error: 5.2107\n",
            "Epoch 129/150\n",
            "1/1 [==============================] - 0s 35ms/step - loss: 3.9648 - mean_squared_logarithmic_error: 3.9648 - val_loss: 5.1844 - val_mean_squared_logarithmic_error: 5.1844\n",
            "Epoch 130/150\n",
            "1/1 [==============================] - 0s 45ms/step - loss: 4.1086 - mean_squared_logarithmic_error: 4.1086 - val_loss: 5.1583 - val_mean_squared_logarithmic_error: 5.1583\n",
            "Epoch 131/150\n",
            "1/1 [==============================] - 0s 33ms/step - loss: 3.9944 - mean_squared_logarithmic_error: 3.9944 - val_loss: 5.1324 - val_mean_squared_logarithmic_error: 5.1324\n",
            "Epoch 132/150\n",
            "1/1 [==============================] - 0s 33ms/step - loss: 4.2976 - mean_squared_logarithmic_error: 4.2976 - val_loss: 5.1067 - val_mean_squared_logarithmic_error: 5.1067\n",
            "Epoch 133/150\n",
            "1/1 [==============================] - 0s 43ms/step - loss: 3.9441 - mean_squared_logarithmic_error: 3.9441 - val_loss: 5.0812 - val_mean_squared_logarithmic_error: 5.0812\n",
            "Epoch 134/150\n",
            "1/1 [==============================] - 0s 38ms/step - loss: 4.0402 - mean_squared_logarithmic_error: 4.0402 - val_loss: 5.0559 - val_mean_squared_logarithmic_error: 5.0559\n",
            "Epoch 135/150\n",
            "1/1 [==============================] - 0s 37ms/step - loss: 4.0526 - mean_squared_logarithmic_error: 4.0526 - val_loss: 5.0308 - val_mean_squared_logarithmic_error: 5.0308\n",
            "Epoch 136/150\n",
            "1/1 [==============================] - 0s 38ms/step - loss: 3.8082 - mean_squared_logarithmic_error: 3.8082 - val_loss: 5.0058 - val_mean_squared_logarithmic_error: 5.0058\n",
            "Epoch 137/150\n",
            "1/1 [==============================] - 0s 35ms/step - loss: 3.8151 - mean_squared_logarithmic_error: 3.8151 - val_loss: 4.9809 - val_mean_squared_logarithmic_error: 4.9809\n",
            "Epoch 138/150\n",
            "1/1 [==============================] - 0s 34ms/step - loss: 3.8602 - mean_squared_logarithmic_error: 3.8602 - val_loss: 4.9562 - val_mean_squared_logarithmic_error: 4.9562\n",
            "Epoch 139/150\n",
            "1/1 [==============================] - 0s 40ms/step - loss: 3.9015 - mean_squared_logarithmic_error: 3.9015 - val_loss: 4.9316 - val_mean_squared_logarithmic_error: 4.9316\n",
            "Epoch 140/150\n",
            "1/1 [==============================] - 0s 35ms/step - loss: 3.7894 - mean_squared_logarithmic_error: 3.7894 - val_loss: 4.9072 - val_mean_squared_logarithmic_error: 4.9072\n",
            "Epoch 141/150\n",
            "1/1 [==============================] - 0s 31ms/step - loss: 3.7121 - mean_squared_logarithmic_error: 3.7121 - val_loss: 4.8829 - val_mean_squared_logarithmic_error: 4.8829\n",
            "Epoch 142/150\n",
            "1/1 [==============================] - 0s 36ms/step - loss: 3.7543 - mean_squared_logarithmic_error: 3.7543 - val_loss: 4.8587 - val_mean_squared_logarithmic_error: 4.8587\n",
            "Epoch 143/150\n",
            "1/1 [==============================] - 0s 38ms/step - loss: 3.9245 - mean_squared_logarithmic_error: 3.9245 - val_loss: 4.8347 - val_mean_squared_logarithmic_error: 4.8347\n",
            "Epoch 144/150\n",
            "1/1 [==============================] - 0s 32ms/step - loss: 3.8321 - mean_squared_logarithmic_error: 3.8321 - val_loss: 4.8107 - val_mean_squared_logarithmic_error: 4.8107\n",
            "Epoch 145/150\n",
            "1/1 [==============================] - 0s 42ms/step - loss: 3.7927 - mean_squared_logarithmic_error: 3.7927 - val_loss: 4.7869 - val_mean_squared_logarithmic_error: 4.7869\n",
            "Epoch 146/150\n",
            "1/1 [==============================] - 0s 35ms/step - loss: 3.7522 - mean_squared_logarithmic_error: 3.7522 - val_loss: 4.7631 - val_mean_squared_logarithmic_error: 4.7631\n",
            "Epoch 147/150\n",
            "1/1 [==============================] - 0s 34ms/step - loss: 3.6311 - mean_squared_logarithmic_error: 3.6311 - val_loss: 4.7395 - val_mean_squared_logarithmic_error: 4.7395\n",
            "Epoch 148/150\n",
            "1/1 [==============================] - 0s 37ms/step - loss: 3.6045 - mean_squared_logarithmic_error: 3.6045 - val_loss: 4.7160 - val_mean_squared_logarithmic_error: 4.7160\n",
            "Epoch 149/150\n",
            "1/1 [==============================] - 0s 36ms/step - loss: 3.4867 - mean_squared_logarithmic_error: 3.4867 - val_loss: 4.6927 - val_mean_squared_logarithmic_error: 4.6927\n",
            "Epoch 150/150\n",
            "1/1 [==============================] - 0s 40ms/step - loss: 3.7420 - mean_squared_logarithmic_error: 3.7420 - val_loss: 4.6694 - val_mean_squared_logarithmic_error: 4.6694\n"
          ]
        }
      ]
    },
    {
      "cell_type": "code",
      "source": [
        "def plot_history(history, key):\n",
        "  plt.plot(history.history[key])\n",
        "  plt.plot(history.history['val_'+key])\n",
        "  plt.xlabel(\"Epochs\")\n",
        "  plt.ylabel(key)\n",
        "  plt.legend([key, 'val_'+key])\n",
        "  plt.show()\n",
        "# Plot the history\n",
        "plot_history(history, 'mean_squared_logarithmic_error')"
      ],
      "metadata": {
        "colab": {
          "base_uri": "https://localhost:8080/",
          "height": 279
        },
        "id": "7nvKNsA8gexg",
        "outputId": "2868572c-7f7f-4095-94b8-ea2a4adffb0c"
      },
      "execution_count": null,
      "outputs": [
        {
          "output_type": "display_data",
          "data": {
            "text/plain": [
              "<Figure size 432x288 with 1 Axes>"
            ],
            "image/png": "[encoded data removed]"
          },
          "metadata": {
            "needs_background": "light"
          }
        }
      ]
    },
    {
      "cell_type": "code",
      "source": [
        "Y_pred = model.predict(X_test)\n",
        "from sklearn.metrics import mean_squared_error\n",
        "mse = mean_squared_error(y_test, Y_pred)\n",
        "rmse = math.sqrt(mse)\n",
        "print(rmse)\n",
        "from sklearn.metrics import r2_score\n",
        "r2 = r2_score(y_test, Y_pred)\n",
        "print(r2)\n",
        "mae = mean_absolute_error(y_test,Y_pred)\n",
        "print(mae)\n",
        "mape = mean_absolute_percentage_error(y_test, Y_pred)\n",
        "print(mape)"
      ],
      "metadata": {
        "colab": {
          "base_uri": "https://localhost:8080/"
        },
        "id": "RiGJB0eighgs",
        "outputId": "ced0329f-b301-49b8-c8b8-e31964b356ff"
      },
      "execution_count": null,
      "outputs": [
        {
          "output_type": "stream",
          "name": "stdout",
          "text": [
            "20.391987396033137\n",
            "-5.354687525718007\n",
            "18.71944982715922\n",
            "0.893871165763707\n"
          ]
        }
      ]
    }
  ]
}