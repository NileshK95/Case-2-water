{
  "nbformat": 4,
  "nbformat_minor": 0,
  "metadata": {
    "colab": {
      "name": "SVD.ipynb",
      "provenance": [],
      "collapsed_sections": []
    },
    "kernelspec": {
      "name": "python3",
      "display_name": "Python 3"
    },
    "language_info": {
      "name": "python"
    }
  },
  "cells": [
    {
      "cell_type": "code",
      "execution_count": null,
      "metadata": {
        "colab": {
          "base_uri": "https://localhost:8080/"
        },
        "id": "9qFgXWlhvFKq",
        "outputId": "5f52d6a0-03ac-45d3-ff0f-2cac194cd60d"
      },
      "outputs": [
        {
          "output_type": "stream",
          "name": "stdout",
          "text": [
            "Mounted at /content/drive\n"
          ]
        }
      ],
      "source": [
        "from google.colab import drive\n",
        "drive.mount('/content/drive')"
      ]
    },
    {
      "cell_type": "code",
      "source": [
        "import warnings\n",
        "warnings.filterwarnings(\"ignore\")\n",
        "import pandas as pd\n",
        "import numpy as np\n",
        "import matplotlib.pyplot as plt\n",
        "import seaborn as sns\n",
        "from sklearn import preprocessing\n",
        "from sklearn.model_selection import train_test_split\n",
        "from sklearn.preprocessing import MinMaxScaler\n",
        "from sklearn.preprocessing import StandardScaler\n",
        "from math import sqrt\n",
        "from sklearn.metrics import mean_squared_error\n",
        "from sklearn.metrics import mean_absolute_error\n",
        "from sklearn.metrics import mean_absolute_percentage_error\n",
        "from sklearn.model_selection import GridSearchCV\n",
        "from sklearn.model_selection import KFold\n",
        "from sklearn.metrics import mean_squared_error\n",
        "from sklearn import datasets\n",
        "from sklearn.decomposition import TruncatedSVD"
      ],
      "metadata": {
        "id": "g2uc_ldVvlKd"
      },
      "execution_count": null,
      "outputs": []
    },
    {
      "cell_type": "code",
      "source": [
        "#Read dataset to pandas dataframe\n",
        "dataset = pd.read_excel('/content/drive/MyDrive/MTP_Final/Chilikaujainiukai_Inland_Water/CHILIKAUJANI.xlsx')"
      ],
      "metadata": {
        "id": "EtCgNVg4vnTJ"
      },
      "execution_count": null,
      "outputs": []
    },
    {
      "cell_type": "code",
      "source": [
        "dataset_y=dataset['Chlorophyll']\n",
        "dataset_x=dataset.drop(['Chlorophyll','Site'],axis=1)"
      ],
      "metadata": {
        "id": "65W09ZMgvsmw"
      },
      "execution_count": null,
      "outputs": []
    },
    {
      "cell_type": "code",
      "source": [
        "#Standardize the features\n",
        "#Create an object of StandardScaler which is present in sklearn.preprocessing\n",
        "scalar = StandardScaler()\n",
        "scaled_data = pd.DataFrame(scalar.fit_transform(dataset_x)) #scaling the data\n",
        "scaled_data\n",
        "scaled_data.columns.tolist()"
      ],
      "metadata": {
        "colab": {
          "base_uri": "https://localhost:8080/"
        },
        "id": "7tnhjqXzvu-n",
        "outputId": "5de13831-ab2a-496e-e7d9-35b281bc50a7"
      },
      "execution_count": null,
      "outputs": [
        {
          "output_type": "execute_result",
          "data": {
            "text/plain": [
              "[0,\n",
              " 1,\n",
              " 2,\n",
              " 3,\n",
              " 4,\n",
              " 5,\n",
              " 6,\n",
              " 7,\n",
              " 8,\n",
              " 9,\n",
              " 10,\n",
              " 11,\n",
              " 12,\n",
              " 13,\n",
              " 14,\n",
              " 15,\n",
              " 16,\n",
              " 17,\n",
              " 18,\n",
              " 19,\n",
              " 20,\n",
              " 21,\n",
              " 22,\n",
              " 23,\n",
              " 24,\n",
              " 25,\n",
              " 26,\n",
              " 27,\n",
              " 28,\n",
              " 29,\n",
              " 30,\n",
              " 31,\n",
              " 32,\n",
              " 33,\n",
              " 34,\n",
              " 35,\n",
              " 36,\n",
              " 37,\n",
              " 38,\n",
              " 39,\n",
              " 40,\n",
              " 41,\n",
              " 42,\n",
              " 43,\n",
              " 44,\n",
              " 45,\n",
              " 46,\n",
              " 47,\n",
              " 48,\n",
              " 49,\n",
              " 50,\n",
              " 51,\n",
              " 52,\n",
              " 53,\n",
              " 54,\n",
              " 55,\n",
              " 56,\n",
              " 57,\n",
              " 58,\n",
              " 59,\n",
              " 60,\n",
              " 61,\n",
              " 62,\n",
              " 63,\n",
              " 64,\n",
              " 65,\n",
              " 66,\n",
              " 67,\n",
              " 68,\n",
              " 69,\n",
              " 70,\n",
              " 71,\n",
              " 72,\n",
              " 73,\n",
              " 74,\n",
              " 75,\n",
              " 76,\n",
              " 77,\n",
              " 78,\n",
              " 79,\n",
              " 80,\n",
              " 81,\n",
              " 82,\n",
              " 83,\n",
              " 84,\n",
              " 85,\n",
              " 86,\n",
              " 87,\n",
              " 88,\n",
              " 89,\n",
              " 90,\n",
              " 91,\n",
              " 92,\n",
              " 93,\n",
              " 94,\n",
              " 95,\n",
              " 96,\n",
              " 97,\n",
              " 98,\n",
              " 99,\n",
              " 100,\n",
              " 101,\n",
              " 102,\n",
              " 103,\n",
              " 104,\n",
              " 105,\n",
              " 106,\n",
              " 107,\n",
              " 108,\n",
              " 109,\n",
              " 110,\n",
              " 111,\n",
              " 112,\n",
              " 113,\n",
              " 114,\n",
              " 115,\n",
              " 116,\n",
              " 117,\n",
              " 118,\n",
              " 119,\n",
              " 120,\n",
              " 121,\n",
              " 122,\n",
              " 123,\n",
              " 124,\n",
              " 125,\n",
              " 126,\n",
              " 127,\n",
              " 128,\n",
              " 129,\n",
              " 130,\n",
              " 131,\n",
              " 132,\n",
              " 133,\n",
              " 134,\n",
              " 135,\n",
              " 136,\n",
              " 137,\n",
              " 138,\n",
              " 139,\n",
              " 140,\n",
              " 141,\n",
              " 142,\n",
              " 143,\n",
              " 144,\n",
              " 145,\n",
              " 146,\n",
              " 147,\n",
              " 148,\n",
              " 149,\n",
              " 150,\n",
              " 151,\n",
              " 152,\n",
              " 153,\n",
              " 154,\n",
              " 155,\n",
              " 156,\n",
              " 157,\n",
              " 158,\n",
              " 159,\n",
              " 160,\n",
              " 161,\n",
              " 162,\n",
              " 163,\n",
              " 164,\n",
              " 165,\n",
              " 166,\n",
              " 167,\n",
              " 168,\n",
              " 169,\n",
              " 170,\n",
              " 171,\n",
              " 172,\n",
              " 173,\n",
              " 174,\n",
              " 175,\n",
              " 176,\n",
              " 177,\n",
              " 178,\n",
              " 179,\n",
              " 180,\n",
              " 181,\n",
              " 182,\n",
              " 183,\n",
              " 184,\n",
              " 185,\n",
              " 186,\n",
              " 187,\n",
              " 188,\n",
              " 189,\n",
              " 190,\n",
              " 191,\n",
              " 192,\n",
              " 193,\n",
              " 194,\n",
              " 195,\n",
              " 196,\n",
              " 197,\n",
              " 198,\n",
              " 199,\n",
              " 200,\n",
              " 201,\n",
              " 202,\n",
              " 203,\n",
              " 204,\n",
              " 205,\n",
              " 206,\n",
              " 207,\n",
              " 208,\n",
              " 209,\n",
              " 210,\n",
              " 211,\n",
              " 212,\n",
              " 213,\n",
              " 214,\n",
              " 215,\n",
              " 216,\n",
              " 217,\n",
              " 218,\n",
              " 219,\n",
              " 220,\n",
              " 221,\n",
              " 222,\n",
              " 223,\n",
              " 224,\n",
              " 225,\n",
              " 226,\n",
              " 227,\n",
              " 228,\n",
              " 229,\n",
              " 230,\n",
              " 231,\n",
              " 232,\n",
              " 233,\n",
              " 234,\n",
              " 235,\n",
              " 236,\n",
              " 237,\n",
              " 238,\n",
              " 239,\n",
              " 240,\n",
              " 241,\n",
              " 242,\n",
              " 243,\n",
              " 244,\n",
              " 245,\n",
              " 246,\n",
              " 247,\n",
              " 248,\n",
              " 249,\n",
              " 250,\n",
              " 251,\n",
              " 252,\n",
              " 253,\n",
              " 254,\n",
              " 255,\n",
              " 256,\n",
              " 257,\n",
              " 258,\n",
              " 259,\n",
              " 260,\n",
              " 261,\n",
              " 262,\n",
              " 263,\n",
              " 264,\n",
              " 265,\n",
              " 266,\n",
              " 267,\n",
              " 268,\n",
              " 269,\n",
              " 270,\n",
              " 271,\n",
              " 272,\n",
              " 273,\n",
              " 274,\n",
              " 275,\n",
              " 276,\n",
              " 277,\n",
              " 278,\n",
              " 279,\n",
              " 280,\n",
              " 281,\n",
              " 282,\n",
              " 283,\n",
              " 284,\n",
              " 285,\n",
              " 286,\n",
              " 287,\n",
              " 288,\n",
              " 289,\n",
              " 290,\n",
              " 291,\n",
              " 292,\n",
              " 293,\n",
              " 294,\n",
              " 295,\n",
              " 296,\n",
              " 297,\n",
              " 298,\n",
              " 299,\n",
              " 300,\n",
              " 301,\n",
              " 302,\n",
              " 303,\n",
              " 304,\n",
              " 305,\n",
              " 306,\n",
              " 307,\n",
              " 308,\n",
              " 309,\n",
              " 310,\n",
              " 311,\n",
              " 312,\n",
              " 313,\n",
              " 314,\n",
              " 315,\n",
              " 316,\n",
              " 317,\n",
              " 318,\n",
              " 319,\n",
              " 320,\n",
              " 321,\n",
              " 322,\n",
              " 323,\n",
              " 324,\n",
              " 325,\n",
              " 326,\n",
              " 327,\n",
              " 328,\n",
              " 329,\n",
              " 330,\n",
              " 331,\n",
              " 332,\n",
              " 333,\n",
              " 334,\n",
              " 335,\n",
              " 336,\n",
              " 337,\n",
              " 338,\n",
              " 339,\n",
              " 340,\n",
              " 341,\n",
              " 342,\n",
              " 343,\n",
              " 344,\n",
              " 345,\n",
              " 346,\n",
              " 347,\n",
              " 348,\n",
              " 349,\n",
              " 350,\n",
              " 351,\n",
              " 352,\n",
              " 353,\n",
              " 354,\n",
              " 355,\n",
              " 356,\n",
              " 357,\n",
              " 358,\n",
              " 359,\n",
              " 360,\n",
              " 361,\n",
              " 362,\n",
              " 363,\n",
              " 364,\n",
              " 365,\n",
              " 366,\n",
              " 367,\n",
              " 368,\n",
              " 369,\n",
              " 370,\n",
              " 371,\n",
              " 372,\n",
              " 373,\n",
              " 374,\n",
              " 375,\n",
              " 376,\n",
              " 377,\n",
              " 378,\n",
              " 379,\n",
              " 380,\n",
              " 381,\n",
              " 382,\n",
              " 383,\n",
              " 384,\n",
              " 385,\n",
              " 386,\n",
              " 387,\n",
              " 388,\n",
              " 389,\n",
              " 390,\n",
              " 391,\n",
              " 392,\n",
              " 393,\n",
              " 394,\n",
              " 395,\n",
              " 396,\n",
              " 397,\n",
              " 398,\n",
              " 399,\n",
              " 400]"
            ]
          },
          "metadata": {},
          "execution_count": 5
        }
      ]
    },
    {
      "cell_type": "code",
      "source": [
        "scaled_data = scaled_data.to_numpy()"
      ],
      "metadata": {
        "id": "N8fc8N8Xv1XM"
      },
      "execution_count": null,
      "outputs": []
    },
    {
      "cell_type": "code",
      "source": [
        "svd =  TruncatedSVD(n_components = 3)\n",
        "scaled_data_df = svd.fit_transform(scaled_data)"
      ],
      "metadata": {
        "id": "9brayiVcwlfq"
      },
      "execution_count": null,
      "outputs": []
    },
    {
      "cell_type": "code",
      "source": [
        "scaled_data_df"
      ],
      "metadata": {
        "colab": {
          "base_uri": "https://localhost:8080/"
        },
        "id": "bqy7HLfbxF4B",
        "outputId": "03230f24-b3fb-4152-83e1-445a648c97d8"
      },
      "execution_count": null,
      "outputs": [
        {
          "output_type": "execute_result",
          "data": {
            "text/plain": [
              "array([[ 9.49786697e+00,  8.09651630e+00,  7.94492274e+00],\n",
              "       [ 1.64861880e+01,  1.54025949e+01, -5.34595894e+00],\n",
              "       [ 1.84796064e+01,  1.46657047e+01, -2.40514489e+00],\n",
              "       [ 6.22200607e+00, -2.46041135e-01, -2.39792807e+00],\n",
              "       [-1.76894875e+01,  1.93846796e+00, -2.44582270e+00],\n",
              "       [-1.83008191e+01,  1.54279919e+00, -2.32888303e+00],\n",
              "       [-1.76353519e+01, -1.72984060e+00, -1.21029573e-01],\n",
              "       [-1.77350454e+01, -2.18610413e+00,  1.99881708e-01],\n",
              "       [-1.79246583e+01, -2.01698866e+00,  1.38628647e-01],\n",
              "       [-2.07293858e+01, -1.11853724e+00,  1.11285327e+00],\n",
              "       [-1.93635988e+01, -1.57298700e+00,  5.52038673e-02],\n",
              "       [-1.78272737e+01, -2.50174757e+00,  3.23587755e-01],\n",
              "       [-1.80980027e+01, -2.04514201e+00,  2.07914493e-01],\n",
              "       [-1.81277844e+01, -1.98175478e+00,  1.20608465e-01],\n",
              "       [ 1.18267251e+01, -7.45130993e-01,  1.34587198e+00],\n",
              "       [ 3.13626883e+01, -6.34235875e+00, -1.71146614e+00],\n",
              "       [ 4.15990302e+01, -9.91441570e+00, -3.78537038e+00],\n",
              "       [ 1.03086379e+01, -1.98311072e-01,  1.11340248e+00],\n",
              "       [ 6.46399635e+00,  4.38121267e-01,  1.67481783e+00],\n",
              "       [ 1.63265473e+01,  2.31753951e+00,  2.59238574e+00],\n",
              "       [ 1.37905715e+01,  1.27093317e+01, -2.87614810e-01],\n",
              "       [ 5.06090233e+00,  9.82671122e+00, -3.89300160e-01],\n",
              "       [ 1.74853170e+01,  1.16592552e+01,  4.28431939e+00],\n",
              "       [ 3.69385471e+00,  3.07579950e+00, -5.35417166e-01],\n",
              "       [ 7.58377618e+00, -1.64022129e+00,  2.87051060e+00],\n",
              "       [ 6.54136705e+00,  3.00354809e-01,  2.26704695e+00],\n",
              "       [ 2.09455546e+00,  2.98852837e+00, -2.46824679e+00],\n",
              "       [ 7.37637253e+00, -1.20118765e+01,  1.94214643e+00],\n",
              "       [-1.81101361e+01,  1.69213258e+00, -2.59002722e+00],\n",
              "       [-1.27348294e+01, -2.17256479e+00, -1.34240342e+00],\n",
              "       [-1.81606527e+01, -3.18268825e+00,  7.96569437e-01],\n",
              "       [-4.11707264e+00, -6.60302210e+00, -1.31033521e+00],\n",
              "       [-1.75669771e+01, -2.38411650e+00,  3.02280151e-01],\n",
              "       [-1.88535104e+01, -1.75344661e+00,  1.98912358e-02],\n",
              "       [-1.93635988e+01, -1.57298700e+00,  5.52038673e-02],\n",
              "       [-1.80723101e+01, -2.12200649e+00,  1.88549819e-01],\n",
              "       [ 3.52922907e+01, -1.03034532e+01, -3.82416698e-01],\n",
              "       [ 4.29181948e+01, -1.03081148e+01,  2.90768352e-01]])"
            ]
          },
          "metadata": {},
          "execution_count": 24
        }
      ]
    },
    {
      "cell_type": "code",
      "source": [
        "X_train, X_test, y_train, y_test = train_test_split(scaled_data_df, dataset_y, test_size = 0.3, random_state = 0)"
      ],
      "metadata": {
        "id": "WOdWuFX2xNmn"
      },
      "execution_count": null,
      "outputs": []
    },
    {
      "cell_type": "markdown",
      "source": [
        "                  **Linear Regression**"
      ],
      "metadata": {
        "id": "VoPXPeHexyRy"
      }
    },
    {
      "cell_type": "code",
      "source": [
        "from sklearn.linear_model import LinearRegression\n",
        "model_lr = LinearRegression().fit(X_train, y_train)\n",
        "r_sq = model_lr.score(X_train, y_train)\n",
        "y_predicted_lr = model_lr.predict(X_test)"
      ],
      "metadata": {
        "id": "XVwlf7N_xbdS"
      },
      "execution_count": null,
      "outputs": []
    },
    {
      "cell_type": "code",
      "source": [
        "rms = sqrt(mean_squared_error(y_test, y_predicted_lr))\n",
        "print(rms)\n",
        "r_square = model_lr.score(X_test,y_test)\n",
        "print(r_square)\n",
        "mae = mean_absolute_error(y_test,y_predicted_lr)\n",
        "print(mae)\n",
        "mape = mean_absolute_percentage_error(y_test, y_predicted_lr)\n",
        "print(mape)"
      ],
      "metadata": {
        "colab": {
          "base_uri": "https://localhost:8080/"
        },
        "id": "1SM8FZOXxeri",
        "outputId": "2f400ce4-4e86-4fc3-fbbc-1cdd0c98ffb1"
      },
      "execution_count": null,
      "outputs": [
        {
          "output_type": "stream",
          "name": "stdout",
          "text": [
            "6.558129346423167\n",
            "0.22581231510873456\n",
            "5.62697530092023\n",
            "0.506063206282981\n"
          ]
        }
      ]
    },
    {
      "cell_type": "markdown",
      "source": [
        "            **Gradient Boosting**"
      ],
      "metadata": {
        "id": "Rd3SekNrx4z-"
      }
    },
    {
      "cell_type": "code",
      "source": [
        "from sklearn.ensemble import GradientBoostingRegressor\n",
        "model_gb = GradientBoostingRegressor().fit(X_train, y_train)\n",
        "y_predicted_gb = model_gb.predict(X_test)"
      ],
      "metadata": {
        "id": "KaPYg6pQx3U_"
      },
      "execution_count": null,
      "outputs": []
    },
    {
      "cell_type": "code",
      "source": [
        "rms = sqrt(mean_squared_error(y_test, y_predicted_gb))\n",
        "print(rms)\n",
        "r_square = model_gb.score(X_test,y_test)\n",
        "print(r_square)\n",
        "mae = mean_absolute_error(y_test,y_predicted_gb)\n",
        "print(mae)\n",
        "mape = mean_absolute_percentage_error(y_test, y_predicted_gb)\n",
        "print(mape)"
      ],
      "metadata": {
        "colab": {
          "base_uri": "https://localhost:8080/"
        },
        "id": "zDRY98l9yACy",
        "outputId": "2f87edba-2d2d-4433-e187-2d0887f6fa1f"
      },
      "execution_count": null,
      "outputs": [
        {
          "output_type": "stream",
          "name": "stdout",
          "text": [
            "7.4891236767204665\n",
            "-0.009597596289225185\n",
            "6.249859459314952\n",
            "0.3995898869828373\n"
          ]
        }
      ]
    },
    {
      "cell_type": "code",
      "source": [
        "#Hyperparameter tuning\n",
        "GBR=GradientBoostingRegressor()\n",
        "search_grid={'n_estimators':[500,1000,2000],'learning_rate':[.001,0.01,.1],'max_depth':[1,2,4],'subsample':[.5,.75,1],'random_state':[1]}\n",
        "search=GridSearchCV(estimator=GBR,param_grid=search_grid,scoring='neg_mean_squared_error',n_jobs=1,cv=5)\n",
        "search.fit(X_train,y_train)\n",
        "search.best_params_"
      ],
      "metadata": {
        "colab": {
          "base_uri": "https://localhost:8080/"
        },
        "id": "0gOcPAz2yDqy",
        "outputId": "1e29e554-fe2b-4b5a-85c0-ce45cbcbaa84"
      },
      "execution_count": null,
      "outputs": [
        {
          "output_type": "execute_result",
          "data": {
            "text/plain": [
              "{'learning_rate': 0.001,\n",
              " 'max_depth': 4,\n",
              " 'n_estimators': 2000,\n",
              " 'random_state': 1,\n",
              " 'subsample': 0.5}"
            ]
          },
          "metadata": {},
          "execution_count": 30
        }
      ]
    },
    {
      "cell_type": "code",
      "source": [
        "GBR2 = GradientBoostingRegressor(n_estimators=2000,learning_rate=0.001,subsample=0.5,max_depth=4,random_state=1)\n",
        "model_gbhp = GBR2.fit(X_train, y_train)\n",
        "y_predicted_gbhp = model_gbhp.predict(X_test)"
      ],
      "metadata": {
        "id": "DM5H-tFXyJX3"
      },
      "execution_count": null,
      "outputs": []
    },
    {
      "cell_type": "code",
      "source": [
        "rms = sqrt(mean_squared_error(y_test, y_predicted_gbhp))\n",
        "print(rms)\n",
        "r_square = model_gbhp.score(X_test,y_test)\n",
        "print(r_square)\n",
        "mae = mean_absolute_error(y_test,y_predicted_gbhp)\n",
        "print(mae)\n",
        "mape = mean_absolute_percentage_error(y_test, y_predicted_gbhp)\n",
        "print(mape)"
      ],
      "metadata": {
        "colab": {
          "base_uri": "https://localhost:8080/"
        },
        "id": "N8V4ZUbnyL2B",
        "outputId": "8233d3b4-f21d-4514-cbb2-0310671bf8ec"
      },
      "execution_count": null,
      "outputs": [
        {
          "output_type": "stream",
          "name": "stdout",
          "text": [
            "5.177876763364192\n",
            "0.5173973280406123\n",
            "4.227789416002267\n",
            "0.32484662155909455\n"
          ]
        }
      ]
    },
    {
      "cell_type": "markdown",
      "source": [
        "                  **PLS Regression**"
      ],
      "metadata": {
        "id": "eud04WLIyO27"
      }
    },
    {
      "cell_type": "code",
      "source": [
        "from sklearn.cross_decomposition import PLSRegression\n",
        "model_plsr = PLSRegression(n_components=41, scale=True)\n",
        "model_plsr.fit(X_train, y_train)\n",
        "y_predicted_plsr = model_plsr.predict(X_test)"
      ],
      "metadata": {
        "id": "AIHy1YIcySqV"
      },
      "execution_count": null,
      "outputs": []
    },
    {
      "cell_type": "code",
      "source": [
        "rms = sqrt(mean_squared_error(y_test, y_predicted_plsr))\n",
        "print(rms)\n",
        "r_square = model_plsr.score(X_test,y_test)\n",
        "print(r_square)\n",
        "mae = mean_absolute_error(y_test,y_predicted_plsr)\n",
        "print(mae)\n",
        "mape = mean_absolute_percentage_error(y_test, y_predicted_plsr)\n",
        "print(mape)"
      ],
      "metadata": {
        "colab": {
          "base_uri": "https://localhost:8080/"
        },
        "id": "LdGeFEwtyVU7",
        "outputId": "d1207f31-6418-47fc-bade-916bb05fc109"
      },
      "execution_count": null,
      "outputs": [
        {
          "output_type": "stream",
          "name": "stdout",
          "text": [
            "6.558129346423167\n",
            "0.22581231510873434\n",
            "5.626975300920232\n",
            "0.5060632062829811\n"
          ]
        }
      ]
    },
    {
      "cell_type": "code",
      "source": [
        "#Hyperparameter Tuning\n",
        "r_square = []\n",
        "rms = [] #to store rmse values for different n_components\n",
        "mae = []\n",
        "mape = []\n",
        "for n_comp in range(1, 41):\n",
        "  model_plsrhp = PLSRegression(n_components=n_comp, scale=True)\n",
        "  model_plsrhp.fit(X_train, y_train)\n",
        "  y_predicted_plsrhp = model_plsrhp.predict(X_test)\n",
        "  rms_val = sqrt(mean_squared_error(y_test,y_predicted_plsrhp)) #calculate rmse\n",
        "  rms.append(rms_val) #store rmse values\n",
        "  r2 = model_plsrhp.score(X_test,y_test)\n",
        "  r_square.append(r2) #store r2 values\n",
        "  mae_1 = mean_absolute_error(y_test,y_predicted_plsrhp)\n",
        "  mae.append(mae_1)\n",
        "  mape_1 = mean_absolute_percentage_error(y_test, y_predicted_plsrhp)\n",
        "  mape.append(mape_1)"
      ],
      "metadata": {
        "id": "JTqoDbRDyX62"
      },
      "execution_count": null,
      "outputs": []
    },
    {
      "cell_type": "code",
      "source": [
        "print(min(rms))\n",
        "print(max(r_square))\n",
        "print(min(mae))\n",
        "print(min(mape))"
      ],
      "metadata": {
        "colab": {
          "base_uri": "https://localhost:8080/"
        },
        "id": "twp8rxPxyc_J",
        "outputId": "f7d43eb5-fc94-4d31-a291-72959f5b3413"
      },
      "execution_count": null,
      "outputs": [
        {
          "output_type": "stream",
          "name": "stdout",
          "text": [
            "6.501943071463283\n",
            "0.23902107750035106\n",
            "5.563682104779143\n",
            "0.49718773542335354\n"
          ]
        }
      ]
    },
    {
      "cell_type": "markdown",
      "source": [
        "                **Random Forest Regressor**"
      ],
      "metadata": {
        "id": "mmBIjE9hyd_W"
      }
    },
    {
      "cell_type": "code",
      "source": [
        "from sklearn.ensemble import RandomForestRegressor\n",
        "model_rfr = RandomForestRegressor(n_estimators = 500)\n",
        "model_rfr.fit(X_train,y_train)\n",
        "y_predicted_rfr = model_rfr.predict(X_test) "
      ],
      "metadata": {
        "id": "RndoHrYEyi1J"
      },
      "execution_count": null,
      "outputs": []
    },
    {
      "cell_type": "code",
      "source": [
        "rms = sqrt(mean_squared_error(y_test, y_predicted_rfr))\n",
        "print(rms)\n",
        "r_square = model_rfr.score(X_test,y_test)\n",
        "print(r_square)\n",
        "mae = mean_absolute_error(y_test,y_predicted_rfr)\n",
        "print(mae)\n",
        "mape = mean_absolute_percentage_error(y_test, y_predicted_rfr)\n",
        "print(mape)\n",
        "print(model_rfr.get_params())"
      ],
      "metadata": {
        "colab": {
          "base_uri": "https://localhost:8080/"
        },
        "id": "90hPuwkMyl6N",
        "outputId": "2cc4892f-e639-4d7b-8dba-6d903d273592"
      },
      "execution_count": null,
      "outputs": [
        {
          "output_type": "stream",
          "name": "stdout",
          "text": [
            "5.311559519001871\n",
            "0.4921559046849744\n",
            "4.4719260325732995\n",
            "0.3336648424029027\n",
            "{'bootstrap': True, 'ccp_alpha': 0.0, 'criterion': 'squared_error', 'max_depth': None, 'max_features': 'auto', 'max_leaf_nodes': None, 'max_samples': None, 'min_impurity_decrease': 0.0, 'min_samples_leaf': 1, 'min_samples_split': 2, 'min_weight_fraction_leaf': 0.0, 'n_estimators': 500, 'n_jobs': None, 'oob_score': False, 'random_state': None, 'verbose': 0, 'warm_start': False}\n"
          ]
        }
      ]
    },
    {
      "cell_type": "code",
      "source": [
        "#Hyperparameter Tuning\n",
        "from sklearn.model_selection import GridSearchCV\n",
        "# Create the parameter grid based on the results of random search \n",
        "param_grid = {'bootstrap': [True],'max_depth': [100, 110],'max_features': [2, 3],'min_samples_leaf': [1,2,3],'min_samples_split': [1,2,3],'n_estimators': [100, 500, 1000]}\n",
        "# Create a based model\n",
        "rf = RandomForestRegressor()\n",
        "# Instantiate the grid search model\n",
        "grid_search = GridSearchCV(estimator = rf, param_grid = param_grid, cv = 3, n_jobs = -1, verbose = 2)"
      ],
      "metadata": {
        "id": "QWljmIInyoLC"
      },
      "execution_count": null,
      "outputs": []
    },
    {
      "cell_type": "code",
      "source": [
        "# Fit the grid search to the data\n",
        "grid_search.fit(X_train, y_train)\n",
        "print(grid_search.best_params_)\n",
        "model_rfrhp = grid_search.best_estimator_\n",
        "model_rfrhp.fit(X_train,y_train)\n",
        "y_predicted_rfrhp = model_rfrhp.predict(X_test)  "
      ],
      "metadata": {
        "colab": {
          "base_uri": "https://localhost:8080/"
        },
        "id": "4DKEXRzIyqh-",
        "outputId": "d9c6939d-58b8-4716-f374-6146fe378fec"
      },
      "execution_count": null,
      "outputs": [
        {
          "output_type": "stream",
          "name": "stdout",
          "text": [
            "Fitting 3 folds for each of 108 candidates, totalling 324 fits\n",
            "{'bootstrap': True, 'max_depth': 100, 'max_features': 3, 'min_samples_leaf': 2, 'min_samples_split': 2, 'n_estimators': 100}\n"
          ]
        }
      ]
    },
    {
      "cell_type": "code",
      "source": [
        "rms = sqrt(mean_squared_error(y_test, y_predicted_rfrhp))\n",
        "print(rms)\n",
        "r_square = model_rfrhp.score(X_test,y_test)\n",
        "print(r_square)\n",
        "mae = mean_absolute_error(y_test,y_predicted_rfrhp)\n",
        "print(mae)\n",
        "mape = mean_absolute_percentage_error(y_test, y_predicted_rfrhp)\n",
        "print(mape)"
      ],
      "metadata": {
        "colab": {
          "base_uri": "https://localhost:8080/"
        },
        "id": "j5pLFCb2ytOl",
        "outputId": "d4155364-b487-4382-82b1-c8aba6b38ef6"
      },
      "execution_count": null,
      "outputs": [
        {
          "output_type": "stream",
          "name": "stdout",
          "text": [
            "5.135464462556428\n",
            "0.5252710037296189\n",
            "4.193094743206086\n",
            "0.30290378359736253\n"
          ]
        }
      ]
    },
    {
      "cell_type": "markdown",
      "source": [
        "                        **KNN**"
      ],
      "metadata": {
        "id": "pNlCouHWywhL"
      }
    },
    {
      "cell_type": "code",
      "source": [
        "from sklearn import neighbors\n",
        "r_square = []\n",
        "rms = []\n",
        "mae = []\n",
        "mape = []\n",
        " #to store rmse values for different k\n",
        "for K in range(20):\n",
        "    K = K+1\n",
        "    model_knn = neighbors.KNeighborsRegressor(n_neighbors = K)\n",
        "    model_knn.fit(X_train, y_train)  #fit the model\n",
        "    y_predicted_knn = model_knn.predict(X_test) #make prediction on test set\n",
        "    rms_val = sqrt(mean_squared_error(y_test,y_predicted_knn)) #calculate rmse\n",
        "    rms.append(rms_val) #store rmse values\n",
        "    r2 = model_knn.score(X_test,y_test)\n",
        "    r_square.append(r2) #store r2 values\n",
        "    mae_1 = mean_absolute_error(y_test,y_predicted_knn)\n",
        "    mae.append(mae_1)\n",
        "    mape_1 = mean_absolute_percentage_error(y_test, y_predicted_knn)\n",
        "    mape.append(mape_1)"
      ],
      "metadata": {
        "id": "4H4zkcIay8V-"
      },
      "execution_count": null,
      "outputs": []
    },
    {
      "cell_type": "code",
      "source": [
        "print(min(rms))\n",
        "print(max(r_square))\n",
        "print(min(mae))\n",
        "print(min(mape))"
      ],
      "metadata": {
        "colab": {
          "base_uri": "https://localhost:8080/"
        },
        "id": "QsEsrgh4y9FW",
        "outputId": "d77c2c7a-fbed-4004-848e-dd6f0b7af0e6"
      },
      "execution_count": null,
      "outputs": [
        {
          "output_type": "stream",
          "name": "stdout",
          "text": [
            "5.442997117709829\n",
            "0.4667111405299881\n",
            "4.031319005530304\n",
            "0.389170147981273\n"
          ]
        }
      ]
    },
    {
      "cell_type": "code",
      "source": [
        "#plotting the rmse values against k values\n",
        "curve = pd.DataFrame(rms) #elbow curve \n",
        "curve.plot()"
      ],
      "metadata": {
        "colab": {
          "base_uri": "https://localhost:8080/",
          "height": 282
        },
        "id": "Sj6QuWByy_fD",
        "outputId": "0017214a-023e-459a-c0b6-86e577d965da"
      },
      "execution_count": null,
      "outputs": [
        {
          "output_type": "execute_result",
          "data": {
            "text/plain": [
              "<matplotlib.axes._subplots.AxesSubplot at 0x7fc8fc0c11d0>"
            ]
          },
          "metadata": {},
          "execution_count": 44
        },
        {
          "output_type": "display_data",
          "data": {
            "text/plain": [
              "<Figure size 432x288 with 1 Axes>"
            ],
            "image/png": "[encoded data removed]"
          },
          "metadata": {
            "needs_background": "light"
          }
        }
      ]
    },
    {
      "cell_type": "markdown",
      "source": [
        "                       **SVR**"
      ],
      "metadata": {
        "id": "S41zgzhI3w0-"
      }
    },
    {
      "cell_type": "code",
      "source": [
        "from sklearn.svm import SVR\n",
        "model_svr = SVR(kernel = 'rbf')\n",
        "model_svr.fit(X_train, y_train)\n",
        "y_predicted_svr = model_svr.predict(X_test)\n",
        "plt.figure(figsize = (10,10))\n",
        "plt.scatter(y_test,y_predicted_svr)"
      ],
      "metadata": {
        "colab": {
          "base_uri": "https://localhost:8080/",
          "height": 609
        },
        "id": "LCGNzKeczBvx",
        "outputId": "d3c65190-f3d1-4f8d-80d4-bfa6e1dfcb8f"
      },
      "execution_count": null,
      "outputs": [
        {
          "output_type": "execute_result",
          "data": {
            "text/plain": [
              "<matplotlib.collections.PathCollection at 0x7fc8fbadcf90>"
            ]
          },
          "metadata": {},
          "execution_count": 45
        },
        {
          "output_type": "display_data",
          "data": {
            "text/plain": [
              "<Figure size 720x720 with 1 Axes>"
            ],
            "image/png": "[encoded data removed]"
          },
          "metadata": {
            "needs_background": "light"
          }
        }
      ]
    },
    {
      "cell_type": "code",
      "source": [
        "rms = sqrt(mean_squared_error(y_test, y_predicted_svr))\n",
        "print(rms)\n",
        "r_square = model_svr.score(X_test,y_test)\n",
        "print(r_square)\n",
        "mae = mean_absolute_error(y_test,y_predicted_svr)\n",
        "print(mae)\n",
        "mape = mean_absolute_percentage_error(y_test, y_predicted_svr)\n",
        "print(mape)"
      ],
      "metadata": {
        "colab": {
          "base_uri": "https://localhost:8080/"
        },
        "id": "YDN-LVFq34FB",
        "outputId": "691a849c-e5c6-4d07-fba6-7497b7f48faf"
      },
      "execution_count": null,
      "outputs": [
        {
          "output_type": "stream",
          "name": "stdout",
          "text": [
            "7.731784022019048\n",
            "-0.07608290140801555\n",
            "6.544617576978976\n",
            "0.6429224436453828\n"
          ]
        }
      ]
    },
    {
      "cell_type": "code",
      "source": [
        "#Hyperparameter Tuning\n",
        "c_range = np.logspace(-3, 3, 5)\n",
        "gamma_range = np.logspace(-3, 3, 5)\n",
        "parameters = {'kernel': ['rbf'], 'C': c_range,'gamma': gamma_range,'epsilon':[1,0.1,0.01,0.001,0.0001,0.00001,0.000001]}\n",
        "svr = SVR()\n",
        "grid_search = GridSearchCV(svr, parameters)\n",
        "grid_search.fit(X_train,y_train)\n",
        "print(grid_search.best_params_)"
      ],
      "metadata": {
        "colab": {
          "base_uri": "https://localhost:8080/"
        },
        "id": "zitVrkKX4BXR",
        "outputId": "9b9a98c9-8d65-4c20-9d06-b7f003e7afec"
      },
      "execution_count": null,
      "outputs": [
        {
          "output_type": "stream",
          "name": "stdout",
          "text": [
            "{'C': 31.622776601683793, 'epsilon': 1, 'gamma': 0.03162277660168379, 'kernel': 'rbf'}\n"
          ]
        }
      ]
    },
    {
      "cell_type": "code",
      "source": [
        "model_svrhp = grid_search.best_estimator_\n",
        "model_svrhp.fit(X_train,y_train)\n",
        "y_predicted_svrhp = model_svrhp.predict(X_test)"
      ],
      "metadata": {
        "id": "zA-xo8SV4ECa"
      },
      "execution_count": null,
      "outputs": []
    },
    {
      "cell_type": "code",
      "source": [
        "rms = sqrt(mean_squared_error(y_test, y_predicted_svrhp))\n",
        "print(rms)\n",
        "r_square = model_svrhp.score(X_test,y_test)\n",
        "print(r_square)\n",
        "mae = mean_absolute_error(y_test,y_predicted_svrhp)\n",
        "print(mae)\n",
        "mape = mean_absolute_percentage_error(y_test, y_predicted_svrhp)\n",
        "print(mape)"
      ],
      "metadata": {
        "colab": {
          "base_uri": "https://localhost:8080/"
        },
        "id": "lxmDBV-g4GwN",
        "outputId": "498a5bc9-b990-4bf3-f166-82cbeff96dc7"
      },
      "execution_count": null,
      "outputs": [
        {
          "output_type": "stream",
          "name": "stdout",
          "text": [
            "5.212294838613741\n",
            "0.5109601487905631\n",
            "3.939658300204318\n",
            "0.2724230332090144\n"
          ]
        }
      ]
    },
    {
      "cell_type": "markdown",
      "source": [
        "                   ** Adaboost Regressor**"
      ],
      "metadata": {
        "id": "nCwjX2zV4gKa"
      }
    },
    {
      "cell_type": "code",
      "source": [
        "from sklearn.ensemble import AdaBoostRegressor\n",
        "adb = AdaBoostRegressor()\n",
        "model_abr = AdaBoostRegressor().fit(X_train, y_train)\n",
        "y_predicted_abr = model_abr.predict(X_test)"
      ],
      "metadata": {
        "id": "21qy0uWZ4WXm"
      },
      "execution_count": null,
      "outputs": []
    },
    {
      "cell_type": "code",
      "source": [
        "rms = sqrt(mean_squared_error(y_test, y_predicted_abr))\n",
        "print(rms)\n",
        "r_square = model_abr.score(X_test,y_test)\n",
        "print(r_square)\n",
        "mae = mean_absolute_error(y_test,y_predicted_abr)\n",
        "print(mae)\n",
        "mape = mean_absolute_percentage_error(y_test, y_predicted_abr)\n",
        "print(mape)\n",
        "print(model_abr.get_params())"
      ],
      "metadata": {
        "colab": {
          "base_uri": "https://localhost:8080/"
        },
        "id": "7OJDy21B4n9H",
        "outputId": "cfb1f81d-87dc-43c1-972b-c8213915079b"
      },
      "execution_count": null,
      "outputs": [
        {
          "output_type": "stream",
          "name": "stdout",
          "text": [
            "6.452730072747446\n",
            "0.2504971317178979\n",
            "5.521692053720238\n",
            "0.3788928341542399\n",
            "{'base_estimator': None, 'learning_rate': 1.0, 'loss': 'linear', 'n_estimators': 50, 'random_state': None}\n"
          ]
        }
      ]
    },
    {
      "cell_type": "code",
      "source": [
        "#Hyperparametrer Tuning\n",
        "param_grid = {'n_estimators':list(range(0, 1000, 100)), 'learning_rate':[100,10,1,0.1, 0.01, 0.001,0.0001,0.00001]}\n",
        "grid_search = GridSearchCV(estimator=adb, param_grid=param_grid, scoring='neg_mean_squared_error', n_jobs=1, cv=5)"
      ],
      "metadata": {
        "id": "n4O21mpY4xGB"
      },
      "execution_count": null,
      "outputs": []
    },
    {
      "cell_type": "code",
      "source": [
        "#fit the data\n",
        "grid_search.fit(X_train, y_train)\n",
        "print(grid_search.best_params_)\n",
        "model_adbhp = grid_search.best_estimator_\n",
        "model_adbhp.fit(X_train,y_train)\n",
        "y_predicted_abrhp = model_adbhp.predict(X_test) "
      ],
      "metadata": {
        "colab": {
          "base_uri": "https://localhost:8080/"
        },
        "id": "sderqA7c4zz6",
        "outputId": "ee7ba1f0-28ed-4bd1-80a9-36c80be32bd0"
      },
      "execution_count": null,
      "outputs": [
        {
          "output_type": "stream",
          "name": "stdout",
          "text": [
            "{'learning_rate': 0.0001, 'n_estimators': 400}\n"
          ]
        }
      ]
    },
    {
      "cell_type": "code",
      "source": [
        "rms = sqrt(mean_squared_error(y_test, y_predicted_abrhp))\n",
        "print(rms)\n",
        "r_square = model_adbhp.score(X_test,y_test)\n",
        "print(r_square)\n",
        "mae = mean_absolute_error(y_test,y_predicted_abrhp)\n",
        "print(mae)\n",
        "mape = mean_absolute_percentage_error(y_test, y_predicted_abrhp)\n",
        "print(mape)"
      ],
      "metadata": {
        "colab": {
          "base_uri": "https://localhost:8080/"
        },
        "id": "DNYS-W4m413t",
        "outputId": "5a009800-c6cd-4625-d466-58745c3fedc9"
      },
      "execution_count": null,
      "outputs": [
        {
          "output_type": "stream",
          "name": "stdout",
          "text": [
            "6.966736712320699\n",
            "0.12633467666840426\n",
            "5.934564094930555\n",
            "0.3922676707318918\n"
          ]
        }
      ]
    },
    {
      "cell_type": "markdown",
      "source": [
        "               **Ridge**"
      ],
      "metadata": {
        "id": "i_boq4s3_KiE"
      }
    },
    {
      "cell_type": "code",
      "source": [
        "#Ridge Regression, using Grid Search CV to find the best parameter for alpha\n",
        "from sklearn.model_selection import cross_val_score\n",
        "from sklearn.model_selection import GridSearchCV\n",
        "from sklearn.linear_model import Ridge\n",
        "ridge = Ridge()\n",
        "parameters = {\"alpha\":[1e-15, 1e-10, 1e-8, 1e-4, 1e-3, 1e-2, 1, 5, 10, 20]}\n",
        "ridge_regression = GridSearchCV(ridge, parameters, scoring='neg_mean_squared_error', cv=5)\n",
        "ridge_regression.fit(X_train, y_train)"
      ],
      "metadata": {
        "colab": {
          "base_uri": "https://localhost:8080/"
        },
        "id": "chrj1CSD_I90",
        "outputId": "208edf8d-ce84-4619-ef78-a6ed37295f7f"
      },
      "execution_count": null,
      "outputs": [
        {
          "output_type": "execute_result",
          "data": {
            "text/plain": [
              "GridSearchCV(cv=5, estimator=Ridge(),\n",
              "             param_grid={'alpha': [1e-15, 1e-10, 1e-08, 0.0001, 0.001, 0.01, 1,\n",
              "                                   5, 10, 20]},\n",
              "             scoring='neg_mean_squared_error')"
            ]
          },
          "metadata": {},
          "execution_count": 62
        }
      ]
    },
    {
      "cell_type": "code",
      "source": [
        "print(ridge_regression.best_params_)"
      ],
      "metadata": {
        "colab": {
          "base_uri": "https://localhost:8080/"
        },
        "id": "XCkURmyO_QdC",
        "outputId": "1edaaac4-47c3-46ce-a108-4bd6c583a9e0"
      },
      "execution_count": null,
      "outputs": [
        {
          "output_type": "stream",
          "name": "stdout",
          "text": [
            "{'alpha': 20}\n"
          ]
        }
      ]
    },
    {
      "cell_type": "code",
      "source": [
        "model_rr = Ridge(alpha=20).fit(X_train,y_train)\n",
        "y_predicted_rr = model_rr.predict(X_test)"
      ],
      "metadata": {
        "id": "LhSqV6ba_UkW"
      },
      "execution_count": null,
      "outputs": []
    },
    {
      "cell_type": "code",
      "source": [
        "rms = sqrt(mean_squared_error(y_test, y_predicted_rr))\n",
        "print(rms)\n",
        "r_square = model_rr.score(X_test,y_test)\n",
        "print(r_square)\n",
        "mae = mean_absolute_error(y_test,y_predicted_rr)\n",
        "print(mae)\n",
        "mape = mean_absolute_percentage_error(y_test, y_predicted_rr)\n",
        "print(mape)"
      ],
      "metadata": {
        "colab": {
          "base_uri": "https://localhost:8080/"
        },
        "id": "Sgn0IWRr_YRT",
        "outputId": "15e8c1a5-e920-4741-d0b3-ad96e9fc02fb"
      },
      "execution_count": null,
      "outputs": [
        {
          "output_type": "stream",
          "name": "stdout",
          "text": [
            "6.529514172346965\n",
            "0.2325536228314693\n",
            "5.585895856369852\n",
            "0.5061315396534797\n"
          ]
        }
      ]
    },
    {
      "cell_type": "markdown",
      "source": [
        "              **Lasso**"
      ],
      "metadata": {
        "id": "xx61Ap0I_eXd"
      }
    },
    {
      "cell_type": "code",
      "source": [
        "#Lasso Regression, using Grid Search CV to find the best parameter for alpha\n",
        "from sklearn.linear_model import Lasso\n",
        "lasso = Lasso()\n",
        "a = [0.000000000000000000000000001*(10)**i for i in range(100)]\n",
        "parameters = {\"alpha\":a}\n",
        "lasso_regression = GridSearchCV(lasso, parameters, scoring='neg_mean_squared_error', cv=5)\n",
        "lasso_regression.fit(X_train, y_train)"
      ],
      "metadata": {
        "colab": {
          "base_uri": "https://localhost:8080/"
        },
        "id": "8iyjl1lF_bwi",
        "outputId": "d84757bb-ab9d-436d-c0fa-6fe7ec1b0c8e"
      },
      "execution_count": null,
      "outputs": [
        {
          "output_type": "execute_result",
          "data": {
            "text/plain": [
              "GridSearchCV(cv=5, estimator=Lasso(),\n",
              "             param_grid={'alpha': [1e-27, 1e-26, 1e-25, 1.0000000000000001e-24,\n",
              "                                   1.0000000000000001e-23, 1e-22,\n",
              "                                   1.0000000000000001e-21,\n",
              "                                   1.0000000000000001e-20,\n",
              "                                   1.0000000000000001e-19, 1e-18, 1e-17, 1e-16,\n",
              "                                   1e-15, 1e-14, 1e-13, 1e-12,\n",
              "                                   1.0000000000000001e-11, 1e-10, 1e-09, 1e-08,\n",
              "                                   1.0000000000000001e-07, 1e-06, 1e-05,\n",
              "                                   9.999999999999999e-05, 0.001,\n",
              "                                   0.010000000000000002, 0.1, 1.0, 10.0, 100.0, ...]},\n",
              "             scoring='neg_mean_squared_error')"
            ]
          },
          "metadata": {},
          "execution_count": 60
        }
      ]
    },
    {
      "cell_type": "code",
      "source": [
        "print(lasso_regression.best_params_)"
      ],
      "metadata": {
        "colab": {
          "base_uri": "https://localhost:8080/"
        },
        "id": "BogUvIWx_mnn",
        "outputId": "0d52ba73-e9f7-4972-f2de-5cf8e846a5f6"
      },
      "execution_count": null,
      "outputs": [
        {
          "output_type": "stream",
          "name": "stdout",
          "text": [
            "{'alpha': 10.0}\n"
          ]
        }
      ]
    },
    {
      "cell_type": "code",
      "source": [
        "rms = sqrt(mean_squared_error(y_test, y_predicted_lr))\n",
        "print(rms)\n",
        "r_square = model_lr.score(X_test,y_test)\n",
        "print(r_square)\n",
        "mae = mean_absolute_error(y_test,y_predicted_lr)\n",
        "print(mae)\n",
        "mape = mean_absolute_percentage_error(y_test, y_predicted_lr)\n",
        "print(mape)"
      ],
      "metadata": {
        "colab": {
          "base_uri": "https://localhost:8080/"
        },
        "id": "1MWPArJy_4ik",
        "outputId": "18f57aaa-310f-4dc2-d527-e4776ce6c441"
      },
      "execution_count": null,
      "outputs": [
        {
          "output_type": "stream",
          "name": "stdout",
          "text": [
            "6.558129346423167\n",
            "0.22581231510873456\n",
            "5.62697530092023\n",
            "0.506063206282981\n"
          ]
        }
      ]
    }
  ]
}